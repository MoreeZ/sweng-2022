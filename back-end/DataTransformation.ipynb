{
  "nbformat": 4,
  "nbformat_minor": 0,
  "metadata": {
    "colab": {
      "name": "DataTransformation.ipynb",
      "provenance": [],
      "collapsed_sections": [],
      "machine_shape": "hm",
      "background_execution": "on"
    },
    "kernelspec": {
      "name": "python3",
      "display_name": "Python 3"
    },
    "language_info": {
      "name": "python"
    },
    "accelerator": "GPU"
  },
  "cells": [
    {
      "cell_type": "code",
      "execution_count": 1,
      "metadata": {
        "colab": {
          "base_uri": "https://localhost:8080/"
        },
        "id": "i0WN1T07upBd",
        "outputId": "de3ee6e5-a2f2-492b-e010-eda29e34c15e"
      },
      "outputs": [
        {
          "output_type": "stream",
          "name": "stdout",
          "text": [
            "Mounted at /content/drive\n"
          ]
        }
      ],
      "source": [
        "from google.colab import drive\n",
        "drive.mount('/content/drive')"
      ]
    },
    {
      "cell_type": "code",
      "source": [
        "from sklearn import neighbors\n",
        "from sklearn.model_selection import train_test_split\n",
        "from numpy import loadtxt\n",
        "from numpy import sort\n",
        "from sklearn.model_selection import GridSearchCV\n",
        "from sklearn.metrics import classification_report\n",
        "from xgboost import XGBRegressor\n",
        "from sklearn.model_selection import StratifiedKFold\n",
        "from sklearn.feature_selection import SelectFromModel\n",
        "from sklearn.model_selection import KFold\n",
        "from sklearn.model_selection import cross_val_score\n",
        "from sklearn.metrics import mean_absolute_error\n",
        "from sklearn.metrics import f1_score\n",
        "from sklearn.preprocessing import OneHotEncoder\n",
        "from sklearn.preprocessing import StandardScaler\n",
        "from sklearn.preprocessing import LabelEncoder\n",
        "import bokeh\n",
        "import sklearn\n",
        "import xgboost as xgb\n",
        "import numpy as np\n",
        "from scipy.stats import norm\n",
        "import pandas as pd\n",
        "import matplotlib.mlab as mlab\n",
        "import sqlite3\n",
        "import matplotlib.pyplot as plt\n",
        "from scipy import stats\n",
        "import numpy as np \n",
        "import pandas as pd \n",
        "import matplotlib.pyplot as plt\n",
        "import seaborn as sns\n",
        "from sklearn import neighbors\n",
        "from sklearn.model_selection import train_test_split\n",
        "from numpy import loadtxt\n",
        "from numpy import sort\n",
        "from sklearn.model_selection import GridSearchCV\n",
        "from sklearn.metrics import classification_report\n",
        "from xgboost import XGBRegressor\n",
        "from sklearn.model_selection import StratifiedKFold\n",
        "from sklearn.feature_selection import SelectFromModel\n",
        "from sklearn.model_selection import KFold\n",
        "from sklearn.model_selection import cross_val_score\n",
        "from sklearn.metrics import mean_absolute_error\n",
        "from sklearn.metrics import f1_score\n",
        "from sklearn.preprocessing import OneHotEncoder\n",
        "from sklearn.preprocessing import StandardScaler\n",
        "from sklearn.preprocessing import LabelEncoder\n",
        "import bokeh\n",
        "import sklearn\n",
        "import xgboost as xgb\n",
        "import numpy as np\n",
        "from scipy.stats import norm\n",
        "import pandas as pd\n",
        "import matplotlib.mlab as mlab\n",
        "import sqlite3\n",
        "import matplotlib.pyplot as plt\n",
        "from scipy import stats\n",
        "import seaborn as sns\n",
        "\n",
        "#import packages\n",
        "import pandas as pd \n",
        "import numpy as np\n",
        "import matplotlib.pyplot as plt \n",
        "import time \n",
        "import datetime\n",
        "import collections\n",
        "# from plotnine import *\n",
        "import seaborn as sns\n",
        "import scipy.stats as stats\n",
        "\n",
        "from sklearn.pipeline import Pipeline\n",
        "from sklearn.metrics import confusion_matrix\n",
        "from sklearn.metrics import classification_report\n",
        "from sklearn.metrics import mean_absolute_error\n",
        "\n",
        "from sklearn.linear_model import LinearRegression\n",
        "from sklearn.linear_model import Lasso\n",
        "from sklearn.linear_model import Ridge \n",
        "from sklearn.linear_model import ElasticNet\n",
        "from sklearn.model_selection import GridSearchCV\n",
        "from sklearn.ensemble import RandomForestRegressor\n",
        "import pandas as pd\n",
        "\n",
        "\n",
        "import xgboost as xgb\n",
        "import lightgbm as lgb"
      ],
      "metadata": {
        "id": "mczt3Pt4vGks"
      },
      "execution_count": 2,
      "outputs": []
    },
    {
      "cell_type": "markdown",
      "source": [
        "This file is 35 column with no missing data \n"
      ],
      "metadata": {
        "id": "dqZLYbibEakH"
      }
    },
    {
      "cell_type": "markdown",
      "source": [
        "123.csv : no missing value "
      ],
      "metadata": {
        "id": "erRubvIJFVK4"
      }
    },
    {
      "cell_type": "code",
      "source": [
        "zillow = pd.read_csv('/content/drive/MyDrive/SWE project/DataStorage/123.csv')"
      ],
      "metadata": {
        "id": "IPkgXBvov0Uc"
      },
      "execution_count": 3,
      "outputs": []
    },
    {
      "cell_type": "code",
      "source": [
        "zillow.shape"
      ],
      "metadata": {
        "colab": {
          "base_uri": "https://localhost:8080/"
        },
        "id": "p-j1rTJSwFJz",
        "outputId": "57b75bbf-1052-47e1-886c-29447c113f66"
      },
      "execution_count": 4,
      "outputs": [
        {
          "output_type": "execute_result",
          "data": {
            "text/plain": [
              "(88465, 35)"
            ]
          },
          "metadata": {},
          "execution_count": 4
        }
      ]
    },
    {
      "cell_type": "code",
      "source": [
        "zillow.isnull().sum()"
      ],
      "metadata": {
        "colab": {
          "base_uri": "https://localhost:8080/"
        },
        "id": "EN4nXZ2OxuHy",
        "outputId": "610cff37-908a-4032-b376-1b388314c8fa"
      },
      "execution_count": 5,
      "outputs": [
        {
          "output_type": "execute_result",
          "data": {
            "text/plain": [
              "logerror                        0\n",
              "airconditioningtypeid           0\n",
              "bathroomcnt                     0\n",
              "bedroomcnt                      0\n",
              "buildingqualitytypeid           0\n",
              "calculatedbathnbr               0\n",
              "finishedfloor1squarefeet        0\n",
              "calculatedfinishedsquarefeet    0\n",
              "finishedsquarefeet12            0\n",
              "finishedsquarefeet50            0\n",
              "fips                            0\n",
              "fireplacecnt                    0\n",
              "fullbathcnt                     0\n",
              "garagecarcnt                    0\n",
              "garagetotalsqft                 0\n",
              "heatingorsystemtypeid           0\n",
              "latitude                        0\n",
              "longitude                       0\n",
              "lotsizesquarefeet               0\n",
              "propertylandusetypeid           0\n",
              "rawcensustractandblock          0\n",
              "regionidcity                    0\n",
              "regionidcounty                  0\n",
              "regionidneighborhood            0\n",
              "regionidzip                     0\n",
              "roomcnt                         0\n",
              "threequarterbathnbr             0\n",
              "unitcnt                         0\n",
              "yearbuilt                       0\n",
              "numberofstories                 0\n",
              "structuretaxvaluedollarcnt      0\n",
              "taxvaluedollarcnt               0\n",
              "landtaxvaluedollarcnt           0\n",
              "taxamount                       0\n",
              "censustractandblock             0\n",
              "dtype: int64"
            ]
          },
          "metadata": {},
          "execution_count": 5
        }
      ]
    },
    {
      "cell_type": "markdown",
      "source": [
        "Then we need to see each feature with target variable\n"
      ],
      "metadata": {
        "id": "rMstwNtbxzHb"
      }
    },
    {
      "cell_type": "code",
      "source": [
        "zillow.head()"
      ],
      "metadata": {
        "colab": {
          "base_uri": "https://localhost:8080/",
          "height": 299
        },
        "id": "ur4KUrgmWSt5",
        "outputId": "a2052ed1-55ee-4876-f3eb-b2b38c3441ea"
      },
      "execution_count": 6,
      "outputs": [
        {
          "output_type": "execute_result",
          "data": {
            "text/plain": [
              "   logerror  airconditioningtypeid  bathroomcnt  bedroomcnt  \\\n",
              "0    0.0276               1.000000          2.0           3   \n",
              "1   -0.1684               6.333333          3.5           4   \n",
              "2   -0.0040               1.000000          3.0           2   \n",
              "3    0.0218               1.000000          2.0           2   \n",
              "4   -0.0050               8.466667          2.5           4   \n",
              "\n",
              "   buildingqualitytypeid  calculatedbathnbr  finishedfloor1squarefeet  \\\n",
              "0                    4.0                2.0               1213.533333   \n",
              "1                    5.6                3.5               1433.600000   \n",
              "2                    4.0                3.0               1332.400000   \n",
              "3                    4.0                2.0               1360.866667   \n",
              "4                    5.0                2.5               1188.533333   \n",
              "\n",
              "   calculatedfinishedsquarefeet  finishedsquarefeet12  finishedsquarefeet50  \\\n",
              "0                        1684.0                1684.0           1213.533333   \n",
              "1                        2263.0                2263.0           1433.600000   \n",
              "2                        2217.0                2217.0           1332.400000   \n",
              "3                         839.0                 839.0           1360.866667   \n",
              "4                        2283.0                2283.0           1188.533333   \n",
              "\n",
              "   ...  roomcnt  threequarterbathnbr   unitcnt  yearbuilt  numberofstories  \\\n",
              "0  ...        0                  1.0  1.000000     1959.0         1.266667   \n",
              "1  ...        0                  1.0  1.066667     2014.0         1.533333   \n",
              "2  ...        0                  1.0  1.000000     1940.0         1.266667   \n",
              "3  ...        0                  1.0  1.000000     1987.0         1.333333   \n",
              "4  ...        8                  1.0  2.066667     1981.0         2.000000   \n",
              "\n",
              "   structuretaxvaluedollarcnt  taxvaluedollarcnt  landtaxvaluedollarcnt  \\\n",
              "0                    122754.0           360170.0               237416.0   \n",
              "1                    346458.0           585529.0               239071.0   \n",
              "2                     61994.0           119906.0                57912.0   \n",
              "3                    171518.0           244880.0                73362.0   \n",
              "4                    169574.0           434551.0               264977.0   \n",
              "\n",
              "   taxamount  censustractandblock  \n",
              "0    6735.88         6.037110e+13  \n",
              "1   10153.02         6.054730e+13  \n",
              "2   11484.48         6.037460e+13  \n",
              "3    3048.74         6.037300e+13  \n",
              "4    5488.96         6.059040e+13  \n",
              "\n",
              "[5 rows x 35 columns]"
            ],
            "text/html": [
              "\n",
              "  <div id=\"df-a16c61de-1383-494b-b76e-8e9c23c99e2f\">\n",
              "    <div class=\"colab-df-container\">\n",
              "      <div>\n",
              "<style scoped>\n",
              "    .dataframe tbody tr th:only-of-type {\n",
              "        vertical-align: middle;\n",
              "    }\n",
              "\n",
              "    .dataframe tbody tr th {\n",
              "        vertical-align: top;\n",
              "    }\n",
              "\n",
              "    .dataframe thead th {\n",
              "        text-align: right;\n",
              "    }\n",
              "</style>\n",
              "<table border=\"1\" class=\"dataframe\">\n",
              "  <thead>\n",
              "    <tr style=\"text-align: right;\">\n",
              "      <th></th>\n",
              "      <th>logerror</th>\n",
              "      <th>airconditioningtypeid</th>\n",
              "      <th>bathroomcnt</th>\n",
              "      <th>bedroomcnt</th>\n",
              "      <th>buildingqualitytypeid</th>\n",
              "      <th>calculatedbathnbr</th>\n",
              "      <th>finishedfloor1squarefeet</th>\n",
              "      <th>calculatedfinishedsquarefeet</th>\n",
              "      <th>finishedsquarefeet12</th>\n",
              "      <th>finishedsquarefeet50</th>\n",
              "      <th>...</th>\n",
              "      <th>roomcnt</th>\n",
              "      <th>threequarterbathnbr</th>\n",
              "      <th>unitcnt</th>\n",
              "      <th>yearbuilt</th>\n",
              "      <th>numberofstories</th>\n",
              "      <th>structuretaxvaluedollarcnt</th>\n",
              "      <th>taxvaluedollarcnt</th>\n",
              "      <th>landtaxvaluedollarcnt</th>\n",
              "      <th>taxamount</th>\n",
              "      <th>censustractandblock</th>\n",
              "    </tr>\n",
              "  </thead>\n",
              "  <tbody>\n",
              "    <tr>\n",
              "      <th>0</th>\n",
              "      <td>0.0276</td>\n",
              "      <td>1.000000</td>\n",
              "      <td>2.0</td>\n",
              "      <td>3</td>\n",
              "      <td>4.0</td>\n",
              "      <td>2.0</td>\n",
              "      <td>1213.533333</td>\n",
              "      <td>1684.0</td>\n",
              "      <td>1684.0</td>\n",
              "      <td>1213.533333</td>\n",
              "      <td>...</td>\n",
              "      <td>0</td>\n",
              "      <td>1.0</td>\n",
              "      <td>1.000000</td>\n",
              "      <td>1959.0</td>\n",
              "      <td>1.266667</td>\n",
              "      <td>122754.0</td>\n",
              "      <td>360170.0</td>\n",
              "      <td>237416.0</td>\n",
              "      <td>6735.88</td>\n",
              "      <td>6.037110e+13</td>\n",
              "    </tr>\n",
              "    <tr>\n",
              "      <th>1</th>\n",
              "      <td>-0.1684</td>\n",
              "      <td>6.333333</td>\n",
              "      <td>3.5</td>\n",
              "      <td>4</td>\n",
              "      <td>5.6</td>\n",
              "      <td>3.5</td>\n",
              "      <td>1433.600000</td>\n",
              "      <td>2263.0</td>\n",
              "      <td>2263.0</td>\n",
              "      <td>1433.600000</td>\n",
              "      <td>...</td>\n",
              "      <td>0</td>\n",
              "      <td>1.0</td>\n",
              "      <td>1.066667</td>\n",
              "      <td>2014.0</td>\n",
              "      <td>1.533333</td>\n",
              "      <td>346458.0</td>\n",
              "      <td>585529.0</td>\n",
              "      <td>239071.0</td>\n",
              "      <td>10153.02</td>\n",
              "      <td>6.054730e+13</td>\n",
              "    </tr>\n",
              "    <tr>\n",
              "      <th>2</th>\n",
              "      <td>-0.0040</td>\n",
              "      <td>1.000000</td>\n",
              "      <td>3.0</td>\n",
              "      <td>2</td>\n",
              "      <td>4.0</td>\n",
              "      <td>3.0</td>\n",
              "      <td>1332.400000</td>\n",
              "      <td>2217.0</td>\n",
              "      <td>2217.0</td>\n",
              "      <td>1332.400000</td>\n",
              "      <td>...</td>\n",
              "      <td>0</td>\n",
              "      <td>1.0</td>\n",
              "      <td>1.000000</td>\n",
              "      <td>1940.0</td>\n",
              "      <td>1.266667</td>\n",
              "      <td>61994.0</td>\n",
              "      <td>119906.0</td>\n",
              "      <td>57912.0</td>\n",
              "      <td>11484.48</td>\n",
              "      <td>6.037460e+13</td>\n",
              "    </tr>\n",
              "    <tr>\n",
              "      <th>3</th>\n",
              "      <td>0.0218</td>\n",
              "      <td>1.000000</td>\n",
              "      <td>2.0</td>\n",
              "      <td>2</td>\n",
              "      <td>4.0</td>\n",
              "      <td>2.0</td>\n",
              "      <td>1360.866667</td>\n",
              "      <td>839.0</td>\n",
              "      <td>839.0</td>\n",
              "      <td>1360.866667</td>\n",
              "      <td>...</td>\n",
              "      <td>0</td>\n",
              "      <td>1.0</td>\n",
              "      <td>1.000000</td>\n",
              "      <td>1987.0</td>\n",
              "      <td>1.333333</td>\n",
              "      <td>171518.0</td>\n",
              "      <td>244880.0</td>\n",
              "      <td>73362.0</td>\n",
              "      <td>3048.74</td>\n",
              "      <td>6.037300e+13</td>\n",
              "    </tr>\n",
              "    <tr>\n",
              "      <th>4</th>\n",
              "      <td>-0.0050</td>\n",
              "      <td>8.466667</td>\n",
              "      <td>2.5</td>\n",
              "      <td>4</td>\n",
              "      <td>5.0</td>\n",
              "      <td>2.5</td>\n",
              "      <td>1188.533333</td>\n",
              "      <td>2283.0</td>\n",
              "      <td>2283.0</td>\n",
              "      <td>1188.533333</td>\n",
              "      <td>...</td>\n",
              "      <td>8</td>\n",
              "      <td>1.0</td>\n",
              "      <td>2.066667</td>\n",
              "      <td>1981.0</td>\n",
              "      <td>2.000000</td>\n",
              "      <td>169574.0</td>\n",
              "      <td>434551.0</td>\n",
              "      <td>264977.0</td>\n",
              "      <td>5488.96</td>\n",
              "      <td>6.059040e+13</td>\n",
              "    </tr>\n",
              "  </tbody>\n",
              "</table>\n",
              "<p>5 rows × 35 columns</p>\n",
              "</div>\n",
              "      <button class=\"colab-df-convert\" onclick=\"convertToInteractive('df-a16c61de-1383-494b-b76e-8e9c23c99e2f')\"\n",
              "              title=\"Convert this dataframe to an interactive table.\"\n",
              "              style=\"display:none;\">\n",
              "        \n",
              "  <svg xmlns=\"http://www.w3.org/2000/svg\" height=\"24px\"viewBox=\"0 0 24 24\"\n",
              "       width=\"24px\">\n",
              "    <path d=\"M0 0h24v24H0V0z\" fill=\"none\"/>\n",
              "    <path d=\"M18.56 5.44l.94 2.06.94-2.06 2.06-.94-2.06-.94-.94-2.06-.94 2.06-2.06.94zm-11 1L8.5 8.5l.94-2.06 2.06-.94-2.06-.94L8.5 2.5l-.94 2.06-2.06.94zm10 10l.94 2.06.94-2.06 2.06-.94-2.06-.94-.94-2.06-.94 2.06-2.06.94z\"/><path d=\"M17.41 7.96l-1.37-1.37c-.4-.4-.92-.59-1.43-.59-.52 0-1.04.2-1.43.59L10.3 9.45l-7.72 7.72c-.78.78-.78 2.05 0 2.83L4 21.41c.39.39.9.59 1.41.59.51 0 1.02-.2 1.41-.59l7.78-7.78 2.81-2.81c.8-.78.8-2.07 0-2.86zM5.41 20L4 18.59l7.72-7.72 1.47 1.35L5.41 20z\"/>\n",
              "  </svg>\n",
              "      </button>\n",
              "      \n",
              "  <style>\n",
              "    .colab-df-container {\n",
              "      display:flex;\n",
              "      flex-wrap:wrap;\n",
              "      gap: 12px;\n",
              "    }\n",
              "\n",
              "    .colab-df-convert {\n",
              "      background-color: #E8F0FE;\n",
              "      border: none;\n",
              "      border-radius: 50%;\n",
              "      cursor: pointer;\n",
              "      display: none;\n",
              "      fill: #1967D2;\n",
              "      height: 32px;\n",
              "      padding: 0 0 0 0;\n",
              "      width: 32px;\n",
              "    }\n",
              "\n",
              "    .colab-df-convert:hover {\n",
              "      background-color: #E2EBFA;\n",
              "      box-shadow: 0px 1px 2px rgba(60, 64, 67, 0.3), 0px 1px 3px 1px rgba(60, 64, 67, 0.15);\n",
              "      fill: #174EA6;\n",
              "    }\n",
              "\n",
              "    [theme=dark] .colab-df-convert {\n",
              "      background-color: #3B4455;\n",
              "      fill: #D2E3FC;\n",
              "    }\n",
              "\n",
              "    [theme=dark] .colab-df-convert:hover {\n",
              "      background-color: #434B5C;\n",
              "      box-shadow: 0px 1px 3px 1px rgba(0, 0, 0, 0.15);\n",
              "      filter: drop-shadow(0px 1px 2px rgba(0, 0, 0, 0.3));\n",
              "      fill: #FFFFFF;\n",
              "    }\n",
              "  </style>\n",
              "\n",
              "      <script>\n",
              "        const buttonEl =\n",
              "          document.querySelector('#df-a16c61de-1383-494b-b76e-8e9c23c99e2f button.colab-df-convert');\n",
              "        buttonEl.style.display =\n",
              "          google.colab.kernel.accessAllowed ? 'block' : 'none';\n",
              "\n",
              "        async function convertToInteractive(key) {\n",
              "          const element = document.querySelector('#df-a16c61de-1383-494b-b76e-8e9c23c99e2f');\n",
              "          const dataTable =\n",
              "            await google.colab.kernel.invokeFunction('convertToInteractive',\n",
              "                                                     [key], {});\n",
              "          if (!dataTable) return;\n",
              "\n",
              "          const docLinkHtml = 'Like what you see? Visit the ' +\n",
              "            '<a target=\"_blank\" href=https://colab.research.google.com/notebooks/data_table.ipynb>data table notebook</a>'\n",
              "            + ' to learn more about interactive tables.';\n",
              "          element.innerHTML = '';\n",
              "          dataTable['output_type'] = 'display_data';\n",
              "          await google.colab.output.renderOutput(dataTable, element);\n",
              "          const docLink = document.createElement('div');\n",
              "          docLink.innerHTML = docLinkHtml;\n",
              "          element.appendChild(docLink);\n",
              "        }\n",
              "      </script>\n",
              "    </div>\n",
              "  </div>\n",
              "  "
            ]
          },
          "metadata": {},
          "execution_count": 6
        }
      ]
    },
    {
      "cell_type": "code",
      "source": [
        "zillow.dtypes"
      ],
      "metadata": {
        "colab": {
          "base_uri": "https://localhost:8080/"
        },
        "id": "9jwkWzYB4O1W",
        "outputId": "9abd06c2-105e-413b-bdb0-8b60c12c997e"
      },
      "execution_count": 7,
      "outputs": [
        {
          "output_type": "execute_result",
          "data": {
            "text/plain": [
              "logerror                        float64\n",
              "airconditioningtypeid           float64\n",
              "bathroomcnt                     float64\n",
              "bedroomcnt                        int64\n",
              "buildingqualitytypeid           float64\n",
              "calculatedbathnbr               float64\n",
              "finishedfloor1squarefeet        float64\n",
              "calculatedfinishedsquarefeet    float64\n",
              "finishedsquarefeet12            float64\n",
              "finishedsquarefeet50            float64\n",
              "fips                              int64\n",
              "fireplacecnt                    float64\n",
              "fullbathcnt                     float64\n",
              "garagecarcnt                    float64\n",
              "garagetotalsqft                 float64\n",
              "heatingorsystemtypeid           float64\n",
              "latitude                          int64\n",
              "longitude                         int64\n",
              "lotsizesquarefeet               float64\n",
              "propertylandusetypeid             int64\n",
              "rawcensustractandblock          float64\n",
              "regionidcity                    float64\n",
              "regionidcounty                    int64\n",
              "regionidneighborhood            float64\n",
              "regionidzip                     float64\n",
              "roomcnt                           int64\n",
              "threequarterbathnbr             float64\n",
              "unitcnt                         float64\n",
              "yearbuilt                       float64\n",
              "numberofstories                 float64\n",
              "structuretaxvaluedollarcnt      float64\n",
              "taxvaluedollarcnt               float64\n",
              "landtaxvaluedollarcnt           float64\n",
              "taxamount                       float64\n",
              "censustractandblock             float64\n",
              "dtype: object"
            ]
          },
          "metadata": {},
          "execution_count": 7
        }
      ]
    },
    {
      "cell_type": "markdown",
      "source": [
        "Transform Transform incorrectly scaled variables"
      ],
      "metadata": {
        "id": "aFzZ9WoDWTay"
      }
    },
    {
      "cell_type": "markdown",
      "source": [
        " Box-Cox Transformation"
      ],
      "metadata": {
        "id": "fN763YlB5pzp"
      }
    },
    {
      "cell_type": "markdown",
      "source": [
        "Checking Outliers & Removing them"
      ],
      "metadata": {
        "id": "ywgu2xOuXw6G"
      }
    },
    {
      "cell_type": "code",
      "source": [
        "X_temp = zillow.copy()"
      ],
      "metadata": {
        "id": "zSx-s-FHX1iV"
      },
      "execution_count": 8,
      "outputs": []
    },
    {
      "cell_type": "code",
      "source": [
        "from scipy.stats import skew"
      ],
      "metadata": {
        "id": "6lti9Jbp7GxD"
      },
      "execution_count": 10,
      "outputs": []
    },
    {
      "cell_type": "code",
      "source": [
        "# Code to detect any skewed features \n",
        "skewed_feats = X_temp.apply(lambda x: skew(x.dropna())).sort_values(ascending=False)\n",
        "skewed_feats[:20]"
      ],
      "metadata": {
        "colab": {
          "base_uri": "https://localhost:8080/"
        },
        "id": "82uvBmY66nSd",
        "outputId": "294c5e31-0a8c-4fbf-bf0c-6443431ed008"
      },
      "execution_count": 11,
      "outputs": [
        {
          "output_type": "execute_result",
          "data": {
            "text/plain": [
              "regionidzip                     84.125633\n",
              "unitcnt                         63.984492\n",
              "threequarterbathnbr             36.675680\n",
              "lotsizesquarefeet               28.059135\n",
              "landtaxvaluedollarcnt           11.466372\n",
              "taxamount                        9.417346\n",
              "taxvaluedollarcnt                9.358906\n",
              "structuretaxvaluedollarcnt       8.263550\n",
              "regionidcity                     6.488632\n",
              "fireplacecnt                     5.296977\n",
              "finishedsquarefeet50             4.471650\n",
              "finishedfloor1squarefeet         3.896920\n",
              "finishedsquarefeet12             2.749295\n",
              "calculatedfinishedsquarefeet     2.689515\n",
              "numberofstories                  2.139980\n",
              "censustractandblock              2.085800\n",
              "rawcensustractandblock           2.084279\n",
              "fips                             2.066288\n",
              "garagecarcnt                     1.918685\n",
              "airconditioningtypeid            1.582601\n",
              "dtype: float64"
            ]
          },
          "metadata": {},
          "execution_count": 11
        }
      ]
    },
    {
      "cell_type": "code",
      "source": [
        "X_temp.lotsizesquarefeet.hist(bins=10, figsize=(8,5))\n",
        "plt.show()"
      ],
      "metadata": {
        "colab": {
          "base_uri": "https://localhost:8080/",
          "height": 333
        },
        "id": "UYThmtNO7cw9",
        "outputId": "225a0ba4-06b6-413f-e224-2f9862a9c7f7"
      },
      "execution_count": 13,
      "outputs": [
        {
          "output_type": "display_data",
          "data": {
            "text/plain": [
              "<Figure size 576x360 with 1 Axes>"
            ],
            "image/png": "[encoded data removed]"
          },
          "metadata": {
            "needs_background": "light"
          }
        }
      ]
    },
    {
      "cell_type": "code",
      "source": [
        "from datetime import date\n",
        "from scipy.special import boxcox1p\n",
        "\n",
        "class BoxCoxSkewedFeatures():\n",
        "    \"\"\"\n",
        "    Performs Box-Cox tranformation on all numerical variables with skewness\n",
        "    above a certain threshold. \n",
        "    \"\"\"\n",
        "    def __init__(self, skewness_thres=0.75):\n",
        "        self.skewness_thres = skewness_thres\n",
        "    def fit(self, X, y=None):\n",
        "        return self  # nothing else to do \n",
        "    def transform(self, X): \n",
        "        numeric_feats = X.dtypes[X.dtypes == 'float'].index\n",
        "        skewed_feats = X[numeric_feats].apply(lambda x: skew(x.dropna())).sort_values(ascending=False)\n",
        "        \n",
        "        skewed_feats = skewed_feats[abs(skewed_feats) > self.skewness_thres].index\n",
        "        \n",
        "        # Apply box-cox to each variable \n",
        "        lam = 0.18\n",
        "        for feat in skewed_feats:\n",
        "            X[feat] = X[feat] + abs(min(X[feat]))       # Translate feature to ensure minimum value is 0 \n",
        "            X[feat] = boxcox1p(X[feat], lam)\n",
        "        return X\n",
        "    \n",
        "\n",
        "# # Code to test pipeline\n",
        "skew_transformer = BoxCoxSkewedFeatures()\n",
        "X_temp = skew_transformer.transform(X_temp)"
      ],
      "metadata": {
        "id": "8pZD3IDR7mj4"
      },
      "execution_count": 16,
      "outputs": []
    },
    {
      "cell_type": "markdown",
      "source": [
        "Checking again"
      ],
      "metadata": {
        "id": "TQeaGYHb8MFu"
      }
    },
    {
      "cell_type": "code",
      "source": [
        "# Check skewed features after box-cox transformation\n",
        "\n",
        "skewed_feats = X_temp.apply(lambda x: skew(x.dropna())).sort_values(ascending=False)\n",
        "skewed_feats[:20]"
      ],
      "metadata": {
        "colab": {
          "base_uri": "https://localhost:8080/"
        },
        "id": "YpS7j1BX8Odb",
        "outputId": "7bfba506-77ff-48da-d1a4-6accd9f8792b"
      },
      "execution_count": 18,
      "outputs": [
        {
          "output_type": "execute_result",
          "data": {
            "text/plain": [
              "regionidzip                     81.927199\n",
              "threequarterbathnbr             33.885679\n",
              "fireplacecnt                     4.205322\n",
              "lotsizesquarefeet                2.604831\n",
              "censustractandblock              2.083114\n",
              "rawcensustractandblock           2.081591\n",
              "fips                             2.066288\n",
              "unitcnt                          1.840751\n",
              "numberofstories                  1.780748\n",
              "regionidcity                     1.547458\n",
              "roomcnt                          1.531769\n",
              "airconditioningtypeid            1.336682\n",
              "bedroomcnt                       0.727296\n",
              "heatingorsystemtypeid            0.717668\n",
              "logerror                         0.715660\n",
              "finishedsquarefeet12             0.712048\n",
              "calculatedfinishedsquarefeet     0.663513\n",
              "taxamount                        0.647560\n",
              "fullbathcnt                      0.572406\n",
              "structuretaxvaluedollarcnt       0.549911\n",
              "dtype: float64"
            ]
          },
          "metadata": {},
          "execution_count": 18
        }
      ]
    },
    {
      "cell_type": "code",
      "source": [
        "X_temp.shape"
      ],
      "metadata": {
        "colab": {
          "base_uri": "https://localhost:8080/"
        },
        "id": "eSOvnHtM8Y37",
        "outputId": "b4cbe5d6-c1ad-4407-bd57-6f600fe4ac26"
      },
      "execution_count": 19,
      "outputs": [
        {
          "output_type": "execute_result",
          "data": {
            "text/plain": [
              "(88465, 35)"
            ]
          },
          "metadata": {},
          "execution_count": 19
        }
      ]
    },
    {
      "cell_type": "markdown",
      "source": [
        "Delted two very skness feature after Box-cox operation"
      ],
      "metadata": {
        "id": "Kh8_XJgC9p55"
      }
    },
    {
      "cell_type": "code",
      "source": [
        "X_temp.drop(['regionidzip','threequarterbathnbr'],axis = 1,inplace = True)"
      ],
      "metadata": {
        "id": "p-10NOMY_Yzn"
      },
      "execution_count": 41,
      "outputs": []
    },
    {
      "cell_type": "code",
      "source": [
        "X_temp.shape"
      ],
      "metadata": {
        "colab": {
          "base_uri": "https://localhost:8080/"
        },
        "id": "L6foSXjH_g69",
        "outputId": "db2e3f01-f414-49c6-e72f-b4ab40a1f956"
      },
      "execution_count": 46,
      "outputs": [
        {
          "output_type": "execute_result",
          "data": {
            "text/plain": [
              "(88465, 33)"
            ]
          },
          "metadata": {},
          "execution_count": 46
        }
      ]
    },
    {
      "cell_type": "code",
      "source": [
        "X_temp.shape"
      ],
      "metadata": {
        "colab": {
          "base_uri": "https://localhost:8080/"
        },
        "id": "bhpefnnf__8r",
        "outputId": "821aa311-846e-48c2-db15-214f2004dc15"
      },
      "execution_count": 51,
      "outputs": [
        {
          "output_type": "execute_result",
          "data": {
            "text/plain": [
              "(88465, 33)"
            ]
          },
          "metadata": {},
          "execution_count": 51
        }
      ]
    },
    {
      "cell_type": "code",
      "source": [
        "new = X_temp.copy()"
      ],
      "metadata": {
        "id": "pXPruuNkAeZ7"
      },
      "execution_count": 52,
      "outputs": []
    },
    {
      "cell_type": "markdown",
      "source": [
        "Dealting with outile for each feature"
      ],
      "metadata": {
        "id": "DDj47O8aA4pn"
      }
    },
    {
      "cell_type": "code",
      "source": [
        "from scipy import stats\n",
        "newData = new[(np.abs(stats.zscore(new)) < 3).all(axis=1)]"
      ],
      "metadata": {
        "id": "iiyNRlN6AgjE"
      },
      "execution_count": 55,
      "outputs": []
    },
    {
      "cell_type": "code",
      "source": [
        "newData.isnull().sum()"
      ],
      "metadata": {
        "colab": {
          "base_uri": "https://localhost:8080/"
        },
        "id": "KR0rwHriAtsi",
        "outputId": "db2d7a1a-2463-4f92-a691-4031c0dffcdd"
      },
      "execution_count": 57,
      "outputs": [
        {
          "output_type": "execute_result",
          "data": {
            "text/plain": [
              "logerror                        0\n",
              "airconditioningtypeid           0\n",
              "bathroomcnt                     0\n",
              "bedroomcnt                      0\n",
              "buildingqualitytypeid           0\n",
              "calculatedbathnbr               0\n",
              "finishedfloor1squarefeet        0\n",
              "calculatedfinishedsquarefeet    0\n",
              "finishedsquarefeet12            0\n",
              "finishedsquarefeet50            0\n",
              "fips                            0\n",
              "fireplacecnt                    0\n",
              "fullbathcnt                     0\n",
              "garagecarcnt                    0\n",
              "garagetotalsqft                 0\n",
              "heatingorsystemtypeid           0\n",
              "latitude                        0\n",
              "longitude                       0\n",
              "lotsizesquarefeet               0\n",
              "propertylandusetypeid           0\n",
              "rawcensustractandblock          0\n",
              "regionidcity                    0\n",
              "regionidcounty                  0\n",
              "regionidneighborhood            0\n",
              "roomcnt                         0\n",
              "unitcnt                         0\n",
              "yearbuilt                       0\n",
              "numberofstories                 0\n",
              "structuretaxvaluedollarcnt      0\n",
              "taxvaluedollarcnt               0\n",
              "landtaxvaluedollarcnt           0\n",
              "taxamount                       0\n",
              "censustractandblock             0\n",
              "dtype: int64"
            ]
          },
          "metadata": {},
          "execution_count": 57
        }
      ]
    },
    {
      "cell_type": "code",
      "source": [
        "newData.shape"
      ],
      "metadata": {
        "colab": {
          "base_uri": "https://localhost:8080/"
        },
        "id": "6nzVoQkCAkzD",
        "outputId": "34513453-8967-44be-e9c3-4e018e392231"
      },
      "execution_count": 58,
      "outputs": [
        {
          "output_type": "execute_result",
          "data": {
            "text/plain": [
              "(69047, 33)"
            ]
          },
          "metadata": {},
          "execution_count": 58
        }
      ]
    },
    {
      "cell_type": "markdown",
      "source": [
        ""
      ],
      "metadata": {
        "id": "ugG_AiBj9p81"
      }
    },
    {
      "cell_type": "markdown",
      "source": [
        ""
      ],
      "metadata": {
        "id": "zuKPPSo_9qCE"
      }
    },
    {
      "cell_type": "markdown",
      "source": [
        "Dealting with outile for each feature"
      ],
      "metadata": {
        "id": "MCoO174W9qHU"
      }
    },
    {
      "cell_type": "markdown",
      "source": [
        "Store current stage data"
      ],
      "metadata": {
        "id": "PzkBJGO-bP83"
      }
    },
    {
      "cell_type": "code",
      "source": [
        "#we need to save data here\n",
        "from google.colab import files\n",
        "newData.to_csv('dataBeforeFeatureEngineering.csv') \n",
        "files.download('dataBeforeFeatureEngineering.csv')"
      ],
      "metadata": {
        "colab": {
          "base_uri": "https://localhost:8080/",
          "height": 17
        },
        "id": "wZJ6jbuNbPeR",
        "outputId": "f6d96c6a-d7b1-48c6-c7d1-16798fdb293e"
      },
      "execution_count": 60,
      "outputs": [
        {
          "output_type": "display_data",
          "data": {
            "text/plain": [
              "<IPython.core.display.Javascript object>"
            ],
            "application/javascript": [
              "\n",
              "    async function download(id, filename, size) {\n",
              "      if (!google.colab.kernel.accessAllowed) {\n",
              "        return;\n",
              "      }\n",
              "      const div = document.createElement('div');\n",
              "      const label = document.createElement('label');\n",
              "      label.textContent = `Downloading \"${filename}\": `;\n",
              "      div.appendChild(label);\n",
              "      const progress = document.createElement('progress');\n",
              "      progress.max = size;\n",
              "      div.appendChild(progress);\n",
              "      document.body.appendChild(div);\n",
              "\n",
              "      const buffers = [];\n",
              "      let downloaded = 0;\n",
              "\n",
              "      const channel = await google.colab.kernel.comms.open(id);\n",
              "      // Send a message to notify the kernel that we're ready.\n",
              "      channel.send({})\n",
              "\n",
              "      for await (const message of channel.messages) {\n",
              "        // Send a message to notify the kernel that we're ready.\n",
              "        channel.send({})\n",
              "        if (message.buffers) {\n",
              "          for (const buffer of message.buffers) {\n",
              "            buffers.push(buffer);\n",
              "            downloaded += buffer.byteLength;\n",
              "            progress.value = downloaded;\n",
              "          }\n",
              "        }\n",
              "      }\n",
              "      const blob = new Blob(buffers, {type: 'application/binary'});\n",
              "      const a = document.createElement('a');\n",
              "      a.href = window.URL.createObjectURL(blob);\n",
              "      a.download = filename;\n",
              "      div.appendChild(a);\n",
              "      a.click();\n",
              "      div.remove();\n",
              "    }\n",
              "  "
            ]
          },
          "metadata": {}
        },
        {
          "output_type": "display_data",
          "data": {
            "text/plain": [
              "<IPython.core.display.Javascript object>"
            ],
            "application/javascript": [
              "download(\"download_bc2d8772-da57-4ec7-ab1c-7621f99b61d3\", \"dataBeforeFeatureEngineering.csv\", 33641926)"
            ]
          },
          "metadata": {}
        }
      ]
    },
    {
      "cell_type": "code",
      "source": [
        "newData.shape"
      ],
      "metadata": {
        "colab": {
          "base_uri": "https://localhost:8080/"
        },
        "id": "cSzUQ8vzcP14",
        "outputId": "f7227961-ea8d-40a1-f938-b305bb97b83b"
      },
      "execution_count": 61,
      "outputs": [
        {
          "output_type": "execute_result",
          "data": {
            "text/plain": [
              "(69047, 33)"
            ]
          },
          "metadata": {},
          "execution_count": 61
        }
      ]
    }
  ]
}