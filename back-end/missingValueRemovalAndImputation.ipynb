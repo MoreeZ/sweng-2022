{
  "nbformat": 4,
  "nbformat_minor": 0,
  "metadata": {
    "colab": {
      "name": "ZillowHouse.ipynb",
      "provenance": [],
      "collapsed_sections": [
        "gzznZhdS5fGC",
        "bSYO2q721v4L",
        "STMgoxw32cEj",
        "sKD8aj5z1wBm",
        "N37-eXmQ2J2M",
        "vuZ919Nv23NO",
        "IkuJ9bJo1_JU",
        "TaSGhlYl3YN9",
        "H9zRWI7T4mAR"
      ],
      "machine_shape": "hm",
      "background_execution": "on"
    },
    "kernelspec": {
      "name": "python3",
      "display_name": "Python 3"
    },
    "language_info": {
      "name": "python"
    },
    "accelerator": "GPU"
  },
  "cells": [
    {
      "cell_type": "code",
      "execution_count": null,
      "metadata": {
        "colab": {
          "base_uri": "https://localhost:8080/"
        },
        "id": "c3rVw5GA0XSR",
        "outputId": "d7c0741c-92b1-49f0-a264-189a563d9d4f"
      },
      "outputs": [
        {
          "output_type": "stream",
          "name": "stdout",
          "text": [
            "Mounted at /content/drive\n"
          ]
        }
      ],
      "source": [
        "from google.colab import drive\n",
        "drive.mount('/content/drive')"
      ]
    },
    {
      "cell_type": "code",
      "source": [
        "from sklearn import neighbors\n",
        "from sklearn.model_selection import train_test_split\n",
        "from numpy import loadtxt\n",
        "from numpy import sort\n",
        "from sklearn.model_selection import GridSearchCV\n",
        "from sklearn.metrics import classification_report\n",
        "from xgboost import XGBRegressor\n",
        "from sklearn.model_selection import StratifiedKFold\n",
        "from sklearn.feature_selection import SelectFromModel\n",
        "from sklearn.model_selection import KFold\n",
        "from sklearn.model_selection import cross_val_score\n",
        "from sklearn.metrics import mean_absolute_error\n",
        "from sklearn.metrics import f1_score\n",
        "from sklearn.preprocessing import OneHotEncoder\n",
        "from sklearn.preprocessing import StandardScaler\n",
        "from sklearn.preprocessing import LabelEncoder\n",
        "import bokeh\n",
        "import sklearn\n",
        "import xgboost as xgb\n",
        "import numpy as np\n",
        "from scipy.stats import norm\n",
        "import pandas as pd\n",
        "import matplotlib.mlab as mlab\n",
        "import sqlite3\n",
        "import matplotlib.pyplot as plt\n",
        "from scipy import stats\n",
        "import numpy as np \n",
        "import pandas as pd \n",
        "import matplotlib.pyplot as plt\n",
        "import seaborn as sns\n",
        "from sklearn import neighbors\n",
        "from sklearn.model_selection import train_test_split\n",
        "from numpy import loadtxt\n",
        "from numpy import sort\n",
        "from sklearn.model_selection import GridSearchCV\n",
        "from sklearn.metrics import classification_report\n",
        "from xgboost import XGBRegressor\n",
        "from sklearn.model_selection import StratifiedKFold\n",
        "from sklearn.feature_selection import SelectFromModel\n",
        "from sklearn.model_selection import KFold\n",
        "from sklearn.model_selection import cross_val_score\n",
        "from sklearn.metrics import mean_absolute_error\n",
        "from sklearn.metrics import f1_score\n",
        "from sklearn.preprocessing import OneHotEncoder\n",
        "from sklearn.preprocessing import StandardScaler\n",
        "from sklearn.preprocessing import LabelEncoder\n",
        "import bokeh\n",
        "import sklearn\n",
        "import xgboost as xgb\n",
        "import numpy as np\n",
        "from scipy.stats import norm\n",
        "import pandas as pd\n",
        "import matplotlib.mlab as mlab\n",
        "import sqlite3\n",
        "import matplotlib.pyplot as plt\n",
        "from scipy import stats\n",
        "import seaborn as sns\n",
        "\n",
        "#import packages\n",
        "import pandas as pd \n",
        "import numpy as np\n",
        "import matplotlib.pyplot as plt \n",
        "import time \n",
        "import datetime\n",
        "import collections\n",
        "# from plotnine import *\n",
        "import seaborn as sns\n",
        "import scipy.stats as stats\n",
        "\n",
        "from sklearn.pipeline import Pipeline\n",
        "from sklearn.metrics import confusion_matrix\n",
        "from sklearn.metrics import classification_report\n",
        "from sklearn.metrics import mean_absolute_error\n",
        "\n",
        "from sklearn.linear_model import LinearRegression\n",
        "from sklearn.linear_model import Lasso\n",
        "from sklearn.linear_model import Ridge \n",
        "from sklearn.linear_model import ElasticNet\n",
        "from sklearn.model_selection import GridSearchCV\n",
        "from sklearn.ensemble import RandomForestRegressor\n",
        "import pandas as pd\n",
        "\n",
        "\n",
        "import xgboost as xgb\n",
        "import lightgbm as lgb"
      ],
      "metadata": {
        "id": "XZlgcnmx0fed"
      },
      "execution_count": null,
      "outputs": []
    },
    {
      "cell_type": "code",
      "source": [
        "from sklearn.ensemble import RandomForestRegressor\n",
        "import pandas as pd\n",
        "\n",
        "\n",
        "import xgboost as xgb\n",
        "import lightgbm as lgb"
      ],
      "metadata": {
        "id": "PkXWJ6Q20rS3"
      },
      "execution_count": null,
      "outputs": []
    },
    {
      "cell_type": "markdown",
      "source": [
        ""
      ],
      "metadata": {
        "id": "chvAsp2B1vUL"
      }
    },
    {
      "cell_type": "markdown",
      "source": [
        "# Data loading"
      ],
      "metadata": {
        "id": "Dppk_hYO1mDW"
      }
    },
    {
      "cell_type": "code",
      "source": [
        "y_train_2016 = pd.read_csv('/content/drive/MyDrive/SWE project/Dataset/OriginalDataset/train_2016_v2.csv')\n",
        "X_train_2016 = pd.read_csv('/content/drive/MyDrive/SWE project/Dataset/OriginalDataset/properties_2016.csv')\n",
        "\n",
        "\n",
        "print(f\"\\nX_train_2016 shape: {X_train_2016.shape}\\ny_train_2016 shape: {y_train_2016.shape}\")"
      ],
      "metadata": {
        "colab": {
          "base_uri": "https://localhost:8080/"
        },
        "id": "jbI7o5ZA0ulS",
        "outputId": "f1195015-c5d3-4368-8a7e-03fdd4bfed02"
      },
      "execution_count": null,
      "outputs": [
        {
          "output_type": "stream",
          "name": "stderr",
          "text": [
            "/usr/local/lib/python3.7/dist-packages/IPython/core/interactiveshell.py:2882: DtypeWarning: Columns (22,32,34,49,55) have mixed types.Specify dtype option on import or set low_memory=False.\n",
            "  exec(code_obj, self.user_global_ns, self.user_ns)\n"
          ]
        },
        {
          "output_type": "stream",
          "name": "stdout",
          "text": [
            "\n",
            "X_train_2016 shape: (2985217, 58)\n",
            "y_train_2016 shape: (90275, 3)\n"
          ]
        }
      ]
    },
    {
      "cell_type": "markdown",
      "source": [
        "# Exploratory data anaysis "
      ],
      "metadata": {
        "id": "ijMljkdXNrVq"
      }
    },
    {
      "cell_type": "markdown",
      "source": [
        ""
      ],
      "metadata": {
        "id": "u5Cl4wKYOE7b"
      }
    },
    {
      "cell_type": "code",
      "source": [
        "plt.figure(figsize=(8,6))\n",
        "plt.scatter(range(y_train_2016.shape[0]),np.sort(y_train_2016.logerror.values))\n",
        "plt.xlabel('index',fontsize=12)\n",
        "plt.ylabel('logerror',fontsize=12)\n",
        "plt.show()"
      ],
      "metadata": {
        "colab": {
          "base_uri": "https://localhost:8080/",
          "height": 391
        },
        "id": "12xeY-UpOJxz",
        "outputId": "3523c608-6210-4458-dd67-3a8dacb61ce8"
      },
      "execution_count": null,
      "outputs": [
        {
          "output_type": "display_data",
          "data": {
            "text/plain": [
              "<Figure size 576x432 with 1 Axes>"
            ],
            "image/png": "[encoded data removed]"
          },
          "metadata": {
            "needs_background": "light"
          }
        }
      ]
    },
    {
      "cell_type": "code",
      "source": [
        "# choose the max and min value \n",
        "logerror_max = np.percentile(y_train_2016.logerror.values, 99)\n",
        "logerror_min = np.percentile(y_train_2016.logerror.values, 1)\n",
        "\n",
        "y_train_2016 = y_train_2016[y_train_2016['logerror']<logerror_max]\n",
        "y_train_2016 = y_train_2016[y_train_2016['logerror']>logerror_min]\n",
        "\n",
        "sns.distplot(y_train_2016.logerror.values, bins=50, kde=False)\n",
        "plt.xlabel('logerror', fontsize=12)\n",
        "plt.show()"
      ],
      "metadata": {
        "id": "F6v4K38NOmxI",
        "colab": {
          "base_uri": "https://localhost:8080/",
          "height": 337
        },
        "outputId": "96c5b525-40f3-4285-e7b3-d8ccc2a11702"
      },
      "execution_count": null,
      "outputs": [
        {
          "output_type": "stream",
          "name": "stderr",
          "text": [
            "/usr/local/lib/python3.7/dist-packages/seaborn/distributions.py:2619: FutureWarning: `distplot` is a deprecated function and will be removed in a future version. Please adapt your code to use either `displot` (a figure-level function with similar flexibility) or `histplot` (an axes-level function for histograms).\n",
            "  warnings.warn(msg, FutureWarning)\n"
          ]
        },
        {
          "output_type": "display_data",
          "data": {
            "text/plain": [
              "<Figure size 432x288 with 1 Axes>"
            ],
            "image/png": "[encoded data removed]"
          },
          "metadata": {
            "needs_background": "light"
          }
        }
      ]
    },
    {
      "cell_type": "code",
      "source": [
        "  train_2016 = pd.merge(y_train_2016, X_train_2016, how = 'left', on = 'parcelid')"
      ],
      "metadata": {
        "id": "xI0e6Jb0UwtQ"
      },
      "execution_count": null,
      "outputs": []
    },
    {
      "cell_type": "code",
      "source": [
        "train_2016.shape"
      ],
      "metadata": {
        "colab": {
          "base_uri": "https://localhost:8080/"
        },
        "id": "bBJFMllVU6AC",
        "outputId": "20b92e7d-4370-4199-9471-3a95743eed84"
      },
      "execution_count": null,
      "outputs": [
        {
          "output_type": "execute_result",
          "data": {
            "text/plain": [
              "(88465, 60)"
            ]
          },
          "metadata": {},
          "execution_count": 8
        }
      ]
    },
    {
      "cell_type": "code",
      "source": [
        "plt.figure(figsize=(8,6))\n",
        "plt.scatter(range(train_2016.shape[0]),np.sort(train_2016.logerror.values))\n",
        "plt.xlabel('index',fontsize=12)\n",
        "plt.ylabel('logerror',fontsize=12)\n",
        "plt.show()"
      ],
      "metadata": {
        "colab": {
          "base_uri": "https://localhost:8080/",
          "height": 394
        },
        "id": "rpGYWmghVIl2",
        "outputId": "e9ae21bd-8a8d-45a6-effb-6b909b1ab945"
      },
      "execution_count": null,
      "outputs": [
        {
          "output_type": "display_data",
          "data": {
            "text/plain": [
              "<Figure size 576x432 with 1 Axes>"
            ],
            "image/png": "[encoded data removed]"
          },
          "metadata": {
            "needs_background": "light"
          }
        }
      ]
    },
    {
      "cell_type": "markdown",
      "source": [
        "The value of 99 th and 1 st of logerror"
      ],
      "metadata": {
        "id": "N2hUnbRGOdVF"
      }
    },
    {
      "cell_type": "markdown",
      "source": [
        "#Reomving of missing data that has too much (95% missing value )"
      ],
      "metadata": {
        "id": "hDBvrNdP1o4D"
      }
    },
    {
      "cell_type": "markdown",
      "source": [
        "Display missingd ata"
      ],
      "metadata": {
        "id": "KEbs8k8jZF0p"
      }
    },
    {
      "cell_type": "code",
      "source": [
        "all_data_na = (train_2016.isnull().sum() / len(train_2016)) * 100\n",
        "all_data_na = all_data_na.drop(all_data_na[all_data_na == 0].index).sort_values(ascending=False)\n",
        "missing_data = pd.DataFrame({'Missing Ratio' :all_data_na})\n",
        "missing_data[:35]"
      ],
      "metadata": {
        "colab": {
          "base_uri": "https://localhost:8080/",
          "height": 1000
        },
        "id": "vSSecv4jPA76",
        "outputId": "cd9e8f7e-9abf-4f0a-aecf-3fb0aea4f4e8"
      },
      "execution_count": null,
      "outputs": [
        {
          "output_type": "execute_result",
          "data": {
            "text/plain": [
              "                          Missing Ratio\n",
              "buildingclasstypeid           99.986435\n",
              "finishedsquarefeet13          99.966088\n",
              "basementsqft                  99.953654\n",
              "storytypeid                   99.953654\n",
              "yardbuildingsqft26            99.897134\n",
              "fireplaceflag                 99.751314\n",
              "architecturalstyletypeid      99.707229\n",
              "typeconstructiontypeid        99.664274\n",
              "finishedsquarefeet6           99.559148\n",
              "decktypeid                    99.268637\n",
              "poolsizesum                   98.915955\n",
              "pooltypeid10                  98.705703\n",
              "pooltypeid2                   98.663878\n",
              "taxdelinquencyflag            98.078336\n",
              "taxdelinquencyyear            98.078336\n",
              "hashottuborspa                97.369581\n",
              "yardbuildingsqft17            97.049681\n",
              "finishedsquarefeet15          96.219974\n",
              "finishedfloor1squarefeet      92.352908\n",
              "finishedsquarefeet50          92.352908\n",
              "fireplacecnt                  89.278246\n",
              "threequarterbathnbr           86.564178\n",
              "pooltypeid7                   81.452552\n",
              "poolcnt                       80.116430\n",
              "numberofstories               77.099418\n",
              "airconditioningtypeid         67.924038\n",
              "garagetotalsqft               66.540440\n",
              "garagecarcnt                  66.540440\n",
              "regionidneighborhood          60.250947\n",
              "heatingorsystemtypeid         37.869214\n",
              "buildingqualitytypeid         36.635958\n",
              "propertyzoningdesc            35.658170\n",
              "unitcnt                       35.597129\n",
              "lotsizesquarefeet             11.324253\n",
              "finishedsquarefeet12           4.948850"
            ],
            "text/html": [
              "\n",
              "  <div id=\"df-5572dc6d-b70d-4ca8-8e9d-8157a18fd4b9\">\n",
              "    <div class=\"colab-df-container\">\n",
              "      <div>\n",
              "<style scoped>\n",
              "    .dataframe tbody tr th:only-of-type {\n",
              "        vertical-align: middle;\n",
              "    }\n",
              "\n",
              "    .dataframe tbody tr th {\n",
              "        vertical-align: top;\n",
              "    }\n",
              "\n",
              "    .dataframe thead th {\n",
              "        text-align: right;\n",
              "    }\n",
              "</style>\n",
              "<table border=\"1\" class=\"dataframe\">\n",
              "  <thead>\n",
              "    <tr style=\"text-align: right;\">\n",
              "      <th></th>\n",
              "      <th>Missing Ratio</th>\n",
              "    </tr>\n",
              "  </thead>\n",
              "  <tbody>\n",
              "    <tr>\n",
              "      <th>buildingclasstypeid</th>\n",
              "      <td>99.986435</td>\n",
              "    </tr>\n",
              "    <tr>\n",
              "      <th>finishedsquarefeet13</th>\n",
              "      <td>99.966088</td>\n",
              "    </tr>\n",
              "    <tr>\n",
              "      <th>basementsqft</th>\n",
              "      <td>99.953654</td>\n",
              "    </tr>\n",
              "    <tr>\n",
              "      <th>storytypeid</th>\n",
              "      <td>99.953654</td>\n",
              "    </tr>\n",
              "    <tr>\n",
              "      <th>yardbuildingsqft26</th>\n",
              "      <td>99.897134</td>\n",
              "    </tr>\n",
              "    <tr>\n",
              "      <th>fireplaceflag</th>\n",
              "      <td>99.751314</td>\n",
              "    </tr>\n",
              "    <tr>\n",
              "      <th>architecturalstyletypeid</th>\n",
              "      <td>99.707229</td>\n",
              "    </tr>\n",
              "    <tr>\n",
              "      <th>typeconstructiontypeid</th>\n",
              "      <td>99.664274</td>\n",
              "    </tr>\n",
              "    <tr>\n",
              "      <th>finishedsquarefeet6</th>\n",
              "      <td>99.559148</td>\n",
              "    </tr>\n",
              "    <tr>\n",
              "      <th>decktypeid</th>\n",
              "      <td>99.268637</td>\n",
              "    </tr>\n",
              "    <tr>\n",
              "      <th>poolsizesum</th>\n",
              "      <td>98.915955</td>\n",
              "    </tr>\n",
              "    <tr>\n",
              "      <th>pooltypeid10</th>\n",
              "      <td>98.705703</td>\n",
              "    </tr>\n",
              "    <tr>\n",
              "      <th>pooltypeid2</th>\n",
              "      <td>98.663878</td>\n",
              "    </tr>\n",
              "    <tr>\n",
              "      <th>taxdelinquencyflag</th>\n",
              "      <td>98.078336</td>\n",
              "    </tr>\n",
              "    <tr>\n",
              "      <th>taxdelinquencyyear</th>\n",
              "      <td>98.078336</td>\n",
              "    </tr>\n",
              "    <tr>\n",
              "      <th>hashottuborspa</th>\n",
              "      <td>97.369581</td>\n",
              "    </tr>\n",
              "    <tr>\n",
              "      <th>yardbuildingsqft17</th>\n",
              "      <td>97.049681</td>\n",
              "    </tr>\n",
              "    <tr>\n",
              "      <th>finishedsquarefeet15</th>\n",
              "      <td>96.219974</td>\n",
              "    </tr>\n",
              "    <tr>\n",
              "      <th>finishedfloor1squarefeet</th>\n",
              "      <td>92.352908</td>\n",
              "    </tr>\n",
              "    <tr>\n",
              "      <th>finishedsquarefeet50</th>\n",
              "      <td>92.352908</td>\n",
              "    </tr>\n",
              "    <tr>\n",
              "      <th>fireplacecnt</th>\n",
              "      <td>89.278246</td>\n",
              "    </tr>\n",
              "    <tr>\n",
              "      <th>threequarterbathnbr</th>\n",
              "      <td>86.564178</td>\n",
              "    </tr>\n",
              "    <tr>\n",
              "      <th>pooltypeid7</th>\n",
              "      <td>81.452552</td>\n",
              "    </tr>\n",
              "    <tr>\n",
              "      <th>poolcnt</th>\n",
              "      <td>80.116430</td>\n",
              "    </tr>\n",
              "    <tr>\n",
              "      <th>numberofstories</th>\n",
              "      <td>77.099418</td>\n",
              "    </tr>\n",
              "    <tr>\n",
              "      <th>airconditioningtypeid</th>\n",
              "      <td>67.924038</td>\n",
              "    </tr>\n",
              "    <tr>\n",
              "      <th>garagetotalsqft</th>\n",
              "      <td>66.540440</td>\n",
              "    </tr>\n",
              "    <tr>\n",
              "      <th>garagecarcnt</th>\n",
              "      <td>66.540440</td>\n",
              "    </tr>\n",
              "    <tr>\n",
              "      <th>regionidneighborhood</th>\n",
              "      <td>60.250947</td>\n",
              "    </tr>\n",
              "    <tr>\n",
              "      <th>heatingorsystemtypeid</th>\n",
              "      <td>37.869214</td>\n",
              "    </tr>\n",
              "    <tr>\n",
              "      <th>buildingqualitytypeid</th>\n",
              "      <td>36.635958</td>\n",
              "    </tr>\n",
              "    <tr>\n",
              "      <th>propertyzoningdesc</th>\n",
              "      <td>35.658170</td>\n",
              "    </tr>\n",
              "    <tr>\n",
              "      <th>unitcnt</th>\n",
              "      <td>35.597129</td>\n",
              "    </tr>\n",
              "    <tr>\n",
              "      <th>lotsizesquarefeet</th>\n",
              "      <td>11.324253</td>\n",
              "    </tr>\n",
              "    <tr>\n",
              "      <th>finishedsquarefeet12</th>\n",
              "      <td>4.948850</td>\n",
              "    </tr>\n",
              "  </tbody>\n",
              "</table>\n",
              "</div>\n",
              "      <button class=\"colab-df-convert\" onclick=\"convertToInteractive('df-5572dc6d-b70d-4ca8-8e9d-8157a18fd4b9')\"\n",
              "              title=\"Convert this dataframe to an interactive table.\"\n",
              "              style=\"display:none;\">\n",
              "        \n",
              "  <svg xmlns=\"http://www.w3.org/2000/svg\" height=\"24px\"viewBox=\"0 0 24 24\"\n",
              "       width=\"24px\">\n",
              "    <path d=\"M0 0h24v24H0V0z\" fill=\"none\"/>\n",
              "    <path d=\"M18.56 5.44l.94 2.06.94-2.06 2.06-.94-2.06-.94-.94-2.06-.94 2.06-2.06.94zm-11 1L8.5 8.5l.94-2.06 2.06-.94-2.06-.94L8.5 2.5l-.94 2.06-2.06.94zm10 10l.94 2.06.94-2.06 2.06-.94-2.06-.94-.94-2.06-.94 2.06-2.06.94z\"/><path d=\"M17.41 7.96l-1.37-1.37c-.4-.4-.92-.59-1.43-.59-.52 0-1.04.2-1.43.59L10.3 9.45l-7.72 7.72c-.78.78-.78 2.05 0 2.83L4 21.41c.39.39.9.59 1.41.59.51 0 1.02-.2 1.41-.59l7.78-7.78 2.81-2.81c.8-.78.8-2.07 0-2.86zM5.41 20L4 18.59l7.72-7.72 1.47 1.35L5.41 20z\"/>\n",
              "  </svg>\n",
              "      </button>\n",
              "      \n",
              "  <style>\n",
              "    .colab-df-container {\n",
              "      display:flex;\n",
              "      flex-wrap:wrap;\n",
              "      gap: 12px;\n",
              "    }\n",
              "\n",
              "    .colab-df-convert {\n",
              "      background-color: #E8F0FE;\n",
              "      border: none;\n",
              "      border-radius: 50%;\n",
              "      cursor: pointer;\n",
              "      display: none;\n",
              "      fill: #1967D2;\n",
              "      height: 32px;\n",
              "      padding: 0 0 0 0;\n",
              "      width: 32px;\n",
              "    }\n",
              "\n",
              "    .colab-df-convert:hover {\n",
              "      background-color: #E2EBFA;\n",
              "      box-shadow: 0px 1px 2px rgba(60, 64, 67, 0.3), 0px 1px 3px 1px rgba(60, 64, 67, 0.15);\n",
              "      fill: #174EA6;\n",
              "    }\n",
              "\n",
              "    [theme=dark] .colab-df-convert {\n",
              "      background-color: #3B4455;\n",
              "      fill: #D2E3FC;\n",
              "    }\n",
              "\n",
              "    [theme=dark] .colab-df-convert:hover {\n",
              "      background-color: #434B5C;\n",
              "      box-shadow: 0px 1px 3px 1px rgba(0, 0, 0, 0.15);\n",
              "      filter: drop-shadow(0px 1px 2px rgba(0, 0, 0, 0.3));\n",
              "      fill: #FFFFFF;\n",
              "    }\n",
              "  </style>\n",
              "\n",
              "      <script>\n",
              "        const buttonEl =\n",
              "          document.querySelector('#df-5572dc6d-b70d-4ca8-8e9d-8157a18fd4b9 button.colab-df-convert');\n",
              "        buttonEl.style.display =\n",
              "          google.colab.kernel.accessAllowed ? 'block' : 'none';\n",
              "\n",
              "        async function convertToInteractive(key) {\n",
              "          const element = document.querySelector('#df-5572dc6d-b70d-4ca8-8e9d-8157a18fd4b9');\n",
              "          const dataTable =\n",
              "            await google.colab.kernel.invokeFunction('convertToInteractive',\n",
              "                                                     [key], {});\n",
              "          if (!dataTable) return;\n",
              "\n",
              "          const docLinkHtml = 'Like what you see? Visit the ' +\n",
              "            '<a target=\"_blank\" href=https://colab.research.google.com/notebooks/data_table.ipynb>data table notebook</a>'\n",
              "            + ' to learn more about interactive tables.';\n",
              "          element.innerHTML = '';\n",
              "          dataTable['output_type'] = 'display_data';\n",
              "          await google.colab.output.renderOutput(dataTable, element);\n",
              "          const docLink = document.createElement('div');\n",
              "          docLink.innerHTML = docLinkHtml;\n",
              "          element.appendChild(docLink);\n",
              "        }\n",
              "      </script>\n",
              "    </div>\n",
              "  </div>\n",
              "  "
            ]
          },
          "metadata": {},
          "execution_count": 10
        }
      ]
    },
    {
      "cell_type": "code",
      "source": [
        "# looking at the missing rate\n",
        "missing_df = train_2016.isnull().sum(axis=0).reset_index()\n",
        "missing_df.columns = ['column_name','missing_count']\n",
        "missing_df['missing_ratio'] = missing_df['missing_count']/train_2016.shape[0]\n",
        "missing_df.loc[missing_df['missing_ratio'] > 0.999]"
      ],
      "metadata": {
        "colab": {
          "base_uri": "https://localhost:8080/",
          "height": 175
        },
        "id": "88d5emlchWAx",
        "outputId": "29c27ead-7118-4aa3-c288-5b2949573605"
      },
      "execution_count": null,
      "outputs": [
        {
          "output_type": "execute_result",
          "data": {
            "text/plain": [
              "             column_name  missing_count  missing_ratio\n",
              "5           basementsqft          88424       0.999537\n",
              "8    buildingclasstypeid          88453       0.999864\n",
              "15  finishedsquarefeet13          88435       0.999661\n",
              "43           storytypeid          88424       0.999537"
            ],
            "text/html": [
              "\n",
              "  <div id=\"df-1acf7e89-fdea-4618-9118-3a1bf94e4dad\">\n",
              "    <div class=\"colab-df-container\">\n",
              "      <div>\n",
              "<style scoped>\n",
              "    .dataframe tbody tr th:only-of-type {\n",
              "        vertical-align: middle;\n",
              "    }\n",
              "\n",
              "    .dataframe tbody tr th {\n",
              "        vertical-align: top;\n",
              "    }\n",
              "\n",
              "    .dataframe thead th {\n",
              "        text-align: right;\n",
              "    }\n",
              "</style>\n",
              "<table border=\"1\" class=\"dataframe\">\n",
              "  <thead>\n",
              "    <tr style=\"text-align: right;\">\n",
              "      <th></th>\n",
              "      <th>column_name</th>\n",
              "      <th>missing_count</th>\n",
              "      <th>missing_ratio</th>\n",
              "    </tr>\n",
              "  </thead>\n",
              "  <tbody>\n",
              "    <tr>\n",
              "      <th>5</th>\n",
              "      <td>basementsqft</td>\n",
              "      <td>88424</td>\n",
              "      <td>0.999537</td>\n",
              "    </tr>\n",
              "    <tr>\n",
              "      <th>8</th>\n",
              "      <td>buildingclasstypeid</td>\n",
              "      <td>88453</td>\n",
              "      <td>0.999864</td>\n",
              "    </tr>\n",
              "    <tr>\n",
              "      <th>15</th>\n",
              "      <td>finishedsquarefeet13</td>\n",
              "      <td>88435</td>\n",
              "      <td>0.999661</td>\n",
              "    </tr>\n",
              "    <tr>\n",
              "      <th>43</th>\n",
              "      <td>storytypeid</td>\n",
              "      <td>88424</td>\n",
              "      <td>0.999537</td>\n",
              "    </tr>\n",
              "  </tbody>\n",
              "</table>\n",
              "</div>\n",
              "      <button class=\"colab-df-convert\" onclick=\"convertToInteractive('df-1acf7e89-fdea-4618-9118-3a1bf94e4dad')\"\n",
              "              title=\"Convert this dataframe to an interactive table.\"\n",
              "              style=\"display:none;\">\n",
              "        \n",
              "  <svg xmlns=\"http://www.w3.org/2000/svg\" height=\"24px\"viewBox=\"0 0 24 24\"\n",
              "       width=\"24px\">\n",
              "    <path d=\"M0 0h24v24H0V0z\" fill=\"none\"/>\n",
              "    <path d=\"M18.56 5.44l.94 2.06.94-2.06 2.06-.94-2.06-.94-.94-2.06-.94 2.06-2.06.94zm-11 1L8.5 8.5l.94-2.06 2.06-.94-2.06-.94L8.5 2.5l-.94 2.06-2.06.94zm10 10l.94 2.06.94-2.06 2.06-.94-2.06-.94-.94-2.06-.94 2.06-2.06.94z\"/><path d=\"M17.41 7.96l-1.37-1.37c-.4-.4-.92-.59-1.43-.59-.52 0-1.04.2-1.43.59L10.3 9.45l-7.72 7.72c-.78.78-.78 2.05 0 2.83L4 21.41c.39.39.9.59 1.41.59.51 0 1.02-.2 1.41-.59l7.78-7.78 2.81-2.81c.8-.78.8-2.07 0-2.86zM5.41 20L4 18.59l7.72-7.72 1.47 1.35L5.41 20z\"/>\n",
              "  </svg>\n",
              "      </button>\n",
              "      \n",
              "  <style>\n",
              "    .colab-df-container {\n",
              "      display:flex;\n",
              "      flex-wrap:wrap;\n",
              "      gap: 12px;\n",
              "    }\n",
              "\n",
              "    .colab-df-convert {\n",
              "      background-color: #E8F0FE;\n",
              "      border: none;\n",
              "      border-radius: 50%;\n",
              "      cursor: pointer;\n",
              "      display: none;\n",
              "      fill: #1967D2;\n",
              "      height: 32px;\n",
              "      padding: 0 0 0 0;\n",
              "      width: 32px;\n",
              "    }\n",
              "\n",
              "    .colab-df-convert:hover {\n",
              "      background-color: #E2EBFA;\n",
              "      box-shadow: 0px 1px 2px rgba(60, 64, 67, 0.3), 0px 1px 3px 1px rgba(60, 64, 67, 0.15);\n",
              "      fill: #174EA6;\n",
              "    }\n",
              "\n",
              "    [theme=dark] .colab-df-convert {\n",
              "      background-color: #3B4455;\n",
              "      fill: #D2E3FC;\n",
              "    }\n",
              "\n",
              "    [theme=dark] .colab-df-convert:hover {\n",
              "      background-color: #434B5C;\n",
              "      box-shadow: 0px 1px 3px 1px rgba(0, 0, 0, 0.15);\n",
              "      filter: drop-shadow(0px 1px 2px rgba(0, 0, 0, 0.3));\n",
              "      fill: #FFFFFF;\n",
              "    }\n",
              "  </style>\n",
              "\n",
              "      <script>\n",
              "        const buttonEl =\n",
              "          document.querySelector('#df-1acf7e89-fdea-4618-9118-3a1bf94e4dad button.colab-df-convert');\n",
              "        buttonEl.style.display =\n",
              "          google.colab.kernel.accessAllowed ? 'block' : 'none';\n",
              "\n",
              "        async function convertToInteractive(key) {\n",
              "          const element = document.querySelector('#df-1acf7e89-fdea-4618-9118-3a1bf94e4dad');\n",
              "          const dataTable =\n",
              "            await google.colab.kernel.invokeFunction('convertToInteractive',\n",
              "                                                     [key], {});\n",
              "          if (!dataTable) return;\n",
              "\n",
              "          const docLinkHtml = 'Like what you see? Visit the ' +\n",
              "            '<a target=\"_blank\" href=https://colab.research.google.com/notebooks/data_table.ipynb>data table notebook</a>'\n",
              "            + ' to learn more about interactive tables.';\n",
              "          element.innerHTML = '';\n",
              "          dataTable['output_type'] = 'display_data';\n",
              "          await google.colab.output.renderOutput(dataTable, element);\n",
              "          const docLink = document.createElement('div');\n",
              "          docLink.innerHTML = docLinkHtml;\n",
              "          element.appendChild(docLink);\n",
              "        }\n",
              "      </script>\n",
              "    </div>\n",
              "  </div>\n",
              "  "
            ]
          },
          "metadata": {},
          "execution_count": 11
        }
      ]
    },
    {
      "cell_type": "markdown",
      "source": [
        "This part could direclt delted since it has very high missing rate"
      ],
      "metadata": {
        "id": "9Ynsw_X4hn0A"
      }
    },
    {
      "cell_type": "code",
      "source": [
        "missing_df.loc[missing_df['missing_ratio'] > 0.95]"
      ],
      "metadata": {
        "colab": {
          "base_uri": "https://localhost:8080/",
          "height": 614
        },
        "id": "oLGAhvs3g_8b",
        "outputId": "e94eb6de-a75a-4325-b59f-31f8e0753eb8"
      },
      "execution_count": null,
      "outputs": [
        {
          "output_type": "execute_result",
          "data": {
            "text/plain": [
              "                 column_name  missing_count  missing_ratio\n",
              "4   architecturalstyletypeid          88206       0.997072\n",
              "5               basementsqft          88424       0.999537\n",
              "8        buildingclasstypeid          88453       0.999864\n",
              "11                decktypeid          87818       0.992686\n",
              "15      finishedsquarefeet13          88435       0.999661\n",
              "16      finishedsquarefeet15          85121       0.962200\n",
              "18       finishedsquarefeet6          88075       0.995591\n",
              "24            hashottuborspa          86138       0.973696\n",
              "30               poolsizesum          87506       0.989160\n",
              "31              pooltypeid10          87320       0.987057\n",
              "32               pooltypeid2          87283       0.986639\n",
              "43               storytypeid          88424       0.999537\n",
              "45    typeconstructiontypeid          88168       0.996643\n",
              "47        yardbuildingsqft17          85855       0.970497\n",
              "48        yardbuildingsqft26          88374       0.998971\n",
              "51             fireplaceflag          88245       0.997513\n",
              "57        taxdelinquencyflag          86765       0.980783\n",
              "58        taxdelinquencyyear          86765       0.980783"
            ],
            "text/html": [
              "\n",
              "  <div id=\"df-0c5e256b-8194-419e-975b-fc11773d3f48\">\n",
              "    <div class=\"colab-df-container\">\n",
              "      <div>\n",
              "<style scoped>\n",
              "    .dataframe tbody tr th:only-of-type {\n",
              "        vertical-align: middle;\n",
              "    }\n",
              "\n",
              "    .dataframe tbody tr th {\n",
              "        vertical-align: top;\n",
              "    }\n",
              "\n",
              "    .dataframe thead th {\n",
              "        text-align: right;\n",
              "    }\n",
              "</style>\n",
              "<table border=\"1\" class=\"dataframe\">\n",
              "  <thead>\n",
              "    <tr style=\"text-align: right;\">\n",
              "      <th></th>\n",
              "      <th>column_name</th>\n",
              "      <th>missing_count</th>\n",
              "      <th>missing_ratio</th>\n",
              "    </tr>\n",
              "  </thead>\n",
              "  <tbody>\n",
              "    <tr>\n",
              "      <th>4</th>\n",
              "      <td>architecturalstyletypeid</td>\n",
              "      <td>88206</td>\n",
              "      <td>0.997072</td>\n",
              "    </tr>\n",
              "    <tr>\n",
              "      <th>5</th>\n",
              "      <td>basementsqft</td>\n",
              "      <td>88424</td>\n",
              "      <td>0.999537</td>\n",
              "    </tr>\n",
              "    <tr>\n",
              "      <th>8</th>\n",
              "      <td>buildingclasstypeid</td>\n",
              "      <td>88453</td>\n",
              "      <td>0.999864</td>\n",
              "    </tr>\n",
              "    <tr>\n",
              "      <th>11</th>\n",
              "      <td>decktypeid</td>\n",
              "      <td>87818</td>\n",
              "      <td>0.992686</td>\n",
              "    </tr>\n",
              "    <tr>\n",
              "      <th>15</th>\n",
              "      <td>finishedsquarefeet13</td>\n",
              "      <td>88435</td>\n",
              "      <td>0.999661</td>\n",
              "    </tr>\n",
              "    <tr>\n",
              "      <th>16</th>\n",
              "      <td>finishedsquarefeet15</td>\n",
              "      <td>85121</td>\n",
              "      <td>0.962200</td>\n",
              "    </tr>\n",
              "    <tr>\n",
              "      <th>18</th>\n",
              "      <td>finishedsquarefeet6</td>\n",
              "      <td>88075</td>\n",
              "      <td>0.995591</td>\n",
              "    </tr>\n",
              "    <tr>\n",
              "      <th>24</th>\n",
              "      <td>hashottuborspa</td>\n",
              "      <td>86138</td>\n",
              "      <td>0.973696</td>\n",
              "    </tr>\n",
              "    <tr>\n",
              "      <th>30</th>\n",
              "      <td>poolsizesum</td>\n",
              "      <td>87506</td>\n",
              "      <td>0.989160</td>\n",
              "    </tr>\n",
              "    <tr>\n",
              "      <th>31</th>\n",
              "      <td>pooltypeid10</td>\n",
              "      <td>87320</td>\n",
              "      <td>0.987057</td>\n",
              "    </tr>\n",
              "    <tr>\n",
              "      <th>32</th>\n",
              "      <td>pooltypeid2</td>\n",
              "      <td>87283</td>\n",
              "      <td>0.986639</td>\n",
              "    </tr>\n",
              "    <tr>\n",
              "      <th>43</th>\n",
              "      <td>storytypeid</td>\n",
              "      <td>88424</td>\n",
              "      <td>0.999537</td>\n",
              "    </tr>\n",
              "    <tr>\n",
              "      <th>45</th>\n",
              "      <td>typeconstructiontypeid</td>\n",
              "      <td>88168</td>\n",
              "      <td>0.996643</td>\n",
              "    </tr>\n",
              "    <tr>\n",
              "      <th>47</th>\n",
              "      <td>yardbuildingsqft17</td>\n",
              "      <td>85855</td>\n",
              "      <td>0.970497</td>\n",
              "    </tr>\n",
              "    <tr>\n",
              "      <th>48</th>\n",
              "      <td>yardbuildingsqft26</td>\n",
              "      <td>88374</td>\n",
              "      <td>0.998971</td>\n",
              "    </tr>\n",
              "    <tr>\n",
              "      <th>51</th>\n",
              "      <td>fireplaceflag</td>\n",
              "      <td>88245</td>\n",
              "      <td>0.997513</td>\n",
              "    </tr>\n",
              "    <tr>\n",
              "      <th>57</th>\n",
              "      <td>taxdelinquencyflag</td>\n",
              "      <td>86765</td>\n",
              "      <td>0.980783</td>\n",
              "    </tr>\n",
              "    <tr>\n",
              "      <th>58</th>\n",
              "      <td>taxdelinquencyyear</td>\n",
              "      <td>86765</td>\n",
              "      <td>0.980783</td>\n",
              "    </tr>\n",
              "  </tbody>\n",
              "</table>\n",
              "</div>\n",
              "      <button class=\"colab-df-convert\" onclick=\"convertToInteractive('df-0c5e256b-8194-419e-975b-fc11773d3f48')\"\n",
              "              title=\"Convert this dataframe to an interactive table.\"\n",
              "              style=\"display:none;\">\n",
              "        \n",
              "  <svg xmlns=\"http://www.w3.org/2000/svg\" height=\"24px\"viewBox=\"0 0 24 24\"\n",
              "       width=\"24px\">\n",
              "    <path d=\"M0 0h24v24H0V0z\" fill=\"none\"/>\n",
              "    <path d=\"M18.56 5.44l.94 2.06.94-2.06 2.06-.94-2.06-.94-.94-2.06-.94 2.06-2.06.94zm-11 1L8.5 8.5l.94-2.06 2.06-.94-2.06-.94L8.5 2.5l-.94 2.06-2.06.94zm10 10l.94 2.06.94-2.06 2.06-.94-2.06-.94-.94-2.06-.94 2.06-2.06.94z\"/><path d=\"M17.41 7.96l-1.37-1.37c-.4-.4-.92-.59-1.43-.59-.52 0-1.04.2-1.43.59L10.3 9.45l-7.72 7.72c-.78.78-.78 2.05 0 2.83L4 21.41c.39.39.9.59 1.41.59.51 0 1.02-.2 1.41-.59l7.78-7.78 2.81-2.81c.8-.78.8-2.07 0-2.86zM5.41 20L4 18.59l7.72-7.72 1.47 1.35L5.41 20z\"/>\n",
              "  </svg>\n",
              "      </button>\n",
              "      \n",
              "  <style>\n",
              "    .colab-df-container {\n",
              "      display:flex;\n",
              "      flex-wrap:wrap;\n",
              "      gap: 12px;\n",
              "    }\n",
              "\n",
              "    .colab-df-convert {\n",
              "      background-color: #E8F0FE;\n",
              "      border: none;\n",
              "      border-radius: 50%;\n",
              "      cursor: pointer;\n",
              "      display: none;\n",
              "      fill: #1967D2;\n",
              "      height: 32px;\n",
              "      padding: 0 0 0 0;\n",
              "      width: 32px;\n",
              "    }\n",
              "\n",
              "    .colab-df-convert:hover {\n",
              "      background-color: #E2EBFA;\n",
              "      box-shadow: 0px 1px 2px rgba(60, 64, 67, 0.3), 0px 1px 3px 1px rgba(60, 64, 67, 0.15);\n",
              "      fill: #174EA6;\n",
              "    }\n",
              "\n",
              "    [theme=dark] .colab-df-convert {\n",
              "      background-color: #3B4455;\n",
              "      fill: #D2E3FC;\n",
              "    }\n",
              "\n",
              "    [theme=dark] .colab-df-convert:hover {\n",
              "      background-color: #434B5C;\n",
              "      box-shadow: 0px 1px 3px 1px rgba(0, 0, 0, 0.15);\n",
              "      filter: drop-shadow(0px 1px 2px rgba(0, 0, 0, 0.3));\n",
              "      fill: #FFFFFF;\n",
              "    }\n",
              "  </style>\n",
              "\n",
              "      <script>\n",
              "        const buttonEl =\n",
              "          document.querySelector('#df-0c5e256b-8194-419e-975b-fc11773d3f48 button.colab-df-convert');\n",
              "        buttonEl.style.display =\n",
              "          google.colab.kernel.accessAllowed ? 'block' : 'none';\n",
              "\n",
              "        async function convertToInteractive(key) {\n",
              "          const element = document.querySelector('#df-0c5e256b-8194-419e-975b-fc11773d3f48');\n",
              "          const dataTable =\n",
              "            await google.colab.kernel.invokeFunction('convertToInteractive',\n",
              "                                                     [key], {});\n",
              "          if (!dataTable) return;\n",
              "\n",
              "          const docLinkHtml = 'Like what you see? Visit the ' +\n",
              "            '<a target=\"_blank\" href=https://colab.research.google.com/notebooks/data_table.ipynb>data table notebook</a>'\n",
              "            + ' to learn more about interactive tables.';\n",
              "          element.innerHTML = '';\n",
              "          dataTable['output_type'] = 'display_data';\n",
              "          await google.colab.output.renderOutput(dataTable, element);\n",
              "          const docLink = document.createElement('div');\n",
              "          docLink.innerHTML = docLinkHtml;\n",
              "          element.appendChild(docLink);\n",
              "        }\n",
              "      </script>\n",
              "    </div>\n",
              "  </div>\n",
              "  "
            ]
          },
          "metadata": {},
          "execution_count": 12
        }
      ]
    },
    {
      "cell_type": "code",
      "source": [
        ""
      ],
      "metadata": {
        "id": "LnQEkGpgloGs"
      },
      "execution_count": null,
      "outputs": []
    },
    {
      "cell_type": "code",
      "source": [
        "train_2016.shape"
      ],
      "metadata": {
        "colab": {
          "base_uri": "https://localhost:8080/"
        },
        "id": "--yz2w0PiAp-",
        "outputId": "74fc415f-35d4-485e-8dbb-7ac5cd2c631b"
      },
      "execution_count": null,
      "outputs": [
        {
          "output_type": "execute_result",
          "data": {
            "text/plain": [
              "(88465, 60)"
            ]
          },
          "metadata": {},
          "execution_count": 13
        }
      ]
    },
    {
      "cell_type": "code",
      "source": [
        "missing_df.head()"
      ],
      "metadata": {
        "colab": {
          "base_uri": "https://localhost:8080/",
          "height": 206
        },
        "id": "sfPjN9Uhh4Mz",
        "outputId": "da804b11-181d-456d-e1c6-d2bab60f9c94"
      },
      "execution_count": null,
      "outputs": [
        {
          "output_type": "execute_result",
          "data": {
            "text/plain": [
              "                column_name  missing_count  missing_ratio\n",
              "0                  parcelid              0       0.000000\n",
              "1                  logerror              0       0.000000\n",
              "2           transactiondate              0       0.000000\n",
              "3     airconditioningtypeid          60089       0.679240\n",
              "4  architecturalstyletypeid          88206       0.997072"
            ],
            "text/html": [
              "\n",
              "  <div id=\"df-e00fefe5-def3-49dc-bd71-01e2ddf2659e\">\n",
              "    <div class=\"colab-df-container\">\n",
              "      <div>\n",
              "<style scoped>\n",
              "    .dataframe tbody tr th:only-of-type {\n",
              "        vertical-align: middle;\n",
              "    }\n",
              "\n",
              "    .dataframe tbody tr th {\n",
              "        vertical-align: top;\n",
              "    }\n",
              "\n",
              "    .dataframe thead th {\n",
              "        text-align: right;\n",
              "    }\n",
              "</style>\n",
              "<table border=\"1\" class=\"dataframe\">\n",
              "  <thead>\n",
              "    <tr style=\"text-align: right;\">\n",
              "      <th></th>\n",
              "      <th>column_name</th>\n",
              "      <th>missing_count</th>\n",
              "      <th>missing_ratio</th>\n",
              "    </tr>\n",
              "  </thead>\n",
              "  <tbody>\n",
              "    <tr>\n",
              "      <th>0</th>\n",
              "      <td>parcelid</td>\n",
              "      <td>0</td>\n",
              "      <td>0.000000</td>\n",
              "    </tr>\n",
              "    <tr>\n",
              "      <th>1</th>\n",
              "      <td>logerror</td>\n",
              "      <td>0</td>\n",
              "      <td>0.000000</td>\n",
              "    </tr>\n",
              "    <tr>\n",
              "      <th>2</th>\n",
              "      <td>transactiondate</td>\n",
              "      <td>0</td>\n",
              "      <td>0.000000</td>\n",
              "    </tr>\n",
              "    <tr>\n",
              "      <th>3</th>\n",
              "      <td>airconditioningtypeid</td>\n",
              "      <td>60089</td>\n",
              "      <td>0.679240</td>\n",
              "    </tr>\n",
              "    <tr>\n",
              "      <th>4</th>\n",
              "      <td>architecturalstyletypeid</td>\n",
              "      <td>88206</td>\n",
              "      <td>0.997072</td>\n",
              "    </tr>\n",
              "  </tbody>\n",
              "</table>\n",
              "</div>\n",
              "      <button class=\"colab-df-convert\" onclick=\"convertToInteractive('df-e00fefe5-def3-49dc-bd71-01e2ddf2659e')\"\n",
              "              title=\"Convert this dataframe to an interactive table.\"\n",
              "              style=\"display:none;\">\n",
              "        \n",
              "  <svg xmlns=\"http://www.w3.org/2000/svg\" height=\"24px\"viewBox=\"0 0 24 24\"\n",
              "       width=\"24px\">\n",
              "    <path d=\"M0 0h24v24H0V0z\" fill=\"none\"/>\n",
              "    <path d=\"M18.56 5.44l.94 2.06.94-2.06 2.06-.94-2.06-.94-.94-2.06-.94 2.06-2.06.94zm-11 1L8.5 8.5l.94-2.06 2.06-.94-2.06-.94L8.5 2.5l-.94 2.06-2.06.94zm10 10l.94 2.06.94-2.06 2.06-.94-2.06-.94-.94-2.06-.94 2.06-2.06.94z\"/><path d=\"M17.41 7.96l-1.37-1.37c-.4-.4-.92-.59-1.43-.59-.52 0-1.04.2-1.43.59L10.3 9.45l-7.72 7.72c-.78.78-.78 2.05 0 2.83L4 21.41c.39.39.9.59 1.41.59.51 0 1.02-.2 1.41-.59l7.78-7.78 2.81-2.81c.8-.78.8-2.07 0-2.86zM5.41 20L4 18.59l7.72-7.72 1.47 1.35L5.41 20z\"/>\n",
              "  </svg>\n",
              "      </button>\n",
              "      \n",
              "  <style>\n",
              "    .colab-df-container {\n",
              "      display:flex;\n",
              "      flex-wrap:wrap;\n",
              "      gap: 12px;\n",
              "    }\n",
              "\n",
              "    .colab-df-convert {\n",
              "      background-color: #E8F0FE;\n",
              "      border: none;\n",
              "      border-radius: 50%;\n",
              "      cursor: pointer;\n",
              "      display: none;\n",
              "      fill: #1967D2;\n",
              "      height: 32px;\n",
              "      padding: 0 0 0 0;\n",
              "      width: 32px;\n",
              "    }\n",
              "\n",
              "    .colab-df-convert:hover {\n",
              "      background-color: #E2EBFA;\n",
              "      box-shadow: 0px 1px 2px rgba(60, 64, 67, 0.3), 0px 1px 3px 1px rgba(60, 64, 67, 0.15);\n",
              "      fill: #174EA6;\n",
              "    }\n",
              "\n",
              "    [theme=dark] .colab-df-convert {\n",
              "      background-color: #3B4455;\n",
              "      fill: #D2E3FC;\n",
              "    }\n",
              "\n",
              "    [theme=dark] .colab-df-convert:hover {\n",
              "      background-color: #434B5C;\n",
              "      box-shadow: 0px 1px 3px 1px rgba(0, 0, 0, 0.15);\n",
              "      filter: drop-shadow(0px 1px 2px rgba(0, 0, 0, 0.3));\n",
              "      fill: #FFFFFF;\n",
              "    }\n",
              "  </style>\n",
              "\n",
              "      <script>\n",
              "        const buttonEl =\n",
              "          document.querySelector('#df-e00fefe5-def3-49dc-bd71-01e2ddf2659e button.colab-df-convert');\n",
              "        buttonEl.style.display =\n",
              "          google.colab.kernel.accessAllowed ? 'block' : 'none';\n",
              "\n",
              "        async function convertToInteractive(key) {\n",
              "          const element = document.querySelector('#df-e00fefe5-def3-49dc-bd71-01e2ddf2659e');\n",
              "          const dataTable =\n",
              "            await google.colab.kernel.invokeFunction('convertToInteractive',\n",
              "                                                     [key], {});\n",
              "          if (!dataTable) return;\n",
              "\n",
              "          const docLinkHtml = 'Like what you see? Visit the ' +\n",
              "            '<a target=\"_blank\" href=https://colab.research.google.com/notebooks/data_table.ipynb>data table notebook</a>'\n",
              "            + ' to learn more about interactive tables.';\n",
              "          element.innerHTML = '';\n",
              "          dataTable['output_type'] = 'display_data';\n",
              "          await google.colab.output.renderOutput(dataTable, element);\n",
              "          const docLink = document.createElement('div');\n",
              "          docLink.innerHTML = docLinkHtml;\n",
              "          element.appendChild(docLink);\n",
              "        }\n",
              "      </script>\n",
              "    </div>\n",
              "  </div>\n",
              "  "
            ]
          },
          "metadata": {},
          "execution_count": 14
        }
      ]
    },
    {
      "cell_type": "code",
      "source": [
        ""
      ],
      "metadata": {
        "id": "wPhfp597lxZS"
      },
      "execution_count": null,
      "outputs": []
    },
    {
      "cell_type": "markdown",
      "source": [
        "Delte it from the original data ⚗"
      ],
      "metadata": {
        "id": "abIW03eAiOUf"
      }
    },
    {
      "cell_type": "code",
      "source": [
        "deleteFeature = ['architecturalstyletypeid','basementsqft','buildingclasstypeid','decktypeid','finishedsquarefeet13','finishedsquarefeet15',\n",
        "                 'finishedsquarefeet6','hashottuborspa','poolsizesum','pooltypeid10','pooltypeid2','storytypeid',\n",
        "                 'typeconstructiontypeid','yardbuildingsqft17','yardbuildingsqft26','fireplaceflag','taxdelinquencyflag','taxdelinquencyyear']"
      ],
      "metadata": {
        "id": "51twtxJQiNAE"
      },
      "execution_count": null,
      "outputs": []
    },
    {
      "cell_type": "code",
      "source": [
        "train_2016.drop(['architecturalstyletypeid','basementsqft','buildingclasstypeid','decktypeid','finishedsquarefeet13','finishedsquarefeet15',\n",
        "                 'finishedsquarefeet6','hashottuborspa','poolsizesum','pooltypeid10','pooltypeid2','storytypeid',\n",
        "                 'typeconstructiontypeid','yardbuildingsqft17','yardbuildingsqft26','fireplaceflag','taxdelinquencyflag','taxdelinquencyyear'],axis=1,inplace = True)"
      ],
      "metadata": {
        "id": "k6hJF1c_m7Oe"
      },
      "execution_count": null,
      "outputs": []
    },
    {
      "cell_type": "code",
      "source": [
        "train_2016.shape"
      ],
      "metadata": {
        "colab": {
          "base_uri": "https://localhost:8080/"
        },
        "id": "sLF7MkA_nF3k",
        "outputId": "67df8f6f-ac68-4ad6-c133-1ea7cd114bf7"
      },
      "execution_count": null,
      "outputs": [
        {
          "output_type": "execute_result",
          "data": {
            "text/plain": [
              "(88465, 42)"
            ]
          },
          "metadata": {},
          "execution_count": 16
        }
      ]
    },
    {
      "cell_type": "code",
      "source": [
        "train_2016.shape"
      ],
      "metadata": {
        "colab": {
          "base_uri": "https://localhost:8080/"
        },
        "id": "xuX5SzA8mTXs",
        "outputId": "867e5849-b759-4a9e-fbaa-b243795fe908"
      },
      "execution_count": null,
      "outputs": [
        {
          "output_type": "execute_result",
          "data": {
            "text/plain": [
              "(88465, 42)"
            ]
          },
          "metadata": {},
          "execution_count": 17
        }
      ]
    },
    {
      "cell_type": "markdown",
      "source": [
        "parcelid, transactiondate: This variable is not available when trying to predict target variable logerror\n",
        "\n",
        "\n"
      ],
      "metadata": {
        "id": "Z7HrB8MCn5a2"
      }
    },
    {
      "cell_type": "code",
      "source": [
        "train_2016.drop(['parcelid','transactiondate'],axis =1,inplace = True)"
      ],
      "metadata": {
        "id": "f2ygoptMompt"
      },
      "execution_count": null,
      "outputs": []
    },
    {
      "cell_type": "code",
      "source": [
        "train_2016.shape"
      ],
      "metadata": {
        "colab": {
          "base_uri": "https://localhost:8080/"
        },
        "id": "C8Z9L0UXkZS0",
        "outputId": "84872757-153d-41f0-a2d7-9010b923d22a"
      },
      "execution_count": null,
      "outputs": [
        {
          "output_type": "execute_result",
          "data": {
            "text/plain": [
              "(88465, 40)"
            ]
          },
          "metadata": {},
          "execution_count": 19
        }
      ]
    },
    {
      "cell_type": "code",
      "source": [
        "missing_df = train_2016.isnull().sum(axis=0).reset_index()\n",
        "missing_df.columns = ['featureName','count']\n",
        "missing_df = missing_df.loc[missing_df['count'] > 0] \n",
        "missing_df = missing_df.sort_values(by='count')     "
      ],
      "metadata": {
        "id": "It2f9JLkp0Sr"
      },
      "execution_count": null,
      "outputs": []
    },
    {
      "cell_type": "code",
      "source": [
        "\n",
        "missing_df['lossvalueRate'] = missing_df['count']/train_2016.shape[0]\n",
        "missing_df"
      ],
      "metadata": {
        "colab": {
          "base_uri": "https://localhost:8080/",
          "height": 959
        },
        "id": "Zh7Ct8RuqR0W",
        "outputId": "b47685b3-810b-4d43-ee24-a24784dff7e9"
      },
      "execution_count": null,
      "outputs": [
        {
          "output_type": "execute_result",
          "data": {
            "text/plain": [
              "                     featureName  count  lossvalueRate\n",
              "37         landtaxvaluedollarcnt      1       0.000011\n",
              "35             taxvaluedollarcnt      1       0.000011\n",
              "21     propertycountylandusecode      1       0.000011\n",
              "38                     taxamount      6       0.000068\n",
              "28                   regionidzip     32       0.000362\n",
              "34    structuretaxvaluedollarcnt    351       0.003968\n",
              "39           censustractandblock    579       0.006545\n",
              "7   calculatedfinishedsquarefeet    614       0.006941\n",
              "32                     yearbuilt    703       0.007947\n",
              "5              calculatedbathnbr   1088       0.012299\n",
              "12                   fullbathcnt   1088       0.012299\n",
              "25                  regionidcity   1771       0.020019\n",
              "8           finishedsquarefeet12   4378       0.049488\n",
              "18             lotsizesquarefeet  10018       0.113243\n",
              "31                       unitcnt  31491       0.355971\n",
              "23            propertyzoningdesc  31545       0.356582\n",
              "4          buildingqualitytypeid  32410       0.366360\n",
              "15         heatingorsystemtypeid  33501       0.378692\n",
              "27          regionidneighborhood  53301       0.602509\n",
              "13                  garagecarcnt  58865       0.665404\n",
              "14               garagetotalsqft  58865       0.665404\n",
              "1          airconditioningtypeid  60089       0.679240\n",
              "33               numberofstories  68206       0.770994\n",
              "19                       poolcnt  70875       0.801164\n",
              "20                   pooltypeid7  72057       0.814526\n",
              "30           threequarterbathnbr  76579       0.865642\n",
              "11                  fireplacecnt  78980       0.892782\n",
              "9           finishedsquarefeet50  81700       0.923529\n",
              "6       finishedfloor1squarefeet  81700       0.923529"
            ],
            "text/html": [
              "\n",
              "  <div id=\"df-eae08cde-9ed5-408e-aaf4-b988de810bef\">\n",
              "    <div class=\"colab-df-container\">\n",
              "      <div>\n",
              "<style scoped>\n",
              "    .dataframe tbody tr th:only-of-type {\n",
              "        vertical-align: middle;\n",
              "    }\n",
              "\n",
              "    .dataframe tbody tr th {\n",
              "        vertical-align: top;\n",
              "    }\n",
              "\n",
              "    .dataframe thead th {\n",
              "        text-align: right;\n",
              "    }\n",
              "</style>\n",
              "<table border=\"1\" class=\"dataframe\">\n",
              "  <thead>\n",
              "    <tr style=\"text-align: right;\">\n",
              "      <th></th>\n",
              "      <th>featureName</th>\n",
              "      <th>count</th>\n",
              "      <th>lossvalueRate</th>\n",
              "    </tr>\n",
              "  </thead>\n",
              "  <tbody>\n",
              "    <tr>\n",
              "      <th>37</th>\n",
              "      <td>landtaxvaluedollarcnt</td>\n",
              "      <td>1</td>\n",
              "      <td>0.000011</td>\n",
              "    </tr>\n",
              "    <tr>\n",
              "      <th>35</th>\n",
              "      <td>taxvaluedollarcnt</td>\n",
              "      <td>1</td>\n",
              "      <td>0.000011</td>\n",
              "    </tr>\n",
              "    <tr>\n",
              "      <th>21</th>\n",
              "      <td>propertycountylandusecode</td>\n",
              "      <td>1</td>\n",
              "      <td>0.000011</td>\n",
              "    </tr>\n",
              "    <tr>\n",
              "      <th>38</th>\n",
              "      <td>taxamount</td>\n",
              "      <td>6</td>\n",
              "      <td>0.000068</td>\n",
              "    </tr>\n",
              "    <tr>\n",
              "      <th>28</th>\n",
              "      <td>regionidzip</td>\n",
              "      <td>32</td>\n",
              "      <td>0.000362</td>\n",
              "    </tr>\n",
              "    <tr>\n",
              "      <th>34</th>\n",
              "      <td>structuretaxvaluedollarcnt</td>\n",
              "      <td>351</td>\n",
              "      <td>0.003968</td>\n",
              "    </tr>\n",
              "    <tr>\n",
              "      <th>39</th>\n",
              "      <td>censustractandblock</td>\n",
              "      <td>579</td>\n",
              "      <td>0.006545</td>\n",
              "    </tr>\n",
              "    <tr>\n",
              "      <th>7</th>\n",
              "      <td>calculatedfinishedsquarefeet</td>\n",
              "      <td>614</td>\n",
              "      <td>0.006941</td>\n",
              "    </tr>\n",
              "    <tr>\n",
              "      <th>32</th>\n",
              "      <td>yearbuilt</td>\n",
              "      <td>703</td>\n",
              "      <td>0.007947</td>\n",
              "    </tr>\n",
              "    <tr>\n",
              "      <th>5</th>\n",
              "      <td>calculatedbathnbr</td>\n",
              "      <td>1088</td>\n",
              "      <td>0.012299</td>\n",
              "    </tr>\n",
              "    <tr>\n",
              "      <th>12</th>\n",
              "      <td>fullbathcnt</td>\n",
              "      <td>1088</td>\n",
              "      <td>0.012299</td>\n",
              "    </tr>\n",
              "    <tr>\n",
              "      <th>25</th>\n",
              "      <td>regionidcity</td>\n",
              "      <td>1771</td>\n",
              "      <td>0.020019</td>\n",
              "    </tr>\n",
              "    <tr>\n",
              "      <th>8</th>\n",
              "      <td>finishedsquarefeet12</td>\n",
              "      <td>4378</td>\n",
              "      <td>0.049488</td>\n",
              "    </tr>\n",
              "    <tr>\n",
              "      <th>18</th>\n",
              "      <td>lotsizesquarefeet</td>\n",
              "      <td>10018</td>\n",
              "      <td>0.113243</td>\n",
              "    </tr>\n",
              "    <tr>\n",
              "      <th>31</th>\n",
              "      <td>unitcnt</td>\n",
              "      <td>31491</td>\n",
              "      <td>0.355971</td>\n",
              "    </tr>\n",
              "    <tr>\n",
              "      <th>23</th>\n",
              "      <td>propertyzoningdesc</td>\n",
              "      <td>31545</td>\n",
              "      <td>0.356582</td>\n",
              "    </tr>\n",
              "    <tr>\n",
              "      <th>4</th>\n",
              "      <td>buildingqualitytypeid</td>\n",
              "      <td>32410</td>\n",
              "      <td>0.366360</td>\n",
              "    </tr>\n",
              "    <tr>\n",
              "      <th>15</th>\n",
              "      <td>heatingorsystemtypeid</td>\n",
              "      <td>33501</td>\n",
              "      <td>0.378692</td>\n",
              "    </tr>\n",
              "    <tr>\n",
              "      <th>27</th>\n",
              "      <td>regionidneighborhood</td>\n",
              "      <td>53301</td>\n",
              "      <td>0.602509</td>\n",
              "    </tr>\n",
              "    <tr>\n",
              "      <th>13</th>\n",
              "      <td>garagecarcnt</td>\n",
              "      <td>58865</td>\n",
              "      <td>0.665404</td>\n",
              "    </tr>\n",
              "    <tr>\n",
              "      <th>14</th>\n",
              "      <td>garagetotalsqft</td>\n",
              "      <td>58865</td>\n",
              "      <td>0.665404</td>\n",
              "    </tr>\n",
              "    <tr>\n",
              "      <th>1</th>\n",
              "      <td>airconditioningtypeid</td>\n",
              "      <td>60089</td>\n",
              "      <td>0.679240</td>\n",
              "    </tr>\n",
              "    <tr>\n",
              "      <th>33</th>\n",
              "      <td>numberofstories</td>\n",
              "      <td>68206</td>\n",
              "      <td>0.770994</td>\n",
              "    </tr>\n",
              "    <tr>\n",
              "      <th>19</th>\n",
              "      <td>poolcnt</td>\n",
              "      <td>70875</td>\n",
              "      <td>0.801164</td>\n",
              "    </tr>\n",
              "    <tr>\n",
              "      <th>20</th>\n",
              "      <td>pooltypeid7</td>\n",
              "      <td>72057</td>\n",
              "      <td>0.814526</td>\n",
              "    </tr>\n",
              "    <tr>\n",
              "      <th>30</th>\n",
              "      <td>threequarterbathnbr</td>\n",
              "      <td>76579</td>\n",
              "      <td>0.865642</td>\n",
              "    </tr>\n",
              "    <tr>\n",
              "      <th>11</th>\n",
              "      <td>fireplacecnt</td>\n",
              "      <td>78980</td>\n",
              "      <td>0.892782</td>\n",
              "    </tr>\n",
              "    <tr>\n",
              "      <th>9</th>\n",
              "      <td>finishedsquarefeet50</td>\n",
              "      <td>81700</td>\n",
              "      <td>0.923529</td>\n",
              "    </tr>\n",
              "    <tr>\n",
              "      <th>6</th>\n",
              "      <td>finishedfloor1squarefeet</td>\n",
              "      <td>81700</td>\n",
              "      <td>0.923529</td>\n",
              "    </tr>\n",
              "  </tbody>\n",
              "</table>\n",
              "</div>\n",
              "      <button class=\"colab-df-convert\" onclick=\"convertToInteractive('df-eae08cde-9ed5-408e-aaf4-b988de810bef')\"\n",
              "              title=\"Convert this dataframe to an interactive table.\"\n",
              "              style=\"display:none;\">\n",
              "        \n",
              "  <svg xmlns=\"http://www.w3.org/2000/svg\" height=\"24px\"viewBox=\"0 0 24 24\"\n",
              "       width=\"24px\">\n",
              "    <path d=\"M0 0h24v24H0V0z\" fill=\"none\"/>\n",
              "    <path d=\"M18.56 5.44l.94 2.06.94-2.06 2.06-.94-2.06-.94-.94-2.06-.94 2.06-2.06.94zm-11 1L8.5 8.5l.94-2.06 2.06-.94-2.06-.94L8.5 2.5l-.94 2.06-2.06.94zm10 10l.94 2.06.94-2.06 2.06-.94-2.06-.94-.94-2.06-.94 2.06-2.06.94z\"/><path d=\"M17.41 7.96l-1.37-1.37c-.4-.4-.92-.59-1.43-.59-.52 0-1.04.2-1.43.59L10.3 9.45l-7.72 7.72c-.78.78-.78 2.05 0 2.83L4 21.41c.39.39.9.59 1.41.59.51 0 1.02-.2 1.41-.59l7.78-7.78 2.81-2.81c.8-.78.8-2.07 0-2.86zM5.41 20L4 18.59l7.72-7.72 1.47 1.35L5.41 20z\"/>\n",
              "  </svg>\n",
              "      </button>\n",
              "      \n",
              "  <style>\n",
              "    .colab-df-container {\n",
              "      display:flex;\n",
              "      flex-wrap:wrap;\n",
              "      gap: 12px;\n",
              "    }\n",
              "\n",
              "    .colab-df-convert {\n",
              "      background-color: #E8F0FE;\n",
              "      border: none;\n",
              "      border-radius: 50%;\n",
              "      cursor: pointer;\n",
              "      display: none;\n",
              "      fill: #1967D2;\n",
              "      height: 32px;\n",
              "      padding: 0 0 0 0;\n",
              "      width: 32px;\n",
              "    }\n",
              "\n",
              "    .colab-df-convert:hover {\n",
              "      background-color: #E2EBFA;\n",
              "      box-shadow: 0px 1px 2px rgba(60, 64, 67, 0.3), 0px 1px 3px 1px rgba(60, 64, 67, 0.15);\n",
              "      fill: #174EA6;\n",
              "    }\n",
              "\n",
              "    [theme=dark] .colab-df-convert {\n",
              "      background-color: #3B4455;\n",
              "      fill: #D2E3FC;\n",
              "    }\n",
              "\n",
              "    [theme=dark] .colab-df-convert:hover {\n",
              "      background-color: #434B5C;\n",
              "      box-shadow: 0px 1px 3px 1px rgba(0, 0, 0, 0.15);\n",
              "      filter: drop-shadow(0px 1px 2px rgba(0, 0, 0, 0.3));\n",
              "      fill: #FFFFFF;\n",
              "    }\n",
              "  </style>\n",
              "\n",
              "      <script>\n",
              "        const buttonEl =\n",
              "          document.querySelector('#df-eae08cde-9ed5-408e-aaf4-b988de810bef button.colab-df-convert');\n",
              "        buttonEl.style.display =\n",
              "          google.colab.kernel.accessAllowed ? 'block' : 'none';\n",
              "\n",
              "        async function convertToInteractive(key) {\n",
              "          const element = document.querySelector('#df-eae08cde-9ed5-408e-aaf4-b988de810bef');\n",
              "          const dataTable =\n",
              "            await google.colab.kernel.invokeFunction('convertToInteractive',\n",
              "                                                     [key], {});\n",
              "          if (!dataTable) return;\n",
              "\n",
              "          const docLinkHtml = 'Like what you see? Visit the ' +\n",
              "            '<a target=\"_blank\" href=https://colab.research.google.com/notebooks/data_table.ipynb>data table notebook</a>'\n",
              "            + ' to learn more about interactive tables.';\n",
              "          element.innerHTML = '';\n",
              "          dataTable['output_type'] = 'display_data';\n",
              "          await google.colab.output.renderOutput(dataTable, element);\n",
              "          const docLink = document.createElement('div');\n",
              "          docLink.innerHTML = docLinkHtml;\n",
              "          element.appendChild(docLink);\n",
              "        }\n",
              "      </script>\n",
              "    </div>\n",
              "  </div>\n",
              "  "
            ]
          },
          "metadata": {},
          "execution_count": 21
        }
      ]
    },
    {
      "cell_type": "markdown",
      "source": [
        "We also need to know which feature only have unique value since only the feature who has unique value would have very low variance (0 variance )"
      ],
      "metadata": {
        "id": "-v-xA3J4Rfrf"
      }
    },
    {
      "cell_type": "markdown",
      "source": [
        "Deal with category data "
      ],
      "metadata": {
        "id": "GMV-eGdfpxhQ"
      }
    },
    {
      "cell_type": "markdown",
      "source": [
        "Firstly we need to know the circumstance in the left dataset "
      ],
      "metadata": {
        "id": "geJtcmANrOKG"
      }
    },
    {
      "cell_type": "code",
      "source": [
        "train_2016.shape"
      ],
      "metadata": {
        "colab": {
          "base_uri": "https://localhost:8080/"
        },
        "id": "5Da_nbWvrT-_",
        "outputId": "38d1a571-fc24-4256-b28e-7844cc4817b6"
      },
      "execution_count": null,
      "outputs": [
        {
          "output_type": "execute_result",
          "data": {
            "text/plain": [
              "(88465, 40)"
            ]
          },
          "metadata": {},
          "execution_count": 22
        }
      ]
    },
    {
      "cell_type": "code",
      "source": [
        "train_2016.head()"
      ],
      "metadata": {
        "colab": {
          "base_uri": "https://localhost:8080/",
          "height": 299
        },
        "id": "58WLXy6wrsnZ",
        "outputId": "fd7f7ad3-56c2-474b-be36-314c8d27cedf"
      },
      "execution_count": null,
      "outputs": [
        {
          "output_type": "execute_result",
          "data": {
            "text/plain": [
              "   logerror  airconditioningtypeid  bathroomcnt  bedroomcnt  \\\n",
              "0    0.0276                    1.0          2.0         3.0   \n",
              "1   -0.1684                    NaN          3.5         4.0   \n",
              "2   -0.0040                    1.0          3.0         2.0   \n",
              "3    0.0218                    1.0          2.0         2.0   \n",
              "4   -0.0050                    NaN          2.5         4.0   \n",
              "\n",
              "   buildingqualitytypeid  calculatedbathnbr  finishedfloor1squarefeet  \\\n",
              "0                    4.0                2.0                       NaN   \n",
              "1                    NaN                3.5                       NaN   \n",
              "2                    4.0                3.0                       NaN   \n",
              "3                    4.0                2.0                       NaN   \n",
              "4                    NaN                2.5                       NaN   \n",
              "\n",
              "   calculatedfinishedsquarefeet  finishedsquarefeet12  finishedsquarefeet50  \\\n",
              "0                        1684.0                1684.0                   NaN   \n",
              "1                        2263.0                2263.0                   NaN   \n",
              "2                        2217.0                2217.0                   NaN   \n",
              "3                         839.0                 839.0                   NaN   \n",
              "4                        2283.0                2283.0                   NaN   \n",
              "\n",
              "   ...  threequarterbathnbr  unitcnt  yearbuilt  numberofstories  \\\n",
              "0  ...                  NaN      1.0     1959.0              NaN   \n",
              "1  ...                  1.0      NaN     2014.0              NaN   \n",
              "2  ...                  NaN      1.0     1940.0              NaN   \n",
              "3  ...                  NaN      1.0     1987.0              NaN   \n",
              "4  ...                  1.0      NaN     1981.0              2.0   \n",
              "\n",
              "   structuretaxvaluedollarcnt  taxvaluedollarcnt  assessmentyear  \\\n",
              "0                    122754.0           360170.0          2015.0   \n",
              "1                    346458.0           585529.0          2015.0   \n",
              "2                     61994.0           119906.0          2015.0   \n",
              "3                    171518.0           244880.0          2015.0   \n",
              "4                    169574.0           434551.0          2015.0   \n",
              "\n",
              "   landtaxvaluedollarcnt  taxamount  censustractandblock  \n",
              "0               237416.0    6735.88         6.037107e+13  \n",
              "1               239071.0   10153.02                  NaN  \n",
              "2                57912.0   11484.48         6.037464e+13  \n",
              "3                73362.0    3048.74         6.037296e+13  \n",
              "4               264977.0    5488.96         6.059042e+13  \n",
              "\n",
              "[5 rows x 40 columns]"
            ],
            "text/html": [
              "\n",
              "  <div id=\"df-a62b7cdd-6821-432a-a9dc-7a5719e2677a\">\n",
              "    <div class=\"colab-df-container\">\n",
              "      <div>\n",
              "<style scoped>\n",
              "    .dataframe tbody tr th:only-of-type {\n",
              "        vertical-align: middle;\n",
              "    }\n",
              "\n",
              "    .dataframe tbody tr th {\n",
              "        vertical-align: top;\n",
              "    }\n",
              "\n",
              "    .dataframe thead th {\n",
              "        text-align: right;\n",
              "    }\n",
              "</style>\n",
              "<table border=\"1\" class=\"dataframe\">\n",
              "  <thead>\n",
              "    <tr style=\"text-align: right;\">\n",
              "      <th></th>\n",
              "      <th>logerror</th>\n",
              "      <th>airconditioningtypeid</th>\n",
              "      <th>bathroomcnt</th>\n",
              "      <th>bedroomcnt</th>\n",
              "      <th>buildingqualitytypeid</th>\n",
              "      <th>calculatedbathnbr</th>\n",
              "      <th>finishedfloor1squarefeet</th>\n",
              "      <th>calculatedfinishedsquarefeet</th>\n",
              "      <th>finishedsquarefeet12</th>\n",
              "      <th>finishedsquarefeet50</th>\n",
              "      <th>...</th>\n",
              "      <th>threequarterbathnbr</th>\n",
              "      <th>unitcnt</th>\n",
              "      <th>yearbuilt</th>\n",
              "      <th>numberofstories</th>\n",
              "      <th>structuretaxvaluedollarcnt</th>\n",
              "      <th>taxvaluedollarcnt</th>\n",
              "      <th>assessmentyear</th>\n",
              "      <th>landtaxvaluedollarcnt</th>\n",
              "      <th>taxamount</th>\n",
              "      <th>censustractandblock</th>\n",
              "    </tr>\n",
              "  </thead>\n",
              "  <tbody>\n",
              "    <tr>\n",
              "      <th>0</th>\n",
              "      <td>0.0276</td>\n",
              "      <td>1.0</td>\n",
              "      <td>2.0</td>\n",
              "      <td>3.0</td>\n",
              "      <td>4.0</td>\n",
              "      <td>2.0</td>\n",
              "      <td>NaN</td>\n",
              "      <td>1684.0</td>\n",
              "      <td>1684.0</td>\n",
              "      <td>NaN</td>\n",
              "      <td>...</td>\n",
              "      <td>NaN</td>\n",
              "      <td>1.0</td>\n",
              "      <td>1959.0</td>\n",
              "      <td>NaN</td>\n",
              "      <td>122754.0</td>\n",
              "      <td>360170.0</td>\n",
              "      <td>2015.0</td>\n",
              "      <td>237416.0</td>\n",
              "      <td>6735.88</td>\n",
              "      <td>6.037107e+13</td>\n",
              "    </tr>\n",
              "    <tr>\n",
              "      <th>1</th>\n",
              "      <td>-0.1684</td>\n",
              "      <td>NaN</td>\n",
              "      <td>3.5</td>\n",
              "      <td>4.0</td>\n",
              "      <td>NaN</td>\n",
              "      <td>3.5</td>\n",
              "      <td>NaN</td>\n",
              "      <td>2263.0</td>\n",
              "      <td>2263.0</td>\n",
              "      <td>NaN</td>\n",
              "      <td>...</td>\n",
              "      <td>1.0</td>\n",
              "      <td>NaN</td>\n",
              "      <td>2014.0</td>\n",
              "      <td>NaN</td>\n",
              "      <td>346458.0</td>\n",
              "      <td>585529.0</td>\n",
              "      <td>2015.0</td>\n",
              "      <td>239071.0</td>\n",
              "      <td>10153.02</td>\n",
              "      <td>NaN</td>\n",
              "    </tr>\n",
              "    <tr>\n",
              "      <th>2</th>\n",
              "      <td>-0.0040</td>\n",
              "      <td>1.0</td>\n",
              "      <td>3.0</td>\n",
              "      <td>2.0</td>\n",
              "      <td>4.0</td>\n",
              "      <td>3.0</td>\n",
              "      <td>NaN</td>\n",
              "      <td>2217.0</td>\n",
              "      <td>2217.0</td>\n",
              "      <td>NaN</td>\n",
              "      <td>...</td>\n",
              "      <td>NaN</td>\n",
              "      <td>1.0</td>\n",
              "      <td>1940.0</td>\n",
              "      <td>NaN</td>\n",
              "      <td>61994.0</td>\n",
              "      <td>119906.0</td>\n",
              "      <td>2015.0</td>\n",
              "      <td>57912.0</td>\n",
              "      <td>11484.48</td>\n",
              "      <td>6.037464e+13</td>\n",
              "    </tr>\n",
              "    <tr>\n",
              "      <th>3</th>\n",
              "      <td>0.0218</td>\n",
              "      <td>1.0</td>\n",
              "      <td>2.0</td>\n",
              "      <td>2.0</td>\n",
              "      <td>4.0</td>\n",
              "      <td>2.0</td>\n",
              "      <td>NaN</td>\n",
              "      <td>839.0</td>\n",
              "      <td>839.0</td>\n",
              "      <td>NaN</td>\n",
              "      <td>...</td>\n",
              "      <td>NaN</td>\n",
              "      <td>1.0</td>\n",
              "      <td>1987.0</td>\n",
              "      <td>NaN</td>\n",
              "      <td>171518.0</td>\n",
              "      <td>244880.0</td>\n",
              "      <td>2015.0</td>\n",
              "      <td>73362.0</td>\n",
              "      <td>3048.74</td>\n",
              "      <td>6.037296e+13</td>\n",
              "    </tr>\n",
              "    <tr>\n",
              "      <th>4</th>\n",
              "      <td>-0.0050</td>\n",
              "      <td>NaN</td>\n",
              "      <td>2.5</td>\n",
              "      <td>4.0</td>\n",
              "      <td>NaN</td>\n",
              "      <td>2.5</td>\n",
              "      <td>NaN</td>\n",
              "      <td>2283.0</td>\n",
              "      <td>2283.0</td>\n",
              "      <td>NaN</td>\n",
              "      <td>...</td>\n",
              "      <td>1.0</td>\n",
              "      <td>NaN</td>\n",
              "      <td>1981.0</td>\n",
              "      <td>2.0</td>\n",
              "      <td>169574.0</td>\n",
              "      <td>434551.0</td>\n",
              "      <td>2015.0</td>\n",
              "      <td>264977.0</td>\n",
              "      <td>5488.96</td>\n",
              "      <td>6.059042e+13</td>\n",
              "    </tr>\n",
              "  </tbody>\n",
              "</table>\n",
              "<p>5 rows × 40 columns</p>\n",
              "</div>\n",
              "      <button class=\"colab-df-convert\" onclick=\"convertToInteractive('df-a62b7cdd-6821-432a-a9dc-7a5719e2677a')\"\n",
              "              title=\"Convert this dataframe to an interactive table.\"\n",
              "              style=\"display:none;\">\n",
              "        \n",
              "  <svg xmlns=\"http://www.w3.org/2000/svg\" height=\"24px\"viewBox=\"0 0 24 24\"\n",
              "       width=\"24px\">\n",
              "    <path d=\"M0 0h24v24H0V0z\" fill=\"none\"/>\n",
              "    <path d=\"M18.56 5.44l.94 2.06.94-2.06 2.06-.94-2.06-.94-.94-2.06-.94 2.06-2.06.94zm-11 1L8.5 8.5l.94-2.06 2.06-.94-2.06-.94L8.5 2.5l-.94 2.06-2.06.94zm10 10l.94 2.06.94-2.06 2.06-.94-2.06-.94-.94-2.06-.94 2.06-2.06.94z\"/><path d=\"M17.41 7.96l-1.37-1.37c-.4-.4-.92-.59-1.43-.59-.52 0-1.04.2-1.43.59L10.3 9.45l-7.72 7.72c-.78.78-.78 2.05 0 2.83L4 21.41c.39.39.9.59 1.41.59.51 0 1.02-.2 1.41-.59l7.78-7.78 2.81-2.81c.8-.78.8-2.07 0-2.86zM5.41 20L4 18.59l7.72-7.72 1.47 1.35L5.41 20z\"/>\n",
              "  </svg>\n",
              "      </button>\n",
              "      \n",
              "  <style>\n",
              "    .colab-df-container {\n",
              "      display:flex;\n",
              "      flex-wrap:wrap;\n",
              "      gap: 12px;\n",
              "    }\n",
              "\n",
              "    .colab-df-convert {\n",
              "      background-color: #E8F0FE;\n",
              "      border: none;\n",
              "      border-radius: 50%;\n",
              "      cursor: pointer;\n",
              "      display: none;\n",
              "      fill: #1967D2;\n",
              "      height: 32px;\n",
              "      padding: 0 0 0 0;\n",
              "      width: 32px;\n",
              "    }\n",
              "\n",
              "    .colab-df-convert:hover {\n",
              "      background-color: #E2EBFA;\n",
              "      box-shadow: 0px 1px 2px rgba(60, 64, 67, 0.3), 0px 1px 3px 1px rgba(60, 64, 67, 0.15);\n",
              "      fill: #174EA6;\n",
              "    }\n",
              "\n",
              "    [theme=dark] .colab-df-convert {\n",
              "      background-color: #3B4455;\n",
              "      fill: #D2E3FC;\n",
              "    }\n",
              "\n",
              "    [theme=dark] .colab-df-convert:hover {\n",
              "      background-color: #434B5C;\n",
              "      box-shadow: 0px 1px 3px 1px rgba(0, 0, 0, 0.15);\n",
              "      filter: drop-shadow(0px 1px 2px rgba(0, 0, 0, 0.3));\n",
              "      fill: #FFFFFF;\n",
              "    }\n",
              "  </style>\n",
              "\n",
              "      <script>\n",
              "        const buttonEl =\n",
              "          document.querySelector('#df-a62b7cdd-6821-432a-a9dc-7a5719e2677a button.colab-df-convert');\n",
              "        buttonEl.style.display =\n",
              "          google.colab.kernel.accessAllowed ? 'block' : 'none';\n",
              "\n",
              "        async function convertToInteractive(key) {\n",
              "          const element = document.querySelector('#df-a62b7cdd-6821-432a-a9dc-7a5719e2677a');\n",
              "          const dataTable =\n",
              "            await google.colab.kernel.invokeFunction('convertToInteractive',\n",
              "                                                     [key], {});\n",
              "          if (!dataTable) return;\n",
              "\n",
              "          const docLinkHtml = 'Like what you see? Visit the ' +\n",
              "            '<a target=\"_blank\" href=https://colab.research.google.com/notebooks/data_table.ipynb>data table notebook</a>'\n",
              "            + ' to learn more about interactive tables.';\n",
              "          element.innerHTML = '';\n",
              "          dataTable['output_type'] = 'display_data';\n",
              "          await google.colab.output.renderOutput(dataTable, element);\n",
              "          const docLink = document.createElement('div');\n",
              "          docLink.innerHTML = docLinkHtml;\n",
              "          element.appendChild(docLink);\n",
              "        }\n",
              "      </script>\n",
              "    </div>\n",
              "  </div>\n",
              "  "
            ]
          },
          "metadata": {},
          "execution_count": 23
        }
      ]
    },
    {
      "cell_type": "code",
      "source": [
        "from pandas._libs.tslibs import dtypes\n",
        "train_2016.dtypes"
      ],
      "metadata": {
        "colab": {
          "base_uri": "https://localhost:8080/"
        },
        "id": "rB4ELoKwukBT",
        "outputId": "80f05520-f06f-4056-a3be-2395cd8313a0"
      },
      "execution_count": null,
      "outputs": [
        {
          "output_type": "execute_result",
          "data": {
            "text/plain": [
              "logerror                        float64\n",
              "airconditioningtypeid           float64\n",
              "bathroomcnt                     float64\n",
              "bedroomcnt                      float64\n",
              "buildingqualitytypeid           float64\n",
              "calculatedbathnbr               float64\n",
              "finishedfloor1squarefeet        float64\n",
              "calculatedfinishedsquarefeet    float64\n",
              "finishedsquarefeet12            float64\n",
              "finishedsquarefeet50            float64\n",
              "fips                            float64\n",
              "fireplacecnt                    float64\n",
              "fullbathcnt                     float64\n",
              "garagecarcnt                    float64\n",
              "garagetotalsqft                 float64\n",
              "heatingorsystemtypeid           float64\n",
              "latitude                        float64\n",
              "longitude                       float64\n",
              "lotsizesquarefeet               float64\n",
              "poolcnt                         float64\n",
              "pooltypeid7                     float64\n",
              "propertycountylandusecode        object\n",
              "propertylandusetypeid           float64\n",
              "propertyzoningdesc               object\n",
              "rawcensustractandblock          float64\n",
              "regionidcity                    float64\n",
              "regionidcounty                  float64\n",
              "regionidneighborhood            float64\n",
              "regionidzip                     float64\n",
              "roomcnt                         float64\n",
              "threequarterbathnbr             float64\n",
              "unitcnt                         float64\n",
              "yearbuilt                       float64\n",
              "numberofstories                 float64\n",
              "structuretaxvaluedollarcnt      float64\n",
              "taxvaluedollarcnt               float64\n",
              "assessmentyear                  float64\n",
              "landtaxvaluedollarcnt           float64\n",
              "taxamount                       float64\n",
              "censustractandblock             float64\n",
              "dtype: object"
            ]
          },
          "metadata": {},
          "execution_count": 25
        }
      ]
    },
    {
      "cell_type": "markdown",
      "source": [
        "There are two category data now ( propertycountylandusecode,propertyzoningdesc)"
      ],
      "metadata": {
        "id": "0KiNhqXOwWA-"
      }
    },
    {
      "cell_type": "markdown",
      "source": [
        "Cardinality of each feature"
      ],
      "metadata": {
        "id": "cdsJ9B4jvLoE"
      }
    },
    {
      "cell_type": "code",
      "source": [
        "AnalysisCardinalty = train_2016.copy()"
      ],
      "metadata": {
        "id": "RS72L5PovtG-"
      },
      "execution_count": null,
      "outputs": []
    },
    {
      "cell_type": "code",
      "source": [
        "AnalysisCardinalty.drop(['logerror'],axis = 1,inplace = True)"
      ],
      "metadata": {
        "id": "DUd-WLuUvx8G"
      },
      "execution_count": null,
      "outputs": []
    },
    {
      "cell_type": "code",
      "source": [
        "AnalysisCardinalty.nunique()"
      ],
      "metadata": {
        "colab": {
          "base_uri": "https://localhost:8080/"
        },
        "id": "x6EahQIPwqCE",
        "outputId": "25b6d9c1-7829-44c4-a35d-d3f1fc7f5642"
      },
      "execution_count": null,
      "outputs": [
        {
          "output_type": "execute_result",
          "data": {
            "text/plain": [
              "airconditioningtypeid               6\n",
              "bathroomcnt                        22\n",
              "bedroomcnt                         17\n",
              "buildingqualitytypeid               8\n",
              "calculatedbathnbr                  21\n",
              "finishedfloor1squarefeet         1873\n",
              "calculatedfinishedsquarefeet     5034\n",
              "finishedsquarefeet12             4915\n",
              "finishedsquarefeet50             1885\n",
              "fips                                3\n",
              "fireplacecnt                        5\n",
              "fullbathcnt                        13\n",
              "garagecarcnt                       13\n",
              "garagetotalsqft                   859\n",
              "heatingorsystemtypeid              12\n",
              "latitude                        71871\n",
              "longitude                       70449\n",
              "lotsizesquarefeet               19727\n",
              "poolcnt                             1\n",
              "pooltypeid7                         1\n",
              "propertycountylandusecode          71\n",
              "propertylandusetypeid              13\n",
              "propertyzoningdesc               1970\n",
              "rawcensustractandblock          41949\n",
              "regionidcity                      177\n",
              "regionidcounty                      3\n",
              "regionidneighborhood              494\n",
              "regionidzip                       388\n",
              "roomcnt                            17\n",
              "threequarterbathnbr                 4\n",
              "unitcnt                            10\n",
              "yearbuilt                         130\n",
              "numberofstories                     4\n",
              "structuretaxvaluedollarcnt      54623\n",
              "taxvaluedollarcnt               54810\n",
              "assessmentyear                      1\n",
              "landtaxvaluedollarcnt           56214\n",
              "taxamount                       83466\n",
              "censustractandblock             41721\n",
              "dtype: int64"
            ]
          },
          "metadata": {},
          "execution_count": 28
        }
      ]
    },
    {
      "cell_type": "markdown",
      "source": [
        "Curse of High demonality : since if we use one-hot encoder or any encoding algorithm :That is a totally diasdter .That is why I delete this feature and these two "
      ],
      "metadata": {
        "id": "30QuZXbBxliJ"
      }
    },
    {
      "cell_type": "markdown",
      "source": [
        "propertycountylandusecode          71\n",
        "propertyzoningdesc  1970"
      ],
      "metadata": {
        "id": "9-fAJ_7Sw4yH"
      }
    },
    {
      "cell_type": "markdown",
      "source": [
        "propertylandusetypeid already provides similar information. In addition, this variable has over 2300 unique values - drastically increasing dataset cardinality"
      ],
      "metadata": {
        "id": "9V7NbP6IxhGK"
      }
    },
    {
      "cell_type": "code",
      "source": [
        "train_2016.shape"
      ],
      "metadata": {
        "colab": {
          "base_uri": "https://localhost:8080/"
        },
        "id": "c8YHdJxOyo0T",
        "outputId": "ef5d9453-70d6-407b-a343-2a0f2340bf22"
      },
      "execution_count": null,
      "outputs": [
        {
          "output_type": "execute_result",
          "data": {
            "text/plain": [
              "(88465, 40)"
            ]
          },
          "metadata": {},
          "execution_count": 29
        }
      ]
    },
    {
      "cell_type": "code",
      "source": [
        ""
      ],
      "metadata": {
        "id": "wq1hZCAUy2Ul"
      },
      "execution_count": null,
      "outputs": []
    },
    {
      "cell_type": "code",
      "source": [
        "train_2016.drop(['propertycountylandusecode','propertyzoningdesc'],axis =1,inplace = True)"
      ],
      "metadata": {
        "id": "vqRz-llsyspZ"
      },
      "execution_count": null,
      "outputs": []
    },
    {
      "cell_type": "code",
      "source": [
        "train_2016.shape"
      ],
      "metadata": {
        "colab": {
          "base_uri": "https://localhost:8080/"
        },
        "id": "nEND8h2Yy2y1",
        "outputId": "83e2196d-2d2c-4f37-8a6e-09ec077db94c"
      },
      "execution_count": null,
      "outputs": [
        {
          "output_type": "execute_result",
          "data": {
            "text/plain": [
              "(88465, 38)"
            ]
          },
          "metadata": {},
          "execution_count": 31
        }
      ]
    },
    {
      "cell_type": "code",
      "source": [
        "from pandas._libs.tslibs import dtypes\n",
        "train_2016.dtypes"
      ],
      "metadata": {
        "colab": {
          "base_uri": "https://localhost:8080/"
        },
        "id": "OrprNOGdy7m0",
        "outputId": "96b8ce3f-1d81-4d64-86a3-f63e6be2721c"
      },
      "execution_count": null,
      "outputs": [
        {
          "output_type": "execute_result",
          "data": {
            "text/plain": [
              "logerror                        float64\n",
              "airconditioningtypeid           float64\n",
              "bathroomcnt                     float64\n",
              "bedroomcnt                      float64\n",
              "buildingqualitytypeid           float64\n",
              "calculatedbathnbr               float64\n",
              "finishedfloor1squarefeet        float64\n",
              "calculatedfinishedsquarefeet    float64\n",
              "finishedsquarefeet12            float64\n",
              "finishedsquarefeet50            float64\n",
              "fips                            float64\n",
              "fireplacecnt                    float64\n",
              "fullbathcnt                     float64\n",
              "garagecarcnt                    float64\n",
              "garagetotalsqft                 float64\n",
              "heatingorsystemtypeid           float64\n",
              "latitude                        float64\n",
              "longitude                       float64\n",
              "lotsizesquarefeet               float64\n",
              "poolcnt                         float64\n",
              "pooltypeid7                     float64\n",
              "propertylandusetypeid           float64\n",
              "rawcensustractandblock          float64\n",
              "regionidcity                    float64\n",
              "regionidcounty                  float64\n",
              "regionidneighborhood            float64\n",
              "regionidzip                     float64\n",
              "roomcnt                         float64\n",
              "threequarterbathnbr             float64\n",
              "unitcnt                         float64\n",
              "yearbuilt                       float64\n",
              "numberofstories                 float64\n",
              "structuretaxvaluedollarcnt      float64\n",
              "taxvaluedollarcnt               float64\n",
              "assessmentyear                  float64\n",
              "landtaxvaluedollarcnt           float64\n",
              "taxamount                       float64\n",
              "censustractandblock             float64\n",
              "dtype: object"
            ]
          },
          "metadata": {},
          "execution_count": 32
        }
      ]
    },
    {
      "cell_type": "code",
      "source": [
        "percent_missing = train_2016.isnull().sum() * 100 / len(train_2016)\n",
        "missing_value_df = pd.DataFrame({'column_name': train_2016.columns,\n",
        "                                 'percent_missing': percent_missing})"
      ],
      "metadata": {
        "id": "Xatx0QhmzYO8"
      },
      "execution_count": null,
      "outputs": []
    },
    {
      "cell_type": "code",
      "source": [
        "missing_value_df.sort_values('percent_missing', inplace=True)"
      ],
      "metadata": {
        "id": "mv8ZP4MLzkVA"
      },
      "execution_count": null,
      "outputs": []
    },
    {
      "cell_type": "code",
      "source": [
        "missing_value_df"
      ],
      "metadata": {
        "colab": {
          "base_uri": "https://localhost:8080/",
          "height": 1000
        },
        "id": "moeltE1azDkW",
        "outputId": "b72430d7-96c4-429a-edfd-be63ca62f6c7"
      },
      "execution_count": null,
      "outputs": [
        {
          "output_type": "execute_result",
          "data": {
            "text/plain": [
              "                                               column_name  percent_missing\n",
              "logerror                                          logerror         0.000000\n",
              "bathroomcnt                                    bathroomcnt         0.000000\n",
              "bedroomcnt                                      bedroomcnt         0.000000\n",
              "assessmentyear                              assessmentyear         0.000000\n",
              "roomcnt                                            roomcnt         0.000000\n",
              "regionidcounty                              regionidcounty         0.000000\n",
              "fips                                                  fips         0.000000\n",
              "rawcensustractandblock              rawcensustractandblock         0.000000\n",
              "propertylandusetypeid                propertylandusetypeid         0.000000\n",
              "longitude                                        longitude         0.000000\n",
              "latitude                                          latitude         0.000000\n",
              "landtaxvaluedollarcnt                landtaxvaluedollarcnt         0.001130\n",
              "taxvaluedollarcnt                        taxvaluedollarcnt         0.001130\n",
              "taxamount                                        taxamount         0.006782\n",
              "regionidzip                                    regionidzip         0.036172\n",
              "structuretaxvaluedollarcnt      structuretaxvaluedollarcnt         0.396767\n",
              "censustractandblock                    censustractandblock         0.654496\n",
              "calculatedfinishedsquarefeet  calculatedfinishedsquarefeet         0.694060\n",
              "yearbuilt                                        yearbuilt         0.794665\n",
              "calculatedbathnbr                        calculatedbathnbr         1.229865\n",
              "fullbathcnt                                    fullbathcnt         1.229865\n",
              "regionidcity                                  regionidcity         2.001922\n",
              "finishedsquarefeet12                  finishedsquarefeet12         4.948850\n",
              "lotsizesquarefeet                        lotsizesquarefeet        11.324253\n",
              "unitcnt                                            unitcnt        35.597129\n",
              "buildingqualitytypeid                buildingqualitytypeid        36.635958\n",
              "heatingorsystemtypeid                heatingorsystemtypeid        37.869214\n",
              "regionidneighborhood                  regionidneighborhood        60.250947\n",
              "garagecarcnt                                  garagecarcnt        66.540440\n",
              "garagetotalsqft                            garagetotalsqft        66.540440\n",
              "airconditioningtypeid                airconditioningtypeid        67.924038\n",
              "numberofstories                            numberofstories        77.099418\n",
              "poolcnt                                            poolcnt        80.116430\n",
              "pooltypeid7                                    pooltypeid7        81.452552\n",
              "threequarterbathnbr                    threequarterbathnbr        86.564178\n",
              "fireplacecnt                                  fireplacecnt        89.278246\n",
              "finishedsquarefeet50                  finishedsquarefeet50        92.352908\n",
              "finishedfloor1squarefeet          finishedfloor1squarefeet        92.352908"
            ],
            "text/html": [
              "\n",
              "  <div id=\"df-244f61a6-8555-4591-a641-18793d3bf470\">\n",
              "    <div class=\"colab-df-container\">\n",
              "      <div>\n",
              "<style scoped>\n",
              "    .dataframe tbody tr th:only-of-type {\n",
              "        vertical-align: middle;\n",
              "    }\n",
              "\n",
              "    .dataframe tbody tr th {\n",
              "        vertical-align: top;\n",
              "    }\n",
              "\n",
              "    .dataframe thead th {\n",
              "        text-align: right;\n",
              "    }\n",
              "</style>\n",
              "<table border=\"1\" class=\"dataframe\">\n",
              "  <thead>\n",
              "    <tr style=\"text-align: right;\">\n",
              "      <th></th>\n",
              "      <th>column_name</th>\n",
              "      <th>percent_missing</th>\n",
              "    </tr>\n",
              "  </thead>\n",
              "  <tbody>\n",
              "    <tr>\n",
              "      <th>logerror</th>\n",
              "      <td>logerror</td>\n",
              "      <td>0.000000</td>\n",
              "    </tr>\n",
              "    <tr>\n",
              "      <th>bathroomcnt</th>\n",
              "      <td>bathroomcnt</td>\n",
              "      <td>0.000000</td>\n",
              "    </tr>\n",
              "    <tr>\n",
              "      <th>bedroomcnt</th>\n",
              "      <td>bedroomcnt</td>\n",
              "      <td>0.000000</td>\n",
              "    </tr>\n",
              "    <tr>\n",
              "      <th>assessmentyear</th>\n",
              "      <td>assessmentyear</td>\n",
              "      <td>0.000000</td>\n",
              "    </tr>\n",
              "    <tr>\n",
              "      <th>roomcnt</th>\n",
              "      <td>roomcnt</td>\n",
              "      <td>0.000000</td>\n",
              "    </tr>\n",
              "    <tr>\n",
              "      <th>regionidcounty</th>\n",
              "      <td>regionidcounty</td>\n",
              "      <td>0.000000</td>\n",
              "    </tr>\n",
              "    <tr>\n",
              "      <th>fips</th>\n",
              "      <td>fips</td>\n",
              "      <td>0.000000</td>\n",
              "    </tr>\n",
              "    <tr>\n",
              "      <th>rawcensustractandblock</th>\n",
              "      <td>rawcensustractandblock</td>\n",
              "      <td>0.000000</td>\n",
              "    </tr>\n",
              "    <tr>\n",
              "      <th>propertylandusetypeid</th>\n",
              "      <td>propertylandusetypeid</td>\n",
              "      <td>0.000000</td>\n",
              "    </tr>\n",
              "    <tr>\n",
              "      <th>longitude</th>\n",
              "      <td>longitude</td>\n",
              "      <td>0.000000</td>\n",
              "    </tr>\n",
              "    <tr>\n",
              "      <th>latitude</th>\n",
              "      <td>latitude</td>\n",
              "      <td>0.000000</td>\n",
              "    </tr>\n",
              "    <tr>\n",
              "      <th>landtaxvaluedollarcnt</th>\n",
              "      <td>landtaxvaluedollarcnt</td>\n",
              "      <td>0.001130</td>\n",
              "    </tr>\n",
              "    <tr>\n",
              "      <th>taxvaluedollarcnt</th>\n",
              "      <td>taxvaluedollarcnt</td>\n",
              "      <td>0.001130</td>\n",
              "    </tr>\n",
              "    <tr>\n",
              "      <th>taxamount</th>\n",
              "      <td>taxamount</td>\n",
              "      <td>0.006782</td>\n",
              "    </tr>\n",
              "    <tr>\n",
              "      <th>regionidzip</th>\n",
              "      <td>regionidzip</td>\n",
              "      <td>0.036172</td>\n",
              "    </tr>\n",
              "    <tr>\n",
              "      <th>structuretaxvaluedollarcnt</th>\n",
              "      <td>structuretaxvaluedollarcnt</td>\n",
              "      <td>0.396767</td>\n",
              "    </tr>\n",
              "    <tr>\n",
              "      <th>censustractandblock</th>\n",
              "      <td>censustractandblock</td>\n",
              "      <td>0.654496</td>\n",
              "    </tr>\n",
              "    <tr>\n",
              "      <th>calculatedfinishedsquarefeet</th>\n",
              "      <td>calculatedfinishedsquarefeet</td>\n",
              "      <td>0.694060</td>\n",
              "    </tr>\n",
              "    <tr>\n",
              "      <th>yearbuilt</th>\n",
              "      <td>yearbuilt</td>\n",
              "      <td>0.794665</td>\n",
              "    </tr>\n",
              "    <tr>\n",
              "      <th>calculatedbathnbr</th>\n",
              "      <td>calculatedbathnbr</td>\n",
              "      <td>1.229865</td>\n",
              "    </tr>\n",
              "    <tr>\n",
              "      <th>fullbathcnt</th>\n",
              "      <td>fullbathcnt</td>\n",
              "      <td>1.229865</td>\n",
              "    </tr>\n",
              "    <tr>\n",
              "      <th>regionidcity</th>\n",
              "      <td>regionidcity</td>\n",
              "      <td>2.001922</td>\n",
              "    </tr>\n",
              "    <tr>\n",
              "      <th>finishedsquarefeet12</th>\n",
              "      <td>finishedsquarefeet12</td>\n",
              "      <td>4.948850</td>\n",
              "    </tr>\n",
              "    <tr>\n",
              "      <th>lotsizesquarefeet</th>\n",
              "      <td>lotsizesquarefeet</td>\n",
              "      <td>11.324253</td>\n",
              "    </tr>\n",
              "    <tr>\n",
              "      <th>unitcnt</th>\n",
              "      <td>unitcnt</td>\n",
              "      <td>35.597129</td>\n",
              "    </tr>\n",
              "    <tr>\n",
              "      <th>buildingqualitytypeid</th>\n",
              "      <td>buildingqualitytypeid</td>\n",
              "      <td>36.635958</td>\n",
              "    </tr>\n",
              "    <tr>\n",
              "      <th>heatingorsystemtypeid</th>\n",
              "      <td>heatingorsystemtypeid</td>\n",
              "      <td>37.869214</td>\n",
              "    </tr>\n",
              "    <tr>\n",
              "      <th>regionidneighborhood</th>\n",
              "      <td>regionidneighborhood</td>\n",
              "      <td>60.250947</td>\n",
              "    </tr>\n",
              "    <tr>\n",
              "      <th>garagecarcnt</th>\n",
              "      <td>garagecarcnt</td>\n",
              "      <td>66.540440</td>\n",
              "    </tr>\n",
              "    <tr>\n",
              "      <th>garagetotalsqft</th>\n",
              "      <td>garagetotalsqft</td>\n",
              "      <td>66.540440</td>\n",
              "    </tr>\n",
              "    <tr>\n",
              "      <th>airconditioningtypeid</th>\n",
              "      <td>airconditioningtypeid</td>\n",
              "      <td>67.924038</td>\n",
              "    </tr>\n",
              "    <tr>\n",
              "      <th>numberofstories</th>\n",
              "      <td>numberofstories</td>\n",
              "      <td>77.099418</td>\n",
              "    </tr>\n",
              "    <tr>\n",
              "      <th>poolcnt</th>\n",
              "      <td>poolcnt</td>\n",
              "      <td>80.116430</td>\n",
              "    </tr>\n",
              "    <tr>\n",
              "      <th>pooltypeid7</th>\n",
              "      <td>pooltypeid7</td>\n",
              "      <td>81.452552</td>\n",
              "    </tr>\n",
              "    <tr>\n",
              "      <th>threequarterbathnbr</th>\n",
              "      <td>threequarterbathnbr</td>\n",
              "      <td>86.564178</td>\n",
              "    </tr>\n",
              "    <tr>\n",
              "      <th>fireplacecnt</th>\n",
              "      <td>fireplacecnt</td>\n",
              "      <td>89.278246</td>\n",
              "    </tr>\n",
              "    <tr>\n",
              "      <th>finishedsquarefeet50</th>\n",
              "      <td>finishedsquarefeet50</td>\n",
              "      <td>92.352908</td>\n",
              "    </tr>\n",
              "    <tr>\n",
              "      <th>finishedfloor1squarefeet</th>\n",
              "      <td>finishedfloor1squarefeet</td>\n",
              "      <td>92.352908</td>\n",
              "    </tr>\n",
              "  </tbody>\n",
              "</table>\n",
              "</div>\n",
              "      <button class=\"colab-df-convert\" onclick=\"convertToInteractive('df-244f61a6-8555-4591-a641-18793d3bf470')\"\n",
              "              title=\"Convert this dataframe to an interactive table.\"\n",
              "              style=\"display:none;\">\n",
              "        \n",
              "  <svg xmlns=\"http://www.w3.org/2000/svg\" height=\"24px\"viewBox=\"0 0 24 24\"\n",
              "       width=\"24px\">\n",
              "    <path d=\"M0 0h24v24H0V0z\" fill=\"none\"/>\n",
              "    <path d=\"M18.56 5.44l.94 2.06.94-2.06 2.06-.94-2.06-.94-.94-2.06-.94 2.06-2.06.94zm-11 1L8.5 8.5l.94-2.06 2.06-.94-2.06-.94L8.5 2.5l-.94 2.06-2.06.94zm10 10l.94 2.06.94-2.06 2.06-.94-2.06-.94-.94-2.06-.94 2.06-2.06.94z\"/><path d=\"M17.41 7.96l-1.37-1.37c-.4-.4-.92-.59-1.43-.59-.52 0-1.04.2-1.43.59L10.3 9.45l-7.72 7.72c-.78.78-.78 2.05 0 2.83L4 21.41c.39.39.9.59 1.41.59.51 0 1.02-.2 1.41-.59l7.78-7.78 2.81-2.81c.8-.78.8-2.07 0-2.86zM5.41 20L4 18.59l7.72-7.72 1.47 1.35L5.41 20z\"/>\n",
              "  </svg>\n",
              "      </button>\n",
              "      \n",
              "  <style>\n",
              "    .colab-df-container {\n",
              "      display:flex;\n",
              "      flex-wrap:wrap;\n",
              "      gap: 12px;\n",
              "    }\n",
              "\n",
              "    .colab-df-convert {\n",
              "      background-color: #E8F0FE;\n",
              "      border: none;\n",
              "      border-radius: 50%;\n",
              "      cursor: pointer;\n",
              "      display: none;\n",
              "      fill: #1967D2;\n",
              "      height: 32px;\n",
              "      padding: 0 0 0 0;\n",
              "      width: 32px;\n",
              "    }\n",
              "\n",
              "    .colab-df-convert:hover {\n",
              "      background-color: #E2EBFA;\n",
              "      box-shadow: 0px 1px 2px rgba(60, 64, 67, 0.3), 0px 1px 3px 1px rgba(60, 64, 67, 0.15);\n",
              "      fill: #174EA6;\n",
              "    }\n",
              "\n",
              "    [theme=dark] .colab-df-convert {\n",
              "      background-color: #3B4455;\n",
              "      fill: #D2E3FC;\n",
              "    }\n",
              "\n",
              "    [theme=dark] .colab-df-convert:hover {\n",
              "      background-color: #434B5C;\n",
              "      box-shadow: 0px 1px 3px 1px rgba(0, 0, 0, 0.15);\n",
              "      filter: drop-shadow(0px 1px 2px rgba(0, 0, 0, 0.3));\n",
              "      fill: #FFFFFF;\n",
              "    }\n",
              "  </style>\n",
              "\n",
              "      <script>\n",
              "        const buttonEl =\n",
              "          document.querySelector('#df-244f61a6-8555-4591-a641-18793d3bf470 button.colab-df-convert');\n",
              "        buttonEl.style.display =\n",
              "          google.colab.kernel.accessAllowed ? 'block' : 'none';\n",
              "\n",
              "        async function convertToInteractive(key) {\n",
              "          const element = document.querySelector('#df-244f61a6-8555-4591-a641-18793d3bf470');\n",
              "          const dataTable =\n",
              "            await google.colab.kernel.invokeFunction('convertToInteractive',\n",
              "                                                     [key], {});\n",
              "          if (!dataTable) return;\n",
              "\n",
              "          const docLinkHtml = 'Like what you see? Visit the ' +\n",
              "            '<a target=\"_blank\" href=https://colab.research.google.com/notebooks/data_table.ipynb>data table notebook</a>'\n",
              "            + ' to learn more about interactive tables.';\n",
              "          element.innerHTML = '';\n",
              "          dataTable['output_type'] = 'display_data';\n",
              "          await google.colab.output.renderOutput(dataTable, element);\n",
              "          const docLink = document.createElement('div');\n",
              "          docLink.innerHTML = docLinkHtml;\n",
              "          element.appendChild(docLink);\n",
              "        }\n",
              "      </script>\n",
              "    </div>\n",
              "  </div>\n",
              "  "
            ]
          },
          "metadata": {},
          "execution_count": 35
        }
      ]
    },
    {
      "cell_type": "markdown",
      "source": [
        "Unique value check and deletion"
      ],
      "metadata": {
        "id": "CIAa1iZW3lb9"
      }
    },
    {
      "cell_type": "code",
      "source": [
        "print (\"Features with one unique value!!\")\n",
        "exclude_unique = []\n",
        "for c in train_2016.columns:\n",
        "    num_uniques = len(train_2016[c].unique())\n",
        "    if train_2016[c].isnull().sum() != 0:\n",
        "        num_uniques -= 1\n",
        "    if num_uniques == 1:\n",
        "        exclude_unique.append(c)\n",
        "print(exclude_unique)"
      ],
      "metadata": {
        "colab": {
          "base_uri": "https://localhost:8080/"
        },
        "id": "sAY8nZz33pda",
        "outputId": "db062d46-6c4e-470a-b1c8-994ad75e2445"
      },
      "execution_count": null,
      "outputs": [
        {
          "output_type": "stream",
          "name": "stdout",
          "text": [
            "Features with one unique value!!\n",
            "['poolcnt', 'pooltypeid7', 'assessmentyear']\n"
          ]
        }
      ]
    },
    {
      "cell_type": "code",
      "source": [
        "train_2016['poolcnt'].value_counts()"
      ],
      "metadata": {
        "colab": {
          "base_uri": "https://localhost:8080/"
        },
        "id": "ieRjqVJ34If1",
        "outputId": "718d92be-df16-425d-9d5b-db03dafee632"
      },
      "execution_count": null,
      "outputs": [
        {
          "output_type": "execute_result",
          "data": {
            "text/plain": [
              "1.0    17590\n",
              "Name: poolcnt, dtype: int64"
            ]
          },
          "metadata": {},
          "execution_count": 37
        }
      ]
    },
    {
      "cell_type": "code",
      "source": [
        "train_2016['pooltypeid7'].value_counts()"
      ],
      "metadata": {
        "colab": {
          "base_uri": "https://localhost:8080/"
        },
        "id": "0_mww9fc4Tah",
        "outputId": "b11e53ab-5931-41fd-c44d-e475779e506c"
      },
      "execution_count": null,
      "outputs": [
        {
          "output_type": "execute_result",
          "data": {
            "text/plain": [
              "1.0    16408\n",
              "Name: pooltypeid7, dtype: int64"
            ]
          },
          "metadata": {},
          "execution_count": 38
        }
      ]
    },
    {
      "cell_type": "code",
      "source": [
        "train_2016['assessmentyear'].value_counts()"
      ],
      "metadata": {
        "colab": {
          "base_uri": "https://localhost:8080/"
        },
        "id": "GgHNWSf94VsE",
        "outputId": "e046fc68-e7fa-4909-e5d2-3c86a85be641"
      },
      "execution_count": null,
      "outputs": [
        {
          "output_type": "execute_result",
          "data": {
            "text/plain": [
              "2015.0    88465\n",
              "Name: assessmentyear, dtype: int64"
            ]
          },
          "metadata": {},
          "execution_count": 39
        }
      ]
    },
    {
      "cell_type": "markdown",
      "source": [
        "Unique value would cost the imblance of data and variance is zero for continous type of feature and that is why i delte it ."
      ],
      "metadata": {
        "id": "03T_3Rfn4auB"
      }
    },
    {
      "cell_type": "code",
      "source": [
        ""
      ],
      "metadata": {
        "id": "AHq9ZxO84Z4p"
      },
      "execution_count": null,
      "outputs": []
    },
    {
      "cell_type": "code",
      "source": [
        "train_2016.drop(['poolcnt', 'pooltypeid7', 'assessmentyear'],axis = 1,inplace = True)"
      ],
      "metadata": {
        "id": "ADrrneMW3v1C"
      },
      "execution_count": null,
      "outputs": []
    },
    {
      "cell_type": "code",
      "source": [
        "train_2016.shape"
      ],
      "metadata": {
        "colab": {
          "base_uri": "https://localhost:8080/"
        },
        "id": "UwBywnaN4j_O",
        "outputId": "51566136-fe30-4437-e5d3-51c10e1bfe3d"
      },
      "execution_count": null,
      "outputs": [
        {
          "output_type": "execute_result",
          "data": {
            "text/plain": [
              "(88465, 35)"
            ]
          },
          "metadata": {},
          "execution_count": 42
        }
      ]
    },
    {
      "cell_type": "markdown",
      "source": [
        "Checking missing rate again"
      ],
      "metadata": {
        "id": "jSpPgNTJ4pm4"
      }
    },
    {
      "cell_type": "code",
      "source": [
        "percent_missing = train_2016.isnull().sum() * 100 / len(train_2016)\n",
        "missing_value_df = pd.DataFrame({'column_name': train_2016.columns,\n",
        "                                 'percent_missing': percent_missing})"
      ],
      "metadata": {
        "id": "5iysXKoB4oxX"
      },
      "execution_count": null,
      "outputs": []
    },
    {
      "cell_type": "code",
      "source": [
        "missing_value_df.sort_values('percent_missing', inplace=True)"
      ],
      "metadata": {
        "id": "aBokvr2h4t2i"
      },
      "execution_count": null,
      "outputs": []
    },
    {
      "cell_type": "code",
      "source": [
        "missing_value_df"
      ],
      "metadata": {
        "colab": {
          "base_uri": "https://localhost:8080/",
          "height": 1000
        },
        "id": "EjYH4rSn4uVh",
        "outputId": "06a2bf9c-0652-4492-e254-d4347db216bb"
      },
      "execution_count": null,
      "outputs": [
        {
          "output_type": "execute_result",
          "data": {
            "text/plain": [
              "                                               column_name  percent_missing\n",
              "logerror                                          logerror         0.000000\n",
              "roomcnt                                            roomcnt         0.000000\n",
              "regionidcounty                              regionidcounty         0.000000\n",
              "rawcensustractandblock              rawcensustractandblock         0.000000\n",
              "propertylandusetypeid                propertylandusetypeid         0.000000\n",
              "latitude                                          latitude         0.000000\n",
              "fips                                                  fips         0.000000\n",
              "longitude                                        longitude         0.000000\n",
              "bathroomcnt                                    bathroomcnt         0.000000\n",
              "bedroomcnt                                      bedroomcnt         0.000000\n",
              "landtaxvaluedollarcnt                landtaxvaluedollarcnt         0.001130\n",
              "taxvaluedollarcnt                        taxvaluedollarcnt         0.001130\n",
              "taxamount                                        taxamount         0.006782\n",
              "regionidzip                                    regionidzip         0.036172\n",
              "structuretaxvaluedollarcnt      structuretaxvaluedollarcnt         0.396767\n",
              "censustractandblock                    censustractandblock         0.654496\n",
              "calculatedfinishedsquarefeet  calculatedfinishedsquarefeet         0.694060\n",
              "yearbuilt                                        yearbuilt         0.794665\n",
              "fullbathcnt                                    fullbathcnt         1.229865\n",
              "calculatedbathnbr                        calculatedbathnbr         1.229865\n",
              "regionidcity                                  regionidcity         2.001922\n",
              "finishedsquarefeet12                  finishedsquarefeet12         4.948850\n",
              "lotsizesquarefeet                        lotsizesquarefeet        11.324253\n",
              "unitcnt                                            unitcnt        35.597129\n",
              "buildingqualitytypeid                buildingqualitytypeid        36.635958\n",
              "heatingorsystemtypeid                heatingorsystemtypeid        37.869214\n",
              "regionidneighborhood                  regionidneighborhood        60.250947\n",
              "garagetotalsqft                            garagetotalsqft        66.540440\n",
              "garagecarcnt                                  garagecarcnt        66.540440\n",
              "airconditioningtypeid                airconditioningtypeid        67.924038\n",
              "numberofstories                            numberofstories        77.099418\n",
              "threequarterbathnbr                    threequarterbathnbr        86.564178\n",
              "fireplacecnt                                  fireplacecnt        89.278246\n",
              "finishedfloor1squarefeet          finishedfloor1squarefeet        92.352908\n",
              "finishedsquarefeet50                  finishedsquarefeet50        92.352908"
            ],
            "text/html": [
              "\n",
              "  <div id=\"df-5fea1ac9-7196-4087-be98-1f9a133236f7\">\n",
              "    <div class=\"colab-df-container\">\n",
              "      <div>\n",
              "<style scoped>\n",
              "    .dataframe tbody tr th:only-of-type {\n",
              "        vertical-align: middle;\n",
              "    }\n",
              "\n",
              "    .dataframe tbody tr th {\n",
              "        vertical-align: top;\n",
              "    }\n",
              "\n",
              "    .dataframe thead th {\n",
              "        text-align: right;\n",
              "    }\n",
              "</style>\n",
              "<table border=\"1\" class=\"dataframe\">\n",
              "  <thead>\n",
              "    <tr style=\"text-align: right;\">\n",
              "      <th></th>\n",
              "      <th>column_name</th>\n",
              "      <th>percent_missing</th>\n",
              "    </tr>\n",
              "  </thead>\n",
              "  <tbody>\n",
              "    <tr>\n",
              "      <th>logerror</th>\n",
              "      <td>logerror</td>\n",
              "      <td>0.000000</td>\n",
              "    </tr>\n",
              "    <tr>\n",
              "      <th>roomcnt</th>\n",
              "      <td>roomcnt</td>\n",
              "      <td>0.000000</td>\n",
              "    </tr>\n",
              "    <tr>\n",
              "      <th>regionidcounty</th>\n",
              "      <td>regionidcounty</td>\n",
              "      <td>0.000000</td>\n",
              "    </tr>\n",
              "    <tr>\n",
              "      <th>rawcensustractandblock</th>\n",
              "      <td>rawcensustractandblock</td>\n",
              "      <td>0.000000</td>\n",
              "    </tr>\n",
              "    <tr>\n",
              "      <th>propertylandusetypeid</th>\n",
              "      <td>propertylandusetypeid</td>\n",
              "      <td>0.000000</td>\n",
              "    </tr>\n",
              "    <tr>\n",
              "      <th>latitude</th>\n",
              "      <td>latitude</td>\n",
              "      <td>0.000000</td>\n",
              "    </tr>\n",
              "    <tr>\n",
              "      <th>fips</th>\n",
              "      <td>fips</td>\n",
              "      <td>0.000000</td>\n",
              "    </tr>\n",
              "    <tr>\n",
              "      <th>longitude</th>\n",
              "      <td>longitude</td>\n",
              "      <td>0.000000</td>\n",
              "    </tr>\n",
              "    <tr>\n",
              "      <th>bathroomcnt</th>\n",
              "      <td>bathroomcnt</td>\n",
              "      <td>0.000000</td>\n",
              "    </tr>\n",
              "    <tr>\n",
              "      <th>bedroomcnt</th>\n",
              "      <td>bedroomcnt</td>\n",
              "      <td>0.000000</td>\n",
              "    </tr>\n",
              "    <tr>\n",
              "      <th>landtaxvaluedollarcnt</th>\n",
              "      <td>landtaxvaluedollarcnt</td>\n",
              "      <td>0.001130</td>\n",
              "    </tr>\n",
              "    <tr>\n",
              "      <th>taxvaluedollarcnt</th>\n",
              "      <td>taxvaluedollarcnt</td>\n",
              "      <td>0.001130</td>\n",
              "    </tr>\n",
              "    <tr>\n",
              "      <th>taxamount</th>\n",
              "      <td>taxamount</td>\n",
              "      <td>0.006782</td>\n",
              "    </tr>\n",
              "    <tr>\n",
              "      <th>regionidzip</th>\n",
              "      <td>regionidzip</td>\n",
              "      <td>0.036172</td>\n",
              "    </tr>\n",
              "    <tr>\n",
              "      <th>structuretaxvaluedollarcnt</th>\n",
              "      <td>structuretaxvaluedollarcnt</td>\n",
              "      <td>0.396767</td>\n",
              "    </tr>\n",
              "    <tr>\n",
              "      <th>censustractandblock</th>\n",
              "      <td>censustractandblock</td>\n",
              "      <td>0.654496</td>\n",
              "    </tr>\n",
              "    <tr>\n",
              "      <th>calculatedfinishedsquarefeet</th>\n",
              "      <td>calculatedfinishedsquarefeet</td>\n",
              "      <td>0.694060</td>\n",
              "    </tr>\n",
              "    <tr>\n",
              "      <th>yearbuilt</th>\n",
              "      <td>yearbuilt</td>\n",
              "      <td>0.794665</td>\n",
              "    </tr>\n",
              "    <tr>\n",
              "      <th>fullbathcnt</th>\n",
              "      <td>fullbathcnt</td>\n",
              "      <td>1.229865</td>\n",
              "    </tr>\n",
              "    <tr>\n",
              "      <th>calculatedbathnbr</th>\n",
              "      <td>calculatedbathnbr</td>\n",
              "      <td>1.229865</td>\n",
              "    </tr>\n",
              "    <tr>\n",
              "      <th>regionidcity</th>\n",
              "      <td>regionidcity</td>\n",
              "      <td>2.001922</td>\n",
              "    </tr>\n",
              "    <tr>\n",
              "      <th>finishedsquarefeet12</th>\n",
              "      <td>finishedsquarefeet12</td>\n",
              "      <td>4.948850</td>\n",
              "    </tr>\n",
              "    <tr>\n",
              "      <th>lotsizesquarefeet</th>\n",
              "      <td>lotsizesquarefeet</td>\n",
              "      <td>11.324253</td>\n",
              "    </tr>\n",
              "    <tr>\n",
              "      <th>unitcnt</th>\n",
              "      <td>unitcnt</td>\n",
              "      <td>35.597129</td>\n",
              "    </tr>\n",
              "    <tr>\n",
              "      <th>buildingqualitytypeid</th>\n",
              "      <td>buildingqualitytypeid</td>\n",
              "      <td>36.635958</td>\n",
              "    </tr>\n",
              "    <tr>\n",
              "      <th>heatingorsystemtypeid</th>\n",
              "      <td>heatingorsystemtypeid</td>\n",
              "      <td>37.869214</td>\n",
              "    </tr>\n",
              "    <tr>\n",
              "      <th>regionidneighborhood</th>\n",
              "      <td>regionidneighborhood</td>\n",
              "      <td>60.250947</td>\n",
              "    </tr>\n",
              "    <tr>\n",
              "      <th>garagetotalsqft</th>\n",
              "      <td>garagetotalsqft</td>\n",
              "      <td>66.540440</td>\n",
              "    </tr>\n",
              "    <tr>\n",
              "      <th>garagecarcnt</th>\n",
              "      <td>garagecarcnt</td>\n",
              "      <td>66.540440</td>\n",
              "    </tr>\n",
              "    <tr>\n",
              "      <th>airconditioningtypeid</th>\n",
              "      <td>airconditioningtypeid</td>\n",
              "      <td>67.924038</td>\n",
              "    </tr>\n",
              "    <tr>\n",
              "      <th>numberofstories</th>\n",
              "      <td>numberofstories</td>\n",
              "      <td>77.099418</td>\n",
              "    </tr>\n",
              "    <tr>\n",
              "      <th>threequarterbathnbr</th>\n",
              "      <td>threequarterbathnbr</td>\n",
              "      <td>86.564178</td>\n",
              "    </tr>\n",
              "    <tr>\n",
              "      <th>fireplacecnt</th>\n",
              "      <td>fireplacecnt</td>\n",
              "      <td>89.278246</td>\n",
              "    </tr>\n",
              "    <tr>\n",
              "      <th>finishedfloor1squarefeet</th>\n",
              "      <td>finishedfloor1squarefeet</td>\n",
              "      <td>92.352908</td>\n",
              "    </tr>\n",
              "    <tr>\n",
              "      <th>finishedsquarefeet50</th>\n",
              "      <td>finishedsquarefeet50</td>\n",
              "      <td>92.352908</td>\n",
              "    </tr>\n",
              "  </tbody>\n",
              "</table>\n",
              "</div>\n",
              "      <button class=\"colab-df-convert\" onclick=\"convertToInteractive('df-5fea1ac9-7196-4087-be98-1f9a133236f7')\"\n",
              "              title=\"Convert this dataframe to an interactive table.\"\n",
              "              style=\"display:none;\">\n",
              "        \n",
              "  <svg xmlns=\"http://www.w3.org/2000/svg\" height=\"24px\"viewBox=\"0 0 24 24\"\n",
              "       width=\"24px\">\n",
              "    <path d=\"M0 0h24v24H0V0z\" fill=\"none\"/>\n",
              "    <path d=\"M18.56 5.44l.94 2.06.94-2.06 2.06-.94-2.06-.94-.94-2.06-.94 2.06-2.06.94zm-11 1L8.5 8.5l.94-2.06 2.06-.94-2.06-.94L8.5 2.5l-.94 2.06-2.06.94zm10 10l.94 2.06.94-2.06 2.06-.94-2.06-.94-.94-2.06-.94 2.06-2.06.94z\"/><path d=\"M17.41 7.96l-1.37-1.37c-.4-.4-.92-.59-1.43-.59-.52 0-1.04.2-1.43.59L10.3 9.45l-7.72 7.72c-.78.78-.78 2.05 0 2.83L4 21.41c.39.39.9.59 1.41.59.51 0 1.02-.2 1.41-.59l7.78-7.78 2.81-2.81c.8-.78.8-2.07 0-2.86zM5.41 20L4 18.59l7.72-7.72 1.47 1.35L5.41 20z\"/>\n",
              "  </svg>\n",
              "      </button>\n",
              "      \n",
              "  <style>\n",
              "    .colab-df-container {\n",
              "      display:flex;\n",
              "      flex-wrap:wrap;\n",
              "      gap: 12px;\n",
              "    }\n",
              "\n",
              "    .colab-df-convert {\n",
              "      background-color: #E8F0FE;\n",
              "      border: none;\n",
              "      border-radius: 50%;\n",
              "      cursor: pointer;\n",
              "      display: none;\n",
              "      fill: #1967D2;\n",
              "      height: 32px;\n",
              "      padding: 0 0 0 0;\n",
              "      width: 32px;\n",
              "    }\n",
              "\n",
              "    .colab-df-convert:hover {\n",
              "      background-color: #E2EBFA;\n",
              "      box-shadow: 0px 1px 2px rgba(60, 64, 67, 0.3), 0px 1px 3px 1px rgba(60, 64, 67, 0.15);\n",
              "      fill: #174EA6;\n",
              "    }\n",
              "\n",
              "    [theme=dark] .colab-df-convert {\n",
              "      background-color: #3B4455;\n",
              "      fill: #D2E3FC;\n",
              "    }\n",
              "\n",
              "    [theme=dark] .colab-df-convert:hover {\n",
              "      background-color: #434B5C;\n",
              "      box-shadow: 0px 1px 3px 1px rgba(0, 0, 0, 0.15);\n",
              "      filter: drop-shadow(0px 1px 2px rgba(0, 0, 0, 0.3));\n",
              "      fill: #FFFFFF;\n",
              "    }\n",
              "  </style>\n",
              "\n",
              "      <script>\n",
              "        const buttonEl =\n",
              "          document.querySelector('#df-5fea1ac9-7196-4087-be98-1f9a133236f7 button.colab-df-convert');\n",
              "        buttonEl.style.display =\n",
              "          google.colab.kernel.accessAllowed ? 'block' : 'none';\n",
              "\n",
              "        async function convertToInteractive(key) {\n",
              "          const element = document.querySelector('#df-5fea1ac9-7196-4087-be98-1f9a133236f7');\n",
              "          const dataTable =\n",
              "            await google.colab.kernel.invokeFunction('convertToInteractive',\n",
              "                                                     [key], {});\n",
              "          if (!dataTable) return;\n",
              "\n",
              "          const docLinkHtml = 'Like what you see? Visit the ' +\n",
              "            '<a target=\"_blank\" href=https://colab.research.google.com/notebooks/data_table.ipynb>data table notebook</a>'\n",
              "            + ' to learn more about interactive tables.';\n",
              "          element.innerHTML = '';\n",
              "          dataTable['output_type'] = 'display_data';\n",
              "          await google.colab.output.renderOutput(dataTable, element);\n",
              "          const docLink = document.createElement('div');\n",
              "          docLink.innerHTML = docLinkHtml;\n",
              "          element.appendChild(docLink);\n",
              "        }\n",
              "      </script>\n",
              "    </div>\n",
              "  </div>\n",
              "  "
            ]
          },
          "metadata": {},
          "execution_count": 45
        }
      ]
    },
    {
      "cell_type": "code",
      "source": [
        "from google.colab import files\n",
        "train_2016.to_csv('dataBeforeImputation.csv') \n",
        "files.download('dataBeforeImputation.csv')"
      ],
      "metadata": {
        "colab": {
          "base_uri": "https://localhost:8080/",
          "height": 17
        },
        "id": "PGVKOReLUZOW",
        "outputId": "35db4dcd-30b1-493e-fc87-f981c89f9cea"
      },
      "execution_count": null,
      "outputs": [
        {
          "output_type": "display_data",
          "data": {
            "text/plain": [
              "<IPython.core.display.Javascript object>"
            ],
            "application/javascript": [
              "\n",
              "    async function download(id, filename, size) {\n",
              "      if (!google.colab.kernel.accessAllowed) {\n",
              "        return;\n",
              "      }\n",
              "      const div = document.createElement('div');\n",
              "      const label = document.createElement('label');\n",
              "      label.textContent = `Downloading \"${filename}\": `;\n",
              "      div.appendChild(label);\n",
              "      const progress = document.createElement('progress');\n",
              "      progress.max = size;\n",
              "      div.appendChild(progress);\n",
              "      document.body.appendChild(div);\n",
              "\n",
              "      const buffers = [];\n",
              "      let downloaded = 0;\n",
              "\n",
              "      const channel = await google.colab.kernel.comms.open(id);\n",
              "      // Send a message to notify the kernel that we're ready.\n",
              "      channel.send({})\n",
              "\n",
              "      for await (const message of channel.messages) {\n",
              "        // Send a message to notify the kernel that we're ready.\n",
              "        channel.send({})\n",
              "        if (message.buffers) {\n",
              "          for (const buffer of message.buffers) {\n",
              "            buffers.push(buffer);\n",
              "            downloaded += buffer.byteLength;\n",
              "            progress.value = downloaded;\n",
              "          }\n",
              "        }\n",
              "      }\n",
              "      const blob = new Blob(buffers, {type: 'application/binary'});\n",
              "      const a = document.createElement('a');\n",
              "      a.href = window.URL.createObjectURL(blob);\n",
              "      a.download = filename;\n",
              "      div.appendChild(a);\n",
              "      a.click();\n",
              "      div.remove();\n",
              "    }\n",
              "  "
            ]
          },
          "metadata": {}
        },
        {
          "output_type": "display_data",
          "data": {
            "text/plain": [
              "<IPython.core.display.Javascript object>"
            ],
            "application/javascript": [
              "download(\"download_bd5b2c95-c0d2-48d9-aeae-0575de36f9be\", \"dataBeforeImputation.csv\", 18855166)"
            ]
          },
          "metadata": {}
        }
      ]
    },
    {
      "cell_type": "markdown",
      "source": [
        "Drop candidate with missing too much in the table above "
      ],
      "metadata": {
        "id": "x21XHNjyR5rR"
      }
    },
    {
      "cell_type": "markdown",
      "source": [
        "# Imputation of data or Quality of impuatation of data"
      ],
      "metadata": {
        "id": "dN0XK-1iW8MO"
      }
    },
    {
      "cell_type": "markdown",
      "source": [
        "Now let's do the operation of imputation of data"
      ],
      "metadata": {
        "id": "ygr0M88y0b79"
      }
    },
    {
      "cell_type": "code",
      "source": [
        "train_2016.shape"
      ],
      "metadata": {
        "colab": {
          "base_uri": "https://localhost:8080/"
        },
        "id": "jVOV7RSO0Yy_",
        "outputId": "2405faa2-db60-4b02-d31a-40365c8d3d2b"
      },
      "execution_count": null,
      "outputs": [
        {
          "output_type": "execute_result",
          "data": {
            "text/plain": [
              "(88465, 35)"
            ]
          },
          "metadata": {},
          "execution_count": 47
        }
      ]
    },
    {
      "cell_type": "markdown",
      "source": [
        "Mode Imputation Features"
      ],
      "metadata": {
        "id": "42DdFDd92uYh"
      }
    },
    {
      "cell_type": "code",
      "source": [
        "train_2016.describe()"
      ],
      "metadata": {
        "colab": {
          "base_uri": "https://localhost:8080/",
          "height": 393
        },
        "id": "KxMtJiKz04dP",
        "outputId": "56b46160-4b18-4b35-8a63-3d1184844d5f"
      },
      "execution_count": null,
      "outputs": [
        {
          "output_type": "execute_result",
          "data": {
            "text/plain": [
              "           logerror  airconditioningtypeid   bathroomcnt    bedroomcnt  \\\n",
              "count  88465.000000           28376.000000  88465.000000  88465.000000   \n",
              "mean       0.009393               1.820130      2.280778      3.032454   \n",
              "std        0.083386               2.980406      0.993714      1.145993   \n",
              "min       -0.341100               1.000000      0.000000      0.000000   \n",
              "25%       -0.025300               1.000000      2.000000      2.000000   \n",
              "50%        0.006000               1.000000      2.000000      3.000000   \n",
              "75%        0.038300               1.000000      3.000000      4.000000   \n",
              "max        0.463700              13.000000     20.000000     16.000000   \n",
              "\n",
              "       buildingqualitytypeid  calculatedbathnbr  finishedfloor1squarefeet  \\\n",
              "count           56055.000000       87377.000000               6765.000000   \n",
              "mean                5.552779           2.308743               1345.749741   \n",
              "std                 1.898481           0.966886                642.081132   \n",
              "min                 1.000000           1.000000                 44.000000   \n",
              "25%                 4.000000           2.000000                938.000000   \n",
              "50%                 7.000000           2.000000               1244.000000   \n",
              "75%                 7.000000           3.000000               1614.000000   \n",
              "max                12.000000          20.000000               6805.000000   \n",
              "\n",
              "       calculatedfinishedsquarefeet  finishedsquarefeet12  \\\n",
              "count                  87851.000000          84087.000000   \n",
              "mean                    1770.256309           1744.151272   \n",
              "std                      917.268991            900.114279   \n",
              "min                        2.000000              2.000000   \n",
              "25%                     1186.000000           1174.000000   \n",
              "50%                     1540.000000           1519.000000   \n",
              "75%                     2092.000000           2055.000000   \n",
              "max                    22741.000000          18577.000000   \n",
              "\n",
              "       finishedsquarefeet50  ...       roomcnt  threequarterbathnbr  \\\n",
              "count           6765.000000  ...  88465.000000         11886.000000   \n",
              "mean            1352.892239  ...      1.488374             1.008077   \n",
              "std              663.618677  ...      2.827640             0.097605   \n",
              "min               44.000000  ...      0.000000             1.000000   \n",
              "25%              938.000000  ...      0.000000             1.000000   \n",
              "50%             1247.000000  ...      0.000000             1.000000   \n",
              "75%             1617.000000  ...      0.000000             1.000000   \n",
              "max             8352.000000  ...     18.000000             4.000000   \n",
              "\n",
              "            unitcnt     yearbuilt  numberofstories  \\\n",
              "count  56974.000000  87762.000000     20259.000000   \n",
              "mean       1.106136   1968.799366         1.441976   \n",
              "std        0.798270     23.635516         0.544339   \n",
              "min        1.000000   1885.000000         1.000000   \n",
              "25%        1.000000   1953.000000         1.000000   \n",
              "50%        1.000000   1970.000000         1.000000   \n",
              "75%        1.000000   1987.000000         2.000000   \n",
              "max      143.000000   2015.000000         4.000000   \n",
              "\n",
              "       structuretaxvaluedollarcnt  taxvaluedollarcnt  landtaxvaluedollarcnt  \\\n",
              "count                8.811400e+04       8.846400e+04           8.846400e+04   \n",
              "mean                 1.795855e+05       4.554199e+05           2.765449e+05   \n",
              "std                  2.030236e+05       5.345213e+05           3.862271e+05   \n",
              "min                  1.000000e+02       2.200000e+01           2.200000e+01   \n",
              "25%                  8.190500e+04       2.006108e+05           8.299275e+04   \n",
              "50%                  1.325970e+05       3.437035e+05           1.937535e+05   \n",
              "75%                  2.106272e+05       5.400422e+05           3.450170e+05   \n",
              "max                  7.838271e+06       2.650000e+07           2.450000e+07   \n",
              "\n",
              "           taxamount  censustractandblock  \n",
              "count   88459.000000         8.788600e+04  \n",
              "mean     5947.922597         6.049224e+13  \n",
              "std      6598.412639         2.049689e+11  \n",
              "min        49.080000         6.037101e+13  \n",
              "25%      2887.065000         6.037400e+13  \n",
              "50%      4550.540000         6.037620e+13  \n",
              "75%      6888.965000         6.059042e+13  \n",
              "max    311064.070000         6.111009e+13  \n",
              "\n",
              "[8 rows x 35 columns]"
            ],
            "text/html": [
              "\n",
              "  <div id=\"df-fb28568f-846f-469b-a38f-95df7a2d3411\">\n",
              "    <div class=\"colab-df-container\">\n",
              "      <div>\n",
              "<style scoped>\n",
              "    .dataframe tbody tr th:only-of-type {\n",
              "        vertical-align: middle;\n",
              "    }\n",
              "\n",
              "    .dataframe tbody tr th {\n",
              "        vertical-align: top;\n",
              "    }\n",
              "\n",
              "    .dataframe thead th {\n",
              "        text-align: right;\n",
              "    }\n",
              "</style>\n",
              "<table border=\"1\" class=\"dataframe\">\n",
              "  <thead>\n",
              "    <tr style=\"text-align: right;\">\n",
              "      <th></th>\n",
              "      <th>logerror</th>\n",
              "      <th>airconditioningtypeid</th>\n",
              "      <th>bathroomcnt</th>\n",
              "      <th>bedroomcnt</th>\n",
              "      <th>buildingqualitytypeid</th>\n",
              "      <th>calculatedbathnbr</th>\n",
              "      <th>finishedfloor1squarefeet</th>\n",
              "      <th>calculatedfinishedsquarefeet</th>\n",
              "      <th>finishedsquarefeet12</th>\n",
              "      <th>finishedsquarefeet50</th>\n",
              "      <th>...</th>\n",
              "      <th>roomcnt</th>\n",
              "      <th>threequarterbathnbr</th>\n",
              "      <th>unitcnt</th>\n",
              "      <th>yearbuilt</th>\n",
              "      <th>numberofstories</th>\n",
              "      <th>structuretaxvaluedollarcnt</th>\n",
              "      <th>taxvaluedollarcnt</th>\n",
              "      <th>landtaxvaluedollarcnt</th>\n",
              "      <th>taxamount</th>\n",
              "      <th>censustractandblock</th>\n",
              "    </tr>\n",
              "  </thead>\n",
              "  <tbody>\n",
              "    <tr>\n",
              "      <th>count</th>\n",
              "      <td>88465.000000</td>\n",
              "      <td>28376.000000</td>\n",
              "      <td>88465.000000</td>\n",
              "      <td>88465.000000</td>\n",
              "      <td>56055.000000</td>\n",
              "      <td>87377.000000</td>\n",
              "      <td>6765.000000</td>\n",
              "      <td>87851.000000</td>\n",
              "      <td>84087.000000</td>\n",
              "      <td>6765.000000</td>\n",
              "      <td>...</td>\n",
              "      <td>88465.000000</td>\n",
              "      <td>11886.000000</td>\n",
              "      <td>56974.000000</td>\n",
              "      <td>87762.000000</td>\n",
              "      <td>20259.000000</td>\n",
              "      <td>8.811400e+04</td>\n",
              "      <td>8.846400e+04</td>\n",
              "      <td>8.846400e+04</td>\n",
              "      <td>88459.000000</td>\n",
              "      <td>8.788600e+04</td>\n",
              "    </tr>\n",
              "    <tr>\n",
              "      <th>mean</th>\n",
              "      <td>0.009393</td>\n",
              "      <td>1.820130</td>\n",
              "      <td>2.280778</td>\n",
              "      <td>3.032454</td>\n",
              "      <td>5.552779</td>\n",
              "      <td>2.308743</td>\n",
              "      <td>1345.749741</td>\n",
              "      <td>1770.256309</td>\n",
              "      <td>1744.151272</td>\n",
              "      <td>1352.892239</td>\n",
              "      <td>...</td>\n",
              "      <td>1.488374</td>\n",
              "      <td>1.008077</td>\n",
              "      <td>1.106136</td>\n",
              "      <td>1968.799366</td>\n",
              "      <td>1.441976</td>\n",
              "      <td>1.795855e+05</td>\n",
              "      <td>4.554199e+05</td>\n",
              "      <td>2.765449e+05</td>\n",
              "      <td>5947.922597</td>\n",
              "      <td>6.049224e+13</td>\n",
              "    </tr>\n",
              "    <tr>\n",
              "      <th>std</th>\n",
              "      <td>0.083386</td>\n",
              "      <td>2.980406</td>\n",
              "      <td>0.993714</td>\n",
              "      <td>1.145993</td>\n",
              "      <td>1.898481</td>\n",
              "      <td>0.966886</td>\n",
              "      <td>642.081132</td>\n",
              "      <td>917.268991</td>\n",
              "      <td>900.114279</td>\n",
              "      <td>663.618677</td>\n",
              "      <td>...</td>\n",
              "      <td>2.827640</td>\n",
              "      <td>0.097605</td>\n",
              "      <td>0.798270</td>\n",
              "      <td>23.635516</td>\n",
              "      <td>0.544339</td>\n",
              "      <td>2.030236e+05</td>\n",
              "      <td>5.345213e+05</td>\n",
              "      <td>3.862271e+05</td>\n",
              "      <td>6598.412639</td>\n",
              "      <td>2.049689e+11</td>\n",
              "    </tr>\n",
              "    <tr>\n",
              "      <th>min</th>\n",
              "      <td>-0.341100</td>\n",
              "      <td>1.000000</td>\n",
              "      <td>0.000000</td>\n",
              "      <td>0.000000</td>\n",
              "      <td>1.000000</td>\n",
              "      <td>1.000000</td>\n",
              "      <td>44.000000</td>\n",
              "      <td>2.000000</td>\n",
              "      <td>2.000000</td>\n",
              "      <td>44.000000</td>\n",
              "      <td>...</td>\n",
              "      <td>0.000000</td>\n",
              "      <td>1.000000</td>\n",
              "      <td>1.000000</td>\n",
              "      <td>1885.000000</td>\n",
              "      <td>1.000000</td>\n",
              "      <td>1.000000e+02</td>\n",
              "      <td>2.200000e+01</td>\n",
              "      <td>2.200000e+01</td>\n",
              "      <td>49.080000</td>\n",
              "      <td>6.037101e+13</td>\n",
              "    </tr>\n",
              "    <tr>\n",
              "      <th>25%</th>\n",
              "      <td>-0.025300</td>\n",
              "      <td>1.000000</td>\n",
              "      <td>2.000000</td>\n",
              "      <td>2.000000</td>\n",
              "      <td>4.000000</td>\n",
              "      <td>2.000000</td>\n",
              "      <td>938.000000</td>\n",
              "      <td>1186.000000</td>\n",
              "      <td>1174.000000</td>\n",
              "      <td>938.000000</td>\n",
              "      <td>...</td>\n",
              "      <td>0.000000</td>\n",
              "      <td>1.000000</td>\n",
              "      <td>1.000000</td>\n",
              "      <td>1953.000000</td>\n",
              "      <td>1.000000</td>\n",
              "      <td>8.190500e+04</td>\n",
              "      <td>2.006108e+05</td>\n",
              "      <td>8.299275e+04</td>\n",
              "      <td>2887.065000</td>\n",
              "      <td>6.037400e+13</td>\n",
              "    </tr>\n",
              "    <tr>\n",
              "      <th>50%</th>\n",
              "      <td>0.006000</td>\n",
              "      <td>1.000000</td>\n",
              "      <td>2.000000</td>\n",
              "      <td>3.000000</td>\n",
              "      <td>7.000000</td>\n",
              "      <td>2.000000</td>\n",
              "      <td>1244.000000</td>\n",
              "      <td>1540.000000</td>\n",
              "      <td>1519.000000</td>\n",
              "      <td>1247.000000</td>\n",
              "      <td>...</td>\n",
              "      <td>0.000000</td>\n",
              "      <td>1.000000</td>\n",
              "      <td>1.000000</td>\n",
              "      <td>1970.000000</td>\n",
              "      <td>1.000000</td>\n",
              "      <td>1.325970e+05</td>\n",
              "      <td>3.437035e+05</td>\n",
              "      <td>1.937535e+05</td>\n",
              "      <td>4550.540000</td>\n",
              "      <td>6.037620e+13</td>\n",
              "    </tr>\n",
              "    <tr>\n",
              "      <th>75%</th>\n",
              "      <td>0.038300</td>\n",
              "      <td>1.000000</td>\n",
              "      <td>3.000000</td>\n",
              "      <td>4.000000</td>\n",
              "      <td>7.000000</td>\n",
              "      <td>3.000000</td>\n",
              "      <td>1614.000000</td>\n",
              "      <td>2092.000000</td>\n",
              "      <td>2055.000000</td>\n",
              "      <td>1617.000000</td>\n",
              "      <td>...</td>\n",
              "      <td>0.000000</td>\n",
              "      <td>1.000000</td>\n",
              "      <td>1.000000</td>\n",
              "      <td>1987.000000</td>\n",
              "      <td>2.000000</td>\n",
              "      <td>2.106272e+05</td>\n",
              "      <td>5.400422e+05</td>\n",
              "      <td>3.450170e+05</td>\n",
              "      <td>6888.965000</td>\n",
              "      <td>6.059042e+13</td>\n",
              "    </tr>\n",
              "    <tr>\n",
              "      <th>max</th>\n",
              "      <td>0.463700</td>\n",
              "      <td>13.000000</td>\n",
              "      <td>20.000000</td>\n",
              "      <td>16.000000</td>\n",
              "      <td>12.000000</td>\n",
              "      <td>20.000000</td>\n",
              "      <td>6805.000000</td>\n",
              "      <td>22741.000000</td>\n",
              "      <td>18577.000000</td>\n",
              "      <td>8352.000000</td>\n",
              "      <td>...</td>\n",
              "      <td>18.000000</td>\n",
              "      <td>4.000000</td>\n",
              "      <td>143.000000</td>\n",
              "      <td>2015.000000</td>\n",
              "      <td>4.000000</td>\n",
              "      <td>7.838271e+06</td>\n",
              "      <td>2.650000e+07</td>\n",
              "      <td>2.450000e+07</td>\n",
              "      <td>311064.070000</td>\n",
              "      <td>6.111009e+13</td>\n",
              "    </tr>\n",
              "  </tbody>\n",
              "</table>\n",
              "<p>8 rows × 35 columns</p>\n",
              "</div>\n",
              "      <button class=\"colab-df-convert\" onclick=\"convertToInteractive('df-fb28568f-846f-469b-a38f-95df7a2d3411')\"\n",
              "              title=\"Convert this dataframe to an interactive table.\"\n",
              "              style=\"display:none;\">\n",
              "        \n",
              "  <svg xmlns=\"http://www.w3.org/2000/svg\" height=\"24px\"viewBox=\"0 0 24 24\"\n",
              "       width=\"24px\">\n",
              "    <path d=\"M0 0h24v24H0V0z\" fill=\"none\"/>\n",
              "    <path d=\"M18.56 5.44l.94 2.06.94-2.06 2.06-.94-2.06-.94-.94-2.06-.94 2.06-2.06.94zm-11 1L8.5 8.5l.94-2.06 2.06-.94-2.06-.94L8.5 2.5l-.94 2.06-2.06.94zm10 10l.94 2.06.94-2.06 2.06-.94-2.06-.94-.94-2.06-.94 2.06-2.06.94z\"/><path d=\"M17.41 7.96l-1.37-1.37c-.4-.4-.92-.59-1.43-.59-.52 0-1.04.2-1.43.59L10.3 9.45l-7.72 7.72c-.78.78-.78 2.05 0 2.83L4 21.41c.39.39.9.59 1.41.59.51 0 1.02-.2 1.41-.59l7.78-7.78 2.81-2.81c.8-.78.8-2.07 0-2.86zM5.41 20L4 18.59l7.72-7.72 1.47 1.35L5.41 20z\"/>\n",
              "  </svg>\n",
              "      </button>\n",
              "      \n",
              "  <style>\n",
              "    .colab-df-container {\n",
              "      display:flex;\n",
              "      flex-wrap:wrap;\n",
              "      gap: 12px;\n",
              "    }\n",
              "\n",
              "    .colab-df-convert {\n",
              "      background-color: #E8F0FE;\n",
              "      border: none;\n",
              "      border-radius: 50%;\n",
              "      cursor: pointer;\n",
              "      display: none;\n",
              "      fill: #1967D2;\n",
              "      height: 32px;\n",
              "      padding: 0 0 0 0;\n",
              "      width: 32px;\n",
              "    }\n",
              "\n",
              "    .colab-df-convert:hover {\n",
              "      background-color: #E2EBFA;\n",
              "      box-shadow: 0px 1px 2px rgba(60, 64, 67, 0.3), 0px 1px 3px 1px rgba(60, 64, 67, 0.15);\n",
              "      fill: #174EA6;\n",
              "    }\n",
              "\n",
              "    [theme=dark] .colab-df-convert {\n",
              "      background-color: #3B4455;\n",
              "      fill: #D2E3FC;\n",
              "    }\n",
              "\n",
              "    [theme=dark] .colab-df-convert:hover {\n",
              "      background-color: #434B5C;\n",
              "      box-shadow: 0px 1px 3px 1px rgba(0, 0, 0, 0.15);\n",
              "      filter: drop-shadow(0px 1px 2px rgba(0, 0, 0, 0.3));\n",
              "      fill: #FFFFFF;\n",
              "    }\n",
              "  </style>\n",
              "\n",
              "      <script>\n",
              "        const buttonEl =\n",
              "          document.querySelector('#df-fb28568f-846f-469b-a38f-95df7a2d3411 button.colab-df-convert');\n",
              "        buttonEl.style.display =\n",
              "          google.colab.kernel.accessAllowed ? 'block' : 'none';\n",
              "\n",
              "        async function convertToInteractive(key) {\n",
              "          const element = document.querySelector('#df-fb28568f-846f-469b-a38f-95df7a2d3411');\n",
              "          const dataTable =\n",
              "            await google.colab.kernel.invokeFunction('convertToInteractive',\n",
              "                                                     [key], {});\n",
              "          if (!dataTable) return;\n",
              "\n",
              "          const docLinkHtml = 'Like what you see? Visit the ' +\n",
              "            '<a target=\"_blank\" href=https://colab.research.google.com/notebooks/data_table.ipynb>data table notebook</a>'\n",
              "            + ' to learn more about interactive tables.';\n",
              "          element.innerHTML = '';\n",
              "          dataTable['output_type'] = 'display_data';\n",
              "          await google.colab.output.renderOutput(dataTable, element);\n",
              "          const docLink = document.createElement('div');\n",
              "          docLink.innerHTML = docLinkHtml;\n",
              "          element.appendChild(docLink);\n",
              "        }\n",
              "      </script>\n",
              "    </div>\n",
              "  </div>\n",
              "  "
            ]
          },
          "metadata": {},
          "execution_count": 48
        }
      ]
    },
    {
      "cell_type": "code",
      "source": [
        "train_2016.isnull().sum()"
      ],
      "metadata": {
        "colab": {
          "base_uri": "https://localhost:8080/"
        },
        "id": "IROdwaVS5cfN",
        "outputId": "4c9d6b2f-90a4-4594-d05c-cc008eb4e6c2"
      },
      "execution_count": null,
      "outputs": [
        {
          "output_type": "execute_result",
          "data": {
            "text/plain": [
              "logerror                            0\n",
              "airconditioningtypeid           60089\n",
              "bathroomcnt                         0\n",
              "bedroomcnt                          0\n",
              "buildingqualitytypeid           32410\n",
              "calculatedbathnbr                1088\n",
              "finishedfloor1squarefeet        81700\n",
              "calculatedfinishedsquarefeet      614\n",
              "finishedsquarefeet12             4378\n",
              "finishedsquarefeet50            81700\n",
              "fips                                0\n",
              "fireplacecnt                    78980\n",
              "fullbathcnt                      1088\n",
              "garagecarcnt                    58865\n",
              "garagetotalsqft                 58865\n",
              "heatingorsystemtypeid           33501\n",
              "latitude                            0\n",
              "longitude                           0\n",
              "lotsizesquarefeet               10018\n",
              "propertylandusetypeid               0\n",
              "rawcensustractandblock              0\n",
              "regionidcity                     1771\n",
              "regionidcounty                      0\n",
              "regionidneighborhood            53301\n",
              "regionidzip                        32\n",
              "roomcnt                             0\n",
              "threequarterbathnbr             76579\n",
              "unitcnt                         31491\n",
              "yearbuilt                         703\n",
              "numberofstories                 68206\n",
              "structuretaxvaluedollarcnt        351\n",
              "taxvaluedollarcnt                   1\n",
              "landtaxvaluedollarcnt               1\n",
              "taxamount                           6\n",
              "censustractandblock               579\n",
              "dtype: int64"
            ]
          },
          "metadata": {},
          "execution_count": 49
        }
      ]
    },
    {
      "cell_type": "markdown",
      "source": [
        "I used KNN imputation to fill with missing value "
      ],
      "metadata": {
        "id": "Gz5pYFRf7SWH"
      }
    },
    {
      "cell_type": "markdown",
      "source": [
        "No matter which stategy of imputation of missing and it does have pros and cons.We need to select the the less risker and more accuarcy method and we could also overcome the missing value strategy from the next step :Data transformation:https://towardsdatascience.com/6-different-ways-to-compensate-for-missing-values-data-imputation-with-examples-6022d9ca0779"
      ],
      "metadata": {
        "id": "BhDtXqeL8nFQ"
      }
    },
    {
      "cell_type": "markdown",
      "source": [
        "![ssss.png](data:image/png;base64,iVBORw0KGgoAAAANSUhEUgAAB04AAAKkCAYAAACH0RxTAAAMaGlDQ1BJQ0MgUHJvZmlsZQAASImVVwdUU8kanluSkJDQAhGQEnoTpFcpIbQIAlIFGyEJJJQYEoKKXVlUcO0iihVdFbGtroCsBRE7i2DviwUFZV3URVFU3oQEdN1XzvvPmTtfvvnnb3cmdwYAzT6uRJKDagGQK86XxoUHMyekpDJJzwAC9AANUIEplyeTsGJjowCUof7v8u4m1IZyzVFh65/j/1V0+AIZDwBkEsTpfBkvF+IGAPBNPIk0HwCigreYni9R4PkQ60phgBCvVeBMJd6jwOlKfHxQJyGODXErAGpULleaCYDGfcgzC3iZ0I7GJ4idxXyRGADNURAH8IRcPsSK2Efl5k5T4HKIbaG+BGIYD/BO/8Zm5t/spw/b53Izh7Eyr0FRCxHJJDncmf9naf635ObIh3xYw0YVSiPiFPnDGt7OnhapwFSIu8Xp0TGKWkPcJ+Ir6w4AShHKIxKV+qgRT8aG9QMMiJ353JBIiI0gDhPnREep+PQMURgHYrha0BmifE4CxPoQLxHIQuNVOtuk0+JUvtCaDCmbpeIvcKWDfhW+HsqzE1kq+2+EAo7KPqZRKExIhpgCsWWBKCkaYg2InWTZ8ZEqnTGFQnb0kI5UHqeI3xLiOIE4PFhpHyvIkIbFqfRLcmVD+WLbhCJOtAofzhcmRCjrgzXxuIPxw1ywVoGYlThkRyCbEDWUC18QEqrMHesUiBPjVXb6JPnBccq5OEWSE6vSx80FOeEK3hxid1lBvGounpQPF6fSPp4hyY9NUMaJF2Zxx8Yq48FXgijABiGACeSwpYNpIAuIWrpru+Ev5UgY4AIpyAQC4KhihmYkD46I4TMeFII/IBIA2fC84MFRASiA/OdhVvl0BBmDowWDM7LBM4hzQSTIgb/lg7PEw96SwFPIiP7hnQsbD8abA5ti/N/zQ+xXhgWZKBUjH/LI1BzSJIYSQ4gRxDCiHW6IB+B+eBR8BsHminvjPkN5fNUnPCO0ER4TbhDaCXemihZKv4tyHGiH9sNUtUj/tha4NbTpgQfj/tA6tIwzcEPgiLtDPyw8EHr2gCxbFbeiKszvbP8tg2/ehkqP7ExGySPIQWTb72dq2Gt4DFtR1Prb+ihjTR+uN3t45Hv/7G+qz4d95Pea2BLsCHYeO41dxI5jtYCJncLqsGbshAIPr66ng6tryFvcYDzZ0I7oH/64Kp+KSsqcq527nD8px/IFM/IVG489TTJTKsoU5jNZ8OsgYHLEPKdRTFdnV1cAFN8a5d/XW8bgNwRhXPrK5TUA4FMCycyvHNcCgGPPAKC/+8pZvIHbZiUAJ1p5cmmBksMVDwL8l9CEO80AmAALYAvzcQWewA8EgVAwFsSABJACpsAqC+E6l4LpYDZYAIpBKVgJ1oGNYCvYAfaA/eAwqAXHwWlwDlwGreAGuAdXTwd4CXrAO9CPIAgJoSF0xAAxRawQB8QV8UYCkFAkColDUpA0JBMRI3JkNrIIKUVWIxuR7UgV8jNyDDmNXETakDvII6QLeYN8RDGUiuqixqg1Ohr1RlloJJqATkYz0Ty0EC1Cl6PlaCW6D61BT6OX0RtoO/oS7cUApo4xMDPMEfPG2FgMloplYFJsLlaClWGV2AGsHr7na1g71o19wIk4HWfijnAFR+CJOA/Pw+fiy/CN+B68Bm/Cr+GP8B78C4FGMCI4EHwJHMIEQiZhOqGYUEbYRThKOAv3UgfhHZFIZBBtiF5wL6YQs4iziMuIm4kHiQ3ENuITYi+JRDIgOZD8STEkLimfVEzaQNpHOkW6Suog9ampq5mquaqFqaWqidUWqpWp7VU7qXZV7blaP1mLbEX2JceQ+eSZ5BXkneR68hVyB7mfok2xofhTEihZlAWUcsoBylnKfcpbdXV1c3Uf9fHqIvX56uXqh9QvqD9S/0DVodpT2dRJVDl1OXU3tYF6h/qWRqNZ04JoqbR82nJaFe0M7SGtT4Ou4aTB0eBrzNOo0KjRuKrxSpOsaaXJ0pyiWahZpnlE84pmtxZZy1qLrcXVmqtVoXVM65ZWrzZd20U7RjtXe5n2Xu2L2p06JB1rnVAdvk6Rzg6dMzpP6Bjdgs6m8+iL6DvpZ+kdukRdG12ObpZuqe5+3RbdHj0dPXe9JL0ZehV6J/TaGRjDmsFh5DBWMA4zbjI+jjAewRohGLF0xIERV0e81x+pH6Qv0C/RP6h/Q/+jAdMg1CDbYJVBrcEDQ9zQ3nC84XTDLYZnDbtH6o70G8kbWTLy8Mi7RqiRvVGc0SyjHUbNRr3GJsbhxhLjDcZnjLtNGCZBJlkma01OmnSZ0k0DTEWma01Pmb5g6jFZzBxmObOJ2WNmZBZhJjfbbtZi1m9uY55ovtD8oPkDC4qFt0WGxVqLRoseS1PLcZazLast71qRrbythFbrrc5bvbe2sU62Xmxda91po2/DsSm0qba5b0uzDbTNs620vW5HtPO2y7bbbNdqj9p72AvtK+yvOKAOng4ih80ObaMIo3xGiUdVjrrlSHVkORY4Vjs+cmI4RTktdKp1ejXacnTq6FWjz4/+4uzhnOO80/mei47LWJeFLvUub1ztXXmuFa7X3WhuYW7z3OrcXrs7uAvct7jf9qB7jPNY7NHo8dnTy1PqecCzy8vSK81rk9ctb13vWO9l3hd8CD7BPvN8jvt88PX0zfc97Punn6Nftt9ev84xNmMEY3aOeeJv7s/13+7fHsAMSAvYFtAeaBbIDawMfBxkEcQP2hX0nGXHymLtY70Kdg6WBh8Nfs/2Zc9hN4RgIeEhJSEtoTqhiaEbQx+GmYdlhlWH9YR7hM8Kb4ggRERGrIq4xTHm8DhVnJ6xXmPnjG2KpEbGR26MfBxlHyWNqh+Hjhs7bs24+9FW0eLo2hgQw4lZE/Mg1iY2L/bX8cTxseMrxj+Lc4mbHXc+nh4/NX5v/LuE4IQVCfcSbRPliY1JmkmTkqqS3ieHJK9Obp8wesKcCZdTDFNEKXWppNSk1F2pvRNDJ66b2DHJY1LxpJuTbSbPmHxxiuGUnCknpmpO5U49kkZIS07bm/aJG8Ot5Pamc9I3pffw2Lz1vJf8IP5afpfAX7Ba8DzDP2N1Rmemf+aazC5hoLBM2C1iizaKXmdFZG3Nep8dk707eyAnOedgrlpuWu4xsY44W9w0zWTajGltEgdJsaQ9zzdvXV6PNFK6S4bIJsvq8nXhob5Zbiv/Qf6oIKCgoqBvetL0IzO0Z4hnNM+0n7l05vPCsMKfZuGzeLMaZ5vNXjD70RzWnO1zkbnpcxvnWcwrmtcxP3z+ngWUBdkLflvovHD1wr8WJS+qLzIuml/05IfwH6qLNYqlxbcW+y3eugRfIlrSstRt6YalX0r4JZdKnUvLSj8t4y279KPLj+U/DizPWN6ywnPFlpXEleKVN1cFrtqzWnt14eona8atqVnLXFuy9q91U9ddLHMv27qesl6+vr08qrxug+WGlRs+bRRuvFERXHFwk9GmpZveb+ZvvrolaMuBrcZbS7d+3Cbadnt7+PaaSuvKsh3EHQU7nu1M2nn+J++fqnYZ7ird9Xm3eHf7nrg9TVVeVVV7jfauqEar5dVd+ybta90fsr/ugOOB7QcZB0sPgUPyQy9+Tvv55uHIw41HvI8c+MXql01H6UdLapCamTU9tcLa9rqUurZjY4811vvVH/3V6dfdx82OV5zQO7HiJOVk0cmBU4WnehskDd2nM08/aZzaeO/MhDPXm8Y3tZyNPHvhXNi5M+dZ509d8L9w/KLvxWOXvC/VXva8XNPs0Xz0N4/fjrZ4ttRc8bpS1+rTWt82pu3k1cCrp6+FXDt3nXP98o3oG203E2/evjXpVvtt/u3OOzl3Xt8tuNt/b/59wv2SB1oPyh4aPaz83e73g+2e7ScehTxqfhz/+N4T3pOXT2VPP3UUPaM9K3tu+ryq07XzeFdYV+uLiS86Xkpe9ncX/6H9x6ZXtq9++TPoz+aeCT0dr6WvB94se2vwdvdf7n819sb2PnyX+67/fUmfQd+eD94fzn9M/vi8f/on0qfyz3af679Efrk/kDswIOFKuYNHAQw2NCMDgDe7AaClwLMDvLdRJirvgoOCKO+vgwj8J6y8Lw6KJwC7gwBInA9AFDyjbIHNCmIq7BVH+IQggLq5DTeVyDLcXJW2qPAmROgbGHhrDACpHoDP0oGB/s0DA593wmDvANCQp7yDKoQI7wzbnBSotaNTE3wnyvvpNzl+3wNFBO7g+/5f0gGPT1RCpn4AAABsZVhJZk1NACoAAAAIAAQBGgAFAAAAAQAAAD4BGwAFAAAAAQAAAEYBKAADAAAAAQACAACHaQAEAAAAAQAAAE4AAAAAAAAAkAAAAAEAAACQAAAAAQACoAIABAAAAAEAAAdOoAMABAAAAAEAAAKkAAAAABztmVAAAAAJcEhZcwAAFiUAABYlAUlSJPAAAEAASURBVHgB7N0HnCRF/bj/uuPIUdJxCkhOIiLhkHwgoCBRkkgUJEhWBBGJooggQVBAQIIoIEhSMiIZJSNBcjhyDgdHOg7+PP3/1vxqemdmZ3Z7Znt3nnq97namp0P1u3N9qqqHffpZCiYFFFBAAQUUUEABBRRQQAEFFFBAAQUUUEABBRRQQAEFFFCgiwWGd/G6u+oKKKCAAgoooIACCiiggAIKKKCAAgoooIACCiiggAIKKKBAJmDg1B1BAQUUUEABBRRQQAEFFFBAAQUUUEABBRRQQAEFFFBAAQW6XsDAadfvAgIooIACCiiggAIKKKCAAgoooIACCiiggAIKKKCAAgoooICBU/cBBRRQQAEFFFBAAQUUUEABBRRQQAEFFFBAAQUUUEABBRToegEDp12/CwiggAIKKKCAAgoooIACCiiggAIKKKCAAgoooIACCiiggAIGTt0HFFBAAQUUUEABBRRQQAEFFFBAAQUUUEABBRRQQAEFFFCg6wUMnHb9LiCAAgoooIACCiiggAIKKKCAAgoooIACCiiggAIKKKCAAgoYOHUfUEABBRRQQAEFFFBAAQUUUEABBRRQQAEFFFBAAQUUUECBrhcwcNr1u4AACiiggAIKKKCAAgoooIACCiiggAIKKKCAAgoooIACCihg4NR9QAEFFFBAAQUUUEABBRRQQAEFFFBAAQUUUEABBRRQQAEFul7AwGnX7wICKKCAAgoooIACCiiggAIKKKCAAgoooIACCiiggAIKKKCAgVP3AQUUUEABBRRQQAEFFFBAAQUUUEABBRRQQAEFFFBAAQUU6HoBA6ddvwsIoIACCiiggAIKKKCAAgoooIACCiiggAIKKKCAAgoooIACBk7dBxRQQAEFFFBAAQUUUEABBRRQQAEFFFBAAQUUUEABBRRQoOsFDJx2/S4ggAIKKKCAAgoooIACCiiggAIKKKCAAgoooIACCiiggAIKGDh1H1BAAQUUUEABBRRQQAEFFFBAAQUUUEABBRRQQAEFFFBAga4XMHDa9buAAAoooIACCiiggAIKKKCAAgoooIACCiiggAIKKKCAAgooYODUfUABBRRQQAEFFFBAAQUUUEABBRRQQAEFFFBAAQUUUEABBbpewMBp1+8CAiiggAIKKKCAAgoooIACCiiggAIKKKCAAgoooIACCiiggIFT9wEFFFBAAQUUUEABBRRQQAEFFFBAAQUUUEABBRRQQAEFFOh6AQOnXb8LCKCAAgoooIACCiiggAIKKKCAAgoooIACCiiggAIKKKCAAgZO3QcUUEABBRRQQAEFFFBAAQUUUEABBRRQQAEFFFBAAQUUUKDrBQycdv0uIIACCiiggAIKKKCAAgoooIACCiiggAIKKKCAAgoooIACChg4dR9QQAEFFFBAAQUUUEABBRRQQAEFFFBAAQUUUEABBRRQQIGuFzBw2vW7gAAKKKCAAgoooIACCiiggAIKKKCAAgoooIACCiiggAIKKGDg1H1AAQUUUEABBRRQQAEFFFBAAQUUUEABBRRQQAEFFFBAAQW6XsDAadfvAgIooIACCiiggAIKKKCAAgoooIACCiiggAIKKKCAAgoooICBU/cBBRRQQAEFFFBAAQUUUEABBRRQQAEFFFBAAQUUUEABBRToegEDp12/CwiggAIKKKCAAgoooIACCiiggAIKKKCAAgoooIACCiiggAIGTt0HFFBAAQUUUEABBRRQQAEFFFBAAQUUUEABBRRQQAEFFFCg6wUMnHb9LiCAAgoooIACCiiggAIKKKCAAgoooIACCiiggAIKKKCAAgoYOHUfUEABBRRQQAEFFFBAAQUUUEABBRRQQAEFFFBAAQUUUECBrhcwcNr1u4AACiiggAIKKKCAAgoooIACCiiggAIKKKCAAgoooIACCihg4NR9QAEFFFBAAQUUUEABBRRQQAEFFFBAAQUUUEABBRRQQAEFul7AwGnX7wICKKCAAgoooIACCiiggAIKKKCAAgoooIACCiiggAIKKKCAgVP3AQUUUEABBRRQQAEFFFBAAQUUUEABBRRQQAEFFFBAAQUU6HoBA6ddvwsIoIACCiiggAIKKKCAAgoooIACCiiggAIKKKCAAgoooIACIyRQQIHuFPjwww/Dhhtu2PTKzzDDDGGWWWYJM888c/Z31KhRYZVVVgnTTDNN0/NwRAUUUEABBRRQQAEFFFBAAQUUUEABBRRQQAEFFFCgrAIGTsu6ZcyXAm0W+PTTT8OTTz7Zr6VMNdVUYb311gubb755mGeeefo1LydWQAEFFFBAAQUUUEABBRRQQAEFFFBAAQUUUEABBQZSYNhnwZNPBzIDLlsBBQZGgEP/qaeeCm+99VYYO3ZsOPTQQ8MHH3xQlZmVVlopLLfccmHixInh2WefzQKtd999d/j444+rxuPLz3/+87DRRhv1GO4ABRRQQAEFFFBAAQUUUEABBRRQQAEFFFBAAQUUUGAwCBg4HQxbyTwq0AGBjTfeODz44INVS9pzzz3DDjvsUDXskUceCfvtt1946KGHqoZPOumk4ayzzgqLLbZY1XC/KKCAAgoooIACCiiggAIKKKCAAgoooIACCiiggAKDQWD4YMikeVRAgfIILLjgguHMM88MM844Y1WmJkyYEPbYY4/w0UcfVQ33iwIKKKCAAgoooIACCiiggAIKKKCAAgoooIACCigwGAQMnA6GrWQeFSiZwDTTTBN23333Hrl6+eWXw+OPP95juAMUUEABBRRQQAEFFFBAAQUUUEABBRRQQAEFFFBAgbILGDgt+xYyfwqUVGDllVeumTO68jUpoIACCiiggAIKKKCAAgoooIACCiiggAIKKKCAAoNNYMRgy7D5VUCBcgjMOuusYYoppggffPBBVYYefvjhqu98ef/998NNN90UrrnmmuzdqMOGDQv/+Mc/KuO99NJLYd999w1PPfVUGDlyZFhzzTXD1ltvHYYPr12348033wz//ve/wxNPPJG1cOXvO++8ExZYYIFAV8L8W2aZZQJ5bCVdd9114dprrw3PP/98eOGFF8Jbb70Vpp9++jDDDDOEUaNGhSWXXDIsvfTS2fzr5Y1pr7/++izvY8aMyaZrJQ+Oq4ACCiiggAIKKKCAAgoooIACCiiggAIKKKCAAgMjYOB0YNxdqgKDXoDgJ+85JcCYpvfeey/7+vbbbwcCkQRLb7311vDhhx9WRiPgGtNtt90W9tprr/DGG29kg1599dVAq9VtttkmjlL5++mnn4aLLrooHHnkkYH55xPT3nLLLdngqaeeOuy9995hk002yY/W4zv5Y561WssSkH3uuefCAw88kK0LE59wwgmBoGg+sWy6MCZQTDrqqKPCscceG1ZYYYX8qH5XQAEFFFBAAQUUUEABBRRQQAEFFFBAAQUUUECBkgkYOC3ZBjE7CgwWgYkTJ4ZXXnmlR3Zp9UnaYYcdwv3339/jdwZMOeWU2fCLL744HHDAAYF5pWmmmWYKBGbTNHbs2GzcO++8szKY4Oj6668flltuuTB+/PisFerf//73bH58P/jgg8PVV18dfvGLX4TZZputMl364b///W/YZZddqgK7tFZdddVVw8ILL5wFhgn+EgT+5JNP0kl7fGZdYtCUHwki/+xnP8umrddCtcdMHKCAAgoooIACCiiggAIKKKCAAgoooIACCiiggAIDImDgdEDYXagCg1+A7nU//vjjHisSA6crrrhimGuuubLfCV7mW5yef/75WWCTVqT5NPPMM1cN+uijj7Lg5pNPPlkZPvnkk2ctP+k6N6a11147jB49Ouy3334hzpfWpHvuuWc4++yze3T9S2AzHzSdb775wumnnx5nmf1dd911s5ajJ598ctXw9Mtrr70WMMknWsE+88wzFYv8735XQAEFFFBAAQUUUEABBRRQQAEFFFBAAQUUUECBcggYOC3HdjAXCgw6gdglbj7j888/fzZo1113rfyU76qXICOtQQluEiSdMGFCVde7s8wyS2VaPpx44okhDZoy7Mc//nH2vlE+p2m99dYL//vf/8JZZ51VGXzfffeFc889N3z3u9+tDOMDw2MXwfGHjTbaKH6s+st7Uxsl3oM62WSTBYK8aZpkkklaftdqOr2fFVBAAQUUUEABBRRQQAEFFFBAAQUUUEABBRRQoDMCwzuzGJeigAJDSYD3fh533HE9VmmDDTbI3nva44fcAAKlK620UrjgggvCjTfemL2X9LDDDgsEGUlpi1PeO3rqqadWzYEAJa1A66UNN9ywx0+8azTftTCB03x6/fXX84Oy73PMMUfN4XHgiBEjwnbbbRe/Vv4ybKqppqp894MCCiiggAIKKKCAAgoooIACCiiggAIKKKCAAgqUU8AWp+XcLuZKgdIK8K7RAw88sEdLTbrl3X///ZvO9+9///tK17m8/5N3ldKqk8Dl7LPPXpnPX/7ylx7vQB0zZkyYdtppK+PkP9BdMP8effTRyk/vvvtuuOiii8KOO+5YGVbrnaVnnnlm+MpXvpK947Qy4mcf6MI3BosXXXTR9KfKZ1rZzjrrrOGKK67IgsBrrbVWqBXErUzgBwUUUEABBRRQQAEFFFBAAQUUUEABBRRQQAEFFCiNgIHT0mwKM6JA+QR4N+cDDzwQ3nrrrfD000+Hxx57LFxyySU9uqOlReWRRx4Zppxyyn6txMILL9xj+jT4GX+M71GN32v9JQibn5b8p2mRRRZJv2af6WqXAChBz9122y188YtfzIZPMcUUYbXVVusxfjpg2LBhYdNNN83+pcP9rIACCiiggAIKKKCAAgoooIACCiiggAIKKKCAAuUXMHBa/m1kDhUYMIELL7ww8K9eostcAoW04pxxxhnrjdbn4bwD9fHHH+8xfdqVb48f/29ArXHygVS6C15++eWzroLz87n88svDVVddFXhn6i677BJGjRqVH8XvCiiggAIKKKCAAgoooIACCiiggAIKKKCAAgooMIQEDJwOoY3pqijQboFpppkmfOELX8i60p177rnDZptt1taA4nPPPRfee++9HqtVKyiaH2mmmWbKD8pazX788ceB95HG9Otf/zr85Cc/qRk8nThxYhY4vvTSS7MA8c477xymn376OKl/FVBAAQUUUEABBRRQQAEFFFBAAQUUUEABBRRQYAgJ/L/owRBaKVdFAQWKEdh9993DFltsEd5///1A69JOBw3ffPPNmitCXnpLtboNJmg6fvz4qvWgpezJJ58czjrrrHDCCSeEcePG9Zg13ffy+zXXXBOOOuqo8NWvfrXHOA5QQAEFFFBAAQUUUEABBRRQQAEFFFBAAQUUUECBwS0wfHBn39wroEA7BYYPHx5oZTrLLLNUBRvbucx03rRqrZVef/31WoOrhr3xxhtV3/lCS9VawV/eTbrVVluFf/7zn2GPPfaoOQ7Tv/TSS2GbbbYJTz75JF9NCiiggAIKKKCAAgoooIACCiiggAIKKKCAAgooMIQEDJwOoY3pqigw1ASmnXbaMNtss/VYrWYCp6+99lqP6RZYYIEew9IBBIl5XysB1D333DPMMMMM6c/Z5wkTJoTjjz++x3AHKKCAAgoooIACCiiggAIKKKCAAgoooIACCiigwOAWMHA6uLefuVdgyAvUCna++OKLva73K6+80mOcBRdcsGrYueeem3XTe8MNN1QNn3rqqcMOO+wQrrjiirDyyitX/caXxx57rMew/IBPP/00P8jvCiiggAIKKKCAAgoooIACCiiggAIKKKCAAgooUGIBA6cl3jhmTQEFQhg9enQPhmuvvTY0Cky+99574d///neP6b72ta9VDTv99NPDscceGwig1kp06/ub3/wm5N+XSmC1VmK5Bx10UFhmmWXCsssuGw499NDs/bC1xnWYAgoooIACCiiggAIKKKCAAgoooIACCiiggAIKlEvAwGm5toe5UUCBnMCWW24Z5p133qqhvGv0jjvuqBqWfrnqqqvCBx98kA4Ka6yxRlhxxRWrhsUvzz33XPzY4y9BUt6NmqZFF100/Vr5fPDBB4fzzz8/vPPOO2HcuHHhnHPOyQKplRH8oIACCiiggAIKKKCAAgoooIACCiiggAIKKKCAAqUVMHBa2k1jxhRQAIFJJ500a7k5fHj16YqWoOPHj++B9Oqrr4aTTjqpavh0000X9t9//6ph6Zfnn38+/Vr1+Y033ggvvPBC1TBalOYTgdrLL788Pzhceuml4e233+4x3AEKKKCAAgoooIACCiiggAIKKKCAAgoooIACCihQLoHqSES58mZuFFCgzQJ0d/vWW2+FW2+9NYwdO7bH0m655Zbw7LPPZi0oG3WN22PCZACtQ+nCNp8ef/zx/KC63xdffPGw0047Vf3+wAMPhF133bXyvtGJEyeG++67L2y77bZZnuPIk08+eTjkkEN6tBqNv/OXoOe+++4bHnzwwcpghl133XVh9913D8w7pnXWWSdrvRq/x7/vv/9++OSTT+LXqr+0PjUpoIACCiiggAIKKKCAAgoooIACCiiggAIKKKBAuQWGfRYM+bTcWTR3CijQLgG6r23UTW263JlmmincdNNN6aCGn2n1efbZZ4c333yzKvAYJxo2bFiYZpppwgwzzBB23nnnsN5668Wf6v69/fbbs65v80FeutIl0Pnuu+9WTct7Rnnn6Jxzzlk1PH75xje+URVkZfi0004bZplllszlo48+iqNmf1dYYYVw/PHHB4KxtdJGG20U/ve//1X9NNdcc4XLLrsssL4mBRRQQAEFFFBAAQUUUEABBRRQQAEFFFBAAQUUKK/AiPJmzZwpoEC7BdKWlL0tq15rynrTvfzyy+G1116r93OgzgbvAuUf3eE2k0aPHh0uvvjicMopp4Sbb7450GqV1qzpcgiizj///GGDDTYIa6+9dsPZfuc73wm33XZbFuyM84h5ihPSRfBSSy2VBXdZfqN0xBFHZOM988wz2WhzzDFHOOaYYwyaNkLzNwUUUEABBRRQQAEFFFBAAQUUUEABBRRQQAEFSiJgi9OSbAizoYACrQsQfOX9pARQab1KwHT66advfUafTUHg9JVXXsneR0rXurwXdfbZZw+jRo0KI0Y0X8eEVqp0+UsL00UWWSRMNtlkfcqPEymggAIKKKCAAgoooIACCiiggAIKKKCAAgoooEBnBQycdtbbpSmggAIKKKCAAgoooIACCiiggAIKKKCAAgoooIACCiigQAkFhpcwT2ZJAQUUUEABBRRQQAEFFFBAAQUUUEABBRRQQAEFFFBAAQUU6KiAgdOOcrswBRRQQAEFFFBAAQUUUEABBRRQQAEFFFBAAQUUUEABBRQoo4CB0zJuFfOkgAIKKKCAAgoooIACCiiggAIKKKCAAgoooIACCiiggAIdFTBw2lFuF6aAAgoooIACCiiggAIKKKCAAgoooIACCiiggAIKKKCAAmUUMHBaxq1inhRQQAEFFFBAAQUUUEABBRRQQAEFFFBAAQUUUEABBRRQoKMCBk47yu3CFFBAAQUUUEABBRRQQAEFFFBAAQUUUEABBRRQQAEFFFCgjAIGTsu4VcyTAgoooIACCiiggAIKKKCAAgoooIACCiiggAIKKKCAAgp0VMDAaUe5XZgCCiiggAIKKKCAAgoooIACCiiggAIKKKCAAgoooIACCpRRwMBpGbeKeVJAAQUUUEABBRRQQAEFFFBAAQUUUEABBRRQQAEFFFBAgY4KGDjtKLcLU0ABBRRQQAEFFFBAAQUUUEABBRRQQAEFFFBAAQUUUECBMgoYOC3jVjFPCiiggAIKKKCAAgoooIACCiiggAIKKKCAAgoooIACCijQUQEDpx3ldmEKKKCAAgoooIACCiiggAIKKKCAAgoooIACCiiggAIKKFBGAQOnZdwq5kkBBRRQQAEFFFBAAQUUUEABBRRQQAEFFFBAAQUUUEABBToqYOC0o9wuTAEFFFBAAQUUUEABBRRQQAEFFFBAAQUUUEABBRRQQAEFyihg4LSMW8U8KaCAAgoooIACCiiggAIKKKCAAgoooIACCiiggAIKKKBARwUMnHaU24UpoIACCiiggAIKKKCAAgoooIACCiiggAIKKKCAAgoooEAZBQyclnGrmCcFFFBAAQUUUEABBRRQQAEFFFBAAQUUUEABBRRQQAEFFOiogIHTjnK7MAUUUEABBRRQQAEFFFBAAQUUUEABBRRQQAEFFFBAAQUUKKOAgdMybhXzpIACCiiggAIKKKCAAgoooIACCiiggAIKKKCAAgoooIACHRUwcNpRbhemgAIKKKCAAgoooIACCiiggAIKKKCAAgoooIACCiiggAJlFDBwWsatYp4UUEABBRRQQAEFFFBAAQUUUEABBRRQQAEFFFBAAQUUUKCjAgZOO8rtwhRQQAEFFFBAAQUUUEABBRRQQAEFFFBAAQUUUEABBRRQoIwCBk7LuFXMkwIKKKCAAgoooIACCiiggAIKKKCAAgoooIACCiiggAIKdFTAwGlHuV2YAgoooIACCiiggAIKKKCAAgoooIACCiiggAIKKKCAAgqUUcDAaRm3inlSQAEFFFBAAQUUUEABBRRQQAEFFFBAAQUUUEABBRRQQIGOChg47Si3C1NAAQUUUEABBRRQQAEFFFBAAQUUUEABBRRQQAEFFFBAgTIKGDgt41YxTwoooIACCiiggAIKKKCAAgoooIACCiiggAIKKKCAAgoo0FEBA6cd5XZhCiiggAIKKKCAAgoooIACCiiggAIKKKCAAgoooIACCihQRgEDp2XcKuZJAQUUUEABBRRQQAEFFFBAAQUUUEABBRRQQAEFFFBAAQU6KmDgtKPcLkwBBRRQQAEFFFBAAQUUUEABBRRQQAEFFFBAAQUUUEABBcooYOC0jFvFPCmggAIKKKCAAgoooIACCiiggAIKKKCAAgoooIACCiigQEcFDJx2lNuFKaCAAgoooIACCiiggAIKKKCAAgoooIACCiiggAIKKKBAGQUMnJZxq5gnBRRQQAEFFFBAAQUUUEABBRRQQAEFFFBAAQUUUEABBRToqICB045yuzAFFFBAAQUUUEABBRRQQAEFFFBAAQUUUEABBRRQQAEFFCijgIHTMm4V86SAAgoooIACCiiggAIKKKCAAgoooIACCiiggAIKKKCAAh0VMHDaUW4XpoACCiiggAIKKKCAAgoooIACCiiggAIKKKCAAgoooIACZRQwcFrGrWKeFFBAAQUUUEABBRRQQAEFFFBAAQUUUEABBRRQQAEFFFCgowIGTjvK7cIUUEABBRRQQAEFFFBAAQUUUEABBRRQQAEFFFBAAQUUUKCMAgZOy7hVzJMCCiiggAIKKKCAAgoooIACCiiggAIKKKCAAgoooIACCnRUwMBpR7ldmAIKKKCAAgoooIACCiiggAIKKKCAAgoooIACCiiggAIKlFHAwGkZt4p5UkABBRRQQAEFFFBAAQUUUEABBRRQQAEFFFBAAQUUUECBjgoYOO0otwtTQAEFFFBAAQUUUEABBRRQQAEFFFBAAQUUUEABBRRQQIEyChg4LeNWMU8KKKCAAgoooIACCiiggAIKKKCAAgoooIACCiiggAIKKNBRAQOnHeV2YQoooIACCiiggAIKKKCAAgoooIACCiiggAIKKKCAAgooUEYBA6dl3CrmSQEFFFBAAQUUUEABBRRQQAEFFFBAAQUUUEABBRRQQAEFOipg4LSj3C5MAQUUUEABBRRQQAEFFFBAAQUUUEABBRRQQAEFFFBAAQXKKGDgtIxbxTwpoIACCiiggAIKKKCAAgoooIACCiiggAIKKKCAAgoooEBHBQycdpTbhSmggAIKKKCAAgoooIACCiiggAIKKKCAAgoooIACCiigQBkFDJyWcauYJwUUUEABBRRQQAEFFFBAAQUUUEABBRRQQAEFFFBAAQUU6KiAgdOOcrswBRRQQAEFFFBAAQUUUEABBRRQQAEFFFBAAQUUUEABBRQoo4CB0zJuFfOkgAIKKKCAAgoooIACCiiggAIKKKCAAgoooIACCiiggAIdFTBw2lFuF6aAAgoooIACCiiggAIKKKCAAgoooIACCiiggAIKKKCAAmUUMHBaxq1inhRQQAEFFFBAAQUUUEABBRRQQAEFFFBAAQUUUEABBRRQoKMCBk47yu3CFFBAAQUUUEABBRRQQAEFFFBAAQUUUEABBRRQQAEFFFCgjAIGTsu4VcyTAgoooIACCiiggAIKKKCAAgoooIACCiiggAIKKKCAAgp0VMDAaUe5XZgCCiiggAIKKKCAAgoooIACCiiggAIKKKCAAgoooIACCpRRwMBpGbeKeVJAAQUUUEABBRRQQAEFFFBAAQUUUEABBRRQQAEFFFBAgY4KGDjtKLcLU0ABBRRQQAEFFFBAAQUUUEABBRRQQAEFFFBAAQUUUECBMgoYOC3jVjFPCiiggAIKKKCAAgoooIACCiiggAIKKKCAAgoooIACCijQUQEDpx3ldmEKKKCAAgoooIACCiiggAIKKKCAAgoooIACCiiggAIKKFBGAQOnZdwq5kkBBRRQQAEFFFBAAQUUUEABBRRQQAEFFFBAAQUUUEABBToqYOC0o9wuTAEFFFBAAQUUUEABBRRQQAEFFFBAAQUUUEABBRRQQAEFyihg4LSMW8U8KaCAAgoooIACCiiggAIKKKCAAgoooIACCiiggAIKKKBARwUMnHaU24UpoIACCiiggAIKKKCAAgoooIACCiiggAIKKKCAAgoooEAZBQyclnGrmCcFFFBAAQUUUEABBRRQQAEFFFBAAQUUUEABBRRQQAEFFOiogIHTjnK7MAUUUEABBRRQQAEFFFBAAQUUUEABBRRQQAEFFFBAAQUUKKOAgdMybhXzpIACCiiggAIKKKCAAgoooIACCiiggAIKKKCAAgoooIACHRUwcNpRbhemgAIKKKCAAgoooIACCiiggAIKKKCAAgoooIACCiiggAJlFDBwWsatYp4UUEABBRRQQAEFFFBAAQUUUEABBRRQQAEFFFBAAQUUUKCjAgZOO8rtwhRQQAEFFFBAAQUUUEABBRRQQAEFFFBAAQUUUEABBRRQoIwCBk7LuFXMkwIKKKCAAgoooIACCiiggAIKKKCAAgoooIACCiiggAIKdFTAwGlHuV2YAgoooIACCiiggAIKKKCAAgoooIACCiiggAIKKKCAAgqUUcDAaRm3inlSQAEFFFBAAQUUUEABBRRQQAEFFFBAAQUUUEABBRRQQIGOChg47Si3C1NAAQUUUEABBRRQQAEFFFBAAQUUUEABBRRQQAEFFFBAgTIKGDgt41YxTwoooIACCiiggAIKKKCAAgoooIACCiiggAIKKKCAAgoo0FEBA6cd5XZhCiiggAIKKKCAAgoooIACCiiggAIKKKCAAgoooIACCihQRgEDp2XcKuZJAQUUUEABBRRQQAEFFFBAAQUUUEABBRRQQAEFFFBAAQU6KmDgtKPcLkwBBRRQQAEFFFBAAQUUUEABBRRQQAEFFFBAAQUUUEABBcooYOC0jFvFPCmggAIKKKCAAgoooIACCiiggAIKKKCAAgoooIACCiigQEcFDJx2lNuFKaCAAgoooIACCiiggAIKKKCAAgoooIACCiiggAIKKKBAGQUMnJZxq5gnBRRQQAEFFFBAAQUUUEABBRRQQAEFFFBAAQUUUEABBRToqICB045yuzAFFFBAAQUUUEABBRRQQAEFFFBAAQUUUEABBRRQQAEFFCijgIHTMm4V86SAAgoooIACCiiggAIKKKCAAgoooIACCiiggAIKKKCAAh0VMHDaUW4XpoACCiiggAIKKKCAAgoooIACCiiggAIKKKCAAgoooIACZRQwcFrGrWKeFFBAAQUUUEABBRRQQAEFFFBAAQUUUEABBRRQQAEFFFCgowIGTjvK7cIUUEABBRRQQAEFFFBAAQUUUEABBRRQQAEFFFBAAQUUUKCMAgZOy7hVzJMCCiiggAIKKKCAAgoooIACCiiggAIKKKCAAgoooIACCnRUwMBpR7ldmAIKKKCAAgoooIACCiiggAIKKKCAAgoooIACCiiggAIKlFHAwGkZt4p5UkABBRRQQAEFFFBAAQUUUEABBRRQQAEFFFBAAQUUUECBjgoYOO0otwtTQAEFFFBAAQUUUEABBRRQQAEFFFBAAQUUUEABBRRQQIEyChg4LeNWMU8KKKCAAgoooIACCiiggAIKKKCAAgoooIACCiiggAIKKNBRAQOnHeV2YQoooIACCiiggAIKKKCAAgoooIACCiiggAIKKKCAAgooUEYBA6dl3CrmSQEFFFBAAQUUUEABBRRQQAEFFFBAAQUUUEABBRRQQAEFOipg4LSj3C5MAQUUUEABBRRQQAEFFFBAAQUUUEABBRRQQAEFFFBAAQXKKGDgtIxbxTwpoIACCiiggAIKKKCAAgoooIACCiiggAIKKKCAAgoooEBHBQycdpTbhSmggAIKKKCAAgoooIACCiiggAIKKKCAAgoooIACCiigQBkFDJyWcauYJwUUUEABBRRQQAEFFFBAAQUUUEABBRRQQAEFFFBAAQUU6KiAgdOOcrswBRRQQAEFFFBAAQUUUEABBRRQQAEFFFBAAQUUUEABBRQoo8CIMmbKPCmggAIKlEvgjTfeCLfcckt48803w1prrRVmnnnmcmXQ3BQu8Oijj4a77rorTDLJJGGTTTYpfP7OUAEFFOivgOep/go2nl7fxj7+qsBACEycODHcc8894aGHHgpzzDFHGDNmzEBkw2UqMGQFxo4dG6688srw5JNPhvfeey987WtfCyuttFJ2vA3ZlXbFFFBAAQUUUKCHwLBPP0s9hjpAAQUUUKCrBbg0UCBzww03ZP8eeOCB8Mknn2Qm55xzTvjKV77S1T5DceU/+OCDcPvtt4frr78+2+YvvvhitpozzTRTuOmmm4biKrtOCigwyAQ8T7V3g+nbXl/nrkBfBd56663sXoz78ptvvjmMGzcum9Vqq60WjjvuuF5ny338fPPNF6aYYopex3UEBbpVYPz48eHwww8PF198caCCQpo4dngGXnDBBdPBflZAAQUUUECBISxgi9MhvHFdNQUU6LsAhYevvPJKeP311wOFFbS6m3rqqcOoUaPCyJEjs+99n3v5p6SVyUYbbVT+jJrDwgROP/30cPzxxxc2P2ekgAIKFC3geapo0er56Vvt4TcFyiKwzz77ZAHTVvPz9ttvh8033zxrOTf99NOHo48+Oiy77LKtzsbxFRjyAu+++27YYYcdwr333hvmmWeesMsuu4QjjzwyvPTSS9m6UzZA70sGTof8ruAKKqCAAgooUBEwcFqh8IMCCnS7AEHSCy+8MHsouvvuu8PHH39ck2TKKacMX/rSl8ISSywRVlhhhbD44ouHESOG1ul0zjnnDGeddVa2/gSOd9ttt5oWDhw6Auuvv34YPXp0tkLXXnttOOOMM4bOyrkmCigwJAQ8T7V3M+rbXl/nrkBfBfbee++w4447ZpOfdNJJ2bNKM/PiuYbuRkkEUU899VQDp83AOU7XCey1115Z0JQK0hwns802W1hxxRWz4On555+fPevTZa9JAQUUUEABBbpHYGiV9HfPdnNNFVCgQAG6pb3ggguyB6N33nmnMmdamX7uc5/L/jH81Vdfzbrtef/998Odd96Z/Tv55JOzgow99tijMt1Q+EBweMkll8xWhfU2DX0BWlPzj/T4448P/RV2DRVQYNAJeJ5q7ybTt72+zl2BvgrMP//8lUlnnHHGyudWP/iWplbFHL8bBGhJGl9LQle9BE1J00wzTTjkkEPCWmutFXh1Cd1dmxRQQAEFFFCgewQMnHbPtnZNFVCghsDTTz8dDjrooHDHHXdUfl199dUDrS7oyip9FxDvOmG8yy67LPtHlz0kCyEqdH5QQAEFFFBAAQUUUECBEgjwPHPJJZcEXsFB4Gf77bcvQa7MggLlEvjd736XZWjaaacNSy21VI/MLbPMMj2GOUABBRRQQAEFhr6AgdOhv41dQwUUqCNw3nnnhcMOOyx89NFH2RgESffff//w7W9/u+YUtEClix7+LbLIIuHQQw+tOZ4DFVBAAQUUUEABBRRQQIGBFKDnnIsvvjg89thjYe655x5yrxYZSFuXPTQE3njjjXDfffdlKzPvvPMGnvdNCiiggAIKKKAAAsNlUEABBbpRgO54fv7zn1eCphQm/PWvf60bNM0bxXdB5of7XQEFFFBAgTIJvPjii2HppZfOKgqVKV9pXgZDHtP8DrbP+g62LWZ+FShWgK5+R4ywznyxqs6t0wI8uy+xxBKBYGdR6dZbb630HjXddNMVNVvnM4gF6E1sgw02CBtuuOEgXguzroACCihQhICB0yIUnYcCCgwqgZdeein8+Mc/Dp988kmW7+HDh4fjjjsupO8P6m2FvvjFL1oA0RuSvyuggAIKDLjAGWecEcaPHx8mTJgw4Hmpl4HBkMd6eR8Mw/UdDFvJPCqggAIK1BN47bXXwoUXXhh4VU6Rr8l55JFHKovknaYmBf71r38F9osPP/xQDAUUUECBLhcwcNrlO4Crr0A3Cpx44onhnXfeqaz6uuuuG+iap5VErW2CpyYFFFBAAQXKKvD222+Hv/3tb2XNXpavwZDHUgP2kjl9ewHyZwUUUECB0gucddZZlZ6iisxsWiYwbNiwImftvAapwKmnnjpIc262FVBAAQWKFrC/lqJFnZ8CCpRa4Lnnnstqq8ZMTjrppGGXXXaJX1v6+7vf/S68++67YZZZZul1uocffjg88cQT4ZVXXsn+TT755OHzn/98mGuuubIuFJt5UJs4cWK48847sxqQtI5ddtllK8uly6Ibb7wxPP7441kt3Pnmmy/ryqidwV2WSX6ef/758PLLL2frs+iii4aFF144TDnllJW8NfuBFsBPP/10+N///hfwmmGGGbJWwAsuuGCYbbbZmp1Nw/EaGVKT+cEHHwwPPfRQ1hqZd9kutthiNVsW03KLmqiM/8wzz2TbcamllsreH9UwA5/9SB7uuOOOcN1114W33nor7L777uELX/hC3cmoWX3LLbcEupd+//33wy9+8YvAfttMYvxHH300y+uTTz4Zpp122jDrrLOGZZZZJsw555zNzKLHOLwTmPz/97//zfLPPsY2p+usohKt41hnWoevsMIKYZ555qnMmn2EbcQ+EteF/b1W4vhkG/EP64UWWih7R/GMM85Ya/SGwyhYictlf19ggQXCl770pWybt/I+pEbrdv7554e777472/fZRiuvvHKod27oxPGSghRxDkvnx2fOIeyfzJuuRGeaaaYwatSobL1b6S6NcxDHI/OJ52TOrSuuuGLN45dlsx04Z9JFG8Z0/9YokVdqoLN9OHfvuuuujUbP1ovjZKqppsq6+4ojs0+fdNJJ2TmGPK611lp1z2+sy1133ZWdX7l2jBs3LowcOTI7Xyy55JK9XntokUHhD+eB/iT2fc7L/Hv99dezikZcgzgGJptssv7MOrteFZHHfCaKPE8Vse83uva08/pd1D7QTt9OnMsa+Xfq2p83LHK9OX8+8MAD2f0l16ePP/44O09xb8G94hRTTJFffM3vnI9rnbe4D/n3v/+dvQeQcyfXfa5/iy++eM35tHtgo+voQN4jFHmeZJ+N68J2YRtwXZxjjjnCq6++2hIxzz5c65jHZptt1tQ9ZH+vPzGD7I/czzG/jTbaKLsm8hv7/7333pvtbxyDXNu4prC/NnuPG5fRzN94vHE+536B+2H24UUWWSRMP/30zcyiMk6946SV63tlZjU+1Js/+z37GPeimHHfzbNHrVaSnPvZf7j/ZZ15Vv3yl7/cp3v1Iu1YXZ6HydMLL7yQnbOmnnrqwLt4ed7j3qbW9uce6Nxzz62h1f9B3Fu1mhqdgwb6Xp5jjme++I/KU+wj8fzB/RvPTbX2Gxw4Pv75z39mz7drr712di9dzycex9dee222T2677bbZdqw3fjqc+zT2dfbRsWPHZve25I1nSo7P3lKj63p/7qt4NuAZ16SAAgoooAACBk7dDxRQoKsErrjiiixwFVd6/fXXbxi0iuPV+ttbUJIHAmrHXnzxxdlDYq15MIwH2f333z/7mx/nvffeCzfffHNWYH/99ddnBeeMwzs3KFygoOz0008P11xzTVZQlk5Pq9g99tgj8BBTL/iSjt/sZ/Lxhz/8IQvk8dCSTwSRvve972XLbiagxDwIJLAerG8+0ZXylltuGfbcc89AwLnV1Jshwd/TTjst3HDDDVVdPxEYJ4jzl7/8pRLY4GGUbcpDcVpDmTyxrnvttVfYZpttamYRt6uvvjoLmPIQG9NWW23VYx+k0PPKK6/MtisBUwq7YjrkkENqFirE3/lLYcmBBx6YBXl4qM0n9ofll18+e+fhzDPPnP+55ncK6s4888ys4gFByHz65je/GchbMw+7+Wn5zvwJJvPwfdttt1Vqlf/617/OCmkvu+yyQHeTFLbkE8HVE044oRIk47ggrxjm91GCpkceeWRVxYP8/NLvFCBwfPJgXytRSWDzzTfPAuD13h/WaN0ICpNHAuK8Zzkm8k+QLl/g3e7jJS6fv0Wcw9L5xc+c0w499NDw7LPPxkFVf1nnb3/72+GnP/1pdlxV/fh/X9ivMeLckT8W4/gEYnfbbbewySabZIM4ji6//PLsuCIIwPqRCG7WCpy++eab4R//+EdWgMS2iMcSFUTygVO2C+MQXGUfpqCaRCE370kisV9SUSct9KZwh67j03T//feHP/3pT9l80mM/HQejrbfeOptffr+jazGuO5yrKDiLiXPcDjvsEL9W/lJQueOOO1a+xw+PPfZY+NnPfpblOw5L/3INPOyww8JXv/rVdHBTn4vKY35hRZ2nitj3e7v2tPP6XXZftlu7z2W9+Xfq2p/fR4tcb65xXDduv/32qvuXdJkEpLg3oQA8n3o7b3HPw3n2ggsuqHmeZZ4HHXRQIPDR7tToOsq5aKDuEYo+TxJM4vr4n//8p1/dRBJg41oUu5yM24frUa3AVPy9v9cf5kMlTpbNP+6dYreqa6yxRuCe/rzzzsvurWvdAxDM/M1vflNYrz7s4/Q0xDNGvUpEBOy4B2PZtVJvxwnTNHt978v8cfrjH/8Y/v73v1c9DzAvKi+xfrEyLfcM9DLB9b+W7zrrrBMOPvjgpiq4FmGXri/71u9///us0lo6PP3M/Rj3+txnkbgH5zv3bunrBrhvqrUfs25Ubust4cQxxn0b14KYOJfWuk/ab7/9svNcveeUMtzLX3LJJeGoo47KAphxfer9ZV/nWTYmgvGXXnppdr+b7jdUOKUSYj7xnEaZCsc4Fepi+ta3vtVr4JRnYLYT0/K8m08EdH/yk5/UfL9ob9f1/txX8ZzO9Y51i4lKSbX2B/J49NFHx9H8q4ACCigwhAWGfXYj++kQXj9XTQEFBliAgBQ31tQoJFGbeM0118yCeQORNQqaqU0fE4Xl1IAuOlF7lYJ1HsZ4qCUIQAtGHuYokKW2LQX+3JCTqAlMoU++9icBHh7284nWaDxc8gDXW6IwgOX3NVFYRcu3mAi60bUxD1ME3aj1TAENtUV5yI6JmtA8wFFoVy9RQLTPPvtUAkQEEb/yla9ktb+piU7QgodmEg+lBBNabS3YyJBtQ2CyUWK5POhT0HP22Wf3WpBFoI+CiXzCo1YQhAfXfGEN+8XXv/71/Cyy77WCaXFEAjsUlvz2t7/NlkWrXQK5o0ePzrYXD8MEN5kHiXWjgCUfnKMglvFI1FAmUH/OOefUzH820v/9941vfCMcc8wx6aCmP2+88cY1g5MU8t13330NKx+wEFru/eAHP8jeV0xFgkaJQBPHG0Gteol9mYIqtj2FNRQMUyDAccx+jyHHX6yVzDZkX6MVYT7VWzf2ldVXXz0LuhJMzKf8tu7E8RLzUNQ5LM6Pv7Q4YZ0phCdRWLnppptmre45N1Ko9qMf/ShricrvdKN++OGH87Eqca6hEOuee+7Jhq+yyirZ9l966aWzfZma8gS7Y4rnQApUYhA1/sZfzqVpwVn8jUIogrf5RIEe54M0UeCy8847p4Oyz+xjV111VVYx44c//GGPY4iKLWnglP2SdWOfY58iMMG5lhYxnBcoBI9+LGDvvffOKqqkC+Yax7Wu2VTruOVcx/5MAI7AKuc0rt+0qKFgkfMWxwiF4JzDOXe3korIY7vOU0Xt+42uPe2+fpfZl/2kE+eyRv6dvPanx0VR6821nnMp13vSqquumt0zEECkghnXeip90WKdxH0brbWoqJemeuctenPgvMB5jnNAo1TvPN1omr78Vu86OlD3CKxD0edJvNlvac3Gfdlqq62WbTOuBdy3cA3gOkkQiXMxiXGOO+647HP8j+3P9quVCArUq+BWxPWHwAatIGslAhBcv9JAS63xuG6Sl3yloFrjNhpGxSECMLHiG88X3FtzP86xyPHBcwZ5ZllUNqXiJ9e1NNU7Tlq9vqfzTD/Xmz/Phtwjsl/UCjDFeXA9OeWUU7Jnbe5ZeS5rlLinJzjfKBVlF5fB/ReVYDmf8GzCfst5i5amTz31VBYUJpBJ4rmX51wSzzDcczSbCC7X64UmnQctsL///e+ngxp+ZhvwXBT3pXTkgb6Xp4yF7RnP92PGjMkC6bTcpHchzicYU+mZ8weJY5Rn6ph22mmnmgHtWveYTEMliFhBMM6Dv5RtrLTSSumgqs9sy3333Tc7f1E5eYsttshafbN/c9/CMykVCkksg2fKtPJ3o+t6f++raH3ebGK/pSW9SQEFFFBg6AsYOB3629g1VGBABHhopwC81gMGGaIQgJp6jQIXRWecgCUPCunDJ7VYCSoVnShIpuYmiW5mKezOJ1oz8QAfg2kUuudbMfFQQo1/EjWwY5CG7xR8UJjNg+fss8+eBbjospLCBgrTYhCTBxNaJdSqmct8ekv5wGk9Mwp0aBUaH8qYLwXusWAvvxwKfdZbb72sFQP7ATWmCeSliUALD80EZknNPOyn0/O5GUMeMnm4JDjGAygB37jMOD8e3HiQJ88EEHBl2/CQTg3V2BqtXoEPrTSpq8Q0aSC7VuCUecVWqRRycSzFlA+mxeH8PfizGrw83JPoou/kk0/u0X0wQSQK+2JiHFpspikNSDCc1rSMQxCHAgmC4RR88ZBOgV18yMWIaWNN8XSevX2mtjOFV6Ttttuu0hqQ7+zfmBEY4zP7NsumsCIum/FIFBrzsE0LWAqRKaChBS7rSfdLMfVW2Evg7cILL8xG51ijUIqum9NEPhiPABuJ1qc89M8999zpaFm3arXWjZY6VCyhIIECbfJNiwgKM9j3023dqeMlZryoc1icH+ddjl9a55Bo8Xzsscf2aKnEdqG1Con9jv2fwpCY6BqbgvLYcoSCWM47aeLcyvxjYrsRNGB7xS7ZcOdYIDH/WoFTrhkUOJE4P/35z3/OPtcKnHK8xnxzDo5dynE+oOCJY5j9g8JCCmdo/UmwPA2csp8SnI91GikIwyyfuBZQKYlE3il0TSvdcE2hUJh0wAEHVALMVC6oFdzlvJdWcDniiCOyFh5MT2Ea16V8QTLnPYLK5JUgFIXPrVzP+5tH8tau81RR+34z1552Xb/L7Nupc1kz/p249rOvkopcb64z9CoRE5Uz8scfxybdslLxiJQvKGdYvfMWvxFIolIK1/25PqsQRDCVgAzn5OOPP75yj8K5gRbuzQQrmG9fU9nuEYo+T1Kxhu1I4t6FCnDca9ZKBAM555JqBU4JThGoIlHBKG0ZVS9wWtT1h+ssFR9JVBLlvjRNdO/M/RxBHe6juTeiJxHuB9IeErg/omJVXxOBIq6f8RmL5yV6SMj3hMPxQY8L8Z671nNGveOklet7o/WoN3+micch9wbcWxJM5dzGfWJ8zkznTcVW1gFn8se9JAFJ9oHYOwcG7D8c17VSkXbMn/2RStOcA7lf4N46/7zHeDwzcm+XBk55tmQYz2Rcm2Pifoz7+3xinZt53mWezJvEPhrvAbkP5xUq+cQzFftn2e7lCQCz/3LcYUvFu1oVBFkfehC56KKLslUjuEmQMyb2k9iilwrl0aZe4JR7aZbJfTLXiZgaBU4pC8GWZ1xasXIvm6/EwTM4FfHivTrPeWll5Gau6329r4rnH+4tY9kF+xP3//nEMcR52qSAAgooMPQFRgz9VXQNFVBgIAQaBU3JDwFVxkm7iWl3Pgn0pEFTltfX9zw2yivLuP6zguzeErUVqREegy6xkCOdjiAR/0jpO3hoAUotzHxLQR4iCUpTEE6tYxIPPxToU0hRRKrXXS4FIDzI8pBFl7Qkglu0yksfqmIeeBiKD/G0/K31EE0wgMAcBUMkHvi+853v9GihGedZ62+rhnR3xXpQyzutFU+gJb+/4M368pBOYI5EpQG8aSWWpviAHwtx0t/ynymIZP8gpQGR/HjpdwrH4vFEQQsB7kbvTo3TxkKA+D3/l4daClgoNE0T60MBDUEgCrcopOUfLXj7EjhN9880SMNDNoUCaY1j8kELRfYZWqHExLtx2Hb5B3FaKfMwT5e6sZVio9ba7LcxaMq8mTYfNGU4D84UxLEfUyBAQQzBOFqqpqneulFowDwYP3azxnQE52lpnRb+dOp4YflFnsOYH4lAXwyast9QEMF+2lti/0wDp/jiTGLb54OmteYX93Gs43HFObK3RCEU/0i9vbeZ8zOFfqS0ggsVTygQpzDul7/8ZeWc/d3vfjc7VjhvxkS3ZRxDvSXOgTFwyrpR4J0ec1wX4vk0zTfHRRxebxnsd7HAiIoKtQoQmZYANwXwnJMpOKNlcLzm1Jt3Orw/eUznEz8XdZ4qct9v9dpT5PW7rL5sr06dy1r1b9e1P+6jRa53b70qsEyumVybY+C0VkXGeuctgjMc2/kePhif8zdB0m0+q9RGohCcljftDpzWu44OxD1C0edJKqLEoCn3jgTFmr33yzZC7j/u0+P1KN5n50bp8bWo6w/X2bjs/PMC15b4W8wA+xjHKpVYue+O+aWiW38Cp9wrxPttKv796le/6lEBiDxwb8d7tgk2cf3l3o/KWbRKjanecdLK9T3Oq9bfevPnOCQ/vHYgTVwrCNxTsSu9l61V2YppCfBgvP3222ezIeCFb73AaZF2LJDAOEFTEsdxvfsQ7odi8Cob+bP/4j1SDGzH4axT3iX+1sxf7o1iPtJ7zEb3SfXOQQN1L8/2p3Ic25PEK2byFWHrWaTPWYyTnm84hntL9EZE4v6vmcSxyD0w1wv2d+4Z889qzIfKIlTKi729UJGZSuZxG7V6XW/lviruD+l+xXNYHN7MejqOAgoooMDQExg+9FbJNVJAgYEWoEC3VgFNPl+MEwt/87+143utlmlpK5uilklhVT6gWW/e1GSMiYBbs4muQhstg0L5NLUy73S6Vj/zgEFN+DQgQoCXB6U08X7BWEhErdfYJVM6TvxMgIwuPUnMp5kCwzhto7+NDLHNt/TiYa1eovupNNEqrpOJh2aCzzHoQguRekHT+LBL/tj/aHHTKBE4ygdN0/EJ2KRBRWoDF5lYj3zQNM6fSgLUqo+Jdav1IB5/p0uomCicq/Wu1mgZx6OVTqN3OJK39P2Q7Nu08G4mUThBa+U0aMp0bBcqC8TCi04fL0Wfw2gJn9Zsp5Vleo5IrdL9kxYKHKcx4Rq7NMamXjdrzDsGRhmPgPlAJQqLeJc2BWvpORtjzn0E+2NKg5xxWK2/nBPjvsHvRZ5vKHiNhXBUCmmU0goxVBbqrUvPRvPq729FnaeK3vdrrVejaw/jD9T1u1Ze47CifDt9Lov5T/828m/Xtb/o9Y6FyOl61fqc3mNS4aS3LjzjPHDIB03jb/wlyJX0nW9hAABAAElEQVQGSou+7qfL6u1zp+8RyE+R50l6SCCoHhNdt6dBjDi83X87cf2pd1/KunHtz7cs6+s6U9GRYy4mejHJB4rib/zlXjIGnLiP5n46XgfT8fKfW7m+56dt5jvHYRrEyU+Tv1Y0ek6hF440AFTvubAddmmZAPeD9WzJI4H1RvfxeYMyfOd+bCDu5QkqxpahPEfHfbgMJvk80E1wzCsB/FiJMT8e39N7y1deeaVS4bXWuHFYo+s64+SPlXr7f5yffxVQQAEFFIgCvVf1j2P6VwEFFGhSgIeuZhPjUojeiUQ3NGniYZRC0qITD1DUAOZmn9ToYT19IM4HdvuTLx5IKHiJ6xy7++3PPJudltrBBAroSo5E60seUNIubXjYiyntUjMOy/8lcBffdUrrqk6kfOvSRstkOxKoid16dtKbfBGEjj58b3RM0TqDbpgo6CQo2Gj/ZF7NJApnYyu7+GDczHRFjMN2it3C9Ta/dB9kXLYTtZHThGVsGcnwNNiajpd+pptdArgxH1QWoKvg3tJee+1VqRTQaNxOHy9Fn8Po5ji2/OBYTgtH8+tNi2G6ZCMPscJEHIfuIWMisJwGBeJw/lLoRvdldHVM13aNAv/pdO34TFftvBermWsNBTt0xxdbyFIrv1bimGW/jS3iKXgvInHdwozEsilMbpTSikcUNhPATQPBjaYdiN+aOU8Vve/3ZT0H8vrdl/zGaZrx7fS5LOatlb/tuPYXvd5cY7jHjAGIeue4fPCT+8y0MkorLvlx2d6xe/LYmiw/Thm+F32PUPR5ki5U4zmcd6gvt9xyA8I20NcfVjq9pvdnn6LlXUwE+BtVzozj0T0oPaaQ6C6U98g2uldhvFau74xfdGrlXMWyuQeOLTrr+bbDLr3/ofIGryqgO9V8iq0M88PL/n0g7uW5T6ZL2Zh22223+LF0fzm/0f1yTL0991OJgkoD8bmB5/7eponzrvd3sN5X1VsfhyuggAIKdE7AwGnnrF2SAl0jwANns6mVcZudZ73x8oXQsdCJgtKiE/OM3Qs1mncs9GKc2Fqw0fit/EbBegyc5rsobmU+fRmXroRj4JTpx44dWwmc0q1PGuQjyJHWRq61vNSpU4HTfECtVr7SYTyUxcBpp71591dMBMzTliBxePqXFmv8Kyqlx1a6rYqaf6P5tLKd2EZpqrWdUkvGzbcGTadPP/NQHwOnVBSgW7HUJR03fqZgoLc0UMdLkeew1JRgXL3WptGC7p/zidZS6bGftjTOj8t3Wr83U1haa9oih5GPVionsM/0tt9wjKXzLOrakb6fmpYp+fc8513ylSTYPmUOnKaujc5TRe77ebNmvw/k9bvZPObH6813oM5l+Xz29r2Vawrz6u3a3671rhcsTdcv39tHUecKlpE6NTqe0vwMxOc0n70tv5l7hKLPk+m715upcNXbOvTn94G8/pDvdFv1dZ/K3ys0ew9H0Jpzf1wuXVz3Fjht9fren21Ta9rUq9bv+WHp+HE903HaZZevBLf//vtnXSfzrDgU0kDcy/PakXg+p+Ju2rV02Ux55uc6SKL7bt6l2ttzP71cpIHTItaJ/X+gykWKyL/zUEABBRQYGAEDpwPj7lIVUGAABPI17wmavPDCC1U1nNudLYIpdB/Fu+HuuOOOSs3fdi+30/PPB+UInMZE4Xr6wL7ffvvFn5r622xXc03NbIiMFFt9sDqNukJr1+qmtcnTz+1aXjvnm1rSHWKzXYalre/IH5VCeEdkf1PZjpdWz2EU7DzxxBMVhkZdyVVGqvGBecRCIn7u63xqzLr0g1hvgphcO26//fasVWhslVpk5tPtRKFc+v7gZpZT9nNzem5KPzezbozT6r7f7HyHynipafo5rl/ZzmUxX+3+28n1prts3tHNPSbnigceeKDdq9d18y/yPElLLN6TGVO+V4w4fCD/dur6U9Q65u8VaBXaTCJoSmvs2GNM2vNIM9MPhXHaZUdQj9eC0KU/iddk/OAHPwgEq2kp2eh1GNkEQ+C/oq8D6f45EM99rWyS9JzJNYr3CbeSyn5v2cq6OK4CCiigwOATMHA6+LaZOVag9AILLLBArzUJ40owbqcS3akSCEkLnAnopV1DtSMvtGy97LLLsndzUoOZFgCzzDJLoKYtraYuvPDCdix2QOeZb22bvoMvDUxRS3ennXZqKa/x3YUtTTTER04fSrspoNSOzZpaNlvgRj7y4xYVOC3D8dKfcxjdwaXn3L7un+l2wbuv82HawZC4TtDdMO91pbCRLjYp2KWAceeddw6nnnpqzXf09mfd0n2NQs7eWvXmlzUUCz/7s+/nfbr9e7p/ddO1v93rTSsx3v1ON/NUrqCVDve6dPnKuSLt4rzb98Ei1j/dnv09T+Z73Wm169Ui1qfWPAbi+lMrH30Zlr9XyD+PNJon93ExcJrfNo2mGyq/tdOOLqkPPPDAcOmll1a4/vOf/wT+8V5TAqkD1U11JUNt/JCeN4q4/g2mwGmaV3pEWnvttVuSLnNPJi2tiCMroIACCgxKAQOng3KzmWkFyi2w5pprNh04ZdxOJQqdR48eXanxynIJnK6wwgptyQK1S3lXDAXfFELQcm2zzTbLHhgWW2yx7J13F1xwwZAMnNJdbJrS7s94t2ZMdHO1ww47xK/+7aNALOhh8rRVXh9n19WTpZZp15O9oaRdoDFuOp/epm30+0AeL0Wcw/Lv0err/pn37Ot8GlmX4Tda41OZ5qSTTgqxK1wCknvuuWfgva5xP+NdsEWndF+jJQjvfOvWVMS+36129dY73b+66drfrvUeN25cOO200wLnAiqncI/LOWLdddfNAhB0iUi38QZO6+2RfRuebs/+nifTgAK5Se+V+5a7/k01kNef/uX8/02dv1fgfYnNpvSej1aRVEJophvWZudf9vHaaYfjEUcckZ2jOCelQVpayX//+98PK664YtaFb76HqLK7NZO/9LxRxPUvDcSW3StddyqH+NzfzB7jOAoooIACZREwcFqWLWE+FBhCAttuu2244ooreg2e8q47xu1k4j2EtN6JiRagm2++efxa2N+LLrooq1kbu6SldiU1bfMBxcIWWLIZxQL/mK30nZtpyzzeNUKXyb298zDOx7+1BWh999RTT2U/pg+otcd2aCMBHupjgQ6tzZpN+XGL6nJvoI6Xos5h+Rb9FOT3JeVbmDKfhRZaqC+zKu00FNTSAp/rEonCsF/96ldZYWInMs2+FrcPeenWVNS+361+9dZ7oM5l9fLTqeHtWG+67qbwmZbopIUXXjgcddRRYa655sq++1/7BIo8T8ZnhJhbKhoN1DYc6OtPNOjv3/y9V/7erNH803HZzt0UNMWlE3ZrrLFGFjy9/PLLw8knnxzSAOBNN90Utttuu3Deeedl76lvtK0G22/tuA5Eg3zAOw4vy9903bv53rIs28N8KKCAAgq0JjC8tdEdWwEFFGhOgC55CIzWS/zGOJ1OBDDTrl55cItBklbz8uSTT2bvkuI9qWmie8Wf/exnlfd4HnzwwVkt224JmmIRC9+jSxo4nXfeeePgrHVkX/0rM/FDmHvuuSsKefvKD35oSiDdVynEpLV4MylfWaCobsgH4ngp8hzGO8PS98T2df+cZ555qjZDX+dTNZOSfdl1110rQdNFFlkka3lKC4xOpXRfSwszO7X8MiynyH2/DOtTpjyk+xctxrvl2l/0evNezO9973uVoOn6668fzjnnnAELuJVpH+tEXtLt2d/zZP66NpAV3wb6+lPUtkvv4Zhn/t6s0XLScbuxe9BO2Q0fPjzrfemSSy4Jxx57bNWrLh555JFwxhlnNNpMg/K39LxRxPUvDXI///zzpTZJ153r/lDtMabUG8HMKaCAAgr0WcDAaZ/pnFABBRoJ0Mro/PPPDz/+8Y+zACrd0vCPgCnD+C3fEqnR/Ir6jW6Y6C43Jmp7U0u/L+knP/lJ2HLLLbOasen0J5xwQuUrDzabbLJJ5Xu3fEiDGpNNNllVLWYeoIYNG1ahuPnmmyufu/FDEQ+QaeEb7zt7+OGHu5GykHVOC8s4PzRbkzstuGD/zhdA9TVzA3G8FH0OSwP7tJT68MMPW+agFU563rj77rtbnke9CZoNjtebvojhvJswXadtttkmzDrrrEXMuul5pIVbd9xxR5+2U9MLK+mIRe/7JV3NAcnWQJzLBmRFcwster3/9Kc/hXfeeSdbCufEPfbYI3CfZeqMQJHnSa5raRqoe7cyXH9Sh/58xjTtxabZYDQ94Lz99tuVRRdV+a0yw0HwodN2nL9ogUrFDyrZxXTnnXfGj0Pmb9HXgfTcQQVuupVuRyriGTV9HuIYe+CBB9qRVeepgAIKKKBAWwQMnLaF1ZkqoEAUoCtegqT//e9/s3987nT3vDEv8S/LHzlyZPyadd1LIXEriQeUWgUcPGAQGIhplVVWiR+75i9BiHPPPbeyvt/85jezd2/FAXR9lRY8/eUvf8m6642/D/W/vHcsTWnXYOnwVj4vvvjiVaNTg9vUN4GlllqqakK6He8tEWC96qqrKqN9+ctfDlNOOWXle38+dPp4acc5LN0/X3vttcAx32rCYcEFF6xM9q9//Svcf//9le+tfki74ON8HgMRrc6nqPEffPDByqxojbHyyitXvhf1gYLhRon9NiYKty6++OL4tWN/e8tjOzPSjn2/nfnty7wH0rfT57K++LRjmqLXOz1X0EVvej/bjvw7z2qBIs+TX/jCF6q6gz3rrLMGpMJKuk+16/pTrdi+b7zrl/eCx3Tdddc1FVS68sor4yTZ32WWWabqezd8aZfdr3/967D77ruHV199tSYj5zBa0cfEfWJvaaDv2XrLX/73oq8DaTCSyoh//etf84vs8/f0ObWIZ1Req8G+FdNgalE82PazaOxfBRRQQIHiBAycFmfpnBRQYJAIzDDDDFkr0/Qmnq51W6kBSXA0/24iVp/3dU6YMKEiUYaWTJXMdOgD74ejqyUS7zXBNp9++MMfVgbRHSotKJpN7733XrOjlnI83luYBm2iVX8yu+qqq4YllliiMosbb7wx3HbbbZXvfmheYPTo0dn7l+IUZ599ds1jPf7O32uvvbbSHRw16Pfbb7/0535/7uTx0o5zGO/iS7vr5b1WdDfZaqK3gjT95je/abor5XQ6PlNgnaZHH300/drxz+l5rV3Xjd7MV1tttbDoootW1v2UU06pdAdaGdjgQ7oODUZr+FNveWw4cT9/bMe+388sFT75QPqyMp08lxWO148ZFrne6XHWrnNFP1a15qTcL3OObVerqJoLbdPAIs+TBCm/+93vVnJKYIl7jk6nwbhPNTLad999K4Ea3ql42WWXNRo9+42gdUx0kb/CCivEr131tx12//nPf8I///nPqveZ5lHTrmfTnl/y48Xv8f3O8ftg+FvkdWDjjTeuuq/+4x//WNj5Nb0/LuIZdZZZZsl66Irb6Oqrr84q08fvvf1Nz0+9jVv075w/imh1W3S+nJ8CCiigQOcEDJx2ztolKaBAiQQIMvHu0Rg8pSsnCi9OPfXUpgri77vvvpprQ3fEaRfEBLDSQGo60VNPPVXVSi39bbB+vuGGGyrvriWA9Ktf/arqwS6uFy1xV1pppfg1C2QTcG2UKHj729/+NiS6Pk73kT//+c+BB7NaiXVu9j1wBKgphIvpBz/4QfaOxPi91l/e50dhhqlagMBnbDFKF1hpgVr1mCGMGzcupN17brTRRmGxxRbLj9av7508XtpxDqOywG677VYxwIwuzOmJoF4iiMXx/thjj1VGWW655aqC2vQUsN1229VtxcCEHFvHHXdcZR7xw+yzzx4/Zn/ZhrUqw/AjhTbNdvdXNdMWvqSt8Jms3nGJy4UXXlj3nJFf5FRTTVUZRFfAjWrPc/7Yf//9K10is+8T9GZ7NUp0zb7LLrv0uYVqK3lslI/+/taOfb+/eSpi+rL4si6dPJcVYVfUPIpc77SlEe/YHDt2bM1s0mo87f2j5kgdGEjvALSg512snMObCWJ1IFt9XkTR50nOsdNNN10lP0cffXQ47bTTKt/zH7gnTK+L+d/78r1d15++5KWIaWiJnb6WpbdKQBdccEHFlNZ2XAe7NbXT7plnnqnLmvbixGt98im9jvEbz9eDLRV5Hfjc5z4XdtxxxwoBrXR32mmnliq7VSbOfUifUamE26hXrmYrHe68886V7pi51ybv6TbPZSH7On78+HDkkUeGgw46qNbPbRuW7muU4fCsbFJAAQUU6F6B/1fC2r0GrrkCCnSpwIYbbhh+97vfVQIkFEhTYEFBPO/d/Oijj2rKUJjMQ3a9xINRTE8//XTYZ599Qux2iG7ybr/99vCjH/0orLPOOlUPDTxI1AuyMj/eXRlTb7X2mVf6HsHexo/z7ctfCuLpMpP3bBGso0ULhUA86DTq6orgFK1/SdTmJPD3/e9/P/CupdgqhtYUTz75ZDj99NPDmmuuGQ488MDKb33JayuG+Rqu6bT5Zbfq/e1vf7syC9aVfYF1ZL9j/7jkkksCXVvRkjQf9MnnK86Iwo7tt98+fs1qHlP4w8MqwVneGcS+y/wpTP3Od76TedeqTZwug32SY6NRSm3SaRtNU+83jru0FU0671rTpL+nn2uNm89bveOCltI//elPKxUrjjjiiJoFma+//nrYeuuts5Y0LI93zaY1yvN5aHXd0uk7eby04xxGISateWPinbBbbLFFVoGFQCCt+AnAURhGi9RvfOMbNY933i3N9omJQp0NNtgg0D01Xe1RIYVCZWq0cwzROuikk06Ko1f+cu5J15PzzqabbpoFazlGOBbPO++8wPJofXL99ddXpmW/aVQDPd0POX44P/SWsJl66qkro5H3a665JpuWZREcoYtjXKiQkqZ0eelwPo8aNaoyiHyzPi+++GLVsPQ7Qf/NN9+88jvbhWWyTbiexXMB1zJM9tprr7DWWmsFukPsa2o1j3E56fFc1Hkq3SeGyvW7TL5su06ey+K+kh4j9c77cdx0v2JYOm0cJ/5t5dpf1HqPGTMmLj47Hrn3euihh7JhHAd8pjX+17/+9fCPf/yjMi4fGq17up7NnLfS8dPPVQv87Msf/vCHSmE+y+e+hJ5G+ppavY6meUs/11p+ftvX8yryPMn98q677lrJDvsU249nEQKoXOO4f+NVJ1RQWXfddSu9ujBRvTzGGebXOf+d8dp1/WnWs1ZeuQ+s9xwWx2/0l65h43tKCdhtueWWNfc73q/JswWJoDg9W6SBo/wyUr9mjpP89L19b2X+6bjMN++dX1b6e37adNx22VFZrtb9EM8hsbIAQXyez/Pp85//fNUgWmbzKo30WZd7md6Oh6qZ/N+X1KKZ6Vs9B6XLLOo6wDy5h+bZLybuXam8yb0iFbxZF54x6Yqb5756lb7j9PEv99RUfo6JZ3MCmNyTUgGPe23uq6kMwzNQmlLLdPg000yTPefHCuuxAiVlBdxnxuk4pu65557AcxfPwDwbx/vOdH58jtPwubft1sq1Or1nYt6HHXZYVs4R913+1quwxPgmBRRQQIGhJTDss8KYT4fWKrk2CiigQGsCBOa4Qc/XXqXFGYGQmWaaKSvQpqCYglQK99NEbfE999yzMogbeR4m8uNNP/30WcsdTrt0W7P33nuHueaaq6oFJYUxvJuHdyhRGE2BCQX45DEtmOaBhkDinHPOmbWUnXnmmbPl81AUu8C56667KnmabLLJsuAcyyVol29tVRmxxge6Dkvft8cyMeHBgVZYaXdJdEHLgxwBvLRrzhqzzQbx7hQCprfcckuPUajxyQNxfFChQIP3pVJLtZlunOIMWzU888wzswciHshpsRETy6S1BP8IpJCiNw95/IupN28eugmW5veROD1/R4wYkRWc0XVm2lqPfZIuxAhKp4X8cVr2kwMOOKBqu8Tf8n+XXHLJbD9kv6Mgk4I5gvwUtqYPoeyPvPuTh1imIdGSj5aY7AO0IEmDnbQmplXMsssuG5Zffvn8Ymt+j10881CedpvNw/a3vvWtQKFJDAyzXejemeDbpZdeWrVslkdBwnrrrVd5l+7ll18e7r333izQk7YcJACHIccPx3F8oI8ZpJCHQFOsJU9XYriTFwoyyWssiCIwyDGddsMc59No3dinOTdwXNH1VqPUieOF5Rd5DkvXh2OZVv1UWInHdfp7+pltgQ3+8fwWf6fA5ZBDDskKzeKwen85D+Ga7+aX8WmtxW9pwVt+PrSWpfIL45L3mL72ta9l3dquvfbaWeEsxzLbmW3EPpkW+HLs8H5WgrWc1+eee+44m6q/vKOK9UoTrV8498UCIs77mFDYRAt/EuNwPuH8TvB31llnrcyCfZRzcj6xn2LM/rvGGmuEY445pmoU1oXCImr8p4lpOL/F/PAbxwMFa1xb+K3V1Eoe232eKnLfb/XaE68nnHeKun6zLcrkG/eNTpzLWvXvxLW/qPWmwkL+/duc69h/KWTmnEDgjX9cj+NxTIEw1zzOEVzzejtvcW9AxYn4Xk/uBwk0UWicXz73B5zbuD9KK8lwv5LeJ7IPEDxNu6iN+0Wjv42uowN1j1DkeZIKmYceemjVtSPvwTYmyMo5gvuamFZfffXMnusZ3WxSoZF7JO7neP962qsJgSnuzbjnSK8NRV1/uGbSwpNl09r45ZdfjtkM3EOxP/Kcw/U9JirmULGPe8m4r/Ib97/0EMT1k2BOq4nrMNc2LHj24rrHPSzXZPJFoInnKxLXscMPPzz7Lb+c3o6TZq7v+Xmm33ubf/445PUQtALk2SntlYZWiLhy/x1b3Mbun3l+ZV9IU71jlnGKsmNebLtYSZP7OZbLcyj3NrQ65FzCPSH7Ds8V9e6Rtt1220C3v2nieZjnBJ5ZCLr9/e9/z9Y/HafW53h94N4u3ksxHvPDkHMl25V7q5ganYOYZiDu5bl/paJdb70LsO/jFCtyj/msAk7aW05cx/iX+8x8xZv4W/zLvSPXIq4RMVERhPtcnlXT80v8nfsc7qnjc1Uczl8qD6bHP+UAXCe22WabbN9gnLjd2lkuwvmTdUrPmyyb+1/yxH0z61mr7ILxTAoooIACQ0vAwOnQ2p6ujQIK9EOAm3EKLghU5m+W87PlgY+Cc/4RSIstJ+N4TE+roDSgREEWtZ8paKdwg4cYCrgoYEqDVMyDeVJITw1Pals2SrSKiu+lo7AiXwCen5Zaomk3ufnf89/zgdP4OwU4OFAzO/7lQWzkyJFxlKb+UphBzWFaWdJSLB/EIBiAB4V89R6mGy2oVUMK/WhJWC9RE5rCLVJ/vAn+EeDMd8mJK4WABCIoyGF/ZN3ziYd5HpZrJfLPAzEPqHSjRGFCTAS9KTSjlnDaHRaFMPmaw3Ga+JcWxTGIS2EDLR8aJYI4zXaxxDFBreh6ieOFAACJB2aOo0YJm1jggR+OjRLzZhn5REE0gT66amKd04AfhVQY0pIhBtPz0/O9t3VjHAoZCLj1ltp9vMTlF3UOi/NL/xIYJ0jB9qYAnnUiUYjGPk8BFIUlacvSdPr4mfMr/6itTkAiJoJ3eHKsEsyL3S7H39O/HB8EvPNdH5IPWmVT+EhhDudVjvd84lzAcq7/rPUlrbt7S0cddVRW6aXeeBSI/vKXv6xqGYMDBb3f+973Kq0LaMX129/+tsdsaGlAoXSaqBARC6ajNetEoWCsEEHBbD5RmEsvDBTS51uIcT3DmO1EJQUqevQnNZvHTpynitr3W7329Od60pt9mXxjXtt9LmvVv1PX/iLWm+sQ77Tjfi7eP3L+nOuzynhUdONaHitQEDylRX2aOF65P2jmvEWlEwIWJM4FMSCTzi/9zLhpRRUCrbHiH9NTKE2eKHBvJfV2HR2oe4Qiz5P03sI1gr9p5RQK6WlBTG813MPVC2pwnidQTZ7SYEYtZ+6t04AR4xRx/YnXlVrLjMN4Bkl7glh88cUbBox5xuFZp6+JYBstGrlXSIP4BEIIJFMhjntbAku1UjPHCdP1dn2vNW+GNTP/9DisVXEinTfPZTFI2pdjNp1Xf+2Y1/HHH58F+uu10iNgSnCM+4m0m9Q0H3wmuM69/U033VQ577ENuUfivof7Ge77G93zxXk2c31gntxTxdTbOYjxBupennMsLUK5v6bnFa4RPKNQ6ZfnJSrdURmO4C+J5/VGgVOmP/HEE7MeA9LnHl5pwDmGiqzxuOVvPrFNqDhRKxF45P6VwCP7RDp/tif33+R5q622yoLR6Tya2W5FlItQOZZlcc6I+eO+l8ofVL6g/IcKKyYFFFBAgaEvYOB06G9j11ABBVoUoOUcXZ1RG5kAFIU8BLN4sOMhhBv63gr04yIJAhLkoUCLGsA8EJjqC/BwghcPUhgTKE27r6w/5eD9hQAqwRsK61nnRRZZpND9hOA8QSEKa3ngG+qe7dwTqIHPtqLG9kILLdT0eaBdeerE8dLucxi1y9k/KRimAkZfWiziyzahBjsVN2gpwDm3lUQXb+SD8z8tcSj8GsjE9YcW1QRCuPYUkdh/aa2LdavOnJ+4LrLPcV7ui3Ez69CfPDYz/1bGafe+30peihq3TL7pOnXiXJYuryyf+7veTE+QjPsIKuY1EzAYyHWnMJx7vDQINJD5KXrZRZ0n2a7ca3AdYLvy3NHJ1I7rTyfz32hZVAKilSMBaGwJhpiaE+ivHRVxCX5ynHB95ZmHFtLc46RdwzaTG+bBfR7P561O28z8OzlOf68D+bxSmYZ72XwQmh6emg2cxnkyLyqNst2oJE5l0SKfI5k/rZEpb+EZlftvgrNlSTjS3THX1rxnWfJoPhRQQAEF2itg4LS9vs5dAQUUUEABBRRQQAEFFFBAga4VoPIW3a4SMIktI7sWwxVXQAEFOizQl8Bph7Po4hRQQAEFFCidQGvV8UuXfTOkgAIKKKCAAgoooIACCiiggAJlFeA98LGVGa8LMCmggAIKKKCAAgoooIACZRYwcFrmrWPeFFBAAQUUUEABBRRQQAEFFBikArwygPdE00U473D2tRWDdEOabQUUUEABBRRQQAEFukjAwGkXbWxXVQEFFFBAAQUUUEABBRRQQIFOCPAO1m222Sbce++94eijjw62Nu2EustQQAEFFFBAAQUUUECB/gqM6O8MnF4BBRRQQAEFFFBAAQUUUEABBRRA4KWXXgp77LFHuP/++8OMM84YjjrqqLDqqquKo4ACCiiggAIKKKCAAgoMCgEDp4NiM5lJBRRQQAEFFFBAAQUUUEABBcovMGHChLDwwguHLbbYIqy++uphiimmKH+mzaECCigwBAUmTpwYnnnmmcqavfDCC9k7pyeffPLKMD8ooIACCiigQE+BYZ9+lnoOdogCCiiggAIKKKCAAgoooIACCiiggAIKKKDAYBI44IADwkMPPRRef/318PLLL1dlfeaZZw4jR44MG2+8cdhkk02qfvOLAgoooIACCvz/ArY4dU9QQAEFFFBAAQUUUEABBRRQQAEFFFBAAQWGgMCIESOyrtLpLn3++eevuUaTTDJJzeEOVEABBRRQQIEQbHHqXqCAAgoooIACCiiggAIKKKCAAgoooIACCiiggAIKKKCAAl0vMLzrBQRQQAEFFFBAAQUUUEABBRRQQAEFFFBAAQUUUEABBRRQQIGuFzBw2vW7gAAKKKCAAgoooIACCiiggAIKKKCAAgoooIACCiiggAIKKGDg1H1AAQUUUEABBRRQQAEFFFBAAQUUUEABBRRQQAEFFFBAAQW6XsDAadfvAgIooIACCiiggAIKKKCAAgoooIACCiiggAIKKKCAAgoooICBU/cBBRRQQAEFFFBAAQUUUEABBRRQQAEFFFBAAQUUUEABBRToegEDp12/CwiggAIKKKCAAgoooIACCiiggAIKKKCAAgoooIACCiiggAIGTt0HFFBAAQUUUEABBRRQQAEFFFBAAQUUUEABBRRQQAEFFFCg6wUMnHb9LiCAAgoooIACCiiggAIKKKCAAgoooIACCiiggAIKKKCAAgoYOHUfUEABBRRQQAEFFFBAAQUUUEABBRRQQAEFFFBAAQUUUECBrhcwcNr1u4AACiiggAIKKKCAAgoooIACCiiggAIKKKCAAgoooIACCihg4NR9QAEFFFBAAQUUUEABBRRQQAEFFFBAAQUUUEABBRRQQAEFul7AwGnX7wICKKCAAgoooIACCiiggAIKKKCAAgoooIACCiiggAIKKKCAgVP3AQUUUEABBRRQQAEFFFBAAQUUUEABBRRQQAEFFFBAAQUU6HoBA6ddvwsIoIACCiiggAIKKKCAAgoooIACCiiggAIKKKCAAgoooIACBk7dBxRQQAEFFFBAAQUUUEABBRRQQAEFFFBAAQUUUEABBRRQoOsFDJx2/S4ggAIKKKCAAgoooIACCiiggAIKKKCAAgoooIACCiiggAIKjJBAAQUUUEABBRRQoKfAo48+Gu66664wySSThE022aTnCIN4yHvvvRduvfXW8MILL4TRo0eHhRZaaBCvzeDO+uOPPx7uuOOOMHz48LDpppsO7pUZwrl3O5Vz444fPz47l7344othmWWWCQsuuGA5M1pwriZOnBjuueee8NBDD4U55pgjjBkzpuAlODsFFFBAAQUUUEABBRRQoHsFDJx277Z3zRXoeoG33norvP7662HeeeftegsBqgUmTJgQHn744bDooouGYcOGVf/otyEr8MEHH4Tbb789XH/99eGGG24IFMSTZppppiEROH322Wez9WL9CNSxn5P222+/0gdO33jjjSzPBAq22GKLMPvss2d5H4z/ffjhh9l+xj7GtiB4TZpuuukMnJZog7qdSrQxcll55plnsmOHY+jOO++snMsOOuigIR045b71pptuys7jN998cxg3blwms9pqqxk4ze0jZf165ZVXhqeffjp89atfDUsssUSYdNJJy5pV86WAAgoooIACCiigQFcLGDjt6s3vyivQvQJ/+tOfwtFHHx0++uijsMoqq4Tf//733YvhmlcJUAi75557BgI1c801VzjrrLOywFnVSH4ZkgKnn356OP7444fkurFS66yzTnbOG0wrOHbs2PDHP/4xXHLJJZXgyPrrrz+YVqFHXrn+HHPMMT2GO6BcAm6ncm2PNDdrrbVW+OSTT9JBXfF5n332CQRMTYNX4LHHHgsnnnhitgKzzjpr2HrrrbMKM1NNNdXgXSlzroACCiiggAIKKKDAEBQwcDoEN6qrpIACjQUIlp500kmVAMJ1110X7r777qzmd+Mp/bUbBE477bQsaMq60irgb3/7W9hxxx27YdW7fh0JyNFtLenaa68NZ5xxRvZ5qPzHvv3pp59mq7PHHntU9vOyrh/H3i9+8YvsXE3Lb7qi3GqrrSqtY6ncwPdm0nnnnRfKUjBNAJuWRiRanBIYNpVPwO1Uvm0Sc0RQO57Ldtlll0rLy/j7UP279957V+5HuI+95ZZbhuqqDtn12n777cPIkSOzSnlPPPFEOPLII8O5554bjjvuuCHdWnrIblBXTAEFFFBAAQUUUGDIChg4HbKb1hVTQIF6ArGwrd7vDu9ugfz+kf/e3TpDe+1HjRoV+EfifYZDLcVgHes12WSTlXr1Dj/88EBwhLTSSiuFn/70p+GLX/xiVZ4JpnJ8vvnmm1ngJN8CjXeGTj/99GGGGWaomm6gv8w222yBfyQqZ5jKKeB2Kud2IVfpuaybujqdf/75KxtlxhlnrHz2w+ARmGKKKbKu/3lvOoHv/fffP9CN/mabbZYFT1dYYYXBszLmVAEFFFBAAQUUUECBISwwfAivm6umgAIK1BSYfPLJw0477RQovKDgnXdDpYVwNSdyYNcIbLfddmHmmWfO1ne++eYLG220UdesuyuqQBkE/vrXv1aCpgsuuGDWrW0+aEo+P/e5z4XLLrss3HrrreGaa67J3hEa8897af/1r39lBdOMU5bWpjF//lVAAQUU6G6B5ZdfPns9AM8lvGN9r732sjJNd+8Srr0CCiiggAIKKKBAiQRscVqijWFWFFCgcwJ077jBBhuEt99+O8w+++ydW7BLKr3AUkstlQVcnnrqqZC27ih9xs2gAkNA4OGHHw6//OUvszWhpSjvnJ1yyil7XTNaCtO6dNy4cdm4VH7g/XEmBRRQQAEFyiqw6KKLhkMOOSTsu+++4Z133gm77757uOiii8Ikk0xS1iybLwUUUEABBRRQQAEFukLAFqddsZldSQUUqCUw7bTTGjStBVPQsMsvvzxryXv11VcXNMfWZ0M3ngTIN9xww5YmHjFihEHTlsTKPfKLL74Yll566XDYYYeVO6PmLhx77LHh448/ziQIoLa7YsvPf/7z7DzF+1JNCigwsAIejwPr38rSy3CP10p+2z1uX+83yde6664bNt544yyLvCbg4osvbnd2nb8CCiiggAIKKKCAAgr0ImDgtBcgf1ZAAQUU6JvAKaecknU9NnHixL7NoICp6KrzkUceCR9++GEBc3MWg1XgjDPOCOPHjw8TJkwYrKvQFfm+9957w4033pit65xzzhnGjBnT1vV+7bXXwoUXXpidp3yXcVupnbkCvQp4PPZKVKoRynCPVyaQ/t5vbr311pXVOeGEE7xfqWj4QQEFFFBAAQUUUECBgREwcDow7i5VAQUUGNICN998cxaw/P/Yuxd4+6c6f/yL5FK6UAlF7kVMoVBMUw1Nim4jpVQkE7kUkcmolNLQpFAjpXQvUhGVGkaSWxeR6I+uDF2EKEKlv9fn19p9zj57n33O97vP+Z69v8/1eJzv3vtzWZ/1eX6u3/X+rPVZ1Ct5wgknLOoiWP4iFkh33KeccsoiLoXFT0fg85//fGey5z3vec07qDsDZuHLJz7xiXL33XfPQs6yJEBgpgKOx5mKLbrp58s93qITmLzkhb3fXGuttcrjH//4JuP0knHhhRdOXoghBAgQIECAAAECBAjMmYB3nM4ZtQURIDCfBNLy7OKLLy4//elPy/rrr99049mvfGmpdv7555df/epXZauttiqp3Kjp5z//efnRj35U8l6+vE9v8803L+uss04dPeHzD3/4Q7niiiuav9/97nflMY95TNliiy3KiiuuOGG6Xj+y7FRU3XHHHeWlL31p591HN9xwQ7nyyiubMiy99NJNpUvel3T/+9+/VzYThmW90rrrggsuaAIU6SJvqpSuLPNE/SWXXFJWXXXVsvfee/ec/M477ywf/OAHe46b7sC0Us1y/u///q/ceOONJS1R8r7DRzziEWWDDTaYVje6WbfLLrtsuovsTJeWZ9lOaf2WZW633XadcYO+5P1UdX/49a9/XdZbb73y2Mc+tqy55pqdbTYoj4zPvNnnss/ssMMO5X73u18z2z333NOU6zvf+U5j8vCHP7xZxpOe9KRy3/vedzpZD5wm9t/97nebwHfe8Zq8a8p2iE3WMWXJ/vsP//APJV0bd6ccY2ntm+mvvfbassYaa5S8PzYWM00Jbl199dVNXr/4xS+a/SBly7GbLrf7pWzLVGb+8Y9/7DfJAg1PebINsn/lWH7Uox7VlGWTTTZZoPyyvet+k9bR2Wfyl/d2LkzKsXjNNdc056d0/7fkkkuWFVZYodkWMw0YxvL73/9+iX/OO1nvvFP0IQ95SNl4443Lox/96IUKdGa/O+ecczqrm3PpbKbf/OY35bOf/exsLmJC3jHL8ZBrxU033dSco3M++8lPfjJhupn8WNDjoi4j56ucZ2Lxz//8z81xlXF52KAe55lmo402Ko973ONK3hu7ICn7d65TyTP7UY7d/K299trTym4uz4fD3E65duUckTwTCMnxl+v9aqut1pxXpzp3TQumNdGwrj1T3e/kfin7y/XXX9/sv7m+bbbZZs05pVWUBfo6W8fjdddd1wSgct7KPVLOUynzdO67uldkYY+37vym8zvnxXqfmWtgzukPfOADm30o+9eCpOyLP/zhD5vjPsdWukbPPV3OR7neL7vsslNmO1/u8WohU55cj3Oc5S+/s31zT557lOleR3NPE+ucq3Kezv1fzlPZZ1ZeeeW6uJ6fC3q/2Z1Z9s3ceyadddZZ5SlPeUr3JH4TIECAAAECBAgQIDBHApNrOudowRZDgACBuRZIxeK5557bBP/OO++8puvOlOHlL3/5pMBpKqRSiX/22Wc3AdYaZDjiiCOaIMmXv/zlku4/U7nSnRJcTTdbNZiUCqqPfexj5cwzzyypBGunVO68613vmhCcquOTd5afYGWCKjXtuOOOTRA38/V6f2gqZ1/2speVAw44YFKwLhVKeS/V//zP/zSViXW9EpjrFTi95ZZbyumnn95U4CSQmYqlpARnuwOnCap96lOfKieddFITVKnlTRD1i1/8Yv3Z+dxpp53K0572tM7vfEklXlzPOOOMJrgwYeTffiyxxBJl2223LQcddFB52MMeNmmSb3zjG413AuM1paLw3/7t3+rPzufyyy9fjjrqqKZLtG9/+9uNd7Z7ypGU4PZ0AqcJiBxyyCFNYKCTeevLcsst1wS89913385+0RrdfE1gK9s7fzXAkBHPeMYzmgr3k08+ufFNRXB3SpDtv/7rv5p9s3vcdH4nIJ/AfPa1+N12223NbHk3bCpSE0j9yEc+0hw/CXzU9L73va+plMx2rxWLsUvLoc997nMlx1w73ec+9ymvf/3ryy677NIe3Pd7AjiHHnpoY1Lfe9meONsv+0H3O2wTfMw7wlKOVPbXlOO/136w6aablle/+tV1sr6fOS/kWE73rgkcdqdnPvOZ5a1vfeuUwdz2PF/72tfKO9/5zqYCuz28fk+g6g1veMO09sE6Tz6zvfI+11S012O2PX6m33POOP7445sgbL95cyzm2Mn5Z0FSAkz1PaMJcGSfno2UYzXnmKxTu+vmnC97PXyQ/S9BhQVJOd/m/HLaaadNOhYWJL86z4IeF5k/D+HkOM9fznn1uMqDDQmqZztnH6/XhrrMfD75yU9urleZbjop15nsh/V82j3PlltuWQ477LDOuaM9fi7Ph8PeTlnfOOY80csx65lz4b//+78314X2es/0+zCuPVPd7+RBlwRwsk/kHqA75R4m57B//Md/7B41rd+zcTzmGpX9O+f/7OPdKfvv29/+9kn3H93T1d8Lc7zVPGb6mQBgjo2LLrpoaK8ayD1o7s9i0r6Ot8uWh7Fyje513zNf7vFqeXPcZhtn36zXjjqu/Zn7xXe/+93tQRO+5778Ax/4QDnxxBObhxMnjLz3R72nft3rXleWWWaZCaMX5H5zQgZdP/IQUk3Zh3vdl9fxPgkQIECAAAECBAgQmF2BJe79j9Pfa0Bnd1lyJ0CAwCIVSIAlQcDulMBpKjDb6YUvfGHPINjzn//88oMf/GBgK6FnPetZZc899yzHHHNME6Rs5939PQHWBGLTCqWmBPrSAqhX2m233conP/nJpjItQcRU9veqnE2LrVQWtVtWJIibwGt3SuA0wZbulAr/N77xjd2Dm8BpAnnt9P73v7/kb7opgcaXvOQlnclTgbrHHns0lexpKRDrBLQSPEoAN4GVBGFTWZb0T//0T+W4447rzF+/pEXqdFMqUNOCJl2EvulNb5o0WwKnqfzul1Lh9uEPf7hZ7wRh0tL32c9+dtPKIeVORXOCSSl7UoJBCXgnSNFOCVymNWavlEBfypdWalOl7D/Zj2rAfqppu8elTKk07E7ZhxLEyoMGU6W0ws62zz7x6U9/emBFbx5A2H777afKsqnczXGZQE9ajOy8885Na+MEetK6JN3v1srSBJff8573dFo8Znz7fWFTLujekf/yL//SzN+eLhXMCYImpYVPgrOf+cxnOvtfe9r29155tcfnewLKqRTPAwJJaemTc0a8sx9973vfK1/96lebll0Zn0rsN7/5zSWB4qlSDQAlkJ3buwSzc5ykxWBazSSgnJZXOYclsFzf/XvwwQc3vr3yTl7veMc7mlFpWRvrtIJJQDbnk+ybNTid3wsaOE0FeAIwSYOOu2aiHv/Evj5YkPXt9cBGgva9gik9smsGfelLX+rbi0C/eTI859P/+I//6JQngaVUiuehk5yTE6zKAzGpHI9bUvazBEqmSin7gh4XyTfbLy35u1NatqfVVFr+JaXVWT3XtqfNsZjr2lSB7cz3n//5n835IPM+97nPLQmSZv/JA0E5JybgkJRWl3nQKOf6mubyfDjs7ZRjO/cPaWWfc2e2e67labmW63qCyXlgItfs3CPss88+dbVn9Dmsa08WOtX9Tlrf5do8VUoQOPdW3de1qeap44ZxPMa4Xh9zrsz5KOWeKuU8lWt7Ws1OlRb2eJsq737jch3NNTmtf3Mcbr311s05PMdcru/Zjy6//PLm4Y9cH5MyTY7LXinn6lxzc45NevrTn97skzkeEwjMOTPn+Vx3knJfmdb4uW6003y5x6tl2m+//ZpjKb/T20OOsyc+8YlNi/n0pJL719wj5NxS173OWz8ToM7DSblXi3X+P5DW9elNIS0/s1/X/T/3OR//+Mcn3FMvyP1mXXavz2zPbJ+acn2oD6XVYT4JECBAgAABAgQIEJgbAYHTuXG2FAIE5oHAz372s06gJUGydMmV1CtwmgrtVN4mJVDZDkw+8pGPLC94wQuaCpp8TwVmKpxSMVUDOc2M9/6TSqlUVKclWiqp0vVXlpsAYCqpa3rOc57TVDTX31leKsaSEuRIJVpNqdxJECeBxVTkJHCa7h4TLDr66KOb7l3rtGkh1H7vUspaWxMmMJNWF0n9AqcpRyrvkhKkTMA2KZX/3YHTBDfzl5SK8iwrKZVSvbobS2AxgYKkBHlS6VUrARNUi2d3ilmCqzUl2NfdpWcN4iTwVSvLElTsFWRNhW+2Sypds12SEviLTdKgAE6CvzWwmgDAhz70oabr2mbmv/0Th0yXSryktD5N0K/dZW2mqd2zZVumlVs75b1X2efSNW0CF9k3E4B473vf2wlaZfq3vOUt5UUvelF71ml9TyCltgpLy9Ua6M3MWa9sj6c+9all9dVXb4LDacmYoHx35XQqXLM9sv1TIZ2yJt8En9IqpLZ+HBTkTWVhWudm+lSKp0zd3VqmDDl26/7cDsYmcJMK0aQc6+liNinByde85jXN9/Y/CXinpU07tQOnGZ59Ja3JUzGf7rgzffabHPupsK7Hfgwyb46RXimB0Ry7dT9NgC/B9/YDDpkv+b3qVa/qtGpPt6bZ13q1isz0cci2T2A0KcdcTFIB3CulcrYeb/0CpzkP5kGL7J8512S/zfmnndoPYyxM4DT7blopJ6Ul+kwewqjlmU7gNEGHdN2cfTfnpppybsv5uTtlX+1n3j1t/Z28EgTOeS37Vs6zKVuv1H5oY1DgdGGPiyw/2ygB8+yHr3zlKztFSiApx3i6gk8wIPtNumTNdSgty+v+mhnywEmCf70C+dlX0ptAlpPAYR5o6O5ZIHnkQYD67uHsWwnk14c+5up8OBvbKa3Sak8QeeAgx3p3SsA0rd8XJnA6rGtPyjbV/U72/3q/k5bXOQ/mWll7IKjrNqhVX52u+3MYx2M7cJr8E2iKe65F9fhNIDvXoASua8r+nqB9vzSM461f3v2Gt4OBuTfJPV2/4G77YcCpAqc5znK81ZRjNy7tlHNVjtvcbyblQa4ECdtpvtzjpUztB3pyv1EfummXN/eHuXfuFzjN9S/z5mGHeOQeMeeidsrrEna592Gbeq+Te+889FRTPS/O5H6zztvrM+e+3O/lMyn/V8h9h0SAAAECBAgQIECAwNwLLDX3i7REAgQILBqBBKpqsGrQO0AToKqp3YIqwZx06ZngSDulQjEVLmm5UVNamKRitjvgkwBJugVLBXUN6KQFTjulwrm2wOl+P2O6W0uLzHZKxVr+EihNF7oJEiflqft0WVuDi6n0rN0sDjLI/ClH/pIS8JsqJd+ad9snAabuyqjufFLJXoM43ePav1NBGusaFEuXtnXd6nR1WXn3Yk0JfNThdVj7M9PW6VNZOp2UgFkNmmb6bNO877M7xTzdVaZyLnlneyaQkmBZTZmmbu/uruAS/K3j6vTZhxK0z/uwttlmm043oAksL0jgNHnlL6kdaEtrxQQ+uoNl6b43+3aWXVv6ZN4EnBNcbacEow488MAm+JRKwKS0cElXnAlMd6cEPRNwSNA0ZUnLte5jKPNkf09r6NoiOoHcBN/zEEDKW7d3e79NPnV493Kn+p350vKk+7jLuiWgmUBT3FP5nL+00O0XOM12r5WteXjgo/d2G9s2r+XINk5Ffyp2c2wkoJ5gRb8uhY888shO0DSVu+nir30c1nxn8pnum2sFbmy794PkleD4MFL7XZ/DyrNXuWre6X6znRKkqOeA9vCZfk/gOvti9oN4pUJ9Qfa57uUO47hInnW/bD8MlOE5zrq750xL6Pyl4j5BmnqdSgAlQYlerSWzvjmfJyXw3ytomnF5OCTXppwLcjwkEFJbic/F+XA2tlOOlfpAVO4bEkzslRa2Bdkwrz0pX7/7nde+9rVN1+bd55F0y52WfdleeWAraVCvBM1EPf4Z9vG4++67l5S7fd+WxeZcm1aJeXDmG39r7VzPb9nfutOwjrfufKf6nQeMEtRMyrUxgcteDydMlUevce1gca/xGZZtnGtYDZzm3qo7zZd7vJQrDx7UlF4+eqVBx1keLMp9WVKul73O0/HPg1EJTCelF4MXv/jFnRb3dZ72tWPQ/WaTUZ9/si/m+Kr3w7lPEjjtg2UwAQIECBAgQIAAgVkWWHKW85c9AQIExkoglcjdlYh1BdONWp4Urymth3oFfOr4dD1aUypver0zsY5vf9ZWmu1h9XsCw+3WqRmeSvz5nlLRVFsbTVXW2LdbSqQVyaJIqSBvv3sqrTPa76bqLlPK3Q54XXjhhc07b7un6/U7+1y/lH2h3eVtry44+807neGpbO4VLMu8GZ4AXTvV4Gt7WP2e9+62U79tl3cDphVSUirBazC+PW/93g7KpIvR+iBCHT+szzw80B00beedYFQ7aN5vO6QFXw0eZ/605uwVNK155/yRByxqik3y6E7pTrIG8VPRu//++/c9T3XPO9Xv2som09SWrN3TJ8CbAH53cL97ukG/03VtTclzVFMCgrUL5LSIrhXrC7s+s31cTHVdyT6V60jOBzUl4N9+aCLD00o6LeSS8lBBjt9+KYGtPJhRUw0Y1d/9Pod1PpyN7ZQHlhJwS8qDH7Xb6O51SVegOV4W5N25c3ntSfn63e9kndrnprTMm+49TLfHMH+nzN1B03b+7dcDpNv32tNCe5p8n+3jrXt5eRih3ctG3rk8jKBplpOHiaaT2vdWecAr7zQdVhr2PV47sNvv2pRzb46zXg9o5R6snnPSO0P3A3jt9c4+lZ4hknJcTycQ3Z5/pt/b9zzD3AYzLYfpCRAgQIAAAQIECCzuAgKni/seYP0JEBiqQHdru6kyTwundupXgdeeZjrf0/qtPh2f6dP6pwaipjP/opgmFVtpfXT22Wc3f7UVYa+ytIMqtWvgXtPN5rBUuF1zzTWdRbSD4J2BXV/yvrB2YD0tOYeR2pWdtZXCMPKdTh4z2d/TIqPdyrnX/l5bstVl572IU6UEe9qB3drd8lTzzNa49nbod7ylK+caWMmDAr3eN9xdvrRir+uYedOyuZ1SkZtubmtK96vtitc6fGE/01q6dkfcziuBlQTR0jJ6qoBFe55e32uX4BlX17fXdPN5WFol5zyWlIB4unkfRpoPx0W2Sd63XFMCK2mx107pFr624ErAorv1fHvafG93jz2sY7d9HPY7H87WduoOMqYb5l7pec97XnO8dD940mva7mHz9dqTcvY6p3eXf1H/bu8fKUuvfWRRHG9HHXVU51UHP8a0gQAAQABJREFUW2yxRdN7yLCscq+RVrb1/qpfwL59b5Vl9zrfL2iZhn2P1z7W+h1nCXbmupR3TXen9gOFg+4zMm/7walhnau6y1R/t8+b7etiHe+TAAECBAgQIECAAIG5EVhqbhZjKQQIEFg8BHq9I6/fmncHN9L6YVgpwZazzjqrk10qemqXeJ2B8+xLulRtd6var3gJFNWU7jAXRco74dopXddOJ6WCrr7LNK2R0l3oVC0Op5Nne5+r3apOZ75hTNNe9nTyyz5fKwJ77e9XXXVV533CqTzMexjbLUt6LSOtQWswcrYrNHstvw5rb8d+26G936SL33ZlbM2n+zPB4QTda5eY9d3Hdbq03G23uOn3Ls06/Uw+U/FcW+VkeyUQmAr+2uX5TPIaNG19p3Sma1ccD5pvPo2v3bSmTDnWp+pxYCblni/HxQ477NB5d2vK33281W4+My7dZA46duv7iTN9WivO1flwtrZTWsOmdV/dl9P9cB4YycMMvbqDzXrPNLXPIZl3vlx7UpZe5/QMn0+p+5rVq8yL4nhr75PPfOYzh042nWtN+94qBRj2/dUw7/HSVf9FF13UOOV9769//etLWpFP55ybbsqzjWvKPIPOVe1revd5r+YzrM/29a+eS4aVt3wIECBAgAABAgQIEJi+gMDp9K1MSYAAgZER6G4JmC4Ep1vBOt9WMt2e5l2t6Y40f/Oh67K8d6qmVJRPp7Iu07dbWOX31Vdf3bwrLt+l0rzHszqku9PptMis0+dzUe4b7RYw7e+1fKmEXtD3eLb3m7wPMpX9tWvr7EM1JTgzVXfJdbrpfqYl9Wc/+9mSbpCTUtn8nOc8p7zgBS9oWh9O1W3qdJdRp2u/czPdOo5ialfGd/cosDDr095vFuVxkVanef9e3R+6AwjtciZomL+ZpBy/7QcQZjLvTKadre0Un7322qvTXX6CLWntl/ciZngCYgsbQHXtmcmWnjxt97m5+3fmaO/Hc3G8pYVru6vyYZ47Jgv8fUjWLe/LTSv53FvVdxP/fYq5+bYg93j77bdfSbfLNaCZ96uff/75zUMKGT5VN8c5b9X5soYHH3zwjFZ0tu8z2te/9nVxRoU0MQECBAgQIECAAAECCy0gcLrQhDIgQIDA/BOo7/mqLQj6vWtt/pX8/5UoFdtnnHFG02q2tqZbZ511Sro4zHssU9m3KFO7YjUtq6abuqcVOJ0o1+7+ONt7u+22mzjBgF/rrrvugCkW3eh0CdluPdK9L0xVsnZr8QRN8yBEXdd24DTTtStdp8pzOuNS+fzJT36y7LvvviWtepJS4fy5z32ueafqtttuW/bYY4+hvMcz3UTWCulercCmU95FOU1aR7cDid0PryxM2ebTcZHAfA2ctt9TnG2XFqM15f2XCbLOJM10+pnkXaedze2UZey6667NotIyuwZnsl8ceOCB5ZhjjmlabefBg/rgQy3XdD9de6YrteDTzfXx1j6Hp9TDPHd0K6SL7byjMz0J5D2f6a0hD389+clPLq95zWvKscce2z3LrPxe2Hu89MKQ94XnXbAJPCelBft73/ve8uEPf7jstNNOzbHY60GM9sMHedgh17CZpPYrB2Yy33SnzTmqpu7uk+twnwQIECBAgAABAgQIzL6AwOnsG1sCAQIE5lwglbIJoKRFQdKoVL6kIi+Vy5dddllT7lTSv+51r2ta6tTKxIMOOmiRB07b73LrVTHXFL7HP93dBLbz6TH5YjcoLU9qyvZuv1OxDh/Vz+5tnS54p5u697Hk1Stw2t3993Tzn2q6HIOf+cxnyqc//emSd1jWSuoEhfJwQ1r6vPzlLy/777//QrWmSyC5Bk7reWuqcs23cbUlcC3XMM+58+m4SJClpnRDW1P3wzl5f2feazjf0mxup7quCZ5uvvnm5eijjy7nnXdeHVxilO5EP/axj5UjjjiibLjhhp1x0/3SPo90nxemysO1ZyqdiePm+nhrB2pTktk4jyeo+JGPfKR5ECYP8KTl89Zbb930IJCgabqHzf4524HTYd7jpReVU089tXnv9ymnnNJ07R+/vGc5QdVctw455JCy/fbbZ3Antbdv7pPn231G+/rX7m2iswK+ECBAgAABAgQIECAwJwICp3PCbCEECBCYW4G0CGpXvuR9ivM5JQhz2GGHlZNPPrkpZir1EjDdZZddFioYM1vrnKBebflTW19NZ1nd085Vl3zTKdt8mKbdCjPvPBynVAP/dZ3aXTPWYf0+p9pvaqu2zJtWrbORUqmeYNCLXvSipuL94x//eLn55pubRWX5J554YklLpje/+c0LvPj2O/ja564FznCOZ6yt++tif/nLX9avC/05n46LdivTtdZaq7Nu7VbRGThfj9/Z3E4djHu/bLDBBuX4449vekg47rjjyre+9a3O6LQYz7UtXfiuttpqneHT+eLaMx2lhZtmro+39jk8Jc95fI011li4lWjNfeWVVzbBwXrOXn/99cu73/3uoS6jtbieX2frHi+t1N/0pjc1LbkTLE0gtXZvmwBqHrTLg4TpHaGm9vb9wx/+MKHr+zrNovys72xPGQROF+WWsGwCBAgQIECAAIHFXWDJxR3A+hMgQGAcBdpdRmb95nvgNK0catA0LfE+8YlPNBVhC/s+uNnatulGtqZUcnZXxtdx3Z/dwZT11luve5LF+nd7P01gOu8FHZeUFojtVog33HDDtFetvd8st9xyE95j2g5epcXmbAYd09owrXPOOuuspoVpujmsKe9CvfTSS+vPGX+2K7Nrq9YZZ7IIZ0igo/2+xOuvv35opZkvx0W6UG6vV7tc2X7tLizb3WEODWIIGc3mdupVvI033rhp/ZburTfZZJPOJGn1l4eFZppce2YqNvPp2/v1XFyH2ufwlLbdInLmpZ84R86leeilBk3zuoO0xMxxMJdptu/x8nqKtOZOF8TpCrud3va2tzVdEtdh7e3b/e7xOs2i/Gw/dNK+Li7KMlk2AQIECBAgQIAAgcVRQOB0cdzq1pkAgbEX+NGPftRZx6WXXnpCoKUzovVluoG/1ixD+5on/tOCraZ/+Zd/KY9//OPrz3n5WbtJTeHSkqLdfeJUBW4HHRJkaVeCTzXf4jKu7ZH3Jf7whz8cq1Vv7zftfWHQSranjVE7QLfmmmt2Zk8lcN4dN9spAdNXvepV5X3ve9+EFuEL8+7hdsuadqB4ttdlWPknoN1eh/Y5eGGXMV+Oi7yLsd06rh2AyDq2A0DtLmoXdv2HOf9sbqepyvnYxz626aI3XfjWlONlpg+HtM8hrj1Vcrifc328dQcx6/ukh7FWubdKy8ukXDde+9rXltwTzmWay3u8nIPf/va3lz333LOzirmXaHeHnPNW+xrabg3emWkRfckx3e6Non1NWURFslgCBAgQIECAAAECi62AwOliu+mtOAEC4yqQbr4++tGPdlYvLQx6tdxstxbLPLVyrTPjkL4MyjfvnGt3TfbUpz51SEv+ezaDyvD3Kaf37QlPeMKECfOex0EpFWJpDVHTRhttVFKJL/1dIO9EbO+r7f3471Mt+LdU4C7K1N5v0qpoOoHhtB5vB+HagZesS3fw6kMf+tBQVjEt4vbdd9+mG8R+GebdeFtttVVndH1HaWfADL60K4gXReB0GOeIdsDl/PPPL8MKgMz2cTHdzfSBD3ygM2nW9XGPe1znd77knFZTghE5t8/HNFvb6fOf/3xzzFxwwQU9Vzvntte//vWdceneeqbnpPY5JBmN67VnGMdjB3qGX+b6eHvEIx5R2vdj6XFjWD0HXHHFFZ21Txe97fNsZ8RCfhm0rYZ9j/eDH/ygOc7aD9x1r8Jee+01oQV8+9oU6/Z181Of+lTTXW93Hgv6e5DHVPnmIbz2wymzsb2mWr5xBAgQIECAAAECBAj8XUDg9O8WvhEgQGAsBFIJVN+JuMIKK5T99tuv53qlsq6d0ppoNtKgbjcToGmnmbbAac/b73u6PhtmvptttlnZeuutO4v79Kc/PaGyqzOi9eXss88uNSCU1g4HH3xwa6yvEcj7yl72spd1ML7+9a+Xyy67rPN70Jfufal7+kH7Yvf0w/79yle+srS73ksF+aCU47nuuw996EObrnLb8yR41Q5Y/e///u+0ArLtPHp9T7es6ZI372H805/+1GuSZlj7Pb3t1nB9Z+gzot1aMd1jZvlzmWpXlguzzJ133rkze7ZZuqccRprt42I6ZUywIvtDTXmvYPshhwxPN87pzjkp65/3KE63N4MEC4YVLGoKMMU/s7Wd0to7Rt/5znf6Lr19vORc8IAHPKDvtL1GLC7XnmEcj738pjNsro+3JZdcsrzkJS/pFC0tDnNPMYzUviZO91ic6XIHXVfbZUje9Xo20+XU6XN/m+Ms9wf9Ukzb7w9uPyyRedr3xXndwlRB2O5ldK9P9/iFud+85JJLOtnl/DDo4bqcM08//fTm/eIL0+NDZ6G+ECBAgAABAgQIECDQERA47VD4QoAAgdEXOO2008r73//+zoqkcuhBD3pQ53f7yyMf+cj2z/Lf//3ffYN/qSiayXu3auV5FnDuuedOWE73j/aT/xnXrpzvnvaiiy4qqcCfTmqXIYGffq2AppNXr2kS+KyVWnlf5VRBsNtuu63xrfnssMMO5R/+4R/qT58tgde85jUlAcKkBFNe/epXD2y5d/vtt5d3vetd5S1veUsrp//3tb0fpFJyYVqDTMp8hgOyv7QD5meeeeaUgeEEYhK4rOkNb3hDWX755evPzme7FVsqpXffffcp9/e0hpyuQyrbr7vuus6yur+0uwZOd6QLmjLvSiut1MyeFuhXXnnlgmY1rfna+0Vm+OY3vzmt+aaa6ClPeUpJYKumc845p2lh2G5RX8flMwGHiy++uD2o7/dhHxd9F9RjRFpG77///p0x2223XXniE5/Y+V2/ZPulnDVl/fPewXYLqjqu/fntb3+7eS/hVPtZe/qF/T6b2yllu/baa/sWcRjHyzhee2bjeOy7EaYxYq6Ptzx0kPe713TUUUeVj3zkI/XnpM88XNLufnbSBH8b0A4Y5r3Dv/jFL3pOmu5s857q6ab29lpU93j91iXrkHNuemtIims7iJphT3va00rOAzXlIY/2tbYOb3/mPHbKKaeUHXfcsT24+d72WJj7zTxgV9PTn/70+rXv5yGHHFIOOuigplx56Kzdq0nfmYwgQIAAAQIECBAgQGBaAgKn02IyEQEC4ySQwEK6yKupX6V2xt99990TWsy056vztz/b49vf29PU791PrU9VjjpPPhNQaFdEJ7CRSrRUUL/xjW9sKozSovHlL395+dd//df2rBO+P/jBD24qj+rACy+8sLzoRS9qKmBSkZ2uFk8++eSmUuYf//Efyze+8Y06abOMqVoNrLLKKp1pL7300qblVTtQkyfya4uStO5oB1wS/D3++OM73fem9UVaFrz4xS9u3qvYzmcqs3YZUpjDDz+8XH755R27GPaqeGtvlzzN32890xog3rXV1ZFHHtmzovOmm24qr3jFK0pt0ZuWde3WDh2ov31pLz+DplrHjG/vZ9kXss8uTGrnN2jZ3WVtz9tdhni3W5T1yzuBwf/4j//ouCbonIrKBEWz79dlpHLy+9//fol7KhhPPPHEnq0U2/tBlplKxtryN2XMsPbvWu72umVZg1pA1nJl/va8Nb/6mZbK6T47KfnutttuJcdbd8pxk2O45pV3/yZg1St1t0JLJXgCztk/TzrppOZhgxzPH/vYx5oAVQKrNd/k1y57r/zbrWDa49M1aQ38Pfe5zy2PfvSj26Nn9D3nrHYr7jwkMZOU9WmvU84T/fax5LvqqqtOyD4tvNLtaXsfzX4xVR4TMvjbjwMOOKDc97737YxKni984Qubc2ACiTkHnXHGGeWtb31r+ed//ufy5S9/uTNtjpHsE73SsI+L7mXkGtK9rrUlVlpo5uGQpHTPnP2qX8o+u+GGG3ZGJ9DwnOc8p1nn5FfPp2k1duqpp5aXvvSlZZdddukbBGpv02TaXcbOgv72pb0vT3U+nK3tlGLkXN+rC94cl+94xzuakuYhinSFvSBptq49C3O/k/UYtG2mWtcFPR5zXm4fM937S/cyu8e395f2tLN9vLWXle8J7u29996dwTkX/Nd//VdzfUgANefZ7373u+Vzn/tcSTe0OabaQfh+9u1XH8Qq7zitXb/HLd+znJyL0nKxnfrlmWna19VFdY+Xe6te93CxO+ywwzr7Y675vVIeQMh9cFLOS7nvyLu7cy9cW9HmHJKuhnN/se222zYtO+u4dp5tjwyf7v1mO49sj/b7VrfZZpv26EnfU47uVrc530oECBAgQIAAAQIECAxHYIl7/6Pw1+FkJRcCBAjMb4EE/tKFXt47l4qRmtKl17Of/eymIigVI6n8z5PnqZRKwKD9HsJUpmXaVPIl+JCUytB083X99dc3lcOpaKlpyy23LHmvVIIKtWXlV77ylZKKppSn3YozlaF5Cr52x1kDcqlISWuEdko5Vl999ea9WClnWtzVlJakqZzt1SKoTlM/0wIhlfrtYEEdVz9XXHHFkpZumfaEE06og8sWW2zRVJAnmLPeeut1hudL3oV3zDHHTBiWH/e///2bwGUq5PKkfO2eLuuQ4Fi7AjTbJeuZwFlSgqtvfvObm8rDtC6sKcGWNdZYo6n4a79zL4GTBJsSpG2nuKZ1QCpQU1mZ1nep6M52SaAkgYz2Nsx6Zhvm3XLZPt0pXcmmYq62MkpXjHkPZfaRVHRmH6qVtTvttFM58MADJ7zPLPmlQjPvpsx7uNLVat5zVVPyS8uIjTfeuDzzmc+sg8sHP/jBJpiR8ra3f4IWm2yySbMfP//5z+9MP9WXVMpmP0sFYYI7NSWYlWMi+1q2VW0JmgBcKiwTFMr+X1O6ak1gJX8JtielhXAq9xLkzF9NSy+9dNl+++2b7nlf8IIXlO4W0Jkv+111rfPlM/tRe52zPVO+BGCyv7ZT/Ntdc9Zxec9Z9oVsm2c84xnlPe95T0lgJxXT2Q6pRG5XHKc73OwDCdJuuummTTbZt9LSOMdx936TbZbWPk960pNKzgPdKeeYVK5mPVKODTbYoDmmYp7tkfNOKoBTzuxfeahhqpR9KPkNajWUbZkK4gSis75JWUa2Rd6nloBrypPjLvt+TTnGs10zTYJC2bdr0DStp/M+2uSzMCmV+GmNnVvTlDP7Vzz6pRzjqfxOBXL2k/Z77DJPWkBmv0qX5TlndJcvXSd3B2izvJx3su1zPvrSl77UbMd+Zeg1PPtuAhTt47h7upzfsk3TZXoCFzXFMvvXU5/61J7n8GEdFwmSPf7xj6+LbT6XWmqpsuaaazbBhLTWykMrNSXQl3NXHmAZlJL3e9/73iZQ3/3fjGWWWaY5v7bP9SnHnnvu2TlnzNX5cNjbKcffJz/5yYYn+1rOFXlQJvtTWtMmYJ7zZQLr73znO8uznvWsQZRTjh/GtScLmMn9TqbPcZlzeVppt8/P/e5hMs900kyOx1jm/Z0xyP1UTdm/ci5LWbJP1fNHerLIOate5+r0uablHiKfWX73OWJYx1td3qDPPIySoN9UD0Cle+cEWbPuuW+pKYG2HL+5p2u/iiE9EmSbtVPySNA4x1rM8gBP/nLdqtfWBANzz5PzaPc96KK8x8u2rA8d5Dxa70WzDfNARu6h6vuV82BGrnf9UqbP+NwHdqfcV+TeONfhpCwr92C5RnZ3Sz+T+83u5dTf7Xv93PdlH8+1uF/KOTQB7/Z1L/fReYhSIkCAAAECBAgQIEBg4QUEThfeUA4ECIyIQIIP3U/Udxc9FQ6peEjFUyrl+qVUrtVWWKmg6dcSrM5/xBFHNJV5+Z0KqFSQTJWSd63Aa1emZJ4EYxKkrS0lEoDKsAR8E+BLEKrdbdhUy8m4BA1TId7d7VsCf6kkT7AvgaoElhLc606p5Otu2ZqgQ97vl0rAGvhMBWYCGDUwkIBcu5VJlp/AaCoDa0pgM4HAlCGV0MmjXyDsda973aTKvVSUJmDSbqWbSsJUSiU4kQq3VDamnHln31QpAfN2wLY9bbbF+973vqZ71ASYa0Vbpsk6J+ibbtRqMLE9b74neJeg3FQpFZqprKwpwYapKlfjlhbD00lZr7SomColr9qSLOuR1h79UvaH7BdJ2Wey70yVsl5Zv+4Ul6OPPrqp1Eygtu2aCsXsPzn20sqtX5fUyTPB0BporoGc7NM5ZmowNPtlHqxI6+CpUirj99lnn2aSbOu0/JkqJTjWqwvhzJOAax4wyD7f3U1pAn4J1mZZa9z7YMB0U4IgeS9qHkZoeyWQkLLsuuuuJeeMHE81cNrOO0GIjM8xnKBkWsPW1uHt6fI955145AGFVCoPI6U1du1uMMdUytkvJbD3T//0T/1GTxieIG/3+yTTijLn5vPOO68TJM9+Fas8qJB9I0GY2iX3hAwH/MjxkUBaltv2y/kneeecm/N1v3NPHszp1zJ9GMdFd+A0XVmm8r8+aJLtmeB1jpHHPOYxTZCvu7vLAQRNUDq9ByQgXq8DdZ5si+zfCdbk4YJ2msvz4TC3U7reznm0fb1pr1eOqzzMknuA7hZq7elm8n1hrz1Z1kzudzL9TO9hMs900kyOx13ufUimV0v99nLy8Ek9L7XPK+1p2t9zHnjIQx7SHtR8H8bxNinTKQakVXq6js1nvc/L5LkfSqAs3WannP3uaXOt22qrrTpLyHXgwx/+cHP/UB8GikuuKzl/5ppXu0nP8dh+sDCZ5IGKBJDbaVHe4+WeNfcsuRds+9Ty5T4xDyulZW77Ybo6vvsz9wTpcSC9neQ+tPtBwvSKkoeGst8nMN0vTfd+s9/8uSbUHgjyMM10HqzIfVmuYXFIsDz3UvUhzX7LMZwAAQIECBAgQIAAgekJCJxOz8lUBAgQWGQC3YHTGlRNq69UlqSF3VRPpU+34GltmUqjtLZMhXlaygwjpfVCKqIS2JpOOVPBnmB0KgZnWlHfr7xZp7RKSwBkJkHlfvlNNTwBiVTspRVAAg4JwkgLL5CK2gQDE+hI4Dv7aLtL1OksIdsm+1cqoBPEmE8pQasEXFKJm9anKePCpJwbUvGefT/7Ye2ScEHyrK05cwylwj0B6/x1ByIXJO/ueX72s581D3/Uc0Yqhod1HuheVvt3AoZZt6xTbaXWHr8w3xMUT5A965GK9+mcB6e7vAU9LroDp/XhheSXa0taSdaHd6ZblqmmS1Asx298Y9ArQDXV/HMxbljbKX550CP7VL7nGp2gRlprD3Pbd5uM07VnNo/HbreZ/F7Q420my6jTJuCZe4m0XE+L//aDZnWamXwmv+zjafWc/BbkgZBey1tU93hpLZt7xVyXsk65t8txFqc8oLIgKUbJM8dv7t1yrspDVjNJC3K/mYe76gNWeUAtXexP9zqUc0weTsnDgPVBgZmU17QECBAgQIAAAQIECPQWEDjt7WIoAQIE5o1Av8DpvCmgghAgQGCIAukZIK2pktKqNd0Pz/YDD0Ms/khk1S9wOhKFV0gCBAiMiUC6vU4L6nS9m4cs8rDQwgbJx4TGahAgQIAAAQIECBBYpALD6Vdtka6ChRMgQIAAAQIECIyLQLrHTRfASWmpmfeFphWQRIAAAQIExkEgvUvkPcG5viVompateTe0oOk4bF3rQIAAAQIECBAgMA4CS43DSlgHAgQIECBAgACB8RGo73ZN94Xnn39+867RvGdu5513bt6HO91uDMdHxJoQIECAwKgLpGvdU089tXkXeboETkqXwMcee+zQXpEx6kbKT4AAAQIECBAgQGA+CGhxOh+2gjIQIECAAAECBAhMEEjL09NOO63suOOOzftsE0BNS9S8K1MiQIAAAQKjJnDiiSeWww8/vHmPat57fOCBB5ZTTjlF0HTUNqTyEiBAgAABAgQIjL2AFqdjv4mtIAECBAgQIEBgNAVWW221cuihh5Z99923fO973yuXX355eeADHziaK6PUBAgQILBYC6y//vpl//33LxtttFHZZJNNmoeCFmsQK0+AAAECBAgQIEBgngoInM7TDaNYBAgQqAI/+9nP6tfmM+/823DDDScM84MAAQLjLLDiiiuWbbbZpvkb5/Wcq3Xrvq785Cc/abpAnqvlWw4BAgQWR4Gtt956cVxt60yAAAECBAgQIEBg5ASW+Ou9aeRKrcAECBAYc4Gbb7657L333uW3v/1tueGGG8o999zTWeOll166rLzyyuXBD35wOeSQQwRROzK+ECBAgMBUAmnplK6Oc1256667OpPmnbGrrLJKc1158YtfXHbYYYfOOF8IECBAgAABAgQIECBAgAABAouTgBani9PWtq4ECIyUwPLLL1/yt8Yaa/Qtdyq7JQIECBAgMB2BZZddtjziEY9o/vpNf5/73KffKMMJECBAgAABAgQIECBAgAABAmMvoMXp2G9iK0iAAAECBAgQIECAAAECBAgQIECAAAECBAgQIECAwCCBJQdNYDwBAgQIECBAgAABAgQIECBAgAABAgQIECBAgAABAgTGXUDgdNy3sPUjQIAAAQIECBAgQIAAAQIECBAgQIAAAQIECBAgQGCggMDpQCITECBAgAABAgQIECBAgAABAgQIECBAgAABAgQIECAw7gICp+O+ha0fAQIECBAgQIAAAQIECBAgQIAAAQIECBAgQIAAAQIDBQROBxKZgAABAgQIECBAgAABAgQIECBAgAABAgQIECBAgACBcRcQOB33LWz9CBAgQIAAAQIECBAgQIAAAQIECBAgQIAAAQIECBAYKCBwOpDIBAQIECBAgAABAgQIECBAgAABAgQIECBAgAABAgQIjLuAwOm4b2HrR4AAAQIECBAgQIAAAQIECBAgQIAAAQIECBAgQIDAQAGB04FEJiBAgAABAgQIECBAgAABAgQIECBAgAABAgQIECBAYNwFBE7HfQtbPwIECBAgQIAAAQIECBAgQIAAAQIECBAgQIAAAQIEBgoInA4kMgEBAgQIECBAgAABAgQIECBAgAABAgQIECBAgAABAuMuIHA67lvY+hEgQIAAAQIECBAgQIAAAQIECBAgQIAAAQIECBAgMFBA4HQgkQkIECBAgAABAgQIECBAgAABAgQIECBAgAABAgQIEBh3AYHTcd/C1o8AAQIECBAgQIAAAQIECBAgQIAAAQIECBAgQIAAgYECAqcDiUxAgAABAgQIECBAgAABAgQIECBAgAABAgQIECBAgMC4CwicjvsWtn4ECBAgQIAAAQIECBAgQIAAAQIECBAgQIAAAQIECAwUEDgdSGQCAgQIECBAgAABAgQIECBAgAABAgQIECBAgAABAgTGXUDgdNy3sPUjQIAAAQIECBAgQIAAAQIECBAgQIAAAQIECBAgQGCggMDpQCITECBAgAABAgQIECBAgAABAgQIECBAgAABAgQIECAw7gICp+O+ha0fAQIECBAgQIAAAQIECBAgQIAAAQIECBAgQIAAAQIDBQROBxKZgAABAgQIECBAgAABAgQIECBAgAABAgQIECBAgACBcRcQOB33LWz9CBAgQIAAAQIECBAgQIAAAQIECBAgQIAAAQIECBAYKCBwOpDIBAQIECBAgAABAgQIECBAgAABAgQIECBAgAABAgQIjLuAwOm4b2HrR4AAAQIECBAgQIAAAQIECBAgQIAAAQIECBAgQIDAQAGB04FEJiBAgAABAgQIECBAgAABAgQIECBAgAABAgQIECBAYNwFBE7HfQtbPwIECBAgQIAAAQIECBAgQIAAAQIECBAgQIAAAQIEBgoInA4kMgEBAgQIECBAgAABAgQIECBAgAABAgQIECBAgAABAuMuIHA67lvY+hEgQIAAAQIECBAgQIAAAQIECBAgQIAAAQIECBAgMFBA4HQgkQkIECBAgAABAgQIECBAgAABAgQIECBAgAABAgQIEBh3AYHTcd/C1o8AAQIECBAgQIAAAQIECBAgQIAAAQIECBAgQIAAgYECAqcDiUxAgAABAgQIECBAgAABAgQIECBAgAABAgQIECBAgMC4CwicjvsWtn4ECBAgQIAAAQIECBAgQIAAAQIECBAgQIAAAQIECAwUEDgdSGQCAgQIECBAgAABAgQIECBAgAABAgQIECBAgAABAgTGXUDgdNy3sPUjQIAAAQIECBAgQIAAAQIECBAgQIAAAQIECBAgQGCggMDpQCITECBAgAABAgQIECBAgAABAgQIECBAgAABAgQIECAw7gICp+O+ha0fAQIECBAgQIAAAQIECBAgQIAAAQIECBAgQIAAAQIDBQROBxKZgAABAgQIECBAgAABAgQIECBAgAABAgQIECBAgACBcRcQOB33LWz9CBAgQIAAAQIECBAgQIAAAQIECBAgQIAAAQIECBAYKCBwOpDIBAQIECBAgAABAgQIECBAgAABAgQIECBAgAABAgQIjLuAwOm4b2HrR4AAAQIECBAgQIAAAQIECBAgQIAAAQIECBAgQIDAQAGB04FEJiBAgAABAgQIECBAgAABAgQIECBAgAABAgQIECBAYNwFBE7HfQtbPwIECBAgQIAAAQIECBAgQIAAAQIECBAgQIAAAQIEBgoInA4kMgEBAgQIECBAgAABAgQIECBAgAABAgQIECBAgAABAuMuIHA67lvY+hEgQIAAAQIECBAgQIAAAQIECBAgQIAAAQIECBAgMFBA4HQgkQkIECBAgAABAgQIECBAgAABAgQIECBAgAABAgQIEBh3AYHTcd/C1o8AAQIECBAgQIAAAQIECBAgQIAAAQIECBAgQIAAgYECAqcDiUxAgAABAgQIECBAgAABAgQIECBAgAABAgQIECBAgMC4CwicjvsWtn4ECBAgQIAAAQIECBAgQIAAAQIECBAgQIAAAQIECAwUEDgdSGQCAgQIECBAgAABAgQIECBAgAABAgQIECBAgAABAgTGXUDgdNy3sPUjQIAAAQIECBAgQIAAAQIECBAgQIAAAQIECBAgQGCggMDpQCITECBAgAABAgQIECBAgAABAgQIECBAgAABAgQIECAw7gICp+O+ha0fAQIECBAgQIAAAQIECBAgQIAAAQIECBAgQIAAAQIDBQROBxKZgAABAgQIECBAgAABAgQIECBAgAABAgQIECBAgACBcRcQOB33LWz9CBAgQIAAAQIECBAgQIAAAQIECBAgQIAAAQIECBAYKCBwOpDIBAQIECBAgAABAgQIECBAgAABAgQIECBAgAABAgQIjLuAwOm4b2HrR4AAAQIECBAgQIAAAQIECBAgQIAAAQIECBAgQIDAQAGB04FEJiBAgAABAgQIECBAgAABAgQIECBAgAABAgQIECBAYNwFBE7HfQtbPwIECBAgQIAAAQIECBAgQIAAAQIECBAgQIAAAQIEBgoInA4kMgEBAgQIECBAgAABAgQIECBAgAABAgQIECBAgAABAuMuIHA67lvY+hEgQIAAAQIECBAgQIAAAQIECBAgQIAAAQIECBAgMFBA4HQgkQkIECBAgAABAgQIECBAgAABAgQIECBAgAABAgQIEBh3AYHTcd/C1o8AAQIECBAgQIAAAQIECBAgQIAAAQIECBAgQIAAgYECAqcDiUxAgAABAgQIECBAgAABAgQIECBAgAABAgQIECBAgMC4CwicjvsWtn4ECBAgQIAAAQIECBAgQIAAAQIECBAgQIAAAQIECAwUEDgdSGQCAgQIECBAgAABAgQIECBAgAABAgQIECBAgAABAgTGXUDgdNy3sPUjQIAAAQIECBAgQIAAAQIECBAgQIAAAQIECBAgQGCggMDpQCITECBAgAABAgQIECBAgAABAgQIECBAgAABAgQIECAw7gICp+O+ha0fAQIECBAgQIAAAQIECBAgQIAAAQIECBAgQIAAAQIDBQROBxKZgAABAgQIECBAgAABAgQIECBAgAABAgQIECBAgACBcRcQOB33LWz9CBAgQIAAAQIECBAgQIAAAQIECBAgQIAAAQIECBAYKCBwOpDIBAQIECBAgAABAgQIECBAgAABAgQIECBAgAABAgQIjLuAwOm4b2HrR4AAAQIECBAgQIAAAQIECBAgQIAAAQIECBAgQIDAQAGB04FEJiBAgAABAgQIECBAgAABAgQIECBAgAABAgQIECBAYNwFBE7HfQtbPwIECBAgQIAAAQIECBAgQIAAAQIECBAgQIAAAQIEBgoInA4kMgEBAgQIECBAgAABAgQIECBAgAABAgQIECBAgAABAuMuIHA67lvY+hEgQIAAAQIECBAgQIAAAQIECBAgQIAAAQIECBAgMFBA4HQgkQkIECBAgAABAgQIECBAgAABAgQIECBAgAABAgQIEBh3AYHTcd/C1o8AAQIECBAgQIAAAQIECBAgQIAAAQIECBAgQIAAgYECAqcDiUxAgAABAgQIECBAgAABAgQIECBAgAABAgQIECBAgMC4CwicjvsWtn4ECBAgQIAAAQIECBAgQIAAAQIECBAgQIAAAQIECAwUEDgdSGQCAgQIECBAgAABAgQIECBAgAABAgQIECBAgAABAgTGXUDgdNy3sPUjQIAAAQIECBAgQIAAAQIECBAgQIAAAQIECBAgQGCggMDpQCITECBAgAABAgQIECBAgAABAgQIECBAgAABAgQIECAw7gICp+O+ha0fAQIECBAgQIAAAQIECBAgQIAAAQIECBAgQIAAAQIDBZYaOIUJCBAgcK/AX/7yl3LjjTeWm2++uflbYoklykMe8pCy4oorNn9LLeV0YkchQIAAAQIECBAgQIAAAQIECBAgQIAAAQIERldApGN0t52SE5h1gdtvv7185StfKd/61rfKRRddVH7/+9/3Xebaa69dttpqq7LllluWJzzhCWXZZZftO60RBAgQIECAAAECBAgQIECAAAECBAgQIECAAIH5JrDEX+9N861QykOAwKIVuOOOO8onP/nJcuKJJ5Zbb711xoVZeumly9e//vWy0korzXheMxAgQIAAAQIECBAgQIAAAQIECBAgQIAAAQIEFoWAFqeLQt0yCcxjgauuuqrsu+++5brrrptUynXXXbc84xnPKGussUbTTe8f/vCH8tOf/rScffbZ5fLLL+9Mf/fddzdd+3YG+EKAAAECBAgQIECAAAECBAgQIECAAAECBAgQmOcCWpzO8w2keATmUuCss84qb3jDG8qdd945YbHpdvewww4rz372sycMb//YY489yje/+c3OoARTV1lllc5vXwgQIECAAAECBAgQIECAAAECBAgQIECAAAEC81lgyflcOGUjQGDuBC677LJy4IEHTgqarrrqquVTn/rUlEHTlDLvN5UIECBAgAABAgQIECBAgAABAgQIECBAgAABAqMqoKveUd1yyk1giAI333xz2Xvvvctdd901IdcHP/jB5eSTTy4rrrjihOG9fqQbX4kAAQIECBAgQIAAAQIECBAgQIAAAQIECBAgMKoCWpyO6pZTbgJDFPjABz5Qbrrppkk57rrrrtMKmmbG9dZbb9L8BhAgQIAAAQIECBAgQIAAAQIECBAgQIAAAQIERkVAi9NR2VLKSWCWBG644YZy0kknTco9rUx33nnnScP7DVhhhRXKJptsUn73u981kyy11NSnlz//+c/lW9/6Vvnxj3/c/P3kJz8pv/zlL8ujHvWo8uhHP7r523jjjWcUkP3Zz35Wvv71r5dzzjmn/OEPfyg77bRTeelLX9qU5+677y5f+9rXmnFXXHFFufXWW8vqq69eHvOYx5Tdd9+9rLbaav1WbcLwq666qpxyyinluuuuK7H79a9/Xe5///uXBz3oQeVhD3tYedzjHlee8IQnNJ95N2yvdPvttzfljNUTn/jEsuGGG/aazDACBAgQIECAAAECBAgQIECAAAECBAgQIEBgDgWW+Ou9aQ6XZ1EECMwzgeOOO64ce+yxk0p1wAEHlFe+8pWThg9jwCWXXFIOPfTQJmA6VX5LLLFEE/jcf//9S78gZAKuCYjm75prrpmQ3Z577lnSavZjH/tY+fSnP11uueWWCePrjwc84AHlqKOOKltuuWUdNOnz2muvLf/5n/9ZvvGNb0wa12tAlpt3xnanBFoTkL7++uubUVnHdJOcskoECBAgQIAAAQIECBAgQIAAAQIECBAgQIDAohMQOF109pZMYF4IpFXmZZddNqksX/jCF5rWmJNGLMSAtLQ88sgjmxab7Wc2nvWsZ5Wtttqq5J2q3/72t8tpp502IciZlqGHH35406K1vfgEH7fZZpv2oAnf119//SZAedttt00Y3uvHIx7xiHLmmWeW+9znPpNGp2Xoi170oqaVaR259tprl2c84xlls802K7///e+b1rNf/vKXS9YxqV/g9KCDDiqnn356zab5XHLJJcupp55a1llnnQnD/SBAgAABAgQIECBAgAABAgQIECBAgAABAgTmTmDqvjTnrhyWRIDAIhBIwO/yyy/vueTpdl3bc+Y+AxP8/OIXvzhh7Otf//qy2267dYY99alPLc997nPLK17xilIDnmntmRaZZ5xxRtMdbp14ueWWK9tvv33z8+c///mkdfnRj35Ulllmmabr3ARfl19++fLTn/60XHjhheUvf/lLzab5TBD2q1/9atluu+0mDM+Pf//3f58QNE03xB/+8IfLSiut1Jl26623boK46fZ3qtTL+5577ilphStwOpWccQQIECBAgAABAgQIECBAgAABAgQIECBAYHYFBE5n11fuBOa1QN4pmqBdd8r7TfPezmGmCy64YFLQNC0220HTury84/Qd73hH2WeffeqgplVnAq/vec97OsNSziOOOKL5nfe0dgcld9xxx3LwwQeXpZdeujNPviRI+W//9m/ljjvumDD80ksvnRQ4veuuu0rK3k5PecpTJgRN67i8L3VQevjDH14S5O1Oq666avcgvwkQIECAAAECBAgQIECAAAECBAgQIECAAIE5FFhyDpdlUQQIzDOBm266qWeJ0jpzmOmPf/xjectb3jIpyx122GHSsDogLU8TGG2nvMf03HPPbQ+a8vtDHvKQSUHTzLDJJpuUdFHcnRJI7k5XXnll+fOf/zxh8M033zzhd/2R5fV7F2udJgHbvNe0nVKeJz3pSe1BvhMgQIAAAQIECBAgQIAAAQIECBAgQIAAAQJzLCBwOsfgFkdgPgnceuutPYvT7oK25wQzHHj22Wc37xptz5Yg41TBwrxrdNttt23P0nz/+Mc/PmnYggxIq9Hu9Otf/7p7UGm/i7WOTMvUo48+elJ3vxl/zDHHNH/pbrhXyjp/5CMfKQkMb7zxxmWPPfYoJ5xwQs93q/aa3zACBAgQIECAAAECBAgQIECAAAECBAgQIEBgdgR01Ts7rnIlMBICD3jAA3qW81e/+lXP4Qs68Oqrr540a97nmeDoVKlX17fXXHPNVLNMe9zKK688adq777570rB111235J2m3a1Ojz/++HL++eeXvKN1880378y31VZbdb73+5Lp2/P0m85wAgQIECBAgAABAgQIECBAgAABAgQIECBAYO4EtDidO2tLIjDvBB760If2LNN1113Xc/iCDuwVOO237PYy0iq1O/32t78tt9xyS/fgGf++3/3uN615Elzee++9e077wx/+sOy6667NX1qhSgQIECBAgAABAgQIECBAgAABAgQIECBAgMDoCgicju62U3ICCy2QVpfd79tMpglM/v73v1/o/GsGvQKnvYKidfr62S+4OqxWp3U5gz532223JjjayyrzXnzxxeUlL3lJ2WuvvcpPfvKTQdkZT4AAAQIECBAgQIAAAQIECBAgQIAAAQIECMxDAYHTebhRFInAXAk86EEPKhtssEHPxQ2z1WmvFqJLL710z+W2By633HLtn53v/d7N2plgyF/SpfCBBx5YPvjBD5Y11lijb+7nnHNO2WGHHcrJJ5/cdxojCBAgQIAAAQIECBAgQIAAAQIECBAgQIAAgfkpIHA6P7eLUhGYM4GnPOUpPZf1ne98p+fwBRm41lprTZrtpptumjSse0C/afJ+1EWRttxyy3L66aeXI444oqy55po9i3DXXXeVQw89tHzhC1/oOd5AAgQIECBAgAABAgQIECBAgAABAgQIECBAYH4KCJzOz+2iVATmTGD77bcvaVHZnU444YRy5513dg+e8verX/3qst122zV/N954Y2faddddt/O9fukXFK3j89lrmmWWWaasvvrq7cnm9HusYpYA6pFHHll6BYVToKOOOmpOy2VhBAgQIECAAAECBAgQIECAAAECBAgQIECAwMIJCJwunJ+5CYy8QLqefd7znjdpPRK0/OQnPzlpeL8Bd9xxRzn//PPLT3/60+bvz3/+c2fS9dZbr/O9fvnlL39Zv/b9/PWvfz1pXFqb9gr0TppwSAO++c1vNl30fvazn52Q45JLLtkEiE877bSyxx57TBiXHzfffHPzN2lEa8A999zT+uUrAQIECBAgQIAAAQIECBAgQIAAAQIECBAgsCgFBE4Xpb5lE5gnAnvttVdZfvnlJ5Xmwx/+cLntttsmDe814Morryz9AoFPfOITJ81yzTXXlF/84heThrcHnH322e2fzfcttthi0rDZHPA///M/5b3vfW9517ve1XMxCeLuu+++ZdNNN50wPoHVZZdddsKw+uNjH/tYeepTn9rMk1a6119/fR3lkwABAgQIECBAgAABAgQIECBAgAABAgQIEFhEAgKniwjeYgnMJ4GVV1656Vq2uyXnrbfeWnbaaafyk5/8ZGBxL7/88r7TbLTRRmWHHXaYNP6MM86YNKwO+L//+79yySWX1J/N56qrrlr23HPPCcPm6scf//jHKVuQPupRj5pQlLwD9X73u9+EYflxyimnNO9I/c1vflPyPtTzzjuv7LbbbjPuFnlSxgYQIECAAAECBAgQIECAAAECBAgQIECAAAECCyUgcLpQfGYmMD4CW221VTn44IPLEkssMWGlfvazn5Udd9yxfOUrX5kwvPvHD3/4w+5BE34feOCB5WEPe9iEYekKuFdQ9i9/+Ut55zvfWf76179OmP6tb31rz2DkhIlm8Ue/lqEp5xVXXDFhyZtvvvmE3/XH5z//+fq183nttdeWb33rW53fvhAgQIAAAQIECBAgQIAAAQIECBAgQIAAAQJzLyBwOvfmlkhg3gqkdenRRx89KTiZ1pYHHHBAecUrXlE+9alPlUsvvbSkRWhaTf5//9//1wzr1a1ue0Uf8IAHlLe97W0Tuq9Ni9ZXvepV5eKLLy71najpvjfLOuecc9qzl1122aVsueWWE4a1f/QKwOZ9q/1Sr3G33HJL+f3vf99vliaYe+6555YEdpPymVaxhxxySLnqqqs686299tplv/326/xuf7n99tvbPzvfYyERIECAAAECBAgQIECAAAECBAgQIECAAAECi05giXtbSk1s0rXoymLJBAjME4EEFdPi8/zzz1/gEiWQusoqq0yaPwHXQw89tFxwwQUTxqVb27xnNcHYdlp99dWb6Xu92zTvVN1uu+3KjTfeWPoFJJNv3rF63HHHNdmeeeaZ5fDDDy833XTTpBatmWCppZYqD33oQ8v+++/f5P2mN72pdLcSzbtLV1pppZJgZ3fAM+U9/vjjS3fXvXWdjjzyyPLRj360/mw+l1566XL66aeX1VZbbcJwPwgQIECAAAECBAgQIECAAAECBAgQIECAAIG5E1hq7hZlSQQIjIrAWmutVT70oQ+V73//++Uzn/lME+S8+eabpyx+gombbrppSYAzf3lvaq/0yEc+spxwwgnltNNOK6eeemq55pprmneH3nHHHSV/SQmgrrPOOiXdB+f9n8sss0yvrJphP//5z/uOy4jk2e5iN4HO3/72t33nScvXX/3qV+V3v/tdM83Tn/70Jo90xXvdddc1wdY777yzpHvddlpjjTXK7rvvXp7znOeU7nfFtqfbZ599mnWuQekEdhNIFjRtK/lOgAABAgQIECBAgAABAgQIECBAgAABAgTmXkCL07k3t0QCIyeQhuk//vGPm+55051tgo8JZq6wwgqdvwRb73vf+y7QuiUoe/XVVzfd9SZg2i/oukCZD3GmdON7ww03dFqaZn0f8YhHlASDl1tuuRktKV37Jji7/vrrlwc+8IEzmtfEBAgQIECAAAECBAgQIECAAAECBAgQIECAwPAFBE6HbypHAgQIECBAgAABAgQIECBAgAABAgQIECBAgAABAgRGTGDJESuv4hIgQIAAAQIECBAgQIAAAQIECBAgQIAAAQIECBAgQGDoAgKnQyeVIQECBAgQIECAAAECBAgQIECAAAECBAgQIECAAAECoyYgcDpqW0x5CRAgQIAAAQIECBAgQIAAAQIECBAgQIAAAQIECBAYuoDA6dBJZUiAAAECBAgQIECAAAECBAgQIECAAAECBAgQIECAwKgJCJyO2hZTXgIECBAgQIAAAQIECBAgQIAAAQIECBAgQIAAAQIEhi4gcDp0UhkSIECAAAECBAgQIECAAAECBAgQIECAAAECBAgQIDBqAgKno7bFlJcAAQIECBAgQIAAAQIECBAgQIAAAQIECBAgQIAAgaELCJwOnVSGBAgQIECAAAECBAgQIECAAAECBAgQIECAAAECBAiMmoDA6ahtMeUlQIAAAQIECBAgQIAAAQIECBAgQIAAAQIECBAgQGDoAgKnQyeVIQECBAgQIECAAAECBAgQIECAAAECBAgQIECAAAECoyYgcDpqW0x5CRAgQIAAAQIECBAgQIAAAQIECBAgQIAAAQIECBAYuoDA6dBJZUiAAAECBAgQIECAAAECBAgQIECAAAECBAgQIECAwKgJCJyO2hZTXgIECBAgQIAAAQIECBAgQIAAAQIECBAgQIAAAQIEhi4gcDp0UhkSIECAAAECBAgQIECAAAECBAgQIECAAAECBAgQIDBqAgKno7bFlJcAAQIECBAgQIAAAQIECBAgQIAAAQIECBAgQIAAgaELCJwOnVSGBAgQIECAAAECBAgQIECAAAECBAgQIECAAAECBAiMmoDA6ahtMeUlQIAAAQIECBAgQIAAAQIECBAgQIAAAQIECBAgQGDoAgKnQyeVIQECBAgQIECAAAECBAgQIECAAAECBAgQIECAAAECoyYgcDpqW0x5CRAgQIAAAQIECBAgQIAAAQIECBAgQIAAAQIECBAYuoDA6dBJZUiAAAECBAgQIECAAAECBAgQIECAAAECBAgQIECAwKgJCJyO2hZTXgIECBAgQIAAAQIECBAgQIAAAQIECBAgQIAAAQIEhi4gcDp0UhkSIECAAAECBAgQIECAAAECBAgQIECAAAECBAgQIDBqAgKno7bFlJcAAQIECBAgQIAAAQIECBAgQIAAAQIECBAgQIAAgaELCJwOnVSGBAgQIECAAAECBAgQIECAAAECBAgQIECAAAECBAiMmoDA6ahtMeUlQIAAAQIECBAgQIAAAQIECBAgQIAAAQIECBAgQGDoAgKnQyeVIQECBAgQIECAAAECBAgQIECAAAECBAgQIECAAAECoyYgcDpqW0x5CRAgQIAAAQIECBAgQIAAAQIECBAgQIAAAQIECBAYuoDA6dBJZUiAAAECBAgQIECAAAECBAgQIECAAAECBAgQIECAwKgJCJyO2hZTXgIECBAgQIAAAQIECBAgQIAAAQIECBAgQIAAAQIEhi4gcDp0UhkSIECAAAECBAgQIECAAAECBAgQIECAAAECBAgQIDBqAgKno7bFlJcAAQIECBAgQIAAAQIECBAgQIAAAQIECBAgQIAAgaELCJwOnVSGBAgQIECAAAECBAgQIECAAAECBAgQIECAAAECBAiMmoDA6ahtMZWClIMAAEAASURBVOUlQIAAAQIECBAgQIAAAQIECBAgQIAAAQIECBAgQGDoAgKnQyeVIQECBAgQIECAAAECBAgQIECAAAECBAgQIECAAAECoyYgcDpqW0x5CRAgQIAAAQIECBAgQIAAAQIECBAgQIAAAQIECBAYuoDA6dBJZUiAAAECBAgQIECAAAECBAgQIECAAAECBAgQIECAwKgJCJyO2hZTXgIECBAgQIAAAQIECBAgQIAAAQIECBAgQIAAAQIEhi4gcDp0UhkSIECAAAECBAgQIECAAAECBAgQIECAAAECBAgQIDBqAgKno7bFlJcAAQIECBAgQIAAAQIECBAgQIAAAQIECBAgQIAAgaELCJwOnVSGBAgQIECAAAECBAgQIECAAAECBAgQIECAAAECBAiMmoDA6ahtMeUlQIAAAQIECBAgQIAAAQIECBAgQIAAAQIECBAgQGDoAgKnQyeVIQECBAgQIECAAAECBAgQIECAAAECBAgQIECAAAECoyYgcDpqW0x5CRAgQIAAAQIECBAgQIAAAQIECBAgQIAAAQIECBAYuoDA6dBJZUiAAAECBAgQIECAAAECBAgQIECAAAECBAgQIECAwKgJCJyO2hZTXgIECBAgQIAAAQIECBAgQIAAAQIECBAgQIAAAQIEhi4gcDp0UhkSIECAAAECBAgQIECAAAECBAgQIECAAAECBAgQIDBqAgKno7bFlJcAAQIECBAgQIAAAQIECBAgQIAAAQIECBAgQIAAgaELCJwOnVSGBAgQIECAAAECBAgQIECAAAECBAgQIECAAAECBAiMmoDA6ahtMeUlQIAAAQIECBAgQIAAAQIECBAgQIAAAQIECBAgQGDoAgKnQyeVIQECBAgQIECAAAECBAgQIECAAAECBAgQIECAAAECoyYgcDpqW0x5CRAgQIAAAQIECBAgQIAAAQIECBAgQIAAAQIECBAYuoDA6dBJZUiAAAECBAgQIECAAAECBAgQIECAAAECBAgQIECAwKgJCJyO2hZTXgIECBAgQIAAAQIECBAgQIAAAQIECBAgQIAAAQIEhi4gcDp0UhkSIECAAAECBAgQIECAAAECBAgQIECAAAECBAgQIDBqAgKno7bFlJcAAQIECBAgQIAAAQIECBAgQIAAAQIECBAgQIAAgaELCJwOnVSGBAgQIECAAAECBAgQIECAAAECBAgQIECAAAECBAiMmoDA6ahtMeUlQIAAAQIECBAgQIAAAQIECBAgQIAAAQIECBAgQGDoAgKnQyeVIQECBAgQIECAAAECBAgQIECAAAECBAgQIECAAAECoyYgcDpqW0x5CRAgQIAAAQIECBAgQIAAAQIECBAgQIAAAQIECBAYuoDA6dBJZUiAAAECBAgQIECAAAECBAgQIECAAAECBAgQIECAwKgJCJyO2hZTXgIECBAgQIAAAQIECBAgQIAAAQIECBAgQIAAAQIEhi4gcDp0UhkSIECAAAECBAgQIECAAAECBAgQIECAAAECBAgQIDBqAgKno7bFlJcAAQIECBAgQIAAAQIECBAgQIAAAQIECBAgQIAAgaELCJwOnVSGBAgQIECAAAECBAgQIECAAAECBAgQIECAAAECBAiMmoDA6ahtMeUlQIAAAQIECBAgQIAAAQIECBAgQIAAAQIECBAgQGDoAgKnQyeVIQECBAgQIECAAAECBAgQIECAAAECBAgQIECAAAECoyYgcDpqW0x5CRAgQIAAAQIECBAgQIAAAQIECBAgQIAAAQIECBAYuoDA6dBJZUiAAAECBAgQIECAAAECBAgQIECAAAECBAgQIECAwKgJCJyO2hZTXgIECBAgQIAAAQIECBAgQIAAAQIECBAgQIAAAQIEhi4gcDp0UhkSIECAAAECBAgQIECAAAECBAgQIECAAAECBAgQIDBqAgKno7bFlJcAAQIECBAgQIAAAQIECBAgQIAAAQIECBAgQIAAgaELCJwOnVSGBAgQIECAAAECBAgQIECAAAECBAgQIECAAAECBAiMmoDA6ahtMeUlQIAAAQIECBAgQIAAAQIECBAgQIAAAQIECBAgQGDoAgKnQyeVIQECBAgQIECAAAECBAgQIECAAAECBAgQIECAAAECoyYgcDpqW0x5CRAgQIAAAQIECBAgQIAAAQIECBAgQIAAAQIECBAYuoDA6dBJZUiAAAECBAgQIECAAAECBAgQIECAAAECBAgQIECAwKgJCJyO2hZTXgIECBAgQIAAAQIECBAgQIAAAQIECBAgQIAAAQIEhi4gcDp0UhkSIECAAAECBAgQIECAAAECBAgQIECAAAECBAgQIDBqAgKno7bFlJcAAQIECBAgQIAAAQIECBAgQIAAAQIECBAgQIAAgaELCJwOnVSGBAgQIECAAAECBAgQIECAAAECBAgQIECAAAECBAiMmoDA6ahtMeUlQIAAAQIECBAgQIAAAQIECBAgQIAAAQIECBAgQGDoAgKnQyeVIQECBAgQIECAAAECBAgQIECAAAECBAgQIECAAAECoyYgcDpqW0x5CRAgQIAAAQIECBAgQIAAAQIECBAgQIAAAQIECBAYuoDA6dBJZUiAAAECBAgQIECAAAECBAgQIECAAAECBAgQIECAwKgJCJyO2hZTXgIECBAgQIAAAQIECBAgQIAAAQIECBAgQIAAAQIEhi4gcDp0UhkSIECAAAECBAgQIECAAAECBAgQIECAAAECBAgQIDBqAgKno7bFlJcAAQIECBAgQIAAAQIECBAgQIAAAQIECBAgQIAAgaELCJwOnVSGBAgQIECAAAECBAgQIECAAAECBAgQIECAAAECBAiMmoDA6ahtMeUlQIAAAQIECBAgQIAAAQIECBAgQIAAAQIECBAgQGDoAgKnQyeVIQECBAgQIECAAAECBAgQIECAAAECBAgQIECAAAECoyYgcDpqW0x5CRAgQIAAAQIECBAgQIAAAQIECBAgQIAAAQIECBAYuoDA6dBJZUiAAAECBAgQIECAAAECBAgQIECAAAECBAgQIECAwKgJCJyO2hZTXgIECBAgQIAAAQIECBAgQIAAAQIECBAgQIAAAQIEhi4gcDp0UhkSIECAAAECBAgQIECAAAECBAgQIECAAAECBAgQIDBqAgKno7bFlJcAAQIECBAgQIAAAQIECBAgQIAAAQIECBAgQIAAgaELCJwOnVSGBAgQIECAAAECBAgQIECAAAECBAgQIECAAAECBAiMmsBSo1Zg5SVAgAABAgQI9BK48847y4UXXliuu+66svHGG5eNNtqo12TNsHvuuadcdtll5YorrigPf/jDyzbbbNN3WiMIECBAYHwEbr/99nLBBReUX/7yl2XzzTcvj370o0di5X7+85+Xb3/72+VPf/pTeelLXzoSZVZIAsMUuPrqq8v3vve9cp/73KfsuOOOw8x6scnr17/+dXP++/3vf1+e+9znlgc96EHzet1ncm8/r1dE4QgMQeCOO+5ojt8bbrihbLbZZuUxj3nMEHKVBQECBAj0ExA47SdjOAECBAgQmCcCqSx9wAMeUB7ykIfMkxLNn2LkP47f+MY3yrnnnttUKN91111N4V73utdNCpymkui8885rps3n7373u2baJz/5yQKn82eTLhYlyb530003lbXXXnuxWF8rSWBRC1x77bWda8V3v/vdJviYMr3lLW+Zt4HTBEi/853vNNesXOOyDklLL720wGkjMfr//PCHPyzrrLNOWXbZZUd/ZWZhDRI0y8MC9T4vDzsk5X5Y4HR64HlQMPtZNfzRj37UmXGrrbaal4HTmdzbd1bGlwUWmC/3pM6HvTdhHgjOPUCO4dwT5N4g6eCDDxY47U1mKAECBIYmIHA6NEoZESAwTgL5j/pvfvObpmI7/5nIk833v//9yyqrrNK0TstvicBcCOy///7lzDPPLPe9733LPvvsU171qlfNxWJHZhkvfOELyy233DKt8r75zW8uX/va16Y1rYkIzJbAxz/+8XLUUUeVu+++uzztaU8r73//+2drUfIlQOBvAs961rNKAgijlE466aRy+OGHj1KRlXWaArfeemsT/P7pT3/aBK5yTXjSk540zbkXn8lOPPHEcuyxxy4+KzwLa/r973+/vOxlL5uFnGcvy5nc289eKRaPnOfDPanz4dT72vbbb9/8n2HqqYwlQIAAgdkQEDidDVV5EiAwkgJp/fOFL3yhnH/++eWSSy4pf/7zn3uux3LLLVce+9jHlk022aTkSd3HP/7xZamlnE57Yhm4UALpRjZB06Q8XfqhD32oqWjLPij9P4H//u//7hyrBx10UMlT6v1SAs8777xzMzqVcf/7v//bb1LDCcyKQIKlH/jABzoVIOecc05zvcn1ZHFLaUm/9957D1ztf/3Xfy277rrrhOne9ra3Na2QJgxs/dh6661LAmV58KRfetOb3tR009pvfB2eVn6vec1r6s+en+9617vK+uuvXw499NCS1oy90lprrVWOOeaYXqMmDXvnO9/Z3ItMGvG3AemK/LDDDus32vAeAqkc/utf/9qM2Wuvvcptt93WY6r5NegZz3hGs1+lVOmGPtc7aTwE8v+NBE2TEjQ44YQTBE57bNrnPe95TXeUGXX22WeXj370oz2mMmgqgXRF/olPfKKZJPfIuVee72km9/bzfV3mc/nmyz2p8+HUe8lHPvKRzv3La1/72nLzzTdPPYOxBAgQIDA0ATX9Q6OUEQECoyqQirTPf/7zJRWf6cqzprQqXWGFFZq/DL/xxhvLX/7yl/LHP/6xqRhN5egHP/jB8upXv7rkJlYiMGyBWslb8+3+XYcvzp+Pe9zjOqs/qKu7BC5qOuOMM+pXnwTmTMAx/HfqJZZYonnoIQ8t5Z2T3SnH84Mf/OCy5JJLdo9qhiXYkB4hcl1up3RrnrwzX8alRXqu4d323/zmN6cVOE1eeadU3gvXnUfGPexhD2uWlzJkmVmXLDMVku2UXizyt9JKK7UH9/2eLilzv9Gd4tI+73WP97u3QPvhhPTgMAop+0rdX371q1+NQpGVcQEFus8tC5jN2M2Wnn7yl/TjH/947NZvLlZo+eWXL5tuummzqPy/dhRS+xo36N5+FNZnvpZxvp535mu5FtV2bN+/pKt+iQABAgTmTmByTcTcLduSCBAgsMgF0uJll112KenCswZNt9lmm6brxLxDIhWrp512WtMy7dJLLy154i+tX9r/iXNzv8g349gWYMMNNyzbbrttUymffS5Beq1Nx3ZzW7HFQGCZZZYpe+yxR3MNSdAtLSPbFSKLAUFnFR/1qEc1Lepzrc01uJ3SMjw9P6RV+Cte8Yr2qOb7IYcc0ryv+B3veEdnXM6VeRfexRdf3DzMlPcGfvWrXy0XXXRR+dKXvlRi305pgfiDH/ygPajn99VWW60pR7o7zHJrynuUv/e97zXvnHrMYx7TDM561FbEz3/+8+ukzecf/vCHpkXqhIF9frzxjW9s8j7rrLPKuuuu20yVcmR94tJe7z5ZGEyAwDwWSEvK9dZbrylh3te5++67z+PSKhoBAuMoMF/uSZ0Px3Hvsk4ECBAYDwEtTsdjO1oLAgQWQODkk09u3h1VW4UkMJVK0Re84AU9c0sL1C222KL522CDDXST11PJwGELvPvd7y777bdf8w6stKSSCBAYbYGXv/zlJUG1tJh85CMfOdorM6TSp5vbdur+3R5Xv6cXiPe85z3Nz4022qi5nncHR+u0a6+9dhM4veuuu+qgpjXqwQcf3HTRP50n+DNNKvfe/va3N3k85znPmfAQVSfje7+k5WnW4Ytf/GJ7cBNkzcNYz33ucycM7/dj1VVXbV4JcM011zTdVSbYLBEgMPoCafl36qmnlhzba665pld+jP4mtQYERlJgPtyTOh+O5K6j0AQIEFgsBLQ4XSw2s5UkQKBb4Lzzzit5R1oNmqbS4qSTTuobNO2ef7PNNuse5Pc8Fkir4AQq0lp4UaavfOUrTeuyr3/96zMqRoIrgqYzIjMxgXktkONZ0HTBN1Gu3fvuu2/Tfe7KK6/c9BLRL2javZTagjPD847BY489tnuSof5OS9F22fL+0nTZKxEgsGACC3ovtWBLm925cj5aaqnF71n2dEX+xCc+sXngZXaF5U5gdgXG4Xw0X+5JF9fz4ezuocPNfRz292GKzJc6pmGuk7wIEJgoIHA60cMvAgQWA4G8J+qAAw4o99xzT7O2aRlyzDHHdLrDmw5BWn0sjhUd07GZj9Oku8errrqqtFsbLYpyfuhDHyp33nnnpHfyLYqyWCYBAgRGVeDQQw8tl112WdN1+XHHHVce+tCHTntVXv/615cEW2v66Ec/Oq0ue+v0M/1M4DRB3ppuu+228ta3vrX+9EmAwAwF3EvNEGweTp7zbt4H/ac//Wkelk6RCExfwPlo+lamHH0B+/vEbThf6pgmlsovAgSGKSBwOkxNeREgMBICqWSt7zNNgdPdXrrxm0lK0FSXeTMRW7TTnnDC/8/emcDtN9UJ/NhKSJZooUi7SJYiW0xakFEhSspk36ZSIYWQpMWUaKTsUhltaCQpjMgSGqQasoQpspQtCuN7Z37PnPf+732e+2zv8zzv+/19Pu9773OXc8/93nPPPef3O7/f+dpoM/Dk1S+66KLCeDvyjJgBCUhAAhNMAIU7IS4Z9PTZz342vfSlL+3qbvCsIOJEyGOPPZY+9rGPtSJQxPZBLpmndeWVV24lyTyohOxVJCCB7gjYluqO1zgeTZj6008/fRyzZp4k0BUB66OucHnwhBOwvM/5AMdBxzRnrtwiAQkMksDsiwszSHqmJQEJTByB2267rZjPLDI+33zzpd122y1+drU88sgj0wMPPJCWWGKJRuf98Y9/TNdff3369a9/XXg+vuIVr0j8Pec5z2l0fhz029/+Nl1++eVpgQUWKMLPxnZGbv/qV78qrvGnP/2pCAm72mqrpYUWWigOaS0JK3LzzTen6667rsgP98AccausskrrmLqVv//978X1mZdphRVWaJ2DNyf3Rh7g/JKXvCSttNJKhYF5rrnmqkuutR2P0B//+Mfp1ltvTW95y1vSOuus09pXXsFb+Oqrr07nnXde4l7f97731SrPL7zwwsIzqZxGN78JKXbttdcW4RV5jjBg7rmllloqvfa1r62d5y6ugZfpMcccEz+7WuKdxD3cc889af311094LzURGPGMeSawxVhAeWN+3mc84xlNkiiOwahwxRVXFGkQQon7DSFP5O2GG25IlKkXvehFRXnodlAB17jyyiuLcsO8hTzTRRZZpOBLfvPQmnHtYS3hdtVVV7VNfrHFFivmJMsPuummm4pnlG+LdcpJ7uEW25suGejBe8Xf3XffXQz0gAnvWNXcjJQZ3s92wmARGCPcb3jgl8/BKFWuQ/Dap/P80EMPpa233jox/zNyxx13tOog8vWqV72qqCMWXHDBcrIdf0f55Z4pw+SVeyY/TVnW1ZW8j5dccknhZUi9SXnl3SC/TYU0qIe5Z/74TblYcskli3mw29XreNhceumlRZhY5sEkXCECT74R7aSqLHEO51YJzBZeeOE5dg2C7xyJTsMGyh3zPiPM/fwP//APPV117bXXTptvvnlLeX/jjTcmvul77rlnT+l1Ogkj76c+9anim01ZQQjZu+aaazZuQ3S6RtV+3p+HH364alexjRDCfMerhPeO94PyU1cHU29T91cJ3/+6yByDag+Rzs9+9rOiLcbzpF2EEMr5y1/+cuJ78qxnPSttsMEGxbevKp9V2+Leq/ZxjXZz8HJNvKGpF2g78OypG/h28/3kWzxI4Tt/zTXXFNe77777iu8wz5TvcdTN+fXa3RvHUXfTHsyF7w7XqZJ25aPq+NjWCyfenV7bUnFdluNS/mgrX3zxxcX3453vfGeiT1Inw/yexTV///vfF+052jN85/Hkp61LPUUZHoRQX6Boblcv9XId3nm+ybx7vAd813lPm/RrytcbxvcRtp1CtL/yla+sLAOUE8osfam6+6F85IOC83tabrnlEnNIdhKeDf1COFJ38fxpc1FvVbU1O6VHfqLfS/5ps9LWYnqcqrqpU3rd7h/Gc8zz0E99NIhvFzqIX/ziF0XZoGzR9ud7Rztx1VVXbdy2qGuT5vca67QJ+OZSP9COomyFMPUB+26//fZEu5/nzdRGTcoeaXRTH9bx45mjH6AM05eEB/mgDLerX+Me8uV01If59fJ1yhb9OL7X9LFpR8Bx2WWX7XmQH2nR1qWs8Ef7j/qdNOmHdNLV9FPe494G2d8nP732wyI/LPupJwahY8rz4roEJDCeBDScjudzMVcSkMCQCJx99tlTwqS+9a1vLToYvVyuqXHonHPOKRSkdR1mOqZ77bVXYSysykc0MgkFgqGQjgWCEo55O2nYH3vssemMM84olC95GnR08bANYxeNTEZ5n3zyycV5+bGsb7LJJokQiE972tOm7KLzy7yweMnQSIzOOQZLvGi++93vpn/5l38pjDpTTnzyB/n8whe+UKlopEN91llnFQZT7iPkZS97WaXhFGMDzxAOKPJCNt544zkMp+eff3468cQTCwNFHIciYMcdd4yfrSWGocMPP7z1O1Z++MMfFnPfXnbZZbXKYTplhH7E2FsWOm1f//rXizRQ5ISg+INZWVCcYRxF4RrPG6MlZQBhTsROhlOO5Zkff/zxtYopFCGf/OQnCwVGOQ/8xgiDgYI8wJHOOMIcsZQljMikf+655xZG5GLn//1DUf7+97+/MGZ36oTR8cV7jDKQP888PdLYcMMN0957791YCZCf3+06yrdtttmm7Wm8J4cddtiUY44++uh05plnTtkWPz7wgQ9UlrvYX7ek04wnHLyrhDoIY0zuycZx//mf/9nxeoQnx5iAbLfddnPUHcWOJ/9RV6CAocPNe0eZyI1773jHOwoFCp5/VXP30tmHJ+HRmyjKKL+wpHxVGQMjPZjm80aS3051JeWNOuHb3/52qw6L+2TJO3zAAQcUCp98e75OHQoT0mHgQJ1QZsPAxzHUmRdccEHBj7oU5RPynve8p2U4RVndqexVlaX999+/UHYWCZb+Udeg3Arph2+kMaolhhvqWu6Bbx/lth/hu0s9hwIQocy94Q1vmMNo1M818nN5X3l+n/70p4vN1Kt8b4866qj8sIGu77PPPoXSrS5RFGbMV1UW3r13vetdRb2w+OKLF2WXd68slF+UTlVCOefcXPptD5EWSkTqIv5Q8ofh9o1vfGNhOOW93GOPPaYMgOE5n3baaXlW2q7zTtXVu7RPvvOd78xxPvXLV77ylWIf35EqoQ7kmTDgpB+B+SmnnFK0++rySbuG8rXRRhtNuVS7e+NABqZQz+dCO2C//fbLN7XWMap143HRC6de21KtTP7fyjiUPwYzxLeUQW0h1Gm5Yn86vmdxbepW2sAMXgyh7RXvFuWW7whtx7JQr5H3TsLgSiIF8P3EwBLCd7GqXU67Y6eddorDapcY4Pke807m7ew44c1vfnMRGr3JgIVhfh/J46mnnhrZqlzComow7kc/+tHCQMZJ9PUYFFEWBuLQR6oS2iK0Seok+obkj7JQFp47aeRGsvIx+W/K9cc//vHadgl9TOpAQtjXDa7J0+t2fZjPkbz0Wh8N6tvFQJmTTjqpqEd4dlUy//zzJyJdMDi8inGTNmmkyztG/596izIW3zf6QRjBqTco3wykKgsDLiibdYOhm9aHpNuOH+0TvvH0uXN9QuQHg/3nPve5RtHCpqM+jHyVl/T56dcxEKKubVU+p91vnhV1LnUvRtM6YbAU72x50BTH91re82sNsr/faz8szw/r/dQTg9AxlfPjbwlIYHwJzDu+WTNnEpDATCBw3HHHFYYuGoAIo/7ovGFwG4WgPMulqoGY7+9nnU7JwQcfXBiFSIcRoCiwVl999WJOH0aJYgRkZCYKXAySKLTK3l0oH3fdddc5skLDEeMXHQU8IKuEBjMKROaj4BmgoKUBXCcYfjC2ku9cUPRWGfow7Gy55ZYtBSOGjPI8onRg6CCjwCMsci5f/OIXi/vOt7VbR3EXhuN2x7Gvihkj3MtlgGPLo2HprNAhpLOB4NX0+te/vuhwcY/cE52zGOmLUQ/lUbk8fetb3yoUqUUi2T+UCrnCLHatt956xeq73/3uljI/9jVZoowiLyiTETx+yDcj1DHGkl+eMdfGSIuB85/+6Z+Kkax5+pQTjAhlgT2dcDrQdUJZRMEC07e//e11hxV52HnnnYuR0njpoSBDUcZAgnvvvbfwGsDoQzlHsY+hCYPwsIXyz73D6wc/+EHhDRLXxKi1xhprVCqPKG8o6Chf3/jGN4pTMOygcMLzu1tBgYUxkvcJLhhrqT8x8mDI/7d/+7d0yy23FIY26g8MGCE898985jOFgZNwoLmBj0EGGIfCy5Fz4IrRjsEP1Ft4VG211VaFhxZGAgYc1D1LygoKfPKJohXFbyhVSJt3CYUKhlfKRTuvFZhzLyhfUPqgTOVe8JBmBHmUXdKjXkRxlKdXV1eSNxQ31JXl+ok8hmDAR/kShq3Yni9RYKJ8R3iveL9gSehBPIeCd3mgDHV1nWE90scLmDIPb+qX+G7CFe9Knn+V4pr6mncTxQgGD7xzea9RaMEvpF++kc4olpRL6h6WvE98T/oVvrU8l+23375ICiXKvvvuWxjWe/GuaZIf6nYGnFAXI9SlKMLL38YmaTU5BgUcSkA8rPNvOAN0Nt1008LboCodFKShkGVQC15c5QEanMfAF9oUtDEYUIHSf9ttty3qyPBo57hBtYcw6LZjxbeZerdpO4G8VQkKRKJfUI9yfxiOeHa8U1VGC+4PJTXnUHaoF/jDU5f3mWdOvUHdmNfHVdduso3vLEpgIjJQN+P1yfeAZxADAfBGYsAKHhnUW1GmmV+XtgL1bHyruOZaa62Vtthii0qPfsoLdRPXoExhUMNQjTGtzmO56j565dRrWyryMC7lj/KJZ3QTmY7vGflggCDfXcoU7yz9EAbI8S0kGgXfF/opGPX4KwuG8yaGUwZ0Vc3tTHmNMpun3SlSBV5ytJEow1FX5efHOvdHeaV9006G/X2kfqD/R32c54W+w+677160fct9EfJL/ZEbpPjGV9VBfLuof7hf2q7ILrvsUrQbuG6dMJCM48ttlvx4+gx8J+mzlges5cfxDWUgL+1Cng/PkDYn7Wba9twH3zy+Jwy24LvEM1z2yQE8g5JhP0fy2Ut9NKhvF8+KZw1fjIEM+KOdTjuZskL54JnyTjCQh28D7cGyNGmTxjn0b6JfGdtY/vznP0/oear6s3Ec3zvOp/1bfs7d1Ift+H3zm98s7rluAC55If/0KeBXZUiO/E5XfRjXiyXPi8ErtP2prxjA9LrXva7QK9Dup+/C95d6lLZ+u75MpMngPOoWjLF8/+nX8S7iZUpbBEMqA1UpNxjjORY+ZT1UL+U98sCS8jHI/n6v/bA8T/3WE/3omPJ8uC4BCUwGgbmerJir4ytNRv7NpQQkMKYEaAwT8q6qoU2WaezTQOzkPTfI26ORiMI1NzKi9COMzKCFDg2KhBhVTaOXzmSu5OeadCjojGJUQFCcM2o6H3WOQp5RlggNWjoIITT+UWjRMUWhh9IShSEGBYwAZSF9vAYJSQl7FGt0fHgWKJYQFITlDg4d/eiQoLDORy2iuENRClsa+oz4xgMCZUbZwEaHIFe+cn1YISiTaLwjH/nIRyo7enQC6JjzLLnvEBr+6667bvwslsGeBn8YQLnnKuMb94zyIgSvXJRHISg8y2WVzyfGRzoxCPcP91wwAPKHoKQm7whKqnJ+2Y5igU4uHRjuEUNvPhKfUJJ1oSkxfPFsQ4GEoQ0FJ/eWC/nFSEm5QjinbCinDDE6FEE5i5IjhFH7pE0+8IAlvyjVKJtwjnskVCkd0LwsRxqwQ6kcyrIqD06OZTABna0QDJrtFEAoEOK5V3nmRTosUeBRNpA6jxnKMR6VIZTp3BAV2/MlRl6U1ZRzynsvgrKeugnh/unMlr29MLbQeYQlHWLe2XIZ5XwMuXkZwmjKgIWy8MxRwPNOosiiTgmhLFImEcoP+0MwcFKGqO/wRuB5Uz+grOc6pBdSx5n9lAXeEeqheE/L3g2kRV3DCHWkXHab1JWUEZQ3GOsxiDB6/ktf+lLrfYAzSokqxSTP85BDDimuTV4xxpaFMgofjN1R73AM72cYTBgAQp2KYPDGA60sfAcw3iAw5V3oFGIbZSV/DEyiDOYyCL55eoNep46hPg2BcyjjMb6jAMaQQNngvc2NcnFOpyUKI74h5e8Q37TcG3GHHXYoDNVV6aG8o65HUFC2CxvNgALq4HK5p31E+Ym6mjqU97fK04jrUJ4oV+Xyzr6mQtnjmxMeDDnfqjT4RsA7BGMk3r51Qnmj7qsqe4NsD/F9YRAFQj3DswtBgUudyL3CHKMeg7sYZEKbM3/GeL9EmwYvcwaAlQWjEfeNgpLnyDOrE7434XFfx5YyjOGJJQPauhW+sbSNEOoE6tgwhuZpMbCG55EPkuM7gndXLtTrKGajLcDgDMp+O6Ee4RvC9bmXJl58eXq9cuq1LcW1x6n8UZbCQ5jyRds7hG9RznPY3zOuy3cJYzn1Gv0Jvn3l7y5ter6b8f1605veNKUdSr1F3dpJqO9QViN8A7l/hAGlVUpojG5EdMmFuj83vtK+5T0nf3yzOZ73moEpRNWIPDP4iHPrjPzT/X1k8Ef06+raEnHf9B0ZdBbCAM1ou8a2fEk9R73IveZ1XhxDGxleuVA/8r3lHNr1lAfqThjmRrG6vlmkRZslvPEpywyoIfxwLtThHBdzfON9Sp+LPmydkN8mbfvpeo691EeU536/XbQbaZuH+pa+G+2CstBv43uIMBDy/CcjBpSNYd20SRmQQ5lA+Cby7QihTUbfgQGEGOR4J8kn188HWpSjsHB+N/Vhu28/aaHXIB+E56b/SX7RrRDxKsoOx9V979k3nfUh1wuhXUobBMMoQluNwdt1bX7635R1BCM6g7qqBF1D6IKqIklwDmWZ/ni0R6mL6XPm0kt5p12LDLq/308/LO5pEPVElCnq4ujrRd81rhPLso4ptruUgAQmh8C8k5NVcyoBCUwSgXZGU+4DgyrHoNCaLqEznRtNue7zn//8oVyejm40qjCGnfCkEaSqAYwhFe8pOs405FAE0tnIw1NxHkp4JDdgoaygg1oOhYdCGcMLHnq54bKqg8W5GAzpKIfCjM4JSnqMCyGsx++884XCJVdicDzXR5GB9wJzjKHID0FJFA1MtuVplQ18cU6+jIZ43mnL9+frofzJ+aDsi+35seV1vEM6CYoYOjphOK0aJMDo8RhBzvEhKHfa5SM8V6OjGue1WzJ6ODo+8MeoUza2cT5KDEZ6YxCkQ0MZQmGSz5tEeeAPycstSlZGymMsy4VnjuIFxUA8b4zgKIaq5oJDcRidvjyd8jrKbTrioWyDcTvDafn8fn+jRGLQQyiOYNXJcBqKKkb29iJcK94RFBFlZXekieINRSteZLwPeEkG+ziGJWWBvMSAC8o2YbUiTC/H8M7jqYxhknKRG03Zj3I+6qDyvGQYxzFC5oJnJH8YL+iAo4xA8Mgkz1XPECVBDN446KCDKt8P6os8xDD3zr1R9pB2dSXHlgeucDyDSVC4YpBFMCwxR1OV4TRXApUZFSc/+a/OkIZSMBSDvCedBG+ueKdR/DN4Izfil88n35RP6hnq5bIMgm85zen6jdIYIx6KWAa+9GI0bZdXlMEMMIh6hm8wxqE6JXu7tJrsQ7mCETKM8CjNUHRXvb9N0mtyDGWfuj8Ut9xvGKbL56Mk413l+xGGVozEdYZTyidtBgSjSlkG2R6inRB1UdnzCWMk3y3qz/h+kRfus4l3Rp5v2m8oEPmmouRvZzSNNhPnw6wuJGZd3ZBft+k673mV0ZTzGQyIxxEebiiwEdqZhF6mPRrC+QxawsCPUEdGOzCOKS9Jl/tlmovcyFc+rup3P5x6bUuRj3Eqf5TZKL/xvatixbZhf8+4BnVQtDMp41XtUupbygXfEAQjCnVyVfuyOKDmH+3GSD+fDoRyFNtrTq3czHkMOCm3P8gv33UGddJGp53LH9+Qujp9ur+PGD7CcEp7g/zlfYT8hsPwEfUx7WdCp9YNtIlwy1V1cZ5urFcNPOV7QR2KQZy2SAwyoZ6v8l4kLYzVtEFCSLdsNGUfdTgDUSj/fFdoU9LW4T3tV6brOfZaH8W73+u3i0gQlJVOQrs4DKe833wHymW/mzZp3o/L33uiFjEws1x2KZv0X/gGMcAHyQdiRf67qQ/bffv55gfbSDvKMN9D2nNR31KGqwZKcd501oeRT5bobMJoiiGcPlCZaX58k3X0XRjMOwllmboiBjLEwJ78vF7LO2kMur/fTz8s7mkQ9UR8s3rRMUU+XEpAApNDYO7Jyao5lYAEJoUAjfUqI1I5/xwTDfvyvmH8jpHHkTYN9vJo5tjXzxLvO0KahaDszo1PsT2WdP7z+a4IrUManQQlRN5gKx+PkiyXXJGYb2cdI2c0AvmNR0wTaac4o9FPaMXcM5SOdd7obXKNURzDCN0mggI8hM5/7uER26djSfgsQl6FMCI479zG9lhiaMKghtAJp5OGUrOToHQtG03zc8plrq4cYcBuFyop0qQM5YwJQzbdko/mxqOqbDjM84OBEG+f6Ijm+5quM8AhnkV4F9Wdm79bdJDrjAOkkw8SQUkVSgTSRsGF9wfhvvDY6kZiMEPVOShmcu9Ujsk9J+Icym6Ev2WkdZVhNY7FkB7hajHqNBnkQJktG00jPZYoVnJDaV2Yz/y7FkqOPB3WqUdR4MCyH8FIzCjwEBTE7QRDF4MVuJfce55zhs23Xb763YdnNd6WCN/rvD7oN+04H0M270Qoqnj/GMXfZIBOpNHtkrqSZxXCIKdOzziO7XWZ1xeUlzCKltPjXYQBdV8Y+anbYgBE+XgGQzDoAi+PsnJ2utpD5IlyT9SHcluHwS4563L+y78JWYmhCI8/vDDL37Xy8XCJQUswrfvukQ/qBuqwYQuKa9pfIXy3qgzz+fcN5XqEkI7z8iVlAsMpknuH58e0Wx8Fp0ksf+0Ysm9Q3zPKagykIF3C89YJg6BCaIdFBIrYNoolhv+y0TTPB3VRbrir+66P4vuY18X0G2JwXp5/1hlMyz5CfodXL232fFBsfg71MPUxgsGziZTry/wcDNx48YXUMaRuoB8RQlSGPLpQbI8l39p8gDDPgEF4/cgonmM/+c3Pbfrtygcc5OeX18PzM7YPq+/EdaLdFNfKl7lug7JZNQdxfnyv60yFVCf0URggFFJXhkdVH9JnjAEHtPtxKmjHNO6j05I02vXX8/PzdnVd+yU/vpv1Qff3++2HTXI90Q13j5WABAZLQMPpYHmamgQk8CQBjDhNpZtjm6ZZdxyN9lwwOg6icZqnyTqhiUKJhnGonZdQnIuHUDRwORdDRr+SG0qapJUr25t4AzZJk2PwmMs5Rzi7pueP4ji8KjFEMbqXvzpFZ9kYUzbOT1feCeEbggGoneEpjsvnxGQuRYyC/QoGw9yLOML9ltPFqIRyJ/i2M9bljPGEmm6hwx2ePXhxt1PuhAc9iqY4p5v8ogyLuawYbBGelHVp5AM/UKbVKUdQtuCBHF7dGAbCgInilPqG50ZIq/JI+LprN92O10fu3cro4wjJHWlEXvjNII5OkitLUfYPQnLFQV39l9djYUAoXxujLqPfP/axj5V3df0793KjXIRHZFVChLpDqkbSjwPfqjy320bISMKlE1YtBA+dqjDTsb+fJUrp3Euca1UZmvq5Rn4uZQljba4IxQsHT6JhSa6sxyhYZ/wIDyeManlIebyDqiQ8nFDU5+8Ix05ne4hy3m4wV1Xey9sYUIJCnzoKT5pOHpicX77nuroBL03qhtxYWb7+IH/j+Rpe7qRbZWyhvsqN3XV553w8dagbiYhBvd6tjILTpJW/bpnWHd/ke4ZRLrxNSaedAa28b1Df3br8D2p7zqHc7ohrjOL7yDuUt22rvPHIH+G5EdqheM2F0HauEt5RIgDgIZjfe9WxTbflz76ubcRgG0L7htSFDo39LGFAeNWQfN7X2NbNchTPsZv8tTu26beLQTwYfqLvVBfdgIGzeWSOUfSduN9yGazrE7ZjM4h9eT7qyvAo6kOMtXkbl6kO6EcPQujv8c2PspLPZ15OPx+EP2g9xqD7+3k7oq690q4fNsn1RPm5+VsCEpg+AhpOp4+1V5LArCGAEaapdHNs0zTrjit7fWI8YJTsoIUwViGEi8qV/LG9vGREZIRnZV+dQrN8Xrvfeaep3XGxLz9+kFzKirk6T63Ix7gseW540PAXBqdy3uj05NIkhFJ+/CDW8STJlVjtvAby62EoyO8rQg7nx/SynpejcmjsPD0MBsE3Pyc/hvWc8Sj4Um/knn8xMricT7zTMPagsGgyWKJ8Pr/z9x7PRebyZHRt3V9ZEZiXg3L6jP6nUx6CkZfBAYTo5X3H07XbwRaRVqdlOXRsnk+45d4WGD7q7je25/VTnlanfLTbn5fBPP38HMIPhzB3EqFLc8/d2DeoJe9yhOOj7IdBq5w+ig6MWihi87LKcePCt5znTr8J74YxuOxFTdj7K664otPpPe3neeZKYiJiVIUt6ynxipO4Vj4XLcbMcuj7itN63sSgmlyBSLjeslCn4H3OcXhr5YMeqgynlMvYXuXhNJ3toX4HfWBwYKAX9REKaubjbCJ4u+RRKpiDC4NdXT3SJM1BHMO3KCJLkB5t3qqICbkhFwMIA4SqJAYG5QMMqo6r2zYKTpNU/uq49bK9yfesXD6rykZcu+x93yRiSJw7ymXe7yvfL/ka1feRd3O99dZroSFcb5VgOMVQwNQAhPcNowEDD3Ojd5wbg1iahumN89otm5Sl/D0jrab9kHygHJ5ufAN7kVE9x17yWnVON98uynT0nfLvTp4uZZ0yFjKKvhPXzssOv9v1Cdk/LMnzUVUPcN3y9umoDxnsmutEBvneck/08aOs5ANt2ZdLfu/DKCuD7O/30w+b9Hoif2auS0AC00vAOU6nl7dXk4AERkggH91LNmjA48GTKxL7zR4NTkYthtBgbSp5o5b5tcjfpCgnOt0j3qxhFKoL99cpjXHYjxKfUHYoLQivM0yletP7pbzlHZ2m86jRoSL0bowAzkeLN732MI4jjBJhJOHL36jCH+f3tvnmm7c86Xn+GOuWzeYA5lg8qQlDxbysvdYped2B8aJscMzzVLXeiRXzjeKRgGGAMsNvDNMYCQbdYc/zVzbIUgeEYg2WeaedEKndSKd77iatTsdG2M7ILxETUHhikIZh7m3dKa0m+3lH3/KWt7RC1RLKFS+4smCw53vBXI6Excplkvjm+WbOT+bxRTDMhYGR8rrPPvsUgxQGzRslJF6gzOHG+8FzpjxiwO3Fgzy/n7p1jFDUHRFekXvlOeeh5erO7WU7XqeEs0UwnObhXNmGop57j+vjccq9o3BijnWM9Hlbim28g7Rfcu8h0iKdvE4b5/YQeaVc8RwYvBHljfvoJEQLgWOEJafc4D3FnKFsf/Ob3zxlkFKn9Aa5vxwtA0Utg9ly2WijjYr5K4l2grKY6BPlbw9eOnw7UNrXeTnlaVatTzenSSp/VbyGvY02DIY4OCEYruqilZTDN+YhcIedz37SD0MjaeTrkeYov48YQmMgHhElGLAQodHJH4MZ4U7Y26g7qWNpG1IfU3/ng1XYFp6r+fa4116XVdzKacV8rWznO9rU8z/v93Iug6mZG7NbGeVz7Davwzied5iBlnij0m+iPFUZ1odx7ZmS5ijqw9x5gPZ+PnBvmFwZoEBZob3DIEV0TqOQXvr7/fTDZns9MYpn7DUlMFMIaDidKU/S+5DAGBFgNBieQU0kHznW5Ph+jiEUCR26vDPBSL9ejRxVeUG5lKff1IhFWtExZh0lOMYF5rWZCZJ3BggZRNjkQSu9h8UJRSLzKOKJQUcD5SLliDmfdt111/SlL31pWJdulG6umOaEvBx1SoDyGYbTvAPX6bxB78eQhzcdo+Vj9C3eUYQ2REnUbt61QeelKj28c1FAR6hUlF3MQ5PLaaedVvzs1RuHk3PlE94IZUNEfr2q9XZzSnE8RrVPf/rThUcs3lUYoVBc7bXXXlXJDWwb7Bj9Ht7DuRI2v2cU6zvvvHNX180VjV2d2MPBRAVg/mqMKhH67C9/+UsR4vjYY48t5v3D6JZ7ufRwmSmnYDyMOT551/F0Lc+fSrgqlJtVns6TxDe/ccpqhK/HsIOBGkMUwnt4yCGHFOGn83MGsc5cmBjB8RpE4PflL3+5sfdht3nguWGspa4LTz9C9jKwgIEtg5bccMrAHxRoeXmN0JAY7BHeL751eKfz/hL6LfdQjJCReKaWFeyT0h6iPME8po7Ai/xzn/tc+vjHP94YP+89cvjhh7cGgqCkY37pI444IjHvOCHcp3swXLk9UGU4xcjBwJnvf//7xT1Qn5QNpwwe4PkzOCPey+LgLv9NJ6dJKX9dIhzY4TxHBkZccMEFRZoMwGGQWJWwL4QyNch+U6Q7iuUov4/Uq3gaMiCTPh9GDIypIeW6mO3Us7SJEere3EDK+XxD6FdjBJpOyfsh3fR7y8f2ajgd5XOcTs75taiPGWTK9CF8nxnUhPGNfgB906997WtDm1M0z8dMWR9FfZj3u6lXywMfB8mWiBPUKegzGJRB+SGizete97qirxmDOAZ5zaq0+u3v99MPm431RNUzcJsEJNA9AQ2n3TPzDAlIoAMBRqM3NZz2OnK9QxYqd9OhQClKByMEI00eyiy297oMI1ScTwjeppIrLzmHtGaK4TSfx43OCYbHcRcMIoRqPOWUUwpjOOUHpQWGjFB4YAAateF0UGUOb0mMwv0oRbt9phiiUSrjtYRgYCc8Ih464aVIKNlRG04xCKD0jrlkUTC///3vb3kRMVqX8KF0fPM5AbvlwejbEIy1+Ty0sb3fJd5GhHONuVopP3gu5Aq7fq9RPh9jAQqBCLuae6zl98wxVR6V5fRG+RuDFkpk5oXFmIABGsHYglGVeYQwuITHXr955XlhKMVgiuCNmBtOeTfCg7dKmT1pfOt4MWcs71gY3XkHMQLmiuO6c7vdTshevOviWhjFqfvzuSC7TbPd8YQwxcCGly2CMZP1qG+KjQP6h/cShjLKK56R1MHUtwjKb5Ra3GeueGduvWg34RFbZTit8lgf1LeJvA2zPYSRHANGcOF6p556alGXd1OfYxTEY495eMPzi7QoRzzPE088sfDsHFY54lplKXt+1c2fxjMNwylKVRSMDF5CKCcxOKNqDuXyNTv9ni5Ok1L+OvEa5n7qOowvfMfwUuObVjae8o2JMM18y8Ozepj5mq60R/l9pK1NOy8M13k7jHeOgRy0iaJ+hgnfoeDPeRxH3wSJQSzD+CYWF2jzL3/Xyn3ZNqfNEco1T6fdeeV9o3yO5bwM+zfPHCMXbdCYrgNjKX0nykeEpaXvqnRHYLrrw9xwWvdt7u4O5jyaAVy0JenzYSylTfDOd76ziGZD5AD6t3zfh204HWR/v9d+2GyqJ+YsCW6RgAT6IfD/we/7ScVzJSABCWQECFv4ile8IttSvcox+Zx71UcNdms+nwopD2pex8hlGHvi91133RWrHZeMBsyF8LYzRUIBzf2gkM3nXhnHeyTkEV5OGELwIH75y19eGCwIv4eyvpv5aIZ9f+VyUi5H7a6fH8vI7+kymtLxR5GMFw5GUxQ/dFhRFGE4K79H7e5huvbhaRPllvcaw0pIeJvi8RdKrNjXzTIffY8hexhCGC9Cg+ay//77F6PV822DXKechdGUdJn7OSS/ZzzR8bwYd2GU9n777VeUV555HsYVgxTG/vBeG8S9bLrppq1kGDGO8iMERTdSZ9CYRL5xb/mSwTaf+cxnprxf1CHdfGPz9NqtUw/igRgelNRXGG7DSN7u3F73UY4YkBOCgbJuTts4ppcl9VNuDMwNfHG98DaN9PF+j3otoi6wD0MrSjmieayyyipxeGtZrse7eVb5t4kEy9+51kUGsILRGo9m6vS8buKZ48XTjSy//PLpK1/5SuGxXB6UxwCHbbfdtmWQ7ybdXo+NKAlxfhhD43csMajnjHMlKgYaDBoYefJj4txeltPBaVLKXy/8BnUO5YGBIWHsoi3A94sBOrQTDjvssCJ0OXUf9SJ1btW7Pqj8THc6o/4+0p8Iyec5jWkqmPohH4DL4KgItc3gzpjvmzZBGE6rBrHENYa1zN+1ct3d7prlY3utX0b9HNvd4yD30S/Yeuut0wEHHFAYTRmEGN8bBjyE0XSQ15xNaU13fUjbMoQICYMWorQwiJPw+9QRtO2oJ2jbrLTSSq027qCvm6c3rP5+L/2w2VJP5Pxdl4AEBkNAw+lgOJqKBCRQIkC4snbGU/ZxzHQLjcY8tCONyTzEUDf5wcuMkdi5YopOTO5Nle/rlHaMHOU4PDTz8Ladzh33/ShXQ+oUd7F/1EtCcOIREQpTQijiRYbBdxylzDMvR53ymx87nd7NeOmGsRGl0Mknn1wYUUM53ynfo9iPN2lu2GCELoJBEE8dPDHKnhrd5jNX2uchhbpNp+54yjRGAuZDwggVCjm2oxAdluTvP9fI7zNfL89JN6z8DCpdQhDDjTDeeCTnctBBBxUe3Pm2Xtf5bsW7gaIRpSqCkZZrY7iq8xieZL5lXih6dtlll9ZmlIgogIYhq666atpmm21aSTMH9FFHHdX6PYyVgw8+eEoIe8IRD2MOXwyhIXibhdAeopwxaCgXPCEwrCFEJQgFfyjq8XKJQSX5eZPWHmJAFPVihNO9++67ey5feAAx8ApPvdzQxEAsnvN0ST5ojXqinWI9r8POOOOM1iCWb33rW0V28VIZtAyT06SVv0GzbZoe7zZtGOpWlNEYTTGe4sGGlzQDgwhfjiE1LyNN0x/n40b9faQujgE6vKsxVUUMYol5vnOGRAAIYYANwgBE6qvllltuSvsqjhv2Mu+HYADKB3e1u3beB+G4XqfvGfVzbHePg9y3++67twZ8M/iEAS4Y15XBEZjO+pD3NYS2Xj7ANLb3uqRtR/s4jLP0VWjfTPc0ScPu73fTD5st9USvZcbzJCCBegIaTuvZuEcCEuiDAKNiURgxFxxGUsIN8cc629hXFVawj0s2OpVR1bnyhwbl5z//+Ubnlg9CsYBiNQxAsT83QN1+++2xueMyP5ZOaHSmO5445gcwUj03AuUN17qsY0AZlZx00kmFQYLr8wwIyZp7lI0qX3XXxaAbil6OyUPR1J3Ddrz7CAkZ0qvCIs5vuuS6MA5hdHy3c3nGudO9zENU4oWDogrDFRxRZqGY7kfyd+Pyyy8faCead4o6C68vQgBjjMvnaWV+2Xwes37uo3zu9ddf39rEu5QPCuGe87qOcHWTJswTyzyVuVGPMoGxbRBCucqjJaDYRlCuYshCmZ3XAfk1ZwLf/H522mmnYg6v2EZ5YWDLMATDQe4Bg2fWNddcM4xLFWkyOCOfb5gydOCBBw78enichiEeT0LCxRF9A8U9XoVVc6tiHA0JZT11BtLOw2nS2kNEl0A5HUI930/5os2L8YkQviEMuJuuNk5uOM2fReQlXzJILMoFg2l4zgz+w1BOHZd7x+XnDWJ9WJzye87b2J3ynB87k9rjdfe95JJLpj322CO9+tWvLg5h0AbllhDdeDUSfr6qXqhLb1K2j/r7CHfKfgjfs0cffTRRt2LgYP7BslQZTmMQyyjC9JK//D2jX9005G7+ntEOzA2w5ftu93vUz7Fd3ga1j2gPhNMOIXoB5UcZPIHpqg9w7yfSAABAAElEQVRf8IIXtDJPm4CpEgYlX/7yl1tJ0Y4lqsl0y3T295v0w2ZDPTHdz9jrSWC2ENBwOluetPcpgRERIBQvRlJGw/LH+nSH5y3fOtengRWCYgAjRTeCsjrmnCufF54ZbMeIde2115YPmeM3Hlm5cSFXss1x8IRtwFshwo7i0bHxxhtX3kEe/rYcvqnyhB424qHVSfL5eVGi5mWl07lN9zfJR9O0UHTitRHy05/+tJGnW8xxGedNV5nDU5v3JyT3fopt47rEqy88dlAOYWiMgRNbbbVV39leccUVW2lgNBmkIfOrX/1qoQDHQP7BD36wuM4WW2wxxRvq0EMPbc2Z1MpInys86xNOOKGVSq6cZyPh/+jMhjDf4DiG68Ww9M///M9TjP6R51jutttuUyIaDNJbMA/Xe+655xbvEGF6UTa283SeFL7BsNOS+o7wkfmoeeZ84xs6aIEdBoTwpuSdJ5TlMIVnmYd4RSEeBspBXZc5rvJ2Csr68HBiQEWVMC9yDHCgzYRBjbYN3qhhbKk6L7/OpLSHtt9++yn1IuWL71adEH2AuiH33s2PpcwSij7k4YcfLgYuxe9hLfH8oj0QUvdsYz/ehnkYZ+6LNjveY5TLMKrG8d0uh8GpU1tqEstft1wHdTxtQrzOGYzH1AS819NhmEG5PioZh+9jPiCB0OmEDKdcYyDN+0XBCCNlhMbF8IixJb4R7QaxxPnDWObvGek3maqA7ykDD0No/xJtqRcZh+dIvjvVR73cW5yT901pk1QZ1eNYl/0TmI76MO/7kGP6aYMQjLBMORSS1zGxbRDLTuV90P39fvthw64nOvEYBHPTkIAERkNAw+louHtVCUhghAQwfOBlmiuBCGfSxMAZ2aZBSqevSjDM5vMoEIa0k2AsCA8ERnUzz+NMEMLSHX300a1b2WGHHaZ4m7V2PLmy1FJLtX4OctRlK9EnVzDgBud8e75OnkOahpuK45suCQc8SNlnn31a5Zl7ZB7ETpKXS0I95cr6Tuf2sz/nSzqdnkc/1xr0uXjN56HTjj/++GIEOKPk2xkPmuYDr64VVlihdTid6AgZ3drYZqXMNg7Fw4lwSXh7EqopPKgxhBC+KbwV6fTtu+++A30m1G0xEAIjSxhtI28s820o+3OP5Py4qvW6e646tp9t3APKyfL8sHmaKLPySAq9ek/kacY6RnsMXgiKZkaTM9iG8NH5NeP4fDkMvoQUw/MVQyLlazoFj2U8oEIwzuOpWfdNjuN6WRJm9b3vfW/r1NyDr7VxwCuEeY5nTdLDuGYe2hmvShTdKJVyz9L8tmjTRN3E9+tzn/tcsRuDat6Wys9hfRLbQ7zHDCJhXl2E8kWklLo5bsNw0W4AXu65DMv8+RYXGcI/5mSPQUooTpuEWc2jKmAIZmAQz5dBNv3KMDh1aktNYvnrl3Ov50f0nTDK9ZpOt+d1eobdptft8cP4PnaTh7wuJgw/8xIizE1YJ7nXKXNc3nrrrUV0hJj/tO68YW1/zWteM+Xbceqpp3b8HjMoKEL10hal7dmPjPo5kvdhluW8rTusvmk//GfaudNRHzL9RD5gligP3eii6pgz+DRvrwyrvHQq73mZJa/99vcH0Q8bZj3RRMdU98zcLgEJjDcBDafj/XzMnQQkMCQCKEMxGITCD08I5vD52te+1mhuFka91QkjZvMOIKMW8batE5RJ0VHmGBTAuTdN3Xnjvh2DDx5YYfhBuY8nR53kyv9LL720rRcwoQWbSig/OZ6ORJ1XSKSXGzsIMRxzDsX+WOIR+M1vfjN+dlzm+UBRPUjBMzYPQd3J4IbnR4QRZUR7boQYZL6q0iqPsI2R8lXH/vznP2/N51O1fxTbcsVylO0tt9xyIFlBYc+zCM8uvLoYRPGXv/ylbfoYVnjXqjxU6dii9MeoROjRckhmyjvK5RDePYydgxDmTcvnhaTDSrj0sqDUzz2dUFjkdWL5eH5zP3hcTnf4qbr6gDxhpAjPR+aPzes09vcjvKe5NwlhY5EmBo1h8KWcEvqZZ0DI+txzpJ/7bHouAxjyuThRNuWDdJqm0+Q4vAnzkGpNzunnGAxrDIYZpqy33nqt5DH4EXaccpLPAd864P9WcmV9RCzoFBpyUttDvLsf/ehHWwiIMPKFL3yh9btqBeNFneSDwfLQnHXH97OdupFBPeFFzFyfTedVxYspQrKSDt8PjOOD9Dzsl1M3balJLX/9PP9ezqUPFGFTaSPTzmE+dAboULfTFhmk5M+Q8KOj9NQZxvexG1YYOwnTjtCGwEuc9w1jZJ30UhfXpTWo7fR7w2OU8pIPzixfgzZtHkoUj/ZXvvKV5cO6+j2q55iX5UH37XIATftOGM2Y+zQiPeVpuN6MwHTWh3k0CgyLDDBvp6cgdH6n+pJBvnn/Ay/23JCaU7jpppu6ar93U96bllny001/v59+2KDriZxHEx1Tzt51CUhgcghoOJ2cZ2VOJSCBARNAMXDkkUe2Onp0Ng4//PC03XbbpZhnpuqSdAgxPLUTvDYISYnQkCJNRhKX5eqrry7mG4xReSjG24VTI8RbCOmi2KqT/FiOiWvUHZ/vL59bdw4swngUx9CgZyQxfDHCIDTgYRuebnFsviQ0WBiM2I6RlRB5hKVEsYKiFsU4XHMPII5tl99QSHAc8qlPfaqYpy7Yscwb4blCmTLBHKcRRhnmrONtgzIx5hr835T/V+kR6+Vlng+eOx6AeeeHTm6ZZfm+8mdUTh/lfhjFUExizMB7ryzM1xbhJjHUYVTLO1jl4/M8hPdK+Zj4DUs80UKqjiccYK44xrjGiPk4ljk48eoj9C1lIGcUx0T6+ZIRtfm127HivDyt/B7zNKvWCZOWjxBGUZSHUa06p5ttKI+23nrr1il4t1MvHHPMMYVRjjKJ4HVIyEw63RiQ8pCMcTKdcAwwzDdV9pyLY1juvPPOUzzBeVfpTDeRsvc9z+HGG28sBqZgeIAz7zXzquZG53LaKN0iDDL5JgoAz595nWJUM2kT+gmjwIYbbliU49hXTi9/pp3qSs7Nj8/Xy+liYMrri9hP2cc4EeUKo2KVcG95+nF81bHlbXk5Ix0MHNRDTWSQfGFe9rzFgNqP8N7nUv6d74v1Aw44oKVwZhvfh7pBTZTTqBPaeQZG2vkSozXfjRhole+rW+f5hCcuZbZct9edF9v5Hg4zFB91fj5IiOu283Bif9kblcEBzInaSYbVHornGddv+i5Rh1InhJTTie3UV7k3GCHHUe7VCQO6qsKOMsiKkM8I3wu+1cMQQoMT6hMjBG0nyiAG/y9+8YsJ42kToYzn9QznDCIMfX7tfjl125Yat/IXLPLvANvKv+O48r5Bfs/iGrnyl/eDdi6RS+gjMeAJhtRHrLdT6kd6nZb5M+S95XsZ3oecy7b8d6SXv6twiPZQ7C8vc6b5ueXjBvl9LKfd5DfK/FyY0oT2eZ3QBi1PI9JpEEuklTNhWzsu7C8fX1fPMuCHNl98J4luctxxx5HEFKENRR8uBsAut9xyU6KOTDn4yR/dtO1H8Rzzsty0b1dmXsc0Z4EhPR/YxJQF9I9pe1LX0y5l0CP9BSIm5FJ+hvk+zs33t8sL8+/yPELy82Jbvizvb5d2+djy7zzdbvnlaZF/7qOdTGd9WPbWpr2w0047Fe8SUx3RpkUnxZzTRI3AsJrff35v+T3ldQoDOhmUH9OH0E5BJ7XnnnsW7b586inKU94+ytNkvZvyPqz+fr/9sEHWEzkP+HTSMXGMIgEJTB6BuZ78WD4xedk2xxKQgAQGRwClJh08RuTlgoKLDt3iiy9edFZoaNL4LIfNwyMMT64qwWuKRtSDDz5YdCaXX375QtGIIQGjIl4yNFIJkYfioMpzjeuRDiFK8CDIG/zMK4OhhY5SGHMwWqIYZlQiBowQwmS++c1vLpSl4Z2IcpqQStxX2WMIhSFKN8K45iOfOTf3oOVeCJ3ICGmUw6QVnxb2cTzGnRiJHPmpWsKgbIwsH4dygPS45xAUuBiPeF7vfve7Y3OxxPDGseXRt3Tu6RzRAeF8eIWQfnmOHkLr0UFBUYMiHWM4f3jK8XwRGtB0VmBRDreMUv+II46IS7SWdIQpA3Qo8eLC85nOL51glLR4vYbgrcczxGCCYZR850LZIDwfoU55BpSrVVddtZjPDuMZHSXKO/Lc5z43ffrTn54y112kRdmko8axuUGO54nBilBu5DM8U+jYYUihXISxgLQwlKOMp/NEh49yguB9g6dg3jlDSYSndXhXYlzFwHvFFVcUSuDixCf/ocBb9sk5uDAYEeaI8ss7gqIvH5zA82UQAs+CZwQHRoOTHgZl5vKKckrahCrGKMro/zwcb1w3XxK+EI91hPuI9WLDgP7ldUeeJPcF17yzzLPEyAhj9mFspK7AqzjCPlF2MHJwLJ1l0kFQgnKtmFcrrgU36hYMLHiehFAuymWb50aZoLzxbON94ByeOUaDJqGMqeMwmObvYlyXdxXDOO8KQnnhXUDBwHNDuq0rqf8YSMC7Vn7fy/UfntFh8ODasCR0Ke8A+SbEVrxbGL65j1wwclMvo6Dg+YSQFkpS6g7erXah9iiv1GWMhkfafXsi/XzZL99Ii/eW9y+UMGzv5T3gPSQsLUoQlKj5wAfqmpe97GWFwQdDTt2AIpjmA2moE6kfKO/rrbdeUX/Bi79cyY6Sl7LNwBgGFTQRPKHD05fjeeakkwt1A94eXC83lvL94x151atelTD4NhGeF/VnDB7BkNfUc7BJ+nhQMiADYdACdUCE7a47n7oxvkkYd8MgWHd8vj2v06h/emkP8QyJqEDZgz/ftRDC4b72ta8tnj31DWGsc6FOZJ44vlMouEP4nsOZZ7nLLrtMGcDFM+SdizoNAyRp057CQMk90MY75ZRTiuSoA6k7aItQL1IncV2UoXiBoNDOPaUjD02WGLKiLub9oK6INgyDpXJlKvX3rrvuWgxWibq+yTU4hkEzMRc9bUDyz/X6lUFx6qYtled51OWPvPAu0z6j/NLmztuleOdQfqknaMcO83uWc2GdbxdtdfLHt4g6Oe9rlI/n24fHYLQBy/s7/WYwZLmtzjm8P5RXyjJtfdqzfCeYaxdm9A9y4wv9HvpBvHO08RCY4u1IHcw7kxt6aAsyYATOa621VnF8/BvU9zHS62ZJmweDSAiDc4kk004++clPFu1fjqGdVR7MVD6X9waGtIPDu5hjeN7wg2Xe9mWgCPUKbeVol3M832XqQMprVcQP6lf6cuFZTr28+uqrF21P2t88+6irKHPUaTz3snTTts/Pne7n2LQ+glWv3664PwxpBx54YPwslny/aEdGn4B2JPxpZ4QHbHzj6IuhZ+D70E2blLqTtj3PLvoUXJxvHN8K+hV5+aU9fdVVVxVtiigHHM83lj4y9QbtV8pB0/qw07efd3vllVcu+gVcC6F9wwBv6oH4hrOd+ot2H99Q2jFlme76kHvj+9gpihXfBvoWPNsYGM27Q/uFgRT0h+J7T3lgoDnfkVxoG/M+05+gPPD+0WbO32X6frCkTii3V5qWd3QEyCD7+/32w3IOg6onetEx5flwXQISmAwCGk4n4zmZSwlIYBoIYCyis4phIFdmVF2aTiqKc/5QzoWnVNWxdN4xmNGZLDdgSYeG6R577FE0XKvOp3ODAqyd4DUY4TarjH75uSiLw0hKnui4thPSJf0Qjuc8hM4PilaUl2GEovGO5yOda0aoN1VKkx5GkX/9138tPBDDQMJ2FI4YtuiYoXhGocOyLHTKUKaWJYxvuXccHUk69ChbeI556CuujYKcDkIoaeiY0rngnlDU0/FEMJ7mhhC2waTs+UQ6eJlSxkIJgTISBSydFPJBh5cOKEqM6BSRXpWgzCA/VYLBlZHe3G+uvKdDhbIDJQZljk5vleCtgldfO8FAEHPeoQxAwdVOYEnHNgSjHobRKEtsx+hBmpQxGMCnTsHGYAU63hhwqjwT4josw8DEaHg8XNsJncVOoWoZRMGAAgw9GEko68MQ6gu8P2FULg+UX5TzdE4xLOUGj9wgUpUvmIaiqtOxnE85CikbTlFCooQLpQ2GW7ahkEDxhzE3H70d6dQtqUdQmPGcKCO5MY1z6OhT5/JMy+FTu60ru6n/MOzxXsAu7jW/B8oqilhCJmPQL0uTQSEY4HPlRTkNfuMBhMKa+oh6PJ8buur48rZ++OZp8f7j8QAL8sD7XQ7LlR9ftY5CpUppVT62/A3K96Nwov6sEsoe72c74ZmGkajdcezju0OaYSCvMpyi1ES5WSfU2dTdTeWMM85ohe0dtOEU42Eot/AqjEgE7fLGN4xvNMKyW6/YfttDKFoxlHQSlMNlA/W22247ZXBNVRoohXm3csGAQ77LghGUupdoGHwv8/ZFfix1IuWcOgsjRa+SG07zNGiH0a6jPckf7RryHHV8fmzTdQZ/oPgmYgHRAgYhg+LUTVuqnO9Rlj/ywjc9H/RXzh+/+cZh8Bjm9yyui1GDZ0xdQN203377FUZF2sDUc9TRDDZgQByD0/J2OYPbUPSHoj7SbLrEGBqGjeg/MJCQtkMYQ6nby4NjqtJnwANtWoSBHbkBsOr4qvqB4wb1fay6ZrttDEaiXYNxh3YdgxU6CX3Wf/qnfyoOYxmDKurOY5BHO6EPkofXpT1TF9GDdNrlk3YBbRUG5vE88nJDn4eyw+BP2tF10k3bvpzGdD7HpvUReoJev135/TE4mgFLeZ+Avi9pUw7C4E4kH6INlIX+Df2cbtqkTAlBPVAnfGtoG4fwraOv0E44nsGLTevDJt9++pi0RUNCXxC/y0v6m7RlQ0ZZH5IHDNQ8H+rd/J3h+VJn8XxpT9TpCKjH2R+CLot2Sj6AhL4jOhoGI/JceXa0oxkgH/qOOJ86iSmscmla3tFlhAyqv99vPyzyE8tB1RPd6pji+i4lIIHJIaDhdHKelTmVgASmiQCjk1EQYAxk1DWjyfA2xNOADh+NQRqxvQhpoVyjsUYntuwx2Eua031ObjgNhTadfu4N480g7omGOZ1tRorS2aSTnYco6vWeebYoAvD+aWLMoeOCogtvEToaTbxmm+QN5QgGIUZ+9qp0anIdjqFzjZcbntPcA52mcRKMyCjoyB/K30kQOoEozDGQ4bE4HUIHOBSXGAxRwJcV/NORj7LhNIywGJNRllFPDqpM8/5RNvAIpc7lvgdRD/TDCQUDeaIeoV6gHsFwyHdh3N6tTvfZL1+eOWUShesoymKn+3P/eBOYCe2hnDDvA3UVdTXr1IXUDQwmG1SdmF9vWOvUcUR24NuM8W4Qbbo8r4Pk1E9baqaVv5xxk3WMBCjO4YARjAFL7Z41/SGMEvnAsiaekZ3ywoAUyhrXzpX+nc4b9v5+v4/Dzt+kpM/zxeCBtyuDDHvtP/d6v9P5HPupj7q9P3QUDFpkwAPfGqU/AuNSH3IX9KWuueaawlued6bd4Pwmd42+gX4L7XQGtg6qPdJteR9Uf38Y/bBB1BPd6piaPDuPkYAExoOAhtPxeA7mQgISkMDEEKgynE5M5s2oBAZAAM8s5nQk1HEnz4YBXG6skqgznI5VJs2MBCQgAQn0RABvN+ZDw7uacKDKzCRAdISYigFPcjz8mgghdsO7bDa2gZow8hgJSGCyCFgfTtbzMrcSkIAEppPA1FhE03llryUBCUhAAhKQgAQmjACehsyzhRcRoZUVCUhAAhKQwEwhwJxzhB7P5w6eKffmffwvATxj8rnEmTKkqeCxFBJTVsRvlxKQgAQmjYD14aQ9MfMrAQlIYHoJaDidXt5eTQISkIAEJCCBCSZwwgknFGGWCVPN3LuKBCQgAQlIYCYQIKIA87wyh9qLX/zimXBL3kMFAcKmEkI1pNM88XEcS8oHQnhQ5kpUJCABCUwyAevDSX565l0CEpDA8AloOB0+Y68gAQlIQAISkMCEEWC+m6OOOqqYIzayzpwzxx13XKEwZG4wRQISkIAEJDBpBDCafeELX0jXXXddK+vMdUkYemSnnXZqbXdl5hFYYokl0tOf/vTWjZ1zzjmt9XYrV1xxRTGvNR7Je++998TN693u3twnAQnMTgLWh7PzuXvXEpCABJoS0HDalJTHSUACEpCABCQwawgceOCBheF0gw02SLvssks699xzC0XhY489Viznn3/+WcPCG5WABCQggZlD4Pjjj0/HHHNMYgDQZpttlr71rW+lgw46qBgotPnmm6cVVlhh5tysdzIHAQyfq622Wms7kTROO+201u+qlcsuuywxD+ATTzyRDjjggLTJJptUHeY2CUhAAhNFwPpwoh6XmZWABCQw7QTmerLx+8S0X9ULSkACEpDARBJ44IEH0qabbpoirNf666+fvvSlL6W553YczkQ+UDNdS2CdddZJd9999xz7Kf+HHnroHNtny4aTTz55yv2jbFXJPluevvcpAQnMBAIf+tCH0tlnnz3HrSy33HLp9NNPTw4MmgPNjNtw1113pa222qrVnucGl19++bTlllumZZddNj3zmc9Md955ZyL6xllnnZUuv/zytPDCCyfKjhE3Zlxx8IYkMKsJWB/O6sfvzUtAAhJoS0DDaVs87pSABCQgAQgce+yx6cwzzywULIRzy4V5jlCwrLLKKq0wb/l+1yUwiQQIY4hHTi5ve9vb0n777TfrlMr33HNP2n333RPzAN1xxx3p8ccfb2F5ylOekp797GenRRZZJH384x/XiNoi44oEJCCB8SRw8cUXp+23335K5lZcccV0+OGHp6WWWmrKdn/MXAI333xz8cx/8pOfTPmul++YUJbbbrttYVRdYIEFyrv9LQEJSGDiCVgfTvwj9AYkIAEJDIXAvENJ1UQlIAEJSGBGEZhnnnnSkksuWfzV3RgGFEUCM4UA4XnxvrjgggsKL4u11lorrb322jPl9rq+j4UWWijxhydKnRDuSpGABCQggfEmsOaaaybCs2Iwe/DBB4uBb4RenXdeVQPj/eQGmzu+50cccUS65ZZb0kUXXVQMjiSiDN/yZZZZpvX38pe/PNnGHyx7U5OABMaLgPXheD0PcyMBCUhgXAjocTouT8J8SEACEpCABCQgAQlIQAISkIAEJCABCUhAAhKQgAQkIAEJSEACIyPgpHQjQ++FJSABCUhAAhKQgAQkIAEJSEACEpCABCQgAQlIQAISkIAEJCCBcSGg4XRcnoT5kIAEJCABCUhAAhKQgAQkIAEJSEACEpCABCQgAQlIQAISkIAERkZAw+nI0HthCUhAAhKQgAQkIAEJSEACEpCABCQgAQlIQAISkIAEJCABCUhgXAhoOB2XJ2E+JCABCUhAAhKQgAQkIAEJSEACEpCABCQgAQlIQAISkIAEJCCBkRHQcDoy9F5YAhKQgAQkIAEJSEACEpCABCQgAQlIQAISkIAEJCABCUhAAhIYFwIaTsflSZgPCUhAAhKQgAQkIAEJSEACEpCABCQgAQlIQAISkIAEJCABCUhgZAQ0nI4MvReWgAQkIAEJSEACEpCABCQgAQlIQAISkIAEJCABCUhAAhKQgATGhYCG03F5EuZDAhKQgAQkIAEJSEACEpCABCQgAQlIQAISkIAEJCABCUhAAhIYGQENpyND74UlIAEJSEACEpCABCQgAQlIQAISkIAEJCABCUhAAhKQgAQkIIFxIaDhdFyehPmQgAQkIAEJSEACEpCABCQgAQlIQAISkIAEJCABCUhAAhKQgARGRkDD6cjQe2EJSEACEpCABCQgAQlIQAISkIAEJCABCUhAAhKQgAQkIAEJSGBcCGg4HZcnYT4kIAEJSEACEpCABCQgAQlIQAISkIAEJCABCUhAAhKQgAQkIIGREdBwOjL0XlgCEpCABCQgAQlIQAISkIAEJCABCUhAAhKQgAQkIAEJSEACEhgXAhpOx+VJmA8JSEACEpCABCQgAQlIQAISkIAEJCABCUhAAhKQgAQkIAEJSGBkBDScjgy9F5aABCQgAQlIQAISkIAEJCABCUhAAhKQgAQkIAEJSEACEpCABMaFgIbTcXkS5kMCEpCABCQgAQlIQAISkIAEJCABCUhAAhKQgAQkIAEJSEACEhgZAQ2nI0PvhSUgAQlIQAISkIAEJCABCUhAAhKQgAQkIAEJSEACEpCABCQggXEhoOF0XJ6E+ZCABKadwH333ZduvPHGab+uF5SABCQgAQlIQAISkIAEJCABCUhAAhKQgAQkIAEJSGD8CGg4Hb9nYo4kIIFpIHDSSSel9dZbL22yySZpt912m4YregkJSEACEpCABCQgAQlIQAISkIAEJCABCUhAAhKQgATGmcBcTzwp45xB8yYBCUhg0AQeffTRwmiKx2nIKaecklZZZZX46VICEpCABCQgAQlIQAISkIAEJCABCUhAAhKQgAQkIIFZRkCP01n2wL1dCUggJceLWAokIAEJSEACEpCABCQgAQlIQAISkIAEJCABCUhAAhIoE9BwWibibwlIYMYTeOpTn5p23nnnNP/886e55porbbDBBnqbzvin7g1KQAISkIAEJCABCUhAAhKQgAQkIAEJSEACEpCABNoTMFRvez7ulYAEZjCB+++/P/35z39OSy+99Ay+S29NAhKQgAQkIAEJSEACEpCABCQgAQlIQAISkIAEJCCBJgQ0nDah5DESkIAEJCABCUhAAhKQgAQkIAEJSEACEpCABCQgAQlIQAISkMCMJmCo3hn9eL05CUhAAhKQgAQkIAEJSEACEpCABCQgAQlIQAISkIAEJCABCUigCQENp00oeYwEJCABCUhAAhKQgAQkIAEJSEACEpCABCQgAQlIQAISkIAEJDCjCcw7o+/Om5OABCRQQ+Bvf/tbuvTSS9Pvfve79PKXvzy9+tWvrjkypQcffDD97Gc/S3/4wx/S2muvnZZbbrnWsZzPvttvvz0tuOCC6SUveUl6zWtekxZddNHWMf2u/Pa3v02XX355WmCBBdLb3va2VnLk61e/+lW6/vrr05/+9Ke0yiqrpNVWWy0ttNBCrWNi5Yknnkg333xzuu6669Kvf/3rtMQSS6QVV1yxOCeOabp8/PHHi7S4Nmktssgi6cUvfnF66Utfmp797Gc3Smbc7olM//GPfyxYck+PPPJIesUrXlH8Pec5z2l0T3FQ3b1Rfo4++ugEv2WXXTZttNFGackll0xXXXVVnFq5XGyxxdILXvCCKftuuummdM8990zZFj+WWmqpxs8hznEpAQlIQAISkIAEJCABCUhAAhKQgAQkIAEJSEACKWk4tRRIQAKzhsD999+fLrjggvSTn/wk/cd//EdhEOXm3/Oe98xhOL3rrrvST3/603TeeecVBtZHH3204HTYYYcVRqwf//jH6cQTT0xXXnnlHPwwdB166KFpnXXWmWNfkw2PPfZYkS755Pq33XZbcdrznve8wnD6+9//Ph177LHpjDPOSH/961+nJPmUpzwl/eu//mt67WtfW2xn/+mnn55OPvnkxHll2WSTTdInPvGJ9LSnPa28a47f5AvD3/HHH58eeuihOfbPPffcaZtttkkf+MAH0lOf+tQp+8f1nsjkOeecUzyvO++8c0qe48czn/nMtNdee6W3vOUtsWnKstO9cfC1116bdtttt0S5CsHwufvuuxfMYlvVkmdEucuF53DmmWfmm1rr8N9xxx1bv12RgAQkIAEJSEACEpCABCQgAQlIQAISkIAEJCCBZgTmetIL6Ylmh3qUBCQggckmsPfee1camzCc7rPPPlNubosttii8M6dsfPIHHp94Wv7mN78p75rye5555imuhWdht3L++eenXXfddY7T8BJ9wxvekE477bT097//fY79sQHP1K9+9asJz8ejjjqq8EaNfVXLzTbbLB188MFVu1rb7rjjjsJ4iKF4/vnnL4zNK620UnrGM56Rrr766uJegwkeuSeddFLCgBwyjveEIZ37Puuss4ps4qmJF+jqq6+e8Ej+xS9+kc4+++zCm5gDMJzuv//+c3j01t0bhm6MshjrP/jBD85h5H7f+96X9txzz8KbGL4/+MEP0sUXXxzICoPqGmusUXg4L7PMMq3trNxyyy2Ft/RFF12UvvGNbxT7tttuu8LrF6/jpp6/UxL1hwQkIAEJSEACEpCABCQgAQlIQAISkIAEJCCBWU5Aw+ksLwDevgRmE4E8vOl+++1XhJvl/qsMp4S/Da9KDFLhccrxGMTe/va3F16qz33ucxNG0pufDIN73HHHFUYyjkE23HDD9PnPf/5/f3Tx/89//nO64YYbijMwpn3zm99snT3vvPOm9ddfP2288caF5yvGVDxSMVSGAbB18JMrL3zhCxOG0Ve96lVFvh944IH085//PB1++OEJwyHSychLiNlNN920OJ57x6M1D1dMGqS77bbbFkZlfpeNseN2TxhGMYITahkhzDBevLmxl+14hW6//fZFSGJ+w/M73/lOmm+++fhZSN29weojH/lIYRzFo3eDDTZIyy+/fFFGMHhiOP3whz8cyRReqe94xztavzGIYpxuJ//+7/9epLHyyiunr3/96+0OdZ8EJCABCUhAAhKQgAQkIAEJSEACEpCABCQgAQl0IGCo3g6A3C0BCcwcAswTGXNFMh9pO2He0xBC0Ia8//3vL8KgzjXXXLGpWGLAZJ7U9773vYUHIRsJB9yL4MW56qqrFqf+8pe/bCXBNTDaLb744q1trDDH6Gc+85ki9DDhhUPwpsSAmQvn4r249NJLpx122KHYRajZCy+8sJh3Mz821gkTG0bWgw46aA6jKccxr+oRRxxRGAf5/d3vfjdttdVWxRyh/B63e8JIGkZTQvGecMIJRR7Jay4YUgnJjOEYA/KNN95YGMh32mmn1mF190ZYXjxN3/jGN6ZDDjmk8NTlpHe9611F2SjPnbrCCisUBtzw3OVZdzKc4n2MwFqRgAQkIAEJSEACEpCABCQgAQlIQAISkIAEJCCB/gj8vzWgv3Q8WwISkMCsIICHadlomt/41ltv3fqJF+Z9993X+t3vCiFyy0bTPE0McrlgHK2TtdZaa4oBtGr+U8695JJLinCzrK+77rpFGFvWqwQ2eG4ijz/+eDr33HOrDpuybRT3dPvtt6djjjmmlQ+8PDF+1snTn/70lD/Xr3zlK63wvXXnsJ35Zd/61remz33ucy2jKdspP7B88YtfzM8pkhu68SZ9+OGHp+zPf+BBfdlll6VFF100velNb8p3uS4BCUhAAhKQgAQkIAEJSEACEpCABCQgAQlIQAI9ENBw2gM0T5GABCRQR4DwrLn88Y9/zH8Odf35z39+V+nn82biTVkleahhjK2dZMkll2wdQvjifmUY98T8rxg1EUIf5+Fx6/LLnLcYeRHOPfroo+sObW1nntEDDzywraG9dfD/rWyyySbpKU95SvHrwQcfTD/84Q/Lh7R+/9u//VuxTtjoOKe10xUJSEACEpCABCQgAQlIQAISkIAEJCABCUhAAhLomoChertG5gkSkIAE6gkQNjeXv//97/nPoa6Xr93pYvnxhOstC/O6RthY9uF5ed1115UPm/I7T2cQhtM8j1MuVPMjPz7PS34489eGMGdpbuyN7eXlwgsvnFZcccVWGOZrrrmmfMgcv5kHNQ/zPMcBFRvwfH3961+fzj777GIv4XqZi7UsPJvvfe97RfpNDL/l8/0tAQlIQAISkIAEJCABCUhAAhKQgAQkIAEJSEACcxLQcDonE7dIQAISkMCTBDB85sbHfffdtysuf/rTn7o6fjoOfuKJJ4p5SuNa5XlGY3vV8lnPelZrM/OjYhTHY3XQsvnmm7cMp7/4xS+K57DssstOucyPfvSjIgz0Ouusk8pezlMO9IcEJCABCUhAAhKQgAQkIAEJSEACEpCABCQgAQk0JjB4jW/jS3ugBCQgAQmMM4EbbrihlT3C1O68886t301WFlxwwSaHTesxhCR+6KGHWtcknG5TyY2sGE2ZY7RqntKm6dUdt8YaayTmi73jjjuKQ/A63XPPPaccftpppxW/t9pqqynb/SEBCUhAAhKQgAQkIAEJSEACEpCABCQgAQlIQAK9E9Bw2js7z5SABCQwowncdtttrfsj7OyOO+7Y+j2pK+U5ZwnB21QIo5sLaQ3DcDrXXHMl5i098sgji8t9//vfT+9///vTPPPMU/zG2/WKK65IGHLXXXfdPEuuS0ACEpCABCQgAQlIQAISkIAEJCABCUhAAhKQQB8E5u7jXE+VgAQkIIEZTCD3xnzggQeK0LSTfrvPf/7zp9zCXXfdNeV3ux933nnnlN3LLLPMlN+D/MG8pjE/Knm88MILW8mHtylzm4YxtbXTFQlIQAISkIAEJCABCUhAAhKQgAQkIAEJSEACEuiZgIbTntF5ogQkIIGZTeCFL3xh6wbLc4O2dkzYymKLLZb4C4lwuPG73fK///u/W7uf9rSnpaWXXrr1e9AreJOuueaarWS//e1vF+uPPPJIwgOVuVWZC1WRgAQkIAEJSEACEpCABCQgAQlIQAISkIAEJCCBwRHQcDo4lqYkAQlIYEYRwHBK2NiQiy66KFYnepmH17399tsb30t+7Ite9KIpbBon0sWBm222WevoCy64IN19993pnHPOSX/+85/TG97whrT44ou39rsiAQlIQAISkIAEJCABCUhAAhKQgAQkIAEJSEAC/RPQcNo/Q1OQgAQkMCMJzD///Cn3Ov36178+I8L1rrbaaq3nxTyu1157bet33crNN9+crr/++tbu1VdfvbU+rJV/+Id/SIssskiR/GOPPZa+973vpQjTu9VWWw3rsqYrAQlIQAISkIAEJCABCUhAAhKQgAQkIAEJSGDWEtBwOmsfvTcuAQlIoDOBD37wg62D/vCHP6STTjqp9bvTykMPPdTpkJHsf9/73pfy+VtPPvnkjvnAaEy4YuSZz3xm2nHHHTue0+8B8803X/rHf/zHVjLHH398uvLKKxPerq9+9atb26tWfve736XDDjsscc5f/vKXqkPcJgEJSEACEpCABCQgAQlIQAISkIAEJCABCUhAAiUCGk5LQPwpAQlIQAL/T2D99ddP6667bmvD5z//+fTd73639btqBe/I008/Pb3jHe+o2j3ybcxPuu+++7by8cMf/jD98pe/bP0ur/zmN7+Zcs977bVXWmihhcqHDeV3Hq73nnvuKa6x5ZZbtr3WTTfdlDbZZJN04oknps9+9rPp3e9+d9vj3SkBCUhAAhKQgAQkIAEJSEACEpCABCQgAQlIQAL/S0DDqSVBAhKYdQTwHHz44Ydb9/3Xv/61tV5eefTRR9Pjjz/e2pyf19qYrZT3t0s7O612NU/vb3/7W8IoWSf5sRzTyeMz318+N78GRsYIGQu7j33sY2n77bdPl1xySbr33nuLQ2GElyMejhtuuGHaf//9W/vytFjPrzWqe9pggw3SW9/61iJr5GG77bZLl112WTmr6eqrr07vec97Wizf9KY3pbe85S1zHBcburm3OKfdkvlYV1xxxdYhGH033XTT1u+qFcL5hncs+2+44YbiPqqOdZsEJCABCUhAAhKQgAQkIAEJSEACEpCABCQgAQn8P4G5nlSu/m/swf/f5poEJCCBGUng/PPPT5dffnn69a9/XRj94ibnnnvutPHGG6fnPOc5hdHvpS99aeFhiKchoVHzOTDxNOTY5z73uWmHHXaIJNLZZ5+drrrqqnThhRemW2+9tbWdkLB4bUZ413nmmae1r27l97//fXH9O++8M5111lkJ420I83O+8pWvTBjwwqB23nnnFff1s5/9LN14441xaFp00UXTm9/85iK06zvf+c5i+1133ZVOPfXUxJyd55xzTutYVphT8wUveEFaZ5110mte85op+8gLBlOuUZYFFlggPfLIIy2jLjy57k477ZQw/CHjeE/kC+/ZT33qU+nBBx9MPJvll18+rbHGGmmuueZKl156afHsMVYz3+vee++dqrw9O90b5QnD80YbbVTw5brdCIbQT3ziE8UpePHGel0ahBU+5JBDWru5r3PPPXdKeOLWTlckIAEJSEACEpCABCQgAQlIQAISkIAEJCABCUigRUDDaQuFKxKQwEwngOHrzDPPbHubGKUwTm2xxRbpuuuuqz0WQxpG1RDmvLzoooviZ+WS4zmvk2Dg3XXXXdse9uEPfzgxVyfyoQ99qDDc1p3wvOc9r2UkJSRtGFHrjidd0i8L42wwun7/+99P//Vf/1UYS/NjllhiibTmmmsW839igM1lXO+JPN52223piCOOKML1YgTNZemlly4M1HvssUdadtll812t9Sb3xsGEOcYbt1t54IEHCmM2xunvfOc76WUve1nbJDACv/e9702/+tWvCmPwNttskwgvrEhAAhKQgAQkIAEJSEACEpCABCQgAQlIQAISkEB7AhpO2/NxrwQkIAEJVBDAC5PQvLfcckvhyYihdMEFF6w4crI23X///YXBESMx3qcLL7zwyG8AIzXheVdaaaX0jW98o3F+8JTGmP2sZz2r8TkeKAEJSEACEpCABCQgAQlIQAISkIAEJCABCUhgNhOYdzbfvPcuAQlIQAK9ESD8K2F4IxRvb6mM31lPf/rT0+qrrz5WGTv55JOL/HTyFC5neoUVVihv8rcEJCABCUhAAhKQgAQkIAEJSEACEpCABCQgAQm0IaDHaRs47pKABCQgAQmMksC9995bzD3LHKk/+tGP0nzzzTfK7HhtCUhAAhKQgAQkIAEJSEACEpCABCQgAQlIQAIzmsDcM/ruvDkJSEACEpDABBM44YQTirlkmXdWo+kEP0izLgEJSEACEpCABCQgAQlIQAISkIAEJCABCUwEAQ2nE/GYzKQEJCABCcxkArfeems66qij0h/+8IfWbV5zzTXpuOOOS4sttljaYostWttdkYAEJCABCUhAAhKQgAQkIAEJSEACEpCABCQggeEQMFTvcLiaqgQkIAEJSKAxge222y5dcsklae65507rrLNOevvb357+5V/+Jd18883psMMOS5tssknjtDxQAhKQgAQkIAEJSEACEpCABCQgAQlIQAISkIAEeiOg4bQ3bp4lAQlIQAISGBgBjKV33333HOltuumm6dBDD51juxskIAEJSEACEpCABCQgAQlIQAISkIAEJCABCUhg8AQM1Tt4pqYoAQlIQAIS6IrAZpttNsfxb3vb29IBBxwwx3Y3SEACEpCABCQgAQlIQAISkIAEJCABCUhAAhKQwHAI6HE6HK6mKgEJSEACEmhM4JFHHkkXXHBB8bfwwguntdZaK6299tqNz/dACUhAAhKQgAQkIAEJSEACEpCABCQgAQlIQAIS6J+AhtP+GZqCBCQgAQlIQAISkIAEJCABCUhAAhKQgAQkIAEJSEACEpCABCQw4QQM1TvhD9DsS0ACEpCABCQgAQlIQAISkIAEJCABCUhAAhKQgAQkIAEJSEAC/RPQcNo/Q1OQgAQkIAEJSEACEpCABCQgAQlIQAISkIAEJCABCUhAAhKQgAQmnICG0wl/gGZfAhKQgAQkIAEJSEACEpCABCQgAQlIQAISkIAEJCABCUhAAhLon4CG0/4ZmoIEJCABCUhAAhKQgAQkIAEJSEACEpCABCQgAQlIQAISkIAEJDDhBDScTvgDNPsSkIAEJCABCUhAAhKQgAQkIAEJSEACEpCABCQgAQlIQAISkED/BDSc9s/QFCQgAQlIQAISkIAEJCABCUhAAhKQgAQkIAEJSEACEpCABCQggQknoOF0wh+g2ZeABCQgAQlIQAISkIAEJCABCUhAAhKQgAQkIAEJSEACEpCABPonoOG0f4amIAEJSEACEpCABCQgAQlIQAISkIAEJCABCUhAAhKQgAQkIAEJTDgBDacT/gDNvgQkIAEJSEACEpCABCQgAQlIQAISkIAEJCABCUhAAhKQgAQk0D8BDaf9MzQFCUhAAhKQgAQkIAEJSEACEpCABCQgAQlIQAISkIAEJCABCUhgwgloOJ3wB2j2JSABCUhAAhKQgAQkIAEJSEACEpCABCQgAQlIQAISkIAEJCCB/gloOO2foSlIQAISkIAEJCABCUhAAhKQgAQkIAEJSEACEpCABCQgAQlIQAITTkDD6YQ/QLMvAQlIQAISkIAEJCABCUhAAhKQgAQkIAEJSEACEpCABCQgAQn0T0DDaf8MTUECEpCABCQgAQlIQAISkIAEJCABCUhAAhKQgAQkIAEJSEACEphwAhpOJ/wBmn0JSEACEpCABCQgAQlIQAISkIAEJCABCUhAAhKQgAQkIAEJSKB/AhpO+2doChKQgAQkIAEJSEACEpCABCQgAQlIQAISkIAEJCABCUhAAhKQwIQT0HA64Q/Q7EtAAhKQgAQkIAEJSEACEpCABCQgAQlIQAISkIAEJCABCUhAAv0T0HDaP0NTkIAEJCABCUhAAhKQgAQkIAEJSEACEpCABCQgAQlIQAISkIAEJpyAhtMJf4BmXwISkIAEJCABCUhAAhKQgAQkIAEJSEACEpCABCQgAQlIQAIS6J+AhtP+GZqCBCQgAQlIQAISkIAEJCABCUhAAhKQgAQkIAEJSEACEpCABCQw4QQ0nE74AzT7EpCABCQgAQlIQAISkIAEJCABCUhAAhKQgAQkIAEJSEACEpBA/wQ0nPbP0BQkIAEJSEACEpCABCQgAQlIQAISkIAEJCABCUhAAhKQgAQkIIEJJ6DhdMIfoNmXgAQkIAEJSEACEpCABCQgAQlIQAISkIAEJCABCUhAAhKQgAT6J6DhtH+GpiABCUhAAhKQgAQkIAEJSEACEpCABCQgAQlIQAISkIAEJCABCUw4AQ2nE/4Azb4EJCABCUhAAhKQgAQkIAEJSEACEpCABCQgAQlIQAISkIAEJNA/AQ2n/TM0BQlIQAISkIAEJCABCUhAAhKQgAQkIAEJSEACEpCABCQgAQlIYMIJaDid8Ado9iUgAQlIQAISkIAEJCABCUhAAhKQgAQkIAEJSEACEpCABCQggf4JaDjtn6EpSEACEpCABCQgAQlIQAISkIAEJCABCUhAAhKQgAQkIAEJSEACE05Aw+mEP0CzLwEJSEACEpCABCQgAQlIQAISkIAEJCABCUhAAhKQgAQkIAEJ9E9Aw2n/DE1BAhKQgAQkIAEJSEACEpCABCQgAQlIQAISkIAEJCABCUhAAhKYcAIaTif8AZp9CUhAAhKQgAQkIAEJSEACEpCABCQgAQlIQAISkIAEJCABCUigfwIaTvtnaAoSkIAEJCABCUhAAhKQgAQkIAEJSEACEpCABCQgAQlIQAISkMCEE9BwOuEP0OxLQAISkIAEJCABCUhAAhKQgAQkIAEJSEACEpCABCQgAQlIQAL9E9Bw2j9DU5CABCQgAQlIQAISkIAEJCABCUhAAhKQgAQkIAEJSEACEpCABCacgIbTCX+AZl8CEpCABCQgAQlIQAISkIAEJCABCUhAAhKQgAQkIAEJSEACEuifgIbT/hmaggQkIAEJSEACEpCABCQgAQlIQAISkIAEJCABCUhAAhKQgAQkMOEENJxO+AM0+xKQgAQkIAEJSEACEpCABCQgAQlIQAISkIAEJCABCUhAAhKQQP8ENJz2z9AUJCABCUhAAhKQgAQkIAEJSEACEpCABCQgAQlIQAISkIAEJCCBCSeg4XTCH6DZl4AEJCABCUhAAhKQgAQkIAEJSEACEpCABCQgAQlIQAISkIAE+ieg4bR/hqYgAQlIQAISkIAEJCABCUhAAhKQgAQkIAEJSEACEpCABCQgAQlMOAENpxP+AM2+BCQgAQlIQAISkIAEJCABCUhAAhKQgAQkIAEJSEACEpCABCTQPwENp/0zNAUJSEACEpCABCQgAQlIQAISkIAEJCABCUhAAhKQgAQkIAEJSGDCCWg4nfAHaPYlIAEJSEACEpCABCQgAQlIQAISkIAEJCABCUhAAhKQgAQkIIH+CWg47Z+hKUhAAhKQgAQkIAEJSEACEpCABCQgAQlIQAISkIAEJCABCUhAAhNOYN4Jz7/Zl4AEJCABCUhAAhKQgARmEIG//vWv6ZJLLkm///3v08orr5xWXHHFGXR33sqgCDz44IPp4osvTv/93/+dVl999fTSl750UEmPdTqPPfZYuuqqq9L111+fnve856X11ltvrPNr5kZH4PHHH09XXnlluuiiixL16jvf+c60zDLLDCxDpP/LX/6ySJ/3cdDpDyyjJiQBCUhAAhKQgAQkIIEuCWg47RKYh0tAAhKQwPAI3Hfffenuu+9OL3zhC4d3kRmasuxm6IPtcFvDfu5/+9vf0q9//eu0wgorpLnmmqtDbtwtgd4J3HHHHen8889PF1xwQbrsssvSI488UiT2gQ98oKPhdNjvQe93Nfozb7755vT0pz89Lb744qPPzABycOutt7bKyRVXXJGoo5ADDjhgRhtOKeP/8R//UbwfGMH+8pe/FPe9wQYbaDgtSHT/D0PiL37xi8IIzeCM173udd0nMoZn8E78/Oc/T+eee276yU9+ku65555WLtdff/1aw+nf//73dMwxx6Szzz67+N5vvPHGafvtt0/zzDNP63xWYmDLeeedV7yLTdOfkog/ZiSBr3zlK2nBBRdMq6yySlp++eVn5D16UxKQgAQkIAEJzB4CGk5nz7P2TiUgAQmMNYGTTjopHX744enRRx9NKHaOOuqosc7vOGVOduP0NKYvL8N+7hglMFqhFF122WXTySefPGOML9P3lLxSUwJbbLFFuvfee5se3jpu2O9B60ITuLLnnnumH/7wh2m++eZLe+yxR2EEmcDbmJLljTbaKOHlNttkr732Krz6Ztt9D+N+MTp//etfT6ecckqrztlnn32GcalpT/P0009Pn/nMZ9IDDzzQ9bWPPPLIwnAaJ37xi19MGFN322232JS++c1vFuljPJ0tgoc3A3tuueWWNP/88xftoGc+85nFgJTZwqDpfTKog8EIyMtf/vK0ww47pDe+8Y1p7rmdIawpQ4+TgAQkIAEJSGB8CGg4HZ9nYU4kIIEhEzjkkEOK0H+dLvPtb387PfWpT20ddsMNNxTGg9aGipXjjz8+LbHEEhV7qjd94hOfSBglqmS55ZZLRxxxRNWuObYdeuih6Wc/+9kc22MDIQ4PPvjg9Nvf/jahQK2T/fbbrwhzV7c/tuPpseuuu8bPyuVnP/vZorNcubNmI8bSo48+ujCacshPf/rTIrQYI5aV9gRk157PTN07Hc/9uOOOa3mq4LWGQnannXaaqUi9rxET+PKXv1wo6cnG3nvvXSiqO2VpOt6DTnkY1/3XXXddYTQlf3igffWrX01bb711etrTnjauWW6ULwzlTzzxRHEsBp3wvGx08gQf9JGPfKRV/9Jeatf2m+DbHHrWCSvLgKA//vGPxbUw7myzzTYJ78qZINwXAyUWXXTRROhc6simcsYZZ8xx6A9+8IMphlPeN9JGGOgyUw2o3NvXvva1wsObkPHh2Z4Dwot/jTXWaP0ttdRSxW48ww877LD80Nr1ddddNzEook523HHHtt9C+qsRnaEujdjebf+MOoZ+ZhOhr0mfkwGwGNe/9a1vFaHE6XuuvfbaiWs/4xnPaJKUx0hAAhKQgAQkIIGxIaDhdGwehRmRgASGTYDRrnT46QwzejgX9i288MJpscUWyzcX6+yjw0wI2YceemjKfsJXPetZz+o6hCVpotAgL2Wlxp133pn4W3LJJadcq+4Hc3s9/PDDc+xmVPRKK61UbOd63DPXu//++1tKxzjpwgsvbGQ4JVQnDFDMhOIy0mAfxuNewnmW04o0XXYmILvOjGbiEdPx3MvXKP+eiVy9p9ERiO8VOeD71UQsk/WUymzKv+vPHO89+YAqDESzRV784he3brWqmTfQ9AAAQABJREFUrdra6UotgXPOOacwUtGmf/7zn18MLHz1q19de/wk7mAwQXiIfuhDHyrC7ja9jyae3Bjy+EO6Tb9pPkZ5HIZgBo0xIJZ+WjuhX4hhmT+E0MgYTznvd7/7XbtTW/s6zcuMlyuG2zpZZJFFEmG8m8jtt9/e1cDW2267rfF9RD+UfiDRDSgj3/ve99InP/nJwlOeiBInnnhies5zntMkqx4jAQlIQAISkIAExoKAMTPG4jGYCQlIYDoIfPSjH00YCC+++OL0ghe8oHVJ5v4ilB3bzzrrrCnephyEByjKlssvvzw973nPK85DqUvYyquvvjr9+Mc/ToRs6kb233//llfl2972timnEl4Lj9Qmwj0REok8hFKNPDI/0ZVXXpnwskVe9KIXFduY84gR5blHLfvx4PjP//xPVtsKaTNf0lVXXZU+/vGPt45l9D75YH66l73sZa3tTVfIz84771woyzG8MmdXrhxtms5sPE52s/Gpp+IdHvY7s91227XqNuqQzTfffHbC9q7HloD1X/2jYV7iDTfcsBjMRJsFb/FJ9zatv1v3SKA9gV/96leJNjNGU+ZgZDqImWY0bU+g815CqpaFOmQ2CdEOCFmcG01f+MIXpg9/+MOJ0MVf+tKXisg76623Xpp33qk+CDE4ZZ111im8VfESpw9ZFgbd0j/7xje+kTqFiMbrlZDSpJULz4q+InOKYqA84YQTWgbt/Lh8/Uc/+lH+s+M6huCQ8jy3bN9ll10KYyjXX3XVVePQYsm3ecstt2zdH0ZYDKoz1UN5ys37QwISkIAEJCCBGUNgamtvxtyWNyIBCUigngCGUkYE33TTTcVBCy20UFp66aXrT/i/PYRGY9Qvhr1Pf/rTc3QSOyZQcQCeoIQJ++53vztlLwbI73//+2nTTTedsr3ux3Of+9wiFNJ//dd/pde85jVpmWWWqTs0oQCgQ5uHdsIbdd99903f+c530lOe8pTac2MHx7z1rW8tRhKz7R//8R8bewhFGuXle97znoQR+c9//nOj51E+fzb/lt3sfPrDfu6rrbZaMVCCujIGZsxO0t71OBMY9nswzvfeKW+f//zn0wc/+MEiRCJtH0UCs5EAxpp//ud/Low20YanLaxMJUBYVYx/DL6kf0LbngFas0WOOeaYwms0v1+Mg3jwwiPk9a9/fbF67LHHJurYsmCYX3PNNYs/wvmWjaN49hLit4n3JQNW+cuvT/r0Q8uRGegLcg/IS17yknTjjTdOibDEwFfehfJ55fzzm7ntL7300mLX8ssvnzB8lsOi40X67Gc/u+r01jbCw19//fVF/5LBC+Qbg68iAQlIQAISkIAEJoHA/7cAJyG35lECEpDAiAicd955xQhkLo/ypWpUdr9Zo2OMQTOEeWUI2TtMyY0hhJViJPUoBcVuEyP2KPM4rtduyg6lGAbqzTbbbFxvxXx1QWDYzx2Pirye6CJrE3UoIc/xPvrUpz41UfmehMxOB9um78Ek8Bp0Hvmmwmfc5aCDDioiTaCwV8abwL//+78Xz6pbD7ZR3dWpp57amifyve99bwrD16jyM67XxaD2sY99rAitSoQevCxnSzjsm5+cx/2II46Y8mhoE+AlmRst8wPy8PL59nz9DW94Q1pggQXyTYVx+swzz5yyrdMPIiKF0AftZPwkhO9rX/vaOKVYMtUKz7WJ4G0a09pstNFGTU6pPeaAAw5otSO//e1vtwYu157gDglIQAISkIAEJDAmBDScjsmDMBsSkMD4Evjtb3+bCN2EwWmTTTYpwt0NI7cYTjHKhjCy98ADD4yfQ1kyP1E+WphQT01C9g4lMyY6LQQYcf6b3/xmisfxtFzYi4yUgM+9PX7qPkLzEcZRGSwB2Q6W50xM7U9/+lPhkYQ3VIS7nIn3OVPu6atf/WrhuRaGlXG+L+p1wp0iGMC22Wabcc6ueRsRAaZjKc/xWjY8lrPWxGuZ8OhvetObyqcW06bMsbFmA+8ZU8qE4AncRKrCLONN3ETienhoV6XTJI04BuP7u971ruIn90KYbEUCEpCABCQgAQlMAgENp5PwlMyjBCQwMgL33ntv2n333ROjdFdeeeV08MEHDzUvjITnOiE//elPi5C98XvQS7xQ8PIIoUPLaPNHH300NrmcYQRCgTjDbsvb6UDA514PiPDgp59+ev0B7umZgGx7RjerTmTOeNsdk/HIL7roomLw1WTkNhXh5u+7774iu0xl0SQ86qTcm/kcHIGrr756jsTyKEBz7Hxyw6KLLpoWW2yxql1TtlVNu0KUn2uvvXbKcXU/LrnkkiJ0LvsZ7Np0bt4NNthgjnlYL7jggvTwww/XXarYzkAWDMkIXrWDeGc23njj1lQweKrff//9Rfr+k4AEJCABCUhAAuNMwDlOx/npmDcJSGCkBDAiMjcY87owJyphbJvM/9lPphkNT6hIQqnieYEQspe5cpZYYol+kq49d+21106bb755y3DAnDhHHnlkYq6j6RQ8vZhPB2UC8752UgzAh479HXfcUfzxGwXGkksu2XjuoG7uDw9g2DDfI8s//OEPRfgtjM8oMghn+qIXvaj2OeHl+eMf/zjdeuut/9PeucbaVVXtf70iiR/AxkhiItAUjAG5tQKKBoFysRqRRIHK1ZYCtVyUi6QtSCmN0CiUa0EsYunLraU1thRTEjREBMFauVSrphpiqZEPxPSLMTERk/+/vxnHfseZneu299prr3N4RnLO2nvtueac65m3tcYzxpjZF7/4xeyEE07ILR6rd5Q4hIhGgXHxxRdnhxxySG76qtgRouu3v/1tbj5VfkC5jRf2H/7wh2znzp1hbHDvtFmT4SCbal+wJAQbeytt3749I3wZ9QVP721ddO/cL32NcGuMTRPqiEILL228Wthb+PDDD8+mTZtmSUqPg9znsNsdzy/amb4IbvRbk9dff30P7wz7jeP73//+Xmg2O89c+vbbb9vXMUfagnk2JSjYaD/+du3aFfZppg3Zw2vQOZl7hFQuUySm6uXPUUf28aKPcY/Ujb5w0EEHZXvttZdP2uhn9qpmb2vKZW4CwyOOOCL07zKlr1WEtY7+jaEOBAORD/Lagmvosy+99FL24osvBtxuvfXWZDjHprC1euYdq46D1PW0Ff2Kfk596Vf8VfEkIj+uB4t//vOfYR21kIzMkw888ED297//PfvQhz6UocBmn7hYKJOxxFzKWgb+kyZNytgXDyMq5ik8fvoV1i3mfcLfnnzyyWGvvLy8mMO4F9Y2ngsOPvjgXlLWZX576623MvbXo39DQkEcDCpsSfDkk08Oms0e17MnPfMz2DJPgCV1rkJ0xJm1te75chmXrF3MK6xBjDvmVaKT0K/6EcJmQ9aAOX33P//5T8a+iIx3vOvKwn9SB9tDsZ/yuYb7eu2118KzNffBMw7rC3VgjDD+mhSeu0zYV7KOMB4JWUpoYtZ5xivjaZ999klmAz78jrce44W56ZFHHsmOPPLIZHob/88++2x4/qU9eAc46qijQnrG7dNPPx1C5zIG6Yc8Z0Jmsfco3oxNCvVhvac+mzdvDv3D16efsriHIsMk5re5c+fmZs18tGXLlrDGMRZY78CffgtO55xzTiPEHs/1sbAuzpkzJz495jvGtdQRYXymhPcZ6ssc74W2Zb0uEx/Wl+ewvNDBcT48kx9//PEZZKkJfZS1vij8Lu1v3rdF6SzPKkfajGci1jv6OXXyz5RV8lAaISAEhIAQEAJCQAi0jYCI07YRV3lCQAiMGwSWLl0aXtZREqIA7UfZ1s/NQr5cc8012Xe/+91wOYrPJUuWDDW00YIFC4Jixl7+V61albEvT56yp5/7Sl0D2cDLM2FEUcKjuEVmzZqVS5zy0o93Csqoor3QCC115513poqtdQ4lEsQAyvUq8sorr/T2M0LJw75EKO5Q4poceuihSeIU4pgwWhCmEEQmWGrHxGkd7J5//vmAF/mboED92te+Zl97R5Qbd911V++7fcBzjH5I3VB6xMJ1hLQedO/UptoX5eyKFSsy+jIe47FYyD7GWkwwmWKXfsn9QvghKKwhTlE40//Yq4l2iAVlEHs6MXfkSb/3Oex2R9GLkpL7RrnGvSL0Wa/kQtGZwtXuF2OP2Mt1zZo1oT0sjT+SH4YqXlCQ4gGf55XBXIlS13vp++uLPkM4PvXUU2EuQSFtwnyUGhfHHHNMMkw7BhGLFi0KxJvl4Y8oti+44IJARrJfbFNCNASiBTC30F9jgaw96aSTQpq8tYt5Ac8P2pnxbcL8GxOnjHnIAEgE5mr6rwkh5f0+eE1ha/mnjnXGQep67oO+Y/07ToOymQgTKeOKN954I4wPxogRrlzPvnMQp6xL7IuHgtgEL71169bZ13CEjHnwwQcDETDmB/cFgynap6qinEtRztvcxXpk/YO9TpnDvEBckT/3wvoAMYPcdtttgfSnfzHXQXTFQr/CsKvICCi+xn9n7BDGGRyYd0zy9lVk/YF8KBKIH+6dZwTmsVggelnPIZGrSFvrnq8L7Uffg7hiLDUhjN21a9cGTMAoJRD8bN/g53lLB7n5xBNPhDzMe5PfIFE3bNhgyXrH8847bw+MGWu0N89E/vmmd9HuDxYWlGeJJowF6c/MVyZVjJp4DqXf0y8h3uPnnRg/ymB88+zGWIrXRSOgrA58f/XVV8Pcy/wbk+AY8fC8yPPLpk2bemPSrqdf80c/J008V1u6qkfuB4M6+gj1sfcAu35QoyLu75577rHs9jiyLqaIU+r1+OOPZ3ffffeY9YYMmGMxQmSMrFy5MvvKV76Sfetb3xrISIn5Md6qhDWStYL3oTw599xz837qnadf43X6/e9/v3eOD/Qx+nqRcRVrLfOzSdUwvZb+85///BjilPP01SJClL6AsO6kwgyHH/v4x/izdZF7Ss01fWSrS4SAEBACQkAICAEhMDQEmtPgDK2KylgICIHxjMDDDz8cXtCwlkfwUoDQwoOuy4KCEw8IXhoh35q2gC+79wsvvDC8rKNcQVDGYJlc94W5rBz7HdILZeKll14aTqFoRQkBMTSoR5eVkTpSprekTqWJz91www3BGp7zRx99dHbqqacGkhUF58svvxxCG6NUwaNiEIGYoO1RCqLAgThCgYBnJf0BZRreN5AvtI2J99i49957g/eB/VZ2vOmmm3okXVnaOthdccUVe2SHMgxlXywpDyKUdNdff31QqBGyi/6JZwgYYJGPNwGYU3+UlCi6+vWSaqJ9UTxjDICyn/aACMNDA08uiHD6HEp7CAHq++ijj44xjOBcCjOU2BAFzA9FCm0Uw8wdZvwQY8z3fu9z2O1OX6YdywTCh/6Pgpk/E4jlU045JXjf2jk7QiDi8YXizLyW8OZgTMXk5+rVq7Nly5YFnCEt2V+a9cO8T370ox8FTzL2q6OtIfvqCArS1B7S5B8rjsk3JsGZI1HYslcXpA+/Y+CAR9N+++0X+h7zNgppCGQU8NzPlClT6lQzmZZ8Fy9e3CMfIOwgqsEHYw0IMBTgKNYpHyOgE088cY+8iCrgCdA9ErgTKL/BuYoMim2VMuqMA58f98u4NBITZTYkKSQ8Xrtgi7IcbzF+w2iK/mcCKVK0DkN4XHLJJaXzOCQU7YJQNm1IG0GqYCjA2guhH5MqVo+iI/Nzqg+nrmGeg/yNBUKC5zfmyTxhzud65tN++jVzaYrc9AY+vuyYkPK/8ZnnJeaFIiMn1nVI7fXr14fxEufhv7e57lm59EvmCcg71i6IBQzY8NSCYMLgadu2bYFwqdLG9CdIcIhkhLmZZyb6HAZD9Ff6IthBbELi8FtsNAfpypwfC/0j1UemT58+Jilp8JCkDKKCzJs3L4wr5krahHmKNYHxCZnE/cck05gMK37BC9/Pcaw1ZcK93nHHHWXJer/z3InXYVXZuHFjMAjKS8+awhppBg956fCQ5Bnz9ttvz0tS6TzGQqnnnUoXV0gEIUkdMeKweZfLeBfkOZLfY8FYjXcQrjHh+Zu+i3cy6ynPbWDEH0ZZjA0I2n7fWVg/6XuxYEwwf/78gffGTRGnzKE8h2PklCesSTb30X/xOK4jjHkwMaMYrqVMoiTw7hcLY9QMZfCUbcKAwcrgPcqkaJ62NDoKASEgBISAEBACQmDUCIg4HXULqHwhMEERQBmDUjZWyPGdP6xd8WqLvR+6AAcv6ihlEV6WUwrnYdcT0gVvGF60TenDd0KpNfkS6+8DxTtW26bYQCmDAif2AvPXDPoZRRplIpA1hKUrEhR8hJBCwAbFqxcU4CjiUDwOInhDkD9KDYRQYBBdsUKG/ouSwYhTFJ20nQnKN/OkIRwyip0igYBECYSCo8wjpg52EHkICkFToFL3lGIytnyHfCF0JwpYPIu4Jx+SF8yxXIe4wjsawobyILrqShPtizIZ8g6PNLtHH3ISsp0+d9FFFwUFO+QERK/fvxgSz3DC48PCSELGo6CjbVBoQxagBMYbB2U/4bzNcw8MMERIKbkGuc9htzsKb7t3yEvm6pRAJvEHVp44hQDKUwLiLcYfXpgoyQlRxxwbC0pWPJMQ7heltB9XeFDgucCYpF+ylpSFIQ2ZuX8QAzYumHvMC4K+nFIix8QpHsWQLwjj4aGHHuqFV+TcscceGwg0vFFRlLPu4Y3NGCd8b7/CXIMRA4JxAgQq85MJuODtxTyORypzGRhCFsaEH2MboxDmsDPPPNOySB7xRoNMROjrRaHcB8U2WYHoZJ1xYJcytzJPQUwylzPu/TxLvWfOnBkwpZ2YQ2hnjGPMWxiyycYHayRekCasX/RJ1g3GAOFu8ZqGzPMCuW1GFcxNlOUNblBW82dro7+2ymfIFNYQjGNS3tM+D/qIKeUhfE25jsEQ8+fVV18d6sK4ZW3gHiFUIVsQMGXe6ye6A+s3dUSB7kl5vMwgR2KhPkXCeMZD+PLLL8+OO+64UH88ofFMw0gGzzGEOQOCBVI8T9pc96wOPGvZ8w3kJe0ImeOF0KQQSBDqVYzOmKOsv5IPxKjHEUKW/JgzLBQtz0+QUl7OP//8QHRxjmcj2h2h3VLPyDyHmTDH0CbMMwhtQ7/ywrMtJBrjGqF/Mc+QdhBh/JlAEvlnFzsfHzGysnHD2s9zTZHQVpYeTz36W5GAvz0fQVjH4Vt5B8HIi3qYhzXrB4R5LKzP9JtB9qBkbi+qT1xm3e+snTwv2frB9RhREU0iJcxBEOuQ3iZXXnllxp8Jcytjwb+fYPDCOE95r9p1RUee0TFyglD0goEgcxVjk/K8IY1PV/Z58uTJ4XnJnjUsPWt63jMTaew5hc/xGs65MrFwvRCwJhj+Mcel8uMZnjGLQG43KT6CA4Z3vN/6ta/JspSXEBACQkAICAEhIASaQEDEaRMoKg8hIAT2QCBFmvpEKAFIEysUfZpRfOZFDoUOL8ooLWfPnj2KaoQyUa5g6WxeKW2E7IXEwBLZFDkoSAlRVWUPnn6AgkAwEiEmJlL5mbKW3/DuSol/MU/9XuUcnmhGmqZCiObl4ckd0nhr7piQTOVh+yOZ8jqVxs7Vwc6IQ/bNM0GhbOftXHxEqUH/Q9GMIg9lf0rxiHIXwoA/BCU6ngG231+cb973JtoX7xoIDwRSIHWPtMvy5cvDvoOkgyQg3BpKZIR7NeUYnjAmGC2QNg59Snr2RIQkhZBFwAxFYYo4HeQ+h93u9BHrJyjWyoR5CjLaPBRQ5hcpAckPoghJEUN4JpmiH/II0j4lKPxQrNMejBf6JoYeVQVlnfUNv08c/dvO5+WFsttIU9IQLtH2pPPXMOYxeKE/giUkEUY5eKr2I6wB3ruItcqTpj5PsKU8xgPCdZDiNsdwzsgpM87hXJ4wt5k3up/XUukHwTaVX+pcnXFg12M4YmGfMWrwpKml4QgZSt/CAAzDCgwd7FmANrW5IQ7xjScj3lP0X+9FhSGH91BnjTXiiXkypTgehAgxb0EjRP29xZ+9B55fv+hbkEFx5ADmQMYleBBtAPGhUOP8i77bPZqxiaWFiLI5yM5VObJWU29/H1wHiccchUEE5ApibZBal9te96gP5ImRpnhlQVyWjTOuKxMji4vS0cbMIxamlOfzWBj7Nv59n4B0K5svGXNVvGMxzIIotOdP6jEocer3raz6bMj4tjEOMVlGnDIXEfIfIbpOGXGKUQ1/CM/4dr/hxO5/kHSsbx5nfsOggPXEC/MIhKqNJf9b1c/MAbZOpOpTNZ+idKyRGBAhvFPYs2LqGoyQPGnKfGCEuk8P4c+6a/2W3zDIwkApfkbz1+V95hoI/jzDS55xiHCBsSBzDdEz6gpGBzFxyrNBnvcnc6PNr8xVee89ZfWAAPXEKenp2yni1IzlKK8oRHFZmanf/RjkGZn1FYMJiRAQAkJACAgBISAEuorAe7paMdVLCAiB8YsAZFtK8RLfEWlI2xVByYxnE2HDEFNsjLJ+WPn7l3NefKt4GfRbZ8hLFPumsEEpQ7isKkRev2XWuc73q507dyYvRYmH0suHhEomzDmJx4B50EEyWPjinOQT+jSh+cxLFkWRKU5TN+1JCDwzY+VQ6pr43KDtS/g2Uz7jBVOkdEVBa/vGosCpomCG4ChSyDFWPVFqe6M2fZ9xfqP+7pVvKAGLCBuU0GANKZBSAuL5a6RSyhvV36vvcxAinpzy6Zr8TN0g5E1YJ+Iww/YbR+ZSvGdM6KO2f5idq3rEQ9IMOjBKYH0oEsgQI0e5rmifuaJ8JsJv3D8efAiYMJ/lCcSbJ/9tTslLb+dR8EN4edKU3/Ac8+u4D1GYt44xz3CNEThWRltH5kd7DkiViceYCUp/v++lnW/7SJ1j0tTXwY8XjOPMA9Kn4XPb6x7PnEZcUT57vDZBmpJXVeMl74XKszBRFJoSjLTMY7soT/qbr0cZAVmUl/3m76MfMt7yafMIuZQae4TgNqMIXx97RvPnuvQZIg6vdAQDBox48sYphCnEqRe8oVMGDqQhDK0XQjzjMdmvsHWAX69T+WAQd9FuAznmEx9KOJU2PgeBGRvc8NySt8ZwnrkKwSvbe3LHeRd951kpLpcQ07FRAH3JjAUpr+iZv6i8vN/i/Pz4zLtG54WAEBACQkAICAEhMEoERJyOEn2VLQQmKAJmrVrl9uqkrZJfP2mw6MXDhDB1fq8mCMQ8xVo/5fRzDcoT6uE9orA472ffs6rls0cf3ncmb7zxRi1PLrtuGEevTGIPuJRAhuHxkxcGLHWNnSOsLniboBxJeVja7xP5iDJ31apVvVvEyr5IIJm95xQhHevKoO3rw0WW1Ze6EWbXpJ/62rX+6BW/eV42g96nL68Ln1EGWhhrvLWKSGgMP1AUErrPz2vcB4Yh5rmKF695AOfdI95OJoSWa0LRbvnlHVFk+vCPKLPLBGU3IXRNIEDrCmuRj9DwpS99qZRcYTx6r17C98beTXXrMV7TE4LRPNEhI2Mlcnxfvm9VnRuYf+quFxgaGBnu68Ac8b+7w1WzluWRDD5925/9PEfZo35WqnL/cZ1T8/Mo1j1CjZvBHs9fbJvQlDDXYFTy3HPPhT/I5ZTEBkGpPpm6rso5jNjw4LY6FHkb+noYJlXKyEsDkWZSNuYtXZePqbDIXR57kHAYX7I+Y9RIeOyidiDUbmyo6b3i47aJiTh+p68NInitE6I9fj6J89y6dWsI/c67BsYGVYT1ISZ7uc62+4jzGDRMr+WHUSwe3V543zEjUTuPUdewwvRSRtz2fnxaHXQUAkJACAgBISAEhECXEFCo3i61huoiBCYIAoSqqip10lbNs246vKNsX09/LZa4vPCjcPVEh0/Txme8V/BAsD0YIXoJJXv//fcPrXjCdREeyjzmhh2yt+qNEBJ28+bNIfn27dtDmDNI77rK6rzysHb3CsNY0ZB33UQ8jxGBKbBQdqBk8R6hqXuGPLOwn1XJBp/PIO1LXb3hA32irL7m2Ugd+qmvr7t9Ng8/vvv87XeOg9ynz6crn8EajwbzmkDZR0i6lFiY3lSIWb+HG0pW75mXyiv2tKENP/rRj6aSNnaO/Sm94JVRRSDyUbQihIBlHoccriqslXhGm1QtFxKG8IUI1zMm8sgTy3siHn04Rzy6yuYG74mDN2WV9oqVwnk4YtxjYwVvIoy2IM8I+TlexM9z1Nm8orpc/yp1HsW698ILL/RgY//mpsUbCOXl7ecW0hh5kpe+7nlIqDIiijx9PZqog49+UHV81r23NtOnQvLac1qb9ahSFlufsC8phlK0PZ6kPlR8Kg//DGe/45XP/JuS1HNb6lzq2qJzPJ/wTIPhAaRmUV9kuwDWZ0IpV+ljGD3FRsN4rmLU5NdmDDvYFgDBc/y0004rqnLpb8wtMVFKPfz+5lYvnuUHLS9VIbzPeZ82PP34TKXXOSEgBISAEBACQkAIjBoBEaejbgGVLwSEwMgRQIn6zDPPhHqg/GPvLlOOE1aR/c2qeBUN80bwACX8lFlS46WC59YZZ5wxlGJ5ScfzkrBVvOBCAEEiQ3qYZ9lQCi7J9Nprrw3hsYyQ4iWfsFkXX3xxOD9oeDvvSUZV4pCLJdWbUD/7vcFQfHnPtSo32k8IrkHaF2WZ9QvqR3+tI/3Ut07+Pu0g9+nz6dJniFIjgzBuAM84rBx73aEYxQPTwiT7e/B9jlDPM2fO9D+Xfm6jDfHAN2GerGq04T0YuR5FK3tFVhVfLtf4vcKK8ojTUW7T+5YVld+V33zfYk3nr47Qt+oQ3UV58zzx5JNPZoQ0RxgThLtGgc2+ovvvv3/R5fqtTwRiA7j4O9n6ftLGuodXpY8gQrjnNoR7g5ThmXLLli29vX/bKNuXgXEeIUOpA39Nz+Hcp8kon12tDoMeq5DPg5bRxPWE72a/UDNExCMTY8cU8evLi9c5flu8eLFPUvq5KTIOgwP2m2VfU/ZPj/cI9RXBEIeIA1WeOzFmYq9oP+55z8LgjPnfZNOmTT2CccaMGWMiuliaOkeIYKJQmHEj1/KsxhyE5y5j0fYA/8xnPlP52aZOHUjLOLRxace6eSi9EBACQkAICAEhIATaQkDEaVtIqxwh8C5CAG+qMm8Og4O0oxaUZz7E6LJly7Kzzz6793LJyzDePR/5yEdyq8oLb9nLPSQnnqL9CHWEyMRS2UIbEbKXesXkRD/5p65hfzX28DEFMwoNwmxdc801qeStnINwwXsKD1wL44ZnEHv3rVy5MmMvJMjefhXcnjiFhO03n1bAGHIhHgv27SS0ah3px/NvkPb1CjfG82WXXVanuhmhzNqSQe6zrTrWLQfvbMIsoiiFwMYYZdasWWOyKfI2JaFvw+nTp48Jbzsmo5wvRXuN5lxS+7QnVmJSsiizOO2gxGmZAtrqEhO2flxbmol+hIzxHkvsz4niuo7UTV+UN2sL3klXXXVVIBNIy5ghFPP69eszQl8zf+F1LWkXAT8+2lj3mAe8TJ482X9t9DPkFWHUMXDBKBACBeMPiJwrrriitw9lo4UmMsNQgGdmvN9sj1+w5vkWgxnzsktcWvuU39d0PHhF177BDl5A32KfYL+eU82lS5eGdxb/vuWrj8elvd/YeTwU674nNv3cfthhhwXiFINaPFB/+ctfWvXGHHlXwkvT72c9JsF/v7BfK8/TfisMfsKz1ROnjBETv4+8nat7hHRn724zcON61h3mBAwj/d7rrEHDEqLXmPjxaed0FAJCQAgIASEgBIRAlxAQcdql1lBdhMAEQYAXrqrE6TBfzvqFE2XlggULsm9/+9shCyxiFy5cGDxE3vve9LTJy6e34k2VPWg4LbxQ5s+fH/ZjJX8UwYSpHXbIXsLIEVoSgZxEMXDEEUeE76P4B1n81FNPZStWrAgesPYSzv51kKpr1qzJFi1a1Jc3rlf0pPZOGsX9jqpMC9NM+ShzvUJnmHXqt319fVG2tVXffrHo9z77LW/Y15ky8NFHHw1F4RHviVOU9nhQ4KH5hS98IVkd34bs9eevT14wgpN+P7k6Cto4TKjPp8ptmHeipS0LeWjpCB3ovUxS+zpa2ol6tPXL7u+ss87K2HdxlEI0A9aq1atXh+0AzBCIZwkU5kRToP9/85vfzBhbknYQ8HNQG+ueJ2q5w2E8d2BcxnYLkPV449GfeI6DjIE0ZY5gjNx3331DBRlCbfny5Rn7XiKMAQzxCCFqhDHP2k0Sp95wpOwZfag3/y7KnL2Z2ZeZPx96GWIU40vmtJTEaxxpeJbze3unrmvrHHut8o6xdu3a8H5o4WatfL4/v3s/4TLilPQYCcTE6V/+8pfg8cn7Fe8iFraYPlwlT6tH0ZGx5olT0rLWQJxamF6eF1L7sBblW/U33td8n/Djs2oeSicEhIAQEAJCQAgIgTYReE+bhaksISAE3h0IEDb18MMPL71Z0pC2i0JoXDyeTNhrr4igJKQToY2K/upaTVvZ/sjLLYouE0L2eqtkO9/UkRdoPFstpB1K3RtvvDHsd9lUGf3kg/fPTTfd1Hvh9yHYIFBRvpkSoJ/8uYYwWrFipN+8xuN13kOOPf7alH7a19eXMHHjwbukn/tssx3qluX3NcV4BkWgCd4MeJPgeZ/nceLbsO0+Z/UsO5qCn3QpRW/e9XHauiE5fbl1ymY+9IRB3XLz7mc8nY+9c7vStyCsiJCAxw8EEh7bJqy1KNbx0pK0h0DbcxDt7KVpwwaeXTFUgfCBNIX8wagFzzlCd1bZk9HXr5/P3CNGfuzlC2kKcXvdddeFZzQMnOK5rZ8y8q7xxIyfB/PS6/zgCOBt+tprrwVDzzg3SFVvoOh/nzJliv8aPtNn47Vzj0QNnMCwiz3T+TMjlrxs2f8UD+2UWKjb1G/+HBFZ8GSNZePGjeGUf6/DOxUSugnB4zQO9/yb3/wmGCvYFjW8+8ZpmiibPOIx6MdnU2UoHyEgBISAEBACQkAINIlAM09hTdZIeQkBITAhELjrrrsKyVNIU9J0WQiN68MI4W2JMiAleI+hmCr6Q0HahNxyyy2Z38sTxWrT+0L5eh5zzDFhjx87h4cE+/10QT784Q8HhRwW1OwP5wWP4fgl3f+e+uwVN1y7a9euVLJ3xTkfmprwpKMgkeu0r68vdfUhVbveYHXus8v3glLeh2j2yj8L01u0b6lvwzzl6qjvn5CSJpAc3nvCzqeOKGS91DWk8eWST5yfz9t/jtPVLdfnNV4/Q4b5UNxd61uES4VAInQp3ljesIC9ULdu3TpeoR939fZzUBvrXhyO2Xu8DgoeBBDPnbbPJF5ueDn755xBy6hyPZ6s69atC0nxlH/ssccCidqGJ/UwiPCY7K6CwbsxDXs5x579GLSxZUnqeZKoDP6dyzCzcM72fRhHthY49dRTwx9bgZQJxCke07HUMXxgPMaCwScYUR+TJsL0Wl6sLd4omPM8w/i9WYcZCcobLUEGY3QsEQJCQAgIASEgBIRAlxEQcdrl1lHdhMA4RuDAAw8M4ZV4AYUkJdwSf3zmHKGXSNNlwfsDb0sTlCU33HBDsNq3c6M44j1DKGETQvb2u3eq5VF2xBvGeypBIm/btq3sstZ+x2oZovvyyy/vlQkucRi83o85H2KF4rDIt5TSKKdKIzvtiRqwrGpJP4wKV2lfFN7mGU0d8vahGkb9msqzyn02Vdaw8vFep0acMo7Yu27q1KnZIYccklu0Jy3wgiBMetfEE8OsCVVD7r711lu9W6Gf+vHV+6Hggy+XZFUJFl8u11UhTsfD/MS91BFPUL344ot1Lm0tLUrtSy+9NES38KRSk6FLW7uZcVqQH5dtrHvxM8f27dsbQ46w6XicI8w5V199deajczRWUEFGRH+w8O0k+9znPld77+qC7Et/8h5tsRFJ6cW7E6S25yAaiaQcAeYw3k1ib0nmM7bbSEm8zpHGniNS6Ydxrsrayng69thj9yied9yqgid43L8wciC6kdUB4jmFSdUyUukI1xuLhbPHKPfEE0+Mf27sO+GaTSDJ/Tpn53UUAkJACAgBISAEhECXEBBx2qXWUF2EwAREgFC8kKSE5+KPz10Nz5uC/4QTTsguuOCC3k+8XH7nO9/pfR/Vh7PPPjuEBbbyn3vuueCtYt+bPqLQxbPVFCAQBosXL266mML8fve732VXXXXVGCVcfMGVV145xrOorieuV5qSt1f4xWXV/e5D4rUReqysfqZQzUuHwsYrNQixNkwZtH3po554e+KJJzoZrnfQ+xy0DcrafdD8fVg5lH8QpuZtSqjxIjnyyCN7P0Na5ClXe4mG8AFFf5HEytIqIcGZL/2+Ytxn3VB4EM4+0kCVcrkPn44yU/tT+7mJa4Y1P5VhS9nDEt+3MKrwYaSHVWYqX0JPso4Raj5PCMdP2H+TuuuYXTdej8Oeo4pwaXvdY+961i4TvDGbMhghXLoJ0QA8iWjnBz2WtRXjzEf+iL3dBi2/7Hp/z+z1Srj4OrLffvvtkXxUc8ceFRkHJ5h3CW0byx133JF570P7nQg3saxfvz7bsWNHfHpo3yH3WLPLxN6HfLqjjz7afy38jHFuiqT84Q9/2LuuSW9Ty5T3WqIcpIS9TePngVS6fs954wU/NvvNT9cJASEgBISAEBACQmDYCIg4HTbCyl8ICIFxjwAesp5Q+/GPf5yxt+iohVC0++67b68aZjHcO9HwBxQCs2fP7uU67PJ6Bf33A8p8Qhn+9Kc/jX/qfUeR4T2Zfbv1EhV8mDZtWuYVHz//+c8z2/en4LJKP6EgNfnTn/5kH0d2RGlV5FnG/ptf/epXe/UDd4wfqgoEQR1pon2vvfbaXpGETKtDfNetb6+gmh+auM+aRY5JXtbuYxL38YXQa4QuN2G+fPrpp8NcVRYC7rTTThtD7D300EO9MJOWX9GxiTYs29/sk5/8ZEY9TVavXl2qZMWwxRSGeKr4sHiWT9mRuR7CzQSvybIQhnhGsbesCeEFP/CBD9jX3hEFridvhjU/lWHbq9AQPhAK15TFzHt33nln5TDLKNGbIrMIw8g6tmHDhsK9wn2Eh6Y9joYAb6NZWmjZRjOtmFnb6x7PLOeff36vdoxZ5pQmxM+HVUOK1y23bEz7OpB30TNH3bKrpKc9fZjuunObD/Vr5fFc0fZ9WNnj8UjEmpiApt9AnsaCYS1bF3hh/mXNrBIG9xe/+EXmnwN9PlU/U56t13nXkOaVV14Z8zNj+bjjjhtzruxLKlyvjVUMFzFEa1pY6yFIU1L2jJa6ps45v93NQQcdVOdSpRUCQkAICAEhIASEwEgQEHE6EthVqBAQAuMJAaxvly1bNibEGd6Wo1TugR8Kneuvv75VKFHcj/plt4gswLPhzTffDJiwl5YnUasCtXDhwjEhX7/+9a9n3nOjaj5xOl+XX//61xmhSPPkz3/+c95PA5034oBM3nnnnezll18uzA+ixRReKIrmzZuXlYUSxKOD8XLzzTcX5p334yDte/LJJ4+x4IccgaAoEu4Lj8gyb8iiPPr5bZD7rFte3Xavm3+c3ofrBX+UpHhOeHIuvobvKB4XLVrUG394fkB44SlUJBhx4G3er4eqxwfFXpkXFUpc8xiljniJ5Ql1f+CBB3o/Ey3gqKOO6n2v8+G8887L8BxDjPyj/6aE39lHHKIOwRvbG77E1/j56fHHH096A3EN5dUJYV4X27heTX2H0Gc+M8EoZsmSJaWk95YtW8L+2U0bCqEcL8rTEzx1wj/a/Y2no+8j1PuFF14YafXbXveY43heMWHcPvzww/Z1jyPjr8o2BN5wjH1989YcvPvZS7eq+PaCqCoSHwWCdBgN5MnmzZszIjI0KZBP06dP72XpiZveyYIPqeddoihA8OG5Tih0cOVZavny5SPd0qDgNkb6E0Y/qXcVng3i9mBdZV6OBaM9SEau8QQq6xHP/D/5yU/CPM12HXUM/OJy7HvR+GJtveWWW7K//vWvljwc2Z+6Sih8f9FJJ52UsbdrSjBAs+fv1O+DnEuF6500aVJ2/PHHD5Jt4bXgxrprwp6yEiEgBISAEBACQkAIdB0BEaddbyHVTwgIgcYR4EXbW8lDtpWFECRMordihjQtCrVXtdK8SNr+ZYT/qkvGfvnLX8548a4jf/zjH3v7tBaRd6k8IZHZ99WHcE2lq3sOHP71r3/1LvOh3Xon//th165dSQUg7Yoyw66FAO1HCC127rnn9i7F8vzCCy/Mvve972W/+tWvMpSM9Bfai72XvEdX76LEB9oKbzMT9rKDYPzZz34WlEfks2LFiqAcigkOj41db8c62LE/rhfakr1qwQ7h6JWrhAa98cYbe+0NCQTBCClKP7J6QcKiTLz99tuDJfuqVat6hI0vr8rnQdsXUssUUWBD/cGatrNxD2lB+1FPLOwxhLDf4jraPXKe+zSs4nT23af3n+13Ow56n8Nsd6uj9xbC444yqwgemeblY9dUJaYhFX14dPoZ++L94Ac/CApSIwIZg88//3x23XXXZewV5hVyVero0/hxwfzB3OE9Tjjnv2O0wn7XNg/S71NEB23MWDZDCPbZ9OuIr0OVz5RHpAEUnAgkBPnRL73QR7mHjRs3htMorrku3k/NX3PmmWf2vjIWzjjjjDA+IAcgD8nrtttuC+MbgsCL7yf+PJ/rYss1jE/v4VmUf51xMGvWrDEezRhMQOgzj6OMt76KVzgkPP3woosuyiWp4nrZ2sM9VJGYNLBr8NLGuAbBCKFoX2C7JnWM55+4vv6af//732M8cONrfVo+x7/XvXefX+xhhsclIaZ9H2D8xWUwF/i+X3R/lBf/Ht+D1antdQ/SFAMtE8Yv3niXXHJJmFfoC3i3sdUFBiL0WU+sx7hYPp4wBCv2OLUIGuDGZ8qBwIB48pKXJ2n8mN66dWt23333jTE2IaqBPcvi8emJf+aRBx98sNeWeNgSzYJnLtZpb7RSVAdf17LPn/3sZ3tJIGfrCIYuqX1haRMIb/LmGYK68/yWepfIC+1LG6SMJ/LSU+/UbxB4Nnf5e8vLHxI9JU2lj/fVpizW6JiUo87sgWprutWJMOXeC9vO8/zJ8xzeknh2nn766SFCDHmz3pUZ9Vk+VY48E959993huZFnYtYH+jpjkPG3bt26MdmwfvazDc3ee+8d7mNMZv/9QjlVhbECgezr9fvf/z4YoVD3+LkVjH3of8qhL8fPCLQRY5Ln+1SYawwGeM6J80/VG0KbtAhGdIQMlggBISAEhIAQEAJCoOsI/M/uB6JqWrCu34nqJwSEgBAoQQCSBE8G9t2LX+yx6p08eXIIY4i1Py+zsTBd8mJsCk1+x5r+gx/8YPAWYO9TIwvia+PvvNyybw91MQUTabC2ph6EjK3qsYeSFyW3KZzOOuusQCD6MlHmYA1Nefx5RQUkAN5GKNV8mFp/ffwZT76VK1f2ThO6OBXSrJcg5wPEB+QtCg+ILRM8z1CKoKBDKYXiGJLAQlXy+6c+9amgBKftwIA6mFIJhTcKlkGENqJNvfI2zo96UEfrT3hixOG7/DUod2IFpf+dzzNmzAhkEGSRCYpVlEMQL5C4SB3sLB/6CPnGe0tByFB3FMuU9dJLL9kl4YgXyIIFC/awsOdH+rxXqJAPSi8IB0KAVpUm25f+QPvH90FdqB9taooe2hDre7xpLSQmykw8G8gHUgVSwYQ9LiH3wNH2TUT5u2bNmkA6+z0luQYlH14rKIkI8zrofQ673SH5nnnmmUAUbtq0aQyZwpjD4xEM8O4tEvAHQ+TjH/94xp6zdYRrIfZ93+J6+iqKbE96QLyguEZ5mVJyl5ULgWXjyqdFuUd5jAvGJYpULygCGdPmeUJ4VRS61Id5gHyNrMFbdP78+aVetz7/vM9x/2acUe5hhx0W5lLWKNsXkz7HPObJjlS+9HHWkZQi39KjVIXMYZ/Ub3zjG3Y6zEsoYqlD3C/qYAthRvkQOpC1JrQBIQvxGmVPOPbB62cckB/3ec8992SPPPLIHmQDhkGQthAIJqzFeDGZkpe1kxDS4Mua8/bbb1vSjPbHSwhi+xOf+ETGXqWxoPxnHJngoUQ69ntjnabf2DMG8wx7S5d5altedmSsoeyHJPIkCfVirmPNJAw7cz3jDBKOdkLRboJSnTWYvjx37lw7HQhNlOg8S1m/50fWf9qevCGUaLM6wrNVTGphaEQ9IAVoE0J+40XJnEwUCMYfZIYJ7Ucfpi60mRkqMeeCa7y3LXXFyIMj5cc4t7HuWd05Qphj/OXXG/87nzGCgGTl3pmnTSA9WGdmzpyZ+W0BMCyJ1yTyYP6kL4MZY5o/xpbNt8wXtCdjjvb0AkEYG0/wO88CrKu0F5EDjPyif2E448cV6y5ty3hAIFchq2gnDMpMaJ8pU6YEcnfq1Kl2utaR+jB/M2YpF6I2JuuLMqQ+vD8UCXMSz9jMDcxNsTD2SHP//fcHYzXS8tyQ19YYf2F0w3MJgnEO7wyGV5w/fReSGgMjymd+g6TymPtrwJ51g/kF46SlS5eG9Hn18empd1n9uV+IUh+OlzFL/4yFvLlfntu90SDGUBj8+Dk2vtZ/BwPIRtZy723t0+R9Zuz1YwxLvS/a/azL/BGTjnllxeeZd2PDMp5Tma/iOSm+lu+MGYyCioR1Jo7IgRcwc6oJxl9+beI87VU14k7qesubI+/Wtn8rhqT0OYkQEAJCQAgIASEgBLqOwHu7XkHVTwgIASHQFAIo+0whGeeJQsUUzSh+UsQpSjgUNz4PQqZZ2EIsp6sSpyiGUyHJUGahZCoi6+K6o9iCpEiFwrK05MdLeEqwRubPe1Sl0vlzKM1RahhR6X+r8xmFXopIRHlt51FwQZxCKKOIQcELTlg6+1CztA/Kezwy+lWw+bqjyEBpjoU5ig3aBQUcCg0U5CgqCR1Gf8D7rIpABEFS43FhxB3X0d+oOwpqyoyVVyjLCKWHQtgInjrYWd1QmKLwRBGIsszqgMIHRSmKvVhxwrUo8FHa3XvvvYGMRClv16JoRUlOO0FuoMBBaVZXmmxfxgQKRIgYPFwIu2ZjyogslIwQFiiF43B8jGmUwylBScUfSkcjTgnXmpfe9kPG8AISa9D7HHa744EMdimB2OAP4i4myOL0KDCNOI2VgnHa1HcUaxC0KNsgCZijEPod4x+FP4YEKOfxyutXaUmeGIwwf3PftKXZFNKvmXuoR2pPMOYZ7hFlOHNRHA6T/UTJG5LKiDfKG1SsfzMnQG5jeEK/4A/BAAeyGnKf+QKyoEwgnDEWQXkM0eSFeQMSDXKacR6vJawD/OGpGveLOthijJNah2hz855lnmee6mcccE/cJ0YgkETMw6zFRkbYHMH9MrYhk/x+vVzP3IyHXUqYF/lDME5JEaeUD3kJMYzRFIYK5pFseaL0h/ij/aq0nV1nR3C08WLnOBItYe3ateEU7QlxyhyZUoxD4pIWxb0nTunvcfuTIeVhPILMmTOnNnF66623Bo9m9u5lnUW4d+pIVA3GoBGCeAp7Yj0k3v2P9uM35LLLLusRp4yRZ599Npz3/3jmsxC155xzzh4kRRvrnq8PRm8QHBimMQ8zz5mAA56hEFYY63mSmzRErkA8TnyHcGMOY30yXFmzp+wmI8EVoor5BOF+zYCNcUjfYF6NiVOIIoywIJts7DAumZPJg/E53YXHpXzaBWKUuRzhGQ9hjGBUwvxKHjHRZ3MR5Fq/z3X0YcYTpDTlskdp0fNyqJj7h8ELGGE445/NyBfCl/HBfFIkjD0zsOMZxD7nXcP8AUFpAnloWNs5f6RtMTrhyHWp8e/TM775A2/qlpp389JXqb+/X8uHPpwSq4u/X9KxlmCAQqh7xjvPZTZHWz48j9OXmc8YP3llWPq8I8/z9F/6P39l+PEsDtFL36UOgwiGSBjh2rskeVGfKqQpae15hc95YuPN/846ZMQpcwpYx2LP+fH51PdUGZaOfmlzMO87vKdJhIAQEAJCQAgIASEwHhCQx+l4aCXVUQgIASEgBHoI4CVhSnqUMygtUKii0EfxMSxBgYCCJyYFUegbcUpdINXKBCUCJAskDRbrKN+qku5leVf9HSUHRAckS13FD/WHSMajARIZMjBlbFC1Lj7dMNqXtqPPQGqg8IIobRtvf498HsZ9xmWkvg/S7qn82jqHIhmSi7ak/SD6+yGVyuqLYhwFNQpYSK46wrWQYBAyhx56aOhrda7vNy1t+uabb4Y/xiOK5Loef75s5lXuA8wZL3iyDpKf5T0ItpbHMI7Mw8xnEKb0LZTIbQgem/QV5mH6MmsYf9Tj3Sz0O/AAB8i0rsgw1734HpnnGIMQZpCp9ItBhPwg1hjb5Me634RAwkJm8VxUZY5gbmUtZoz5fZWbqEtRHqy3GNjs2LEj9Cm8ziGn6gh5QG5BejLHMtdWuec6ZShtPgL0YZ7haEOMknjuxFt8GMJYYexh3GKeu7xnHHDAAaHf1n1mLqsjZLQnhcl/mO8zZfVp+neMlYgUgGBYgzGCRAgIASEgBISAEBAC4wEBEafjoZVURyEgBISAEOgsAv0Qp529GVVMCAgBISAEhIAQEAITDAFIT/ZSheyFmMJD2sLzT7Bb1e0Igc4gQJhrC79NBAq+N2Vo2ZmbVEWEgBAQAkJACAiBCYtAeeyuCXvrujEhIASEgBAQAkJACAgBISAEhIAQEAJCYCIjQDhU9tzEkw8PP8KF+q03JvK9696EQNsI4KHPfttst4Dgpc12HyJN224JlScEhIAQEAJCQAgMgoCI00HQ07VCQAgIASEgBISAEBACQkAICAEhIASEQKcRYF9XyBxCH//tb38LYUPZj5v9nSF6JEJACAyGAKHvMVBgj9qlS5eG7RX4zJ7ZbYXBH+wOdLUQEAJCQAgIASEgBP4Pgff+30d9EgJCQAgIASEgBISAEBACQkAICAEhIASEwMRDgD2bN2zYkK1evTp77LHHwn7zS5YsCcTprFmzJt4N646EQIsILFy4MHv11VdDiYy1uXPnZjNmzOjUftUtwqGihIAQEAJCQAgIgXGOgIjTcd6Aqr4QEAJCQAgIASEgBISAEBACQkAICAEhUI7Avvvum82bNy+bPXt29vrrr2fbtm3LDj744PILlUIICIFCBE455ZTs9NNPz6ZOnZp97GMfK0yrH4WAEBACQkAICAEh0HUERJx2vYVUPyEgBISAEOg0Ajt27OjV75133gnh3w444IDeOX0QAkJACAgBISAEhIAQ6BYC73vf+7JPf/rT4a9bNVNthMD4RGDOnDnjs+KqtRAQAkJACAgBISAEEgj8z//bLYnzOiUEhIAQEAJCQAjkIECIt40bN2b/+Mc/sp07d45Jtc8++2T7779/Nm3atOzmm28e85u+CAEhIASEgBAQAkJACAgBISAEhIAQEAJCQAgIASEgBIRAdxGQx2l320Y1EwJCQAgIgY4isNdee2WTJk0KfwceeGCylnvvvXfyvE4KASEgBISAEBACQkAICAEhIASEgBAQAkJACAgBISAEhEA3EZDHaTfbRbUSAkJACAgBISAEhIAQEAJCQAgIASEgBISAEBACQkAICAEhIASEgBAQAkKgRQTe02JZKkoICAEhIASEgBAQAkJACAgBISAEhIAQEAJCQAgIASEgBISAEBACQkAICAEh0EkERJx2sllUKSEgBISAEBACQkAICAEhIASEgBAQAkJACAgBISAEhIAQEAJCQAgIASEgBNpEQMRpm2irLCEgBISAEBACQkAICAEhIASEgBAQAkJACAgBISAEhIAQEAJCQAgIASEgBDqJgIjTTjaLKiUEhIAQEAJCQAgIASEgBISAEBACQkAICAEhIASEgBAQAkJACAgBISAEhECbCIg4bRNtlSUEhIAQEAJCQAgIASEgBISAEBACQkAICAEhIASEgBAQAkJACAgBISAEhEAnERBx2slmUaWEgBAQAkJACAgBISAEhDoZ3KoAAAP0SURBVIAQEAJCQAgIASEgBISAEBACQkAICAEhIASEgBBoEwERp22irbKEgBAQAkJACAgBISAEhIAQEAJCQAgIASEgBISAEBACQkAICAEhIASEgBDoJAIiTjvZLKqUEBACQkAICAEhIASEgBAQAkJACAgBISAEhIAQEAJCQAgIASEgBISAEBACbSIg4rRNtFWWEBACQkAICAEhIASEgBAQAkJACAgBISAEhIAQEAJCQAgIASEgBISAEBACnURAxGknm0WVEgJCQAgIASEgBISAEBACQkAICAEhIASEgBAQAkJACAgBISAEhIAQEAJCoE0ERJy2ibbKEgJCQAgIASEgBISAEBACQkAICAEhIASEgBAQAkJACAgBISAEhIAQEAJCoJMIiDjtZLOoUkJACAgBISAEhIAQEAJCQAgIASEgBISAEBACQkAICAEhIASEgBAQAkJACLSJgIjTNtFWWUJACAgBISAEhIAQEAJCQAgIASEgBISAEBACQkAICAEhIASEgBAQAkJACHQSARGnnWwWVUoICAEhIASEgBAQAkJACAgBISAEhIAQEAJCQAgIASEgBISAEBACQkAICIE2ERBx2ibaKksICAEhIASEgBAQAkJACAgBISAEhIAQEAJCQAgIASEgBISAEBACQkAICIFOIiDitJPNokoJASEgBISAEBACQkAICAEhIASEgBAQAkJACAgBISAEhIAQEAJCQAgIASHQJgIiTttEW2UJASEgBISAEBACQkAICAEhIASEgBAQAkJACAgBISAEhIAQEAJCQAgIASHQSQREnHayWVQpISAEhIAQEAJCQAgIASEgBISAEBACQkAICAEhIASEgBAQAkJACAgBISAE2kRAxGmbaKssISAEhIAQEAJCQAgIASEgBISAEBACQkAICAEhIASEgBAQAkJACAgBISAEOomAiNNONosqJQSEgBAQAkJACAgBISAEhIAQEAJCQAgIASEgBISAEBACQkAICAEhIASEQJsIiDhtE22VJQSEgBAQAkJACAgBISAEhIAQEAJCQAgIASEgBISAEBACQkAICAEhIASEQCcREHHayWZRpYSAEBACQkAICAEhIASEgBAQAkJACAgBISAEhIAQEAJCQAgIASEgBISAEGgTARGnbaKtsoSAEBACQkAICAEhIASEgBAQAkJACAgBISAEhIAQEAJCQAgIASEgBISAEOgkAiJOO9ksqpQQEAJCQAgIASEgBISAEBACQkAICAEhIASEgBAQAkJACAgBISAEhIAQEAJtIiDitE20VZYQEAJCQAgIASEgBISAEBACQkAICAEhIASEgBAQAkJACAgBISAEhIAQEAKdROD/AxdZEzmxzM/aAAAAAElFTkSuQmCC)"
      ],
      "metadata": {
        "id": "9ziuTB0Q7c10"
      }
    },
    {
      "cell_type": "markdown",
      "source": [
        "To deal with outiler ,I would do in the data transformation after imputation "
      ],
      "metadata": {
        "id": "WxzJvn1S7flH"
      }
    },
    {
      "cell_type": "markdown",
      "source": [
        "I need to be considerful about neighbour number in the approach \n"
      ],
      "metadata": {
        "id": "-Je4LG5t9SQf"
      }
    },
    {
      "cell_type": "markdown",
      "source": [
        "Here we need to Cross vailidation to confirm the number of N"
      ],
      "metadata": {
        "id": "vMCmFhRMWTTq"
      }
    },
    {
      "cell_type": "code",
      "source": [
        "from sklearn.impute import KNNImputer\n",
        "from sklearn.model_selection import train_test_split\n",
        "from sklearn.ensemble import RandomForestRegressor\n",
        "from sklearn.metrics import mean_squared_error\n",
        "\n",
        "rmse = lambda y, yhat: np.sqrt(mean_squared_error(y, yhat))"
      ],
      "metadata": {
        "id": "jJUk4U6PWhPX"
      },
      "execution_count": null,
      "outputs": []
    },
    {
      "cell_type": "code",
      "source": [
        "def optimize_k(data, target):\n",
        "    errors = []\n",
        "    for k in range(1, 20, 2):\n",
        "        imputer = KNNImputer(n_neighbors=k)\n",
        "        imputed = imputer.fit_transform(data)\n",
        "        df_imputed = pd.DataFrame(imputed, columns=data.columns)\n",
        "        \n",
        "        X = df_imputed.drop(target, axis=1)\n",
        "        y = df_imputed[target]\n",
        "        X_train, X_test, y_train, y_test = train_test_split(X, y, test_size=0.2, random_state=42)\n",
        "\n",
        "        model = RandomForestRegressor()\n",
        "        model.fit(X_train, y_train)\n",
        "        preds = model.predict(X_test)\n",
        "        error = rmse(y_test, preds)\n",
        "        errors.append({'K': k, 'RMSE': error})\n",
        "        \n",
        "    return errors"
      ],
      "metadata": {
        "id": "u_tk1eExW3Pp"
      },
      "execution_count": null,
      "outputs": []
    },
    {
      "cell_type": "markdown",
      "source": [
        "Reference https://towardsdatascience.com/missing-value-imputation-with-python-and-k-nearest-neighbors-308e7abd273d"
      ],
      "metadata": {
        "id": "qYPHJningC37"
      }
    },
    {
      "cell_type": "code",
      "source": [
        ""
      ],
      "metadata": {
        "id": "I_Pi1wxgX3sP"
      },
      "execution_count": null,
      "outputs": []
    },
    {
      "cell_type": "markdown",
      "source": [
        "![sss.png](data:image/png;base64,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)"
      ],
      "metadata": {
        "id": "46yNbnmbXBag"
      }
    },
    {
      "cell_type": "code",
      "source": [
        "train_2016  = pd.read_csv('/content/dataBeforeImputation.csv')"
      ],
      "metadata": {
        "id": "dzlMoDJkYLxr"
      },
      "execution_count": null,
      "outputs": []
    },
    {
      "cell_type": "code",
      "source": [
        "train_2016.shape"
      ],
      "metadata": {
        "colab": {
          "base_uri": "https://localhost:8080/"
        },
        "id": "JgEhMDnOYX6M",
        "outputId": "e9fc1065-129b-415a-8eb5-7f4b4198c0f3"
      },
      "execution_count": null,
      "outputs": [
        {
          "output_type": "execute_result",
          "data": {
            "text/plain": [
              "(88465, 35)"
            ]
          },
          "metadata": {},
          "execution_count": 4
        }
      ]
    },
    {
      "cell_type": "markdown",
      "source": [
        "Reloading again"
      ],
      "metadata": {
        "id": "dtfhK9TMYMHj"
      }
    },
    {
      "cell_type": "code",
      "source": [
        ""
      ],
      "metadata": {
        "id": "DoRKiWOOYOEZ"
      },
      "execution_count": null,
      "outputs": []
    },
    {
      "cell_type": "code",
      "source": [
        "KImputerData = train_2016.copy()"
      ],
      "metadata": {
        "id": "c8uqsEqGW_xH"
      },
      "execution_count": null,
      "outputs": []
    },
    {
      "cell_type": "code",
      "source": [
        "KImputerData.shape"
      ],
      "metadata": {
        "colab": {
          "base_uri": "https://localhost:8080/"
        },
        "id": "1_V9GleSXIWp",
        "outputId": "32ef0105-14fe-4064-936d-cb03e9cf5972"
      },
      "execution_count": null,
      "outputs": [
        {
          "output_type": "execute_result",
          "data": {
            "text/plain": [
              "(88465, 35)"
            ]
          },
          "metadata": {},
          "execution_count": 10
        }
      ]
    },
    {
      "cell_type": "code",
      "source": [
        "k_errors = optimize_k(data=KImputerData, target='logerror')"
      ],
      "metadata": {
        "id": "zk7O0MssXSuo"
      },
      "execution_count": null,
      "outputs": []
    },
    {
      "cell_type": "code",
      "source": [
        "k_errors"
      ],
      "metadata": {
        "colab": {
          "base_uri": "https://localhost:8080/"
        },
        "id": "45Ta2MRni1Sy",
        "outputId": "9d4188b1-11a2-45d2-ed21-5e395e4460d5"
      },
      "execution_count": null,
      "outputs": [
        {
          "output_type": "execute_result",
          "data": {
            "text/plain": [
              "[{'K': 1, 'RMSE': 0.08349469677270165},\n",
              " {'K': 3, 'RMSE': 0.08356987318585693},\n",
              " {'K': 5, 'RMSE': 0.08344864419877694},\n",
              " {'K': 7, 'RMSE': 0.08342199366522376},\n",
              " {'K': 9, 'RMSE': 0.08331119897367502},\n",
              " {'K': 11, 'RMSE': 0.08315261375448944},\n",
              " {'K': 13, 'RMSE': 0.08320769043552168},\n",
              " {'K': 15, 'RMSE': 0.08312050817633174},\n",
              " {'K': 17, 'RMSE': 0.08328891415569029},\n",
              " {'K': 19, 'RMSE': 0.08327739501689879}]"
            ]
          },
          "metadata": {},
          "execution_count": 13
        }
      ]
    },
    {
      "cell_type": "code",
      "source": [
        ""
      ],
      "metadata": {
        "id": "4E4s5azCjXmb"
      },
      "execution_count": null,
      "outputs": []
    },
    {
      "cell_type": "markdown",
      "source": [
        "![KMSE.png](data:image/png;base64,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)"
      ],
      "metadata": {
        "id": "EsJ20bWVi633"
      }
    },
    {
      "cell_type": "code",
      "source": [
        "import matplotlib.pyplot as plt\n",
        "k = [1,3,5,7,9,11,13,15,17,19]"
      ],
      "metadata": {
        "id": "PbK8gX0fk0XM"
      },
      "execution_count": null,
      "outputs": []
    },
    {
      "cell_type": "code",
      "source": [
        "rmse = [0.08349469677270165,0.08356987318585693,0.08344864419877694,0.08342199366522376\n",
        "              ,0.08331119897367502,0.08315261375448944,0.08320769043552168,0.08312050817633174,\n",
        "              0.08328891415569029,0.08327739501689879]"
      ],
      "metadata": {
        "id": "xoG-Djjpk7vc"
      },
      "execution_count": null,
      "outputs": []
    },
    {
      "cell_type": "code",
      "source": [
        "\n",
        "plt.figure(figsize=(20, 8), dpi=80)\n",
        "\n",
        "\n",
        "plt.plot(k, rmse)\n",
        "\n",
        "\n",
        "plt.show()"
      ],
      "metadata": {
        "colab": {
          "base_uri": "https://localhost:8080/",
          "height": 420
        },
        "id": "0KUuKVlclABL",
        "outputId": "3b99fea3-dd47-4fd6-9644-9c00bbcec515"
      },
      "execution_count": null,
      "outputs": [
        {
          "output_type": "display_data",
          "data": {
            "text/plain": [
              "<Figure size 1600x640 with 1 Axes>"
            ],
            "image/png": "[encoded data removed]"
          },
          "metadata": {
            "needs_background": "light"
          }
        }
      ]
    },
    {
      "cell_type": "markdown",
      "source": [
        "3 Hours to find the optimal K "
      ],
      "metadata": {
        "id": "OpsgxOmilbsO"
      }
    },
    {
      "cell_type": "markdown",
      "source": [
        "From the graph above we could confirm the K number ,which need to have small RMSE and small K number as well. 15 is a good parameter "
      ],
      "metadata": {
        "id": "f80grOabXcuD"
      }
    },
    {
      "cell_type": "markdown",
      "source": [
        "Imputation now neighour_n = 15"
      ],
      "metadata": {
        "id": "V4r-HmaplcX0"
      }
    },
    {
      "cell_type": "code",
      "source": [
        "train_2016.shape"
      ],
      "metadata": {
        "colab": {
          "base_uri": "https://localhost:8080/"
        },
        "id": "--HSXXhWlgF2",
        "outputId": "c545dbf1-3f9c-4fbd-8c92-a07d388f3c1a"
      },
      "execution_count": null,
      "outputs": [
        {
          "output_type": "execute_result",
          "data": {
            "text/plain": [
              "(88465, 35)"
            ]
          },
          "metadata": {},
          "execution_count": 23
        }
      ]
    },
    {
      "cell_type": "markdown",
      "source": [
        ""
      ],
      "metadata": {
        "id": "mkTdJxDoWqtj"
      }
    },
    {
      "cell_type": "code",
      "source": [
        "from sklearn.impute import KNNImputer\n",
        "\n",
        "imputer = KNNImputer(n_neighbors=15)\n",
        "imputed = imputer.fit_transform(train_2016)\n",
        "df_imputed = pd.DataFrame(imputed, columns=train_2016.columns)"
      ],
      "metadata": {
        "id": "mgFUnity7eqy"
      },
      "execution_count": null,
      "outputs": []
    },
    {
      "cell_type": "code",
      "source": [
        "df_imputed.isnull().sum()"
      ],
      "metadata": {
        "colab": {
          "base_uri": "https://localhost:8080/"
        },
        "id": "zpQje14WpXD5",
        "outputId": "6efc75de-a3f1-4fbc-906b-2c6509fb5550"
      },
      "execution_count": null,
      "outputs": [
        {
          "output_type": "execute_result",
          "data": {
            "text/plain": [
              "logerror                        0\n",
              "airconditioningtypeid           0\n",
              "bathroomcnt                     0\n",
              "bedroomcnt                      0\n",
              "buildingqualitytypeid           0\n",
              "calculatedbathnbr               0\n",
              "finishedfloor1squarefeet        0\n",
              "calculatedfinishedsquarefeet    0\n",
              "finishedsquarefeet12            0\n",
              "finishedsquarefeet50            0\n",
              "fips                            0\n",
              "fireplacecnt                    0\n",
              "fullbathcnt                     0\n",
              "garagecarcnt                    0\n",
              "garagetotalsqft                 0\n",
              "heatingorsystemtypeid           0\n",
              "latitude                        0\n",
              "longitude                       0\n",
              "lotsizesquarefeet               0\n",
              "propertylandusetypeid           0\n",
              "rawcensustractandblock          0\n",
              "regionidcity                    0\n",
              "regionidcounty                  0\n",
              "regionidneighborhood            0\n",
              "regionidzip                     0\n",
              "roomcnt                         0\n",
              "threequarterbathnbr             0\n",
              "unitcnt                         0\n",
              "yearbuilt                       0\n",
              "numberofstories                 0\n",
              "structuretaxvaluedollarcnt      0\n",
              "taxvaluedollarcnt               0\n",
              "landtaxvaluedollarcnt           0\n",
              "taxamount                       0\n",
              "censustractandblock             0\n",
              "dtype: int64"
            ]
          },
          "metadata": {},
          "execution_count": 26
        }
      ]
    },
    {
      "cell_type": "code",
      "source": [
        "#we need to save data here\n",
        "from google.colab import files"
      ],
      "metadata": {
        "id": "L6g133DWsaxh"
      },
      "execution_count": null,
      "outputs": []
    },
    {
      "cell_type": "code",
      "source": [
        "#we need to save data here\n",
        "from google.colab import files\n",
        "df_imputed.to_csv('dataAfterImputation.csv') \n",
        "files.download('dataAfterImputation.csv')"
      ],
      "metadata": {
        "colab": {
          "base_uri": "https://localhost:8080/",
          "height": 17
        },
        "id": "zf5LAiOjpXNa",
        "outputId": "de1d1de9-cb2b-4b7a-9db7-d89e39a54009"
      },
      "execution_count": null,
      "outputs": [
        {
          "output_type": "display_data",
          "data": {
            "text/plain": [
              "<IPython.core.display.Javascript object>"
            ],
            "application/javascript": [
              "\n",
              "    async function download(id, filename, size) {\n",
              "      if (!google.colab.kernel.accessAllowed) {\n",
              "        return;\n",
              "      }\n",
              "      const div = document.createElement('div');\n",
              "      const label = document.createElement('label');\n",
              "      label.textContent = `Downloading \"${filename}\": `;\n",
              "      div.appendChild(label);\n",
              "      const progress = document.createElement('progress');\n",
              "      progress.max = size;\n",
              "      div.appendChild(progress);\n",
              "      document.body.appendChild(div);\n",
              "\n",
              "      const buffers = [];\n",
              "      let downloaded = 0;\n",
              "\n",
              "      const channel = await google.colab.kernel.comms.open(id);\n",
              "      // Send a message to notify the kernel that we're ready.\n",
              "      channel.send({})\n",
              "\n",
              "      for await (const message of channel.messages) {\n",
              "        // Send a message to notify the kernel that we're ready.\n",
              "        channel.send({})\n",
              "        if (message.buffers) {\n",
              "          for (const buffer of message.buffers) {\n",
              "            buffers.push(buffer);\n",
              "            downloaded += buffer.byteLength;\n",
              "            progress.value = downloaded;\n",
              "          }\n",
              "        }\n",
              "      }\n",
              "      const blob = new Blob(buffers, {type: 'application/binary'});\n",
              "      const a = document.createElement('a');\n",
              "      a.href = window.URL.createObjectURL(blob);\n",
              "      a.download = filename;\n",
              "      div.appendChild(a);\n",
              "      a.click();\n",
              "      div.remove();\n",
              "    }\n",
              "  "
            ]
          },
          "metadata": {}
        },
        {
          "output_type": "display_data",
          "data": {
            "text/plain": [
              "<IPython.core.display.Javascript object>"
            ],
            "application/javascript": [
              "download(\"download_a237a559-2336-4ef8-830b-1885b3adb7a2\", \"dataAfterImputation.csv\", 26834825)"
            ]
          },
          "metadata": {}
        }
      ]
    },
    {
      "cell_type": "code",
      "source": [
        "df_imputed.shape"
      ],
      "metadata": {
        "id": "v9sT2ABStHH_",
        "outputId": "3d331976-a3a2-45df-d6cd-512401060dab",
        "colab": {
          "base_uri": "https://localhost:8080/"
        }
      },
      "execution_count": null,
      "outputs": [
        {
          "output_type": "execute_result",
          "data": {
            "text/plain": [
              "(88465, 35)"
            ]
          },
          "metadata": {},
          "execution_count": 31
        }
      ]
    },
    {
      "cell_type": "code",
      "source": [
        ""
      ],
      "metadata": {
        "id": "le82I9Bnsadn"
      },
      "execution_count": null,
      "outputs": []
    },
    {
      "cell_type": "markdown",
      "source": [
        "# Data transformation"
      ],
      "metadata": {
        "id": "6mOT3WIXmAH4"
      }
    },
    {
      "cell_type": "markdown",
      "source": [
        "we need to look at each feature with target variable to select different data transformation apporach (log,square root,exp ) "
      ],
      "metadata": {
        "id": "UrOqYC_fmEQ1"
      }
    },
    {
      "cell_type": "markdown",
      "source": [
        ""
      ],
      "metadata": {
        "id": "a5Y-LzjclQ7M"
      }
    },
    {
      "cell_type": "markdown",
      "source": [
        "#Feature engineering"
      ],
      "metadata": {
        "id": "gzznZhdS5fGC"
      }
    },
    {
      "cell_type": "markdown",
      "source": [
        "# Data transformation"
      ],
      "metadata": {
        "id": "bSYO2q721v4L"
      }
    },
    {
      "cell_type": "markdown",
      "source": [
        "## log\n",
        "## square root "
      ],
      "metadata": {
        "id": "STMgoxw32cEj"
      }
    },
    {
      "cell_type": "markdown",
      "source": [
        "#Feature selection"
      ],
      "metadata": {
        "id": "sKD8aj5z1wBm"
      }
    },
    {
      "cell_type": "markdown",
      "source": [
        ""
      ],
      "metadata": {
        "id": "cYaibuq021tG"
      }
    },
    {
      "cell_type": "markdown",
      "source": [
        "## Random forest here "
      ],
      "metadata": {
        "id": "N37-eXmQ2J2M"
      }
    },
    {
      "cell_type": "markdown",
      "source": [
        "## Grid Search/ Randomised Search for hyperparameter tuning"
      ],
      "metadata": {
        "id": "vuZ919Nv23NO"
      }
    },
    {
      "cell_type": "markdown",
      "source": [
        ""
      ],
      "metadata": {
        "id": "_YTO9Pkq2Hv7"
      }
    },
    {
      "cell_type": "markdown",
      "source": [
        "#Creating model -Linear regression"
      ],
      "metadata": {
        "id": "IkuJ9bJo1_JU"
      }
    },
    {
      "cell_type": "code",
      "source": [
        ""
      ],
      "metadata": {
        "id": "uIh4BxoP16rb"
      },
      "execution_count": null,
      "outputs": []
    },
    {
      "cell_type": "markdown",
      "source": [
        "# Removal mulit-collinearity features via Variance inflation factor"
      ],
      "metadata": {
        "id": "TaSGhlYl3YN9"
      }
    },
    {
      "cell_type": "markdown",
      "source": [
        "#Analysis of variance"
      ],
      "metadata": {
        "id": "H9zRWI7T4mAR"
      }
    },
    {
      "cell_type": "markdown",
      "source": [
        ""
      ],
      "metadata": {
        "id": "hpPW0qk_3hlC"
      }
    }
  ]
}