{
 "cells": [
  {
   "cell_type": "code",
   "execution_count": 2,
   "id": "af9287d2",
   "metadata": {},
   "outputs": [],
   "source": [
    "import pandas as pd\n",
    "import numpy as np\n",
    "import seaborn as sns\n",
    "import matplotlib.pyplot as plt\n",
    "import scipy as sy"
   ]
  },
  {
   "cell_type": "code",
   "execution_count": null,
   "id": "d3bc1bfb",
   "metadata": {},
   "outputs": [],
   "source": [
    "train = pd.read_csv('data/train_2017.csv')\n",
    "properties= pd.read_csv('data/properties_2017.csv',low_memory=False)\n",
    "sample = pd.read_csv('data/sample_submission.csv')"
   ]
  },
  {
   "cell_type": "code",
   "execution_count": null,
   "id": "9c519ed8",
   "metadata": {},
   "outputs": [],
   "source": [
    "for c,dtype in zip(properties.columns,properties.dtypes):\n",
    "    if dtype == np.float64:\n",
    "        properties[c]=properties[c].astype(np.float32)\n",
    "train.head()\n",
    "properties.head()\n",
    "\n",
    "train_df= pd.merge(train,properties,on='parcelid',how='left')\n",
    "train_df.info()\n",
    "train_df.fillna(0)"
   ]
  },
  {
   "cell_type": "code",
   "execution_count": null,
   "id": "5b7a2135",
   "metadata": {},
   "outputs": [],
   "source": [
    "#traget variable\n",
    "sns.distplot((train['logerror']))\n",
    "plt.show()\n",
    "for c in train_df.dtypes[train_df.dtypes == object].index.values:\n",
    "    train_df[c] = (train_df[c] == True)\n",
    "#\n",
    "\n",
    "X = train_df.drop(['parcelid','logerror','transactiondate', \n",
    "                         'propertyzoningdesc', 'propertycountylandusecode'],axis=1)\n",
    "y = train_df['logerror'].values.astype(np.float64)\n",
    "\n",
    "print('training linear regression model','--'*10)\n",
    "from sklearn.model_selection import train_test_split\n",
    "from sklearn.linear_model import LinearRegression\n",
    "lm= LinearRegression()\n",
    "x_train,x_test,y_train,y_test = train_test_split(X,y,test_size=0.7,random_state=100)\n",
    "train_columns = x_train.columns\n",
    "\n",
    "lm.fit(x_train.fillna(0),y_train)\n",
    "prd=lm.predict(x_test.fillna(0))"
   ]
  },
  {
   "cell_type": "code",
   "execution_count": null,
   "id": "4a68e302",
   "metadata": {},
   "outputs": [],
   "source": [
    "# print('R2:',lm.score(x_test,y_test))\n",
    "sample['parcelid'] = sample['ParcelId']\n",
    "df_test = sample.merge(properties, on='parcelid', how='left')\n",
    "\n",
    "x_test = df_test[train_columns]\n",
    "for c in x_test.dtypes[x_test.dtypes == object].index.values:\n",
    "    x_test[c] = (x_test[c] == True)\n",
    "prd = lm.predict(x_test.fillna(0))\n",
    "\n",
    "sub = pd.read_csv('data/sample_submission.csv')\n",
    "for c in sub.columns[sub.columns != 'ParcelId']:\n",
    "    sub[c] = prd\n",
    "\n",
    "print('Writing csv ...')\n",
    "sub.to_csv('linear_model.csv', index=False, float_format='%.4f')"
   ]
  },
  {
   "cell_type": "code",
   "execution_count": null,
   "id": "42e064a9",
   "metadata": {},
   "outputs": [],
   "source": []
  }
 ],
 "metadata": {
  "kernelspec": {
   "display_name": "Python 3 (ipykernel)",
   "language": "python",
   "name": "python3"
  },
  "language_info": {
   "codemirror_mode": {
    "name": "ipython",
    "version": 3
   },
   "file_extension": ".py",
   "mimetype": "text/x-python",
   "name": "python",
   "nbconvert_exporter": "python",
   "pygments_lexer": "ipython3",
   "version": "3.8.5"
  }
 },
 "nbformat": 4,
 "nbformat_minor": 5
}
